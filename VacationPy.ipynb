{
 "cells": [
  {
   "cell_type": "markdown",
   "metadata": {},
   "source": [
    "# VacationPy\n",
    "---\n",
    "\n",
    "## Starter Code to Import Libraries and Load the Weather and Coordinates Data"
   ]
  },
  {
   "cell_type": "code",
   "execution_count": 1,
   "metadata": {},
   "outputs": [
    {
     "data": {
      "application/javascript": "(function(root) {\n  function now() {\n    return new Date();\n  }\n\n  var force = true;\n  var py_version = '3.2.1'.replace('rc', '-rc.').replace('.dev', '-dev.');\n  var is_dev = py_version.indexOf(\"+\") !== -1 || py_version.indexOf(\"-\") !== -1;\n  var reloading = false;\n  var Bokeh = root.Bokeh;\n  var bokeh_loaded = Bokeh != null && (Bokeh.version === py_version || (Bokeh.versions !== undefined && Bokeh.versions.has(py_version)));\n\n  if (typeof (root._bokeh_timeout) === \"undefined\" || force) {\n    root._bokeh_timeout = Date.now() + 5000;\n    root._bokeh_failed_load = false;\n  }\n\n  function run_callbacks() {\n    try {\n      root._bokeh_onload_callbacks.forEach(function(callback) {\n        if (callback != null)\n          callback();\n      });\n    } finally {\n      delete root._bokeh_onload_callbacks;\n    }\n    console.debug(\"Bokeh: all callbacks have finished\");\n  }\n\n  function load_libs(css_urls, js_urls, js_modules, js_exports, callback) {\n    if (css_urls == null) css_urls = [];\n    if (js_urls == null) js_urls = [];\n    if (js_modules == null) js_modules = [];\n    if (js_exports == null) js_exports = {};\n\n    root._bokeh_onload_callbacks.push(callback);\n\n    if (root._bokeh_is_loading > 0) {\n      console.debug(\"Bokeh: BokehJS is being loaded, scheduling callback at\", now());\n      return null;\n    }\n    if (js_urls.length === 0 && js_modules.length === 0 && Object.keys(js_exports).length === 0) {\n      run_callbacks();\n      return null;\n    }\n    if (!reloading) {\n      console.debug(\"Bokeh: BokehJS not loaded, scheduling load and callback at\", now());\n    }\n\n    function on_load() {\n      root._bokeh_is_loading--;\n      if (root._bokeh_is_loading === 0) {\n        console.debug(\"Bokeh: all BokehJS libraries/stylesheets loaded\");\n        run_callbacks()\n      }\n    }\n    window._bokeh_on_load = on_load\n\n    function on_error() {\n      console.error(\"failed to load \" + url);\n    }\n\n    var skip = [];\n    if (window.requirejs) {\n      window.requirejs.config({'packages': {}, 'paths': {'jspanel': 'https://cdn.jsdelivr.net/npm/jspanel4@4.12.0/dist/jspanel', 'jspanel-modal': 'https://cdn.jsdelivr.net/npm/jspanel4@4.12.0/dist/extensions/modal/jspanel.modal', 'jspanel-tooltip': 'https://cdn.jsdelivr.net/npm/jspanel4@4.12.0/dist/extensions/tooltip/jspanel.tooltip', 'jspanel-hint': 'https://cdn.jsdelivr.net/npm/jspanel4@4.12.0/dist/extensions/hint/jspanel.hint', 'jspanel-layout': 'https://cdn.jsdelivr.net/npm/jspanel4@4.12.0/dist/extensions/layout/jspanel.layout', 'jspanel-contextmenu': 'https://cdn.jsdelivr.net/npm/jspanel4@4.12.0/dist/extensions/contextmenu/jspanel.contextmenu', 'jspanel-dock': 'https://cdn.jsdelivr.net/npm/jspanel4@4.12.0/dist/extensions/dock/jspanel.dock', 'gridstack': 'https://cdn.jsdelivr.net/npm/gridstack@7.2.3/dist/gridstack-all', 'notyf': 'https://cdn.jsdelivr.net/npm/notyf@3/notyf.min'}, 'shim': {'jspanel': {'exports': 'jsPanel'}, 'gridstack': {'exports': 'GridStack'}}});\n      require([\"jspanel\"], function(jsPanel) {\n\twindow.jsPanel = jsPanel\n\ton_load()\n      })\n      require([\"jspanel-modal\"], function() {\n\ton_load()\n      })\n      require([\"jspanel-tooltip\"], function() {\n\ton_load()\n      })\n      require([\"jspanel-hint\"], function() {\n\ton_load()\n      })\n      require([\"jspanel-layout\"], function() {\n\ton_load()\n      })\n      require([\"jspanel-contextmenu\"], function() {\n\ton_load()\n      })\n      require([\"jspanel-dock\"], function() {\n\ton_load()\n      })\n      require([\"gridstack\"], function(GridStack) {\n\twindow.GridStack = GridStack\n\ton_load()\n      })\n      require([\"notyf\"], function() {\n\ton_load()\n      })\n      root._bokeh_is_loading = css_urls.length + 9;\n    } else {\n      root._bokeh_is_loading = css_urls.length + js_urls.length + js_modules.length + Object.keys(js_exports).length;\n    }\n\n    var existing_stylesheets = []\n    var links = document.getElementsByTagName('link')\n    for (var i = 0; i < links.length; i++) {\n      var link = links[i]\n      if (link.href != null) {\n\texisting_stylesheets.push(link.href)\n      }\n    }\n    for (var i = 0; i < css_urls.length; i++) {\n      var url = css_urls[i];\n      if (existing_stylesheets.indexOf(url) !== -1) {\n\ton_load()\n\tcontinue;\n      }\n      const element = document.createElement(\"link\");\n      element.onload = on_load;\n      element.onerror = on_error;\n      element.rel = \"stylesheet\";\n      element.type = \"text/css\";\n      element.href = url;\n      console.debug(\"Bokeh: injecting link tag for BokehJS stylesheet: \", url);\n      document.body.appendChild(element);\n    }    if (((window['jsPanel'] !== undefined) && (!(window['jsPanel'] instanceof HTMLElement))) || window.requirejs) {\n      var urls = ['https://cdn.holoviz.org/panel/1.2.2/dist/bundled/floatpanel/jspanel4@4.12.0/dist/jspanel.js', 'https://cdn.holoviz.org/panel/1.2.2/dist/bundled/floatpanel/jspanel4@4.12.0/dist/extensions/modal/jspanel.modal.js', 'https://cdn.holoviz.org/panel/1.2.2/dist/bundled/floatpanel/jspanel4@4.12.0/dist/extensions/tooltip/jspanel.tooltip.js', 'https://cdn.holoviz.org/panel/1.2.2/dist/bundled/floatpanel/jspanel4@4.12.0/dist/extensions/hint/jspanel.hint.js', 'https://cdn.holoviz.org/panel/1.2.2/dist/bundled/floatpanel/jspanel4@4.12.0/dist/extensions/layout/jspanel.layout.js', 'https://cdn.holoviz.org/panel/1.2.2/dist/bundled/floatpanel/jspanel4@4.12.0/dist/extensions/contextmenu/jspanel.contextmenu.js', 'https://cdn.holoviz.org/panel/1.2.2/dist/bundled/floatpanel/jspanel4@4.12.0/dist/extensions/dock/jspanel.dock.js'];\n      for (var i = 0; i < urls.length; i++) {\n        skip.push(urls[i])\n      }\n    }    if (((window['GridStack'] !== undefined) && (!(window['GridStack'] instanceof HTMLElement))) || window.requirejs) {\n      var urls = ['https://cdn.holoviz.org/panel/1.2.2/dist/bundled/gridstack/gridstack@7.2.3/dist/gridstack-all.js'];\n      for (var i = 0; i < urls.length; i++) {\n        skip.push(urls[i])\n      }\n    }    if (((window['Notyf'] !== undefined) && (!(window['Notyf'] instanceof HTMLElement))) || window.requirejs) {\n      var urls = ['https://cdn.holoviz.org/panel/1.2.2/dist/bundled/notificationarea/notyf@3/notyf.min.js'];\n      for (var i = 0; i < urls.length; i++) {\n        skip.push(urls[i])\n      }\n    }    var existing_scripts = []\n    var scripts = document.getElementsByTagName('script')\n    for (var i = 0; i < scripts.length; i++) {\n      var script = scripts[i]\n      if (script.src != null) {\n\texisting_scripts.push(script.src)\n      }\n    }\n    for (var i = 0; i < js_urls.length; i++) {\n      var url = js_urls[i];\n      if (skip.indexOf(url) !== -1 || existing_scripts.indexOf(url) !== -1) {\n\tif (!window.requirejs) {\n\t  on_load();\n\t}\n\tcontinue;\n      }\n      var element = document.createElement('script');\n      element.onload = on_load;\n      element.onerror = on_error;\n      element.async = false;\n      element.src = url;\n      console.debug(\"Bokeh: injecting script tag for BokehJS library: \", url);\n      document.head.appendChild(element);\n    }\n    for (var i = 0; i < js_modules.length; i++) {\n      var url = js_modules[i];\n      if (skip.indexOf(url) !== -1 || existing_scripts.indexOf(url) !== -1) {\n\tif (!window.requirejs) {\n\t  on_load();\n\t}\n\tcontinue;\n      }\n      var element = document.createElement('script');\n      element.onload = on_load;\n      element.onerror = on_error;\n      element.async = false;\n      element.src = url;\n      element.type = \"module\";\n      console.debug(\"Bokeh: injecting script tag for BokehJS library: \", url);\n      document.head.appendChild(element);\n    }\n    for (const name in js_exports) {\n      var url = js_exports[name];\n      if (skip.indexOf(url) >= 0 || root[name] != null) {\n\tif (!window.requirejs) {\n\t  on_load();\n\t}\n\tcontinue;\n      }\n      var element = document.createElement('script');\n      element.onerror = on_error;\n      element.async = false;\n      element.type = \"module\";\n      console.debug(\"Bokeh: injecting script tag for BokehJS library: \", url);\n      element.textContent = `\n      import ${name} from \"${url}\"\n      window.${name} = ${name}\n      window._bokeh_on_load()\n      `\n      document.head.appendChild(element);\n    }\n    if (!js_urls.length && !js_modules.length) {\n      on_load()\n    }\n  };\n\n  function inject_raw_css(css) {\n    const element = document.createElement(\"style\");\n    element.appendChild(document.createTextNode(css));\n    document.body.appendChild(element);\n  }\n\n  var js_urls = [\"https://cdn.bokeh.org/bokeh/release/bokeh-3.2.1.min.js\", \"https://cdn.bokeh.org/bokeh/release/bokeh-gl-3.2.1.min.js\", \"https://cdn.bokeh.org/bokeh/release/bokeh-widgets-3.2.1.min.js\", \"https://cdn.bokeh.org/bokeh/release/bokeh-tables-3.2.1.min.js\", \"https://cdn.holoviz.org/panel/1.2.2/dist/panel.min.js\"];\n  var js_modules = [];\n  var js_exports = {};\n  var css_urls = [];\n  var inline_js = [    function(Bokeh) {\n      Bokeh.set_log_level(\"info\");\n    },\nfunction(Bokeh) {} // ensure no trailing comma for IE\n  ];\n\n  function run_inline_js() {\n    if ((root.Bokeh !== undefined) || (force === true)) {\n      for (var i = 0; i < inline_js.length; i++) {\n        inline_js[i].call(root, root.Bokeh);\n      }\n      // Cache old bokeh versions\n      if (Bokeh != undefined && !reloading) {\n\tvar NewBokeh = root.Bokeh;\n\tif (Bokeh.versions === undefined) {\n\t  Bokeh.versions = new Map();\n\t}\n\tif (NewBokeh.version !== Bokeh.version) {\n\t  Bokeh.versions.set(NewBokeh.version, NewBokeh)\n\t}\n\troot.Bokeh = Bokeh;\n      }} else if (Date.now() < root._bokeh_timeout) {\n      setTimeout(run_inline_js, 100);\n    } else if (!root._bokeh_failed_load) {\n      console.log(\"Bokeh: BokehJS failed to load within specified timeout.\");\n      root._bokeh_failed_load = true;\n    }\n    root._bokeh_is_initializing = false\n  }\n\n  function load_or_wait() {\n    // Implement a backoff loop that tries to ensure we do not load multiple\n    // versions of Bokeh and its dependencies at the same time.\n    // In recent versions we use the root._bokeh_is_initializing flag\n    // to determine whether there is an ongoing attempt to initialize\n    // bokeh, however for backward compatibility we also try to ensure\n    // that we do not start loading a newer (Panel>=1.0 and Bokeh>3) version\n    // before older versions are fully initialized.\n    if (root._bokeh_is_initializing && Date.now() > root._bokeh_timeout) {\n      root._bokeh_is_initializing = false;\n      root._bokeh_onload_callbacks = undefined;\n      console.log(\"Bokeh: BokehJS was loaded multiple times but one version failed to initialize.\");\n      load_or_wait();\n    } else if (root._bokeh_is_initializing || (typeof root._bokeh_is_initializing === \"undefined\" && root._bokeh_onload_callbacks !== undefined)) {\n      setTimeout(load_or_wait, 100);\n    } else {\n      Bokeh = root.Bokeh;\n      bokeh_loaded = Bokeh != null && (Bokeh.version === py_version || (Bokeh.versions !== undefined && Bokeh.versions.has(py_version)));\n      root._bokeh_is_initializing = true\n      root._bokeh_onload_callbacks = []\n      if (!reloading && (!bokeh_loaded || is_dev)) {\n\troot.Bokeh = undefined;\n      }\n      load_libs(css_urls, js_urls, js_modules, js_exports, function() {\n\tconsole.debug(\"Bokeh: BokehJS plotting callback run at\", now());\n\trun_inline_js();\n      });\n    }\n  }\n  // Give older versions of the autoload script a head-start to ensure\n  // they initialize before we start loading newer version.\n  setTimeout(load_or_wait, 100)\n}(window));",
      "application/vnd.holoviews_load.v0+json": ""
     },
     "metadata": {},
     "output_type": "display_data"
    },
    {
     "data": {
      "application/javascript": "\nif ((window.PyViz === undefined) || (window.PyViz instanceof HTMLElement)) {\n  window.PyViz = {comms: {}, comm_status:{}, kernels:{}, receivers: {}, plot_index: []}\n}\n\n\n    function JupyterCommManager() {\n    }\n\n    JupyterCommManager.prototype.register_target = function(plot_id, comm_id, msg_handler) {\n      if (window.comm_manager || ((window.Jupyter !== undefined) && (Jupyter.notebook.kernel != null))) {\n        var comm_manager = window.comm_manager || Jupyter.notebook.kernel.comm_manager;\n        comm_manager.register_target(comm_id, function(comm) {\n          comm.on_msg(msg_handler);\n        });\n      } else if ((plot_id in window.PyViz.kernels) && (window.PyViz.kernels[plot_id])) {\n        window.PyViz.kernels[plot_id].registerCommTarget(comm_id, function(comm) {\n          comm.onMsg = msg_handler;\n        });\n      } else if (typeof google != 'undefined' && google.colab.kernel != null) {\n        google.colab.kernel.comms.registerTarget(comm_id, (comm) => {\n          var messages = comm.messages[Symbol.asyncIterator]();\n          function processIteratorResult(result) {\n            var message = result.value;\n            console.log(message)\n            var content = {data: message.data, comm_id};\n            var buffers = []\n            for (var buffer of message.buffers || []) {\n              buffers.push(new DataView(buffer))\n            }\n            var metadata = message.metadata || {};\n            var msg = {content, buffers, metadata}\n            msg_handler(msg);\n            return messages.next().then(processIteratorResult);\n          }\n          return messages.next().then(processIteratorResult);\n        })\n      }\n    }\n\n    JupyterCommManager.prototype.get_client_comm = function(plot_id, comm_id, msg_handler) {\n      if (comm_id in window.PyViz.comms) {\n        return window.PyViz.comms[comm_id];\n      } else if (window.comm_manager || ((window.Jupyter !== undefined) && (Jupyter.notebook.kernel != null))) {\n        var comm_manager = window.comm_manager || Jupyter.notebook.kernel.comm_manager;\n        var comm = comm_manager.new_comm(comm_id, {}, {}, {}, comm_id);\n        if (msg_handler) {\n          comm.on_msg(msg_handler);\n        }\n      } else if ((plot_id in window.PyViz.kernels) && (window.PyViz.kernels[plot_id])) {\n        var comm = window.PyViz.kernels[plot_id].connectToComm(comm_id);\n        comm.open();\n        if (msg_handler) {\n          comm.onMsg = msg_handler;\n        }\n      } else if (typeof google != 'undefined' && google.colab.kernel != null) {\n        var comm_promise = google.colab.kernel.comms.open(comm_id)\n        comm_promise.then((comm) => {\n          window.PyViz.comms[comm_id] = comm;\n          if (msg_handler) {\n            var messages = comm.messages[Symbol.asyncIterator]();\n            function processIteratorResult(result) {\n              var message = result.value;\n              var content = {data: message.data};\n              var metadata = message.metadata || {comm_id};\n              var msg = {content, metadata}\n              msg_handler(msg);\n              return messages.next().then(processIteratorResult);\n            }\n            return messages.next().then(processIteratorResult);\n          }\n        }) \n        var sendClosure = (data, metadata, buffers, disposeOnDone) => {\n          return comm_promise.then((comm) => {\n            comm.send(data, metadata, buffers, disposeOnDone);\n          });\n        };\n        var comm = {\n          send: sendClosure\n        };\n      }\n      window.PyViz.comms[comm_id] = comm;\n      return comm;\n    }\n    window.PyViz.comm_manager = new JupyterCommManager();\n    \n\n\nvar JS_MIME_TYPE = 'application/javascript';\nvar HTML_MIME_TYPE = 'text/html';\nvar EXEC_MIME_TYPE = 'application/vnd.holoviews_exec.v0+json';\nvar CLASS_NAME = 'output';\n\n/**\n * Render data to the DOM node\n */\nfunction render(props, node) {\n  var div = document.createElement(\"div\");\n  var script = document.createElement(\"script\");\n  node.appendChild(div);\n  node.appendChild(script);\n}\n\n/**\n * Handle when a new output is added\n */\nfunction handle_add_output(event, handle) {\n  var output_area = handle.output_area;\n  var output = handle.output;\n  if ((output.data == undefined) || (!output.data.hasOwnProperty(EXEC_MIME_TYPE))) {\n    return\n  }\n  var id = output.metadata[EXEC_MIME_TYPE][\"id\"];\n  var toinsert = output_area.element.find(\".\" + CLASS_NAME.split(' ')[0]);\n  if (id !== undefined) {\n    var nchildren = toinsert.length;\n    var html_node = toinsert[nchildren-1].children[0];\n    html_node.innerHTML = output.data[HTML_MIME_TYPE];\n    var scripts = [];\n    var nodelist = html_node.querySelectorAll(\"script\");\n    for (var i in nodelist) {\n      if (nodelist.hasOwnProperty(i)) {\n        scripts.push(nodelist[i])\n      }\n    }\n\n    scripts.forEach( function (oldScript) {\n      var newScript = document.createElement(\"script\");\n      var attrs = [];\n      var nodemap = oldScript.attributes;\n      for (var j in nodemap) {\n        if (nodemap.hasOwnProperty(j)) {\n          attrs.push(nodemap[j])\n        }\n      }\n      attrs.forEach(function(attr) { newScript.setAttribute(attr.name, attr.value) });\n      newScript.appendChild(document.createTextNode(oldScript.innerHTML));\n      oldScript.parentNode.replaceChild(newScript, oldScript);\n    });\n    if (JS_MIME_TYPE in output.data) {\n      toinsert[nchildren-1].children[1].textContent = output.data[JS_MIME_TYPE];\n    }\n    output_area._hv_plot_id = id;\n    if ((window.Bokeh !== undefined) && (id in Bokeh.index)) {\n      window.PyViz.plot_index[id] = Bokeh.index[id];\n    } else {\n      window.PyViz.plot_index[id] = null;\n    }\n  } else if (output.metadata[EXEC_MIME_TYPE][\"server_id\"] !== undefined) {\n    var bk_div = document.createElement(\"div\");\n    bk_div.innerHTML = output.data[HTML_MIME_TYPE];\n    var script_attrs = bk_div.children[0].attributes;\n    for (var i = 0; i < script_attrs.length; i++) {\n      toinsert[toinsert.length - 1].childNodes[1].setAttribute(script_attrs[i].name, script_attrs[i].value);\n    }\n    // store reference to server id on output_area\n    output_area._bokeh_server_id = output.metadata[EXEC_MIME_TYPE][\"server_id\"];\n  }\n}\n\n/**\n * Handle when an output is cleared or removed\n */\nfunction handle_clear_output(event, handle) {\n  var id = handle.cell.output_area._hv_plot_id;\n  var server_id = handle.cell.output_area._bokeh_server_id;\n  if (((id === undefined) || !(id in PyViz.plot_index)) && (server_id !== undefined)) { return; }\n  var comm = window.PyViz.comm_manager.get_client_comm(\"hv-extension-comm\", \"hv-extension-comm\", function () {});\n  if (server_id !== null) {\n    comm.send({event_type: 'server_delete', 'id': server_id});\n    return;\n  } else if (comm !== null) {\n    comm.send({event_type: 'delete', 'id': id});\n  }\n  delete PyViz.plot_index[id];\n  if ((window.Bokeh !== undefined) & (id in window.Bokeh.index)) {\n    var doc = window.Bokeh.index[id].model.document\n    doc.clear();\n    const i = window.Bokeh.documents.indexOf(doc);\n    if (i > -1) {\n      window.Bokeh.documents.splice(i, 1);\n    }\n  }\n}\n\n/**\n * Handle kernel restart event\n */\nfunction handle_kernel_cleanup(event, handle) {\n  delete PyViz.comms[\"hv-extension-comm\"];\n  window.PyViz.plot_index = {}\n}\n\n/**\n * Handle update_display_data messages\n */\nfunction handle_update_output(event, handle) {\n  handle_clear_output(event, {cell: {output_area: handle.output_area}})\n  handle_add_output(event, handle)\n}\n\nfunction register_renderer(events, OutputArea) {\n  function append_mime(data, metadata, element) {\n    // create a DOM node to render to\n    var toinsert = this.create_output_subarea(\n    metadata,\n    CLASS_NAME,\n    EXEC_MIME_TYPE\n    );\n    this.keyboard_manager.register_events(toinsert);\n    // Render to node\n    var props = {data: data, metadata: metadata[EXEC_MIME_TYPE]};\n    render(props, toinsert[0]);\n    element.append(toinsert);\n    return toinsert\n  }\n\n  events.on('output_added.OutputArea', handle_add_output);\n  events.on('output_updated.OutputArea', handle_update_output);\n  events.on('clear_output.CodeCell', handle_clear_output);\n  events.on('delete.Cell', handle_clear_output);\n  events.on('kernel_ready.Kernel', handle_kernel_cleanup);\n\n  OutputArea.prototype.register_mime_type(EXEC_MIME_TYPE, append_mime, {\n    safe: true,\n    index: 0\n  });\n}\n\nif (window.Jupyter !== undefined) {\n  try {\n    var events = require('base/js/events');\n    var OutputArea = require('notebook/js/outputarea').OutputArea;\n    if (OutputArea.prototype.mime_types().indexOf(EXEC_MIME_TYPE) == -1) {\n      register_renderer(events, OutputArea);\n    }\n  } catch(err) {\n  }\n}\n",
      "application/vnd.holoviews_load.v0+json": ""
     },
     "metadata": {},
     "output_type": "display_data"
    },
    {
     "data": {
      "text/html": [
       "<style>*[data-root-id],\n",
       "*[data-root-id] > * {\n",
       "  box-sizing: border-box;\n",
       "  font-family: var(--jp-ui-font-family);\n",
       "  font-size: var(--jp-ui-font-size1);\n",
       "  color: var(--vscode-editor-foreground, var(--jp-ui-font-color1));\n",
       "}\n",
       "\n",
       "/* Override VSCode background color */\n",
       ".cell-output-ipywidget-background:has(\n",
       "    > .cell-output-ipywidget-background > .lm-Widget > *[data-root-id]\n",
       "  ),\n",
       ".cell-output-ipywidget-background:has(> .lm-Widget > *[data-root-id]) {\n",
       "  background-color: transparent !important;\n",
       "}\n",
       "</style>"
      ]
     },
     "metadata": {},
     "output_type": "display_data"
    }
   ],
   "source": [
    "# Dependencies and Setup\n",
    "import hvplot.pandas\n",
    "import pandas as pd\n",
    "import requests\n",
    "\n",
    "# Import API key\n",
    "from api_keys import geoapify_key"
   ]
  },
  {
   "cell_type": "code",
   "execution_count": 4,
   "metadata": {},
   "outputs": [
    {
     "data": {
      "text/html": [
       "<div>\n",
       "<style scoped>\n",
       "    .dataframe tbody tr th:only-of-type {\n",
       "        vertical-align: middle;\n",
       "    }\n",
       "\n",
       "    .dataframe tbody tr th {\n",
       "        vertical-align: top;\n",
       "    }\n",
       "\n",
       "    .dataframe thead th {\n",
       "        text-align: right;\n",
       "    }\n",
       "</style>\n",
       "<table border=\"1\" class=\"dataframe\">\n",
       "  <thead>\n",
       "    <tr style=\"text-align: right;\">\n",
       "      <th></th>\n",
       "      <th>City_ID</th>\n",
       "      <th>City</th>\n",
       "      <th>Lat</th>\n",
       "      <th>Lng</th>\n",
       "      <th>Max Temp</th>\n",
       "      <th>Humidity</th>\n",
       "      <th>Cloudiness</th>\n",
       "      <th>Wind Speed</th>\n",
       "      <th>Country</th>\n",
       "      <th>Date</th>\n",
       "    </tr>\n",
       "  </thead>\n",
       "  <tbody>\n",
       "    <tr>\n",
       "      <th>0</th>\n",
       "      <td>0</td>\n",
       "      <td>faya</td>\n",
       "      <td>18.3851</td>\n",
       "      <td>42.4509</td>\n",
       "      <td>22.06</td>\n",
       "      <td>35</td>\n",
       "      <td>21</td>\n",
       "      <td>2.60</td>\n",
       "      <td>SA</td>\n",
       "      <td>1666108228</td>\n",
       "    </tr>\n",
       "    <tr>\n",
       "      <th>1</th>\n",
       "      <td>1</td>\n",
       "      <td>farsund</td>\n",
       "      <td>58.0948</td>\n",
       "      <td>6.8047</td>\n",
       "      <td>13.30</td>\n",
       "      <td>100</td>\n",
       "      <td>0</td>\n",
       "      <td>7.65</td>\n",
       "      <td>NO</td>\n",
       "      <td>1666108228</td>\n",
       "    </tr>\n",
       "    <tr>\n",
       "      <th>2</th>\n",
       "      <td>2</td>\n",
       "      <td>new norfolk</td>\n",
       "      <td>-42.7826</td>\n",
       "      <td>147.0587</td>\n",
       "      <td>11.72</td>\n",
       "      <td>58</td>\n",
       "      <td>12</td>\n",
       "      <td>1.34</td>\n",
       "      <td>AU</td>\n",
       "      <td>1666108230</td>\n",
       "    </tr>\n",
       "    <tr>\n",
       "      <th>3</th>\n",
       "      <td>3</td>\n",
       "      <td>jamestown</td>\n",
       "      <td>42.0970</td>\n",
       "      <td>-79.2353</td>\n",
       "      <td>5.77</td>\n",
       "      <td>77</td>\n",
       "      <td>100</td>\n",
       "      <td>9.77</td>\n",
       "      <td>US</td>\n",
       "      <td>1666107934</td>\n",
       "    </tr>\n",
       "    <tr>\n",
       "      <th>4</th>\n",
       "      <td>4</td>\n",
       "      <td>lanzhou</td>\n",
       "      <td>36.0564</td>\n",
       "      <td>103.7922</td>\n",
       "      <td>14.53</td>\n",
       "      <td>48</td>\n",
       "      <td>59</td>\n",
       "      <td>1.20</td>\n",
       "      <td>CN</td>\n",
       "      <td>1666108230</td>\n",
       "    </tr>\n",
       "  </tbody>\n",
       "</table>\n",
       "</div>"
      ],
      "text/plain": [
       "   City_ID         City      Lat       Lng  Max Temp  Humidity  Cloudiness  \\\n",
       "0        0         faya  18.3851   42.4509     22.06        35          21   \n",
       "1        1      farsund  58.0948    6.8047     13.30       100           0   \n",
       "2        2  new norfolk -42.7826  147.0587     11.72        58          12   \n",
       "3        3    jamestown  42.0970  -79.2353      5.77        77         100   \n",
       "4        4      lanzhou  36.0564  103.7922     14.53        48          59   \n",
       "\n",
       "   Wind Speed Country        Date  \n",
       "0        2.60      SA  1666108228  \n",
       "1        7.65      NO  1666108228  \n",
       "2        1.34      AU  1666108230  \n",
       "3        9.77      US  1666107934  \n",
       "4        1.20      CN  1666108230  "
      ]
     },
     "execution_count": 4,
     "metadata": {},
     "output_type": "execute_result"
    }
   ],
   "source": [
    "# Load the CSV file created in Part 1 into a Pandas DataFrame\n",
    "city_data_df = pd.read_csv(\"cities.csv\")\n",
    "\n",
    "# Display sample data\n",
    "city_data_df.head()"
   ]
  },
  {
   "cell_type": "markdown",
   "metadata": {},
   "source": [
    "---\n",
    "\n",
    "### Step 1: Create a map that displays a point for every city in the `city_data_df` DataFrame. The size of the point should be the humidity in each city."
   ]
  },
  {
   "cell_type": "code",
   "execution_count": 3,
   "metadata": {},
   "outputs": [
    {
     "data": {},
     "metadata": {},
     "output_type": "display_data"
    },
    {
     "data": {
      "application/vnd.holoviews_exec.v0+json": "",
      "text/html": [
       "<div id='1004'>\n",
       "  <div class=\"bk-root\" id=\"c0b45dd8-c826-4432-8b47-4a3c5c55c78f\" data-root-id=\"1004\"></div>\n",
       "</div>\n",
       "<script type=\"application/javascript\">(function(root) {\n",
       "  function embed_document(root) {\n",
       "    var docs_json = {\"f18eafcd-c088-4673-bd52-7b001861126d\":{\"defs\":[{\"extends\":null,\"module\":null,\"name\":\"ReactiveHTML1\",\"overrides\":[],\"properties\":[]},{\"extends\":null,\"module\":null,\"name\":\"FlexBox1\",\"overrides\":[],\"properties\":[{\"default\":\"flex-start\",\"kind\":null,\"name\":\"align_content\"},{\"default\":\"flex-start\",\"kind\":null,\"name\":\"align_items\"},{\"default\":\"row\",\"kind\":null,\"name\":\"flex_direction\"},{\"default\":\"wrap\",\"kind\":null,\"name\":\"flex_wrap\"},{\"default\":\"flex-start\",\"kind\":null,\"name\":\"justify_content\"}]},{\"extends\":null,\"module\":null,\"name\":\"GridStack1\",\"overrides\":[],\"properties\":[{\"default\":\"warn\",\"kind\":null,\"name\":\"mode\"},{\"default\":null,\"kind\":null,\"name\":\"ncols\"},{\"default\":null,\"kind\":null,\"name\":\"nrows\"},{\"default\":true,\"kind\":null,\"name\":\"allow_resize\"},{\"default\":true,\"kind\":null,\"name\":\"allow_drag\"},{\"default\":[],\"kind\":null,\"name\":\"state\"}]},{\"extends\":null,\"module\":null,\"name\":\"click1\",\"overrides\":[],\"properties\":[{\"default\":\"\",\"kind\":null,\"name\":\"terminal_output\"},{\"default\":\"\",\"kind\":null,\"name\":\"debug_name\"},{\"default\":0,\"kind\":null,\"name\":\"clears\"}]},{\"extends\":null,\"module\":null,\"name\":\"NotificationAreaBase1\",\"overrides\":[],\"properties\":[{\"default\":\"bottom-right\",\"kind\":null,\"name\":\"position\"},{\"default\":0,\"kind\":null,\"name\":\"_clear\"}]},{\"extends\":null,\"module\":null,\"name\":\"NotificationArea1\",\"overrides\":[],\"properties\":[{\"default\":[],\"kind\":null,\"name\":\"notifications\"},{\"default\":\"bottom-right\",\"kind\":null,\"name\":\"position\"},{\"default\":0,\"kind\":null,\"name\":\"_clear\"},{\"default\":[{\"background\":\"#ffc107\",\"icon\":{\"className\":\"fas fa-exclamation-triangle\",\"color\":\"white\",\"tagName\":\"i\"},\"type\":\"warning\"},{\"background\":\"#007bff\",\"icon\":{\"className\":\"fas fa-info-circle\",\"color\":\"white\",\"tagName\":\"i\"},\"type\":\"info\"}],\"kind\":null,\"name\":\"types\"}]},{\"extends\":null,\"module\":null,\"name\":\"Notification\",\"overrides\":[],\"properties\":[{\"default\":null,\"kind\":null,\"name\":\"background\"},{\"default\":3000,\"kind\":null,\"name\":\"duration\"},{\"default\":null,\"kind\":null,\"name\":\"icon\"},{\"default\":\"\",\"kind\":null,\"name\":\"message\"},{\"default\":null,\"kind\":null,\"name\":\"notification_type\"},{\"default\":false,\"kind\":null,\"name\":\"_destroyed\"}]},{\"extends\":null,\"module\":null,\"name\":\"TemplateActions1\",\"overrides\":[],\"properties\":[{\"default\":0,\"kind\":null,\"name\":\"open_modal\"},{\"default\":0,\"kind\":null,\"name\":\"close_modal\"}]},{\"extends\":null,\"module\":null,\"name\":\"MaterialTemplateActions1\",\"overrides\":[],\"properties\":[{\"default\":0,\"kind\":null,\"name\":\"open_modal\"},{\"default\":0,\"kind\":null,\"name\":\"close_modal\"}]}],\"roots\":{\"references\":[{\"attributes\":{\"bottom_units\":\"screen\",\"coordinates\":null,\"fill_alpha\":0.5,\"fill_color\":\"lightgrey\",\"group\":null,\"left_units\":\"screen\",\"level\":\"overlay\",\"line_alpha\":1.0,\"line_color\":\"black\",\"line_dash\":[4,4],\"line_width\":2,\"right_units\":\"screen\",\"syncable\":false,\"top_units\":\"screen\"},\"id\":\"1039\",\"type\":\"BoxAnnotation\"},{\"attributes\":{\"axis\":{\"id\":\"1030\"},\"coordinates\":null,\"dimension\":1,\"grid_line_color\":null,\"group\":null,\"ticker\":null},\"id\":\"1033\",\"type\":\"Grid\"},{\"attributes\":{\"coordinates\":null,\"data_source\":{\"id\":\"1081\"},\"glyph\":{\"id\":\"1084\"},\"group\":null,\"hover_glyph\":{\"id\":\"1087\"},\"muted_glyph\":{\"id\":\"1088\"},\"nonselection_glyph\":{\"id\":\"1085\"},\"selection_glyph\":{\"id\":\"1086\"},\"view\":{\"id\":\"1090\"}},\"id\":\"1089\",\"type\":\"GlyphRenderer\"},{\"attributes\":{},\"id\":\"1094\",\"type\":\"UnionRenderers\"},{\"attributes\":{},\"id\":\"1062\",\"type\":\"AllLabels\"},{\"attributes\":{\"fill_alpha\":{\"value\":0.2},\"fill_color\":{\"field\":\"color\",\"transform\":{\"id\":\"1080\"}},\"hatch_alpha\":{\"value\":0.2},\"hatch_color\":{\"field\":\"color\",\"transform\":{\"id\":\"1080\"}},\"line_alpha\":{\"value\":0.2},\"line_color\":{\"field\":\"color\",\"transform\":{\"id\":\"1080\"}},\"size\":{\"field\":\"size\"},\"x\":{\"field\":\"Lng\"},\"y\":{\"field\":\"Lat\"}},\"id\":\"1088\",\"type\":\"Scatter\"},{\"attributes\":{\"dimension\":\"lon\"},\"id\":\"1049\",\"type\":\"MercatorTicker\"},{\"attributes\":{\"data\":{\"City\":[\"faya\",\"farsund\",\"new norfolk\",\"jamestown\",\"lanzhou\",\"ushuaia\",\"albany\",\"carnarvon\",\"sisimiut\",\"saint-pierre\",\"colorado\",\"nikolskoye\",\"trairi\",\"dobryanka\",\"qaanaaq\",\"mataura\",\"khatanga\",\"tasiilaq\",\"tiksi\",\"puerto ayora\",\"avarua\",\"nuevo laredo\",\"guiratinga\",\"rikitea\",\"dukat\",\"constitucion\",\"senneterre\",\"bambous virieux\",\"zangakatun\",\"saint-louis\",\"midwest city\",\"grimmen\",\"cape town\",\"stornoway\",\"naberera\",\"chokurdakh\",\"drochia\",\"klaksvik\",\"labuhan\",\"tomatlan\",\"clyde river\",\"sao joao da barra\",\"margate\",\"ancud\",\"collierville\",\"kapaa\",\"mogadishu\",\"tsalka\",\"dalby\",\"hobart\",\"dikson\",\"hilo\",\"businga\",\"lasa\",\"vaini\",\"cayenne\",\"ust-kulom\",\"udachnyy\",\"east london\",\"busselton\",\"airai\",\"grindavik\",\"barrow\",\"banda\",\"atuona\",\"hermanus\",\"mar del plata\",\"caravelas\",\"port lincoln\",\"bredasdorp\",\"mendi\",\"cobija\",\"deer lake\",\"nalut\",\"saskylakh\",\"dudinka\",\"zamberk\",\"jaguariaiva\",\"aberdeen\",\"mahebourg\",\"kedrovyy\",\"makakilo city\",\"qostanay\",\"esperance\",\"darnah\",\"provideniya\",\"rafaela\",\"saint-philippe\",\"ponta do sol\",\"solnechnyy\",\"saint george\",\"alba\",\"arman\",\"ugoofaaru\",\"butaritari\",\"kavaratti\",\"zhangye\",\"shenjiamen\",\"itarema\",\"trincomalee\",\"castro\",\"heihe\",\"rio gallegos\",\"siavonga\",\"bluff\",\"nova olimpia\",\"palencia\",\"inhambane\",\"iqaluit\",\"lebu\",\"calabozo\",\"sao filipe\",\"torbay\",\"kavieng\",\"yidu\",\"cedar city\",\"victoria\",\"faanui\",\"arraial do cabo\",\"hithadhoo\",\"port alfred\",\"lichuan\",\"talnakh\",\"novorzhev\",\"muncar\",\"jashpurnagar\",\"chuy\",\"kulykivka\",\"half moon bay\",\"bocana de paiwas\",\"el alto\",\"sitka\",\"punta arenas\",\"bay city\",\"baruun-urt\",\"ambon\",\"corowa\",\"port elizabeth\",\"ocos\",\"georgetown\",\"tuktoyaktuk\",\"brenham\",\"peniche\",\"tawang\",\"havelock\",\"novobelokatay\",\"puerto del rosario\",\"mount gambier\",\"rindal\",\"roseburg\",\"kaeo\",\"biak\",\"kahului\",\"lavrentiya\",\"sabang\",\"pangnirtung\",\"corn island\",\"innisfail\",\"almaznyy\",\"geraldton\",\"kokopo\",\"yellowknife\",\"sao miguel do araguaia\",\"belmonte\",\"pisco\",\"ambilobe\",\"aripuana\",\"kaitangata\",\"lesnoy\",\"evensk\",\"sur\",\"la ronge\",\"danielskuil\",\"chunhuhub\",\"avera\",\"ouallam\",\"challapata\",\"olafsvik\",\"neepawa\",\"freetown\",\"nome\",\"hovd\",\"ugra\",\"upernavik\",\"sembakung\",\"shakawe\",\"upington\",\"gwanda\",\"kruisfontein\",\"grand gaube\",\"cacahuatepec\",\"paita\",\"bumba\",\"maragogi\",\"kosa\",\"lagoa\",\"cabra\",\"gat\",\"buala\",\"asau\",\"isangel\",\"pevek\",\"husavik\",\"kodiak\",\"zyryanka\",\"valparaiso\",\"baykit\",\"port moresby\",\"meulaboh\",\"nakamura\",\"simao\",\"laguna\",\"bethel\",\"kodinsk\",\"luderitz\",\"touros\",\"glasgow\",\"ladario\",\"sao teotonio\",\"puri\",\"yumbe\",\"pangkalanbuun\",\"hay river\",\"verkhniye achaluki\",\"terrace bay\",\"ust-koksa\",\"sorong\",\"longyearbyen\",\"san patricio\",\"san cristobal\",\"lensk\",\"carrollton\",\"norman wells\",\"makokou\",\"llata\",\"neiafu\",\"moroni\",\"cap malheureux\",\"walvis bay\",\"rawson\",\"tikaitnagar\",\"sembe\",\"aksu\",\"russkaya polyana\",\"broken hill\",\"cherskiy\",\"beya\",\"goba\",\"ordzhonikidze\",\"high rock\",\"floro\",\"balabac\",\"bintulu\",\"tchaourou\",\"zhongshan\",\"quatre cocos\",\"prieska\",\"pathanamthitta\",\"comodoro rivadavia\",\"sungaipenuh\",\"aklavik\",\"camacha\",\"thompson\",\"hambantota\",\"swanton\",\"san quintin\",\"codrington\",\"chapais\",\"chengde\",\"portland\",\"berdigestyakh\",\"coquimbo\",\"samana\",\"anchorage\",\"fairbanks\",\"cockburn town\",\"tura\",\"sakakah\",\"ola\",\"hasaki\",\"jiuquan\",\"tuatapere\",\"kloulklubed\",\"ust-maya\",\"san juan\",\"whitianga\",\"praia\",\"okitipupa\",\"monmouth\",\"san andres\",\"lyngseidet\",\"dunmore town\",\"galegos\",\"kamen-rybolov\",\"dabat\",\"camopi\",\"jalu\",\"eyl\",\"valdivia\",\"teguldet\",\"aquiraz\",\"ulaangom\",\"souillac\",\"alice springs\",\"koriyama\",\"kingman\",\"college\",\"la romana\",\"daru\",\"boden\",\"carroll\",\"ust-kuyga\",\"bucerias\",\"tandil\",\"horsham\",\"vao\",\"bathsheba\",\"salalah\",\"harwich\",\"sambava\",\"yarada\",\"namibe\",\"kokkola\",\"leningradskiy\",\"vostok\",\"rio grande\",\"chegdomyn\",\"ilulissat\",\"viseu\",\"cidreira\",\"bafoulabe\",\"swan river\",\"rocha\",\"juruti\",\"kailua\",\"verkh-suetka\",\"dunedin\",\"mount isa\",\"mahina\",\"kamloops\",\"santa rosalia\",\"nerchinskiy zavod\",\"torrington\",\"krutikha\",\"bonavista\",\"zaysan\",\"mana\",\"nemuro\",\"mandera\",\"numan\",\"pingliang\",\"saldanha\",\"petropavlovsk-kamchatskiy\",\"vila velha\",\"bengkulu\",\"honiara\",\"pemba\",\"ahipara\",\"shingu\",\"korla\",\"lerik\",\"quelimane\",\"katyuzhanka\",\"narwar\",\"port hardy\",\"sol-iletsk\",\"tabou\",\"saint anthony\",\"srednekolymsk\",\"homer\",\"livingston\",\"lima\",\"christchurch\",\"beitbridge\",\"kortkeros\",\"port hedland\",\"fortuna\",\"dicabisagan\",\"smithers\",\"peleduy\",\"yulara\",\"roebourne\",\"mariinskiy posad\",\"mayumba\",\"adrar\",\"port blair\",\"komsomolskiy\",\"ribeira grande\",\"qasigiannguit\",\"buraydah\",\"port-gentil\",\"saint-francois\",\"vestmannaeyjar\",\"bogande\",\"quesnel\",\"usman\",\"aykhal\",\"carlyle\",\"kayerkan\",\"moron\",\"paamiut\",\"hamilton\",\"seoul\",\"woodward\",\"georgiyevskoye\",\"mayo\",\"kysyl-syr\",\"tashara\",\"acajutla\",\"capoterra\",\"muisne\",\"praia da vitoria\",\"maniitsoq\",\"kalemie\",\"tagusao\",\"mao\",\"mahibadhoo\",\"cabo san lucas\",\"panuco\",\"hervey bay\",\"fayaoue\",\"stolac\",\"gamboma\",\"rundu\",\"carutapera\",\"port-de-bouc\",\"nanortalik\",\"dzaoudzi\",\"aktau\",\"lorengau\",\"pachino\",\"cabedelo\",\"denpasar\",\"ipixuna\",\"broome\",\"tilichiki\",\"lakki marwat\",\"veinticinco de mayo\",\"avdon\",\"katobu\",\"merauke\",\"yangliuqing\",\"tieling\",\"togur\",\"thinadhoo\",\"terra santa\",\"colares\",\"havoysund\",\"ostrovnoy\",\"alofi\",\"samandag\",\"san joaquin\",\"treinta y tres\",\"nazareno\",\"tessalit\",\"yaan\",\"ixtapa\",\"dong hoi\",\"harindanga\",\"pontypool\",\"ulladulla\",\"la paz\",\"hualmay\",\"barroso\",\"vryburg\",\"beira\",\"the valley\",\"narsaq\",\"juegang\",\"verkhniy avzyan\",\"araouane\",\"kirakira\",\"tautira\",\"singkang\",\"taitung\",\"nabire\",\"chifeng\",\"caiaponia\",\"salto\",\"praya\",\"aksarka\",\"abu zabad\",\"kushima\",\"beaune\",\"egvekinot\",\"greenville\",\"ust-ordynskiy\",\"tranas\",\"pleasanton\",\"beringovskiy\",\"newcastleton\",\"hirado\",\"brokopondo\",\"batagay\",\"laurel\",\"statesville\",\"tikrit\",\"iisalmi\",\"lahij\",\"derzhavinsk\",\"kyren\",\"kapit\",\"altay\",\"waseca\",\"nantucket\",\"cadillac\",\"sfantu gheorghe\",\"kundiawa\",\"gornopravdinsk\",\"bhandara\",\"wadi musa\",\"charters towers\",\"ustka\",\"sawakin\",\"severo-kurilsk\",\"rameswaram\",\"guerrero negro\",\"bandarbeyla\",\"antofagasta\",\"vila franca do campo\",\"bauta\",\"nsanje\",\"xuchang\",\"todos santos\",\"bataipora\",\"tateyama\",\"wajima\",\"pokosnoye\",\"waipawa\",\"yaring\",\"isiro\",\"chivilcoy\",\"mandalgovi\",\"nicoya\",\"novocheremshansk\",\"emirdag\",\"nouadhibou\",\"tongliao\",\"ryomgard\",\"khudumelapye\",\"talcahuano\",\"gifhorn\",\"bilma\",\"vung tau\",\"byron bay\",\"kalabo\",\"arcata\",\"lemoore\",\"norfolk\",\"juba\",\"pali\",\"katsuura\",\"bambanglipuro\",\"padang\",\"freeport\",\"bulgan\",\"sorland\",\"saryg-sep\",\"batagay-alyta\",\"lompoc\",\"changli\",\"choma\",\"tena\",\"ilhabela\",\"redmond\",\"wyndham\",\"nhulunbuy\",\"sangamner\",\"road town\",\"ranong\",\"staryy nadym\",\"dargaville\",\"sovetskiy\",\"tatarsk\",\"canchungo\",\"iquique\",\"poum\"],\"Humidity\":[35,100,58,77,48,81,74,76,98,68,86,90,51,93,74,96,96,84,93,82,73,87,14,65,95,61,90,68,55,24,33,75,71,79,54,98,30,65,88,71,93,75,76,70,47,84,83,95,80,68,75,83,87,68,100,58,88,85,88,92,93,70,80,52,69,80,83,64,88,75,97,83,94,27,97,96,73,81,78,68,95,81,70,87,73,76,42,76,69,60,44,69,49,80,77,78,16,59,54,82,88,49,26,32,76,21,30,65,79,72,75,78,95,71,27,49,77,78,74,69,87,77,99,90,96,87,71,62,86,81,68,82,62,89,22,83,92,83,86,89,93,40,89,77,69,93,73,91,94,82,94,88,60,75,81,63,74,74,47,88,75,87,13,65,77,62,45,77,74,85,40,52,60,54,26,10,30,76,27,74,100,39,80,95,99,27,19,25,82,65,91,67,70,73,92,61,30,100,82,48,88,96,75,81,93,79,89,94,88,87,67,79,54,98,68,61,73,78,60,72,84,96,58,93,74,91,83,81,43,45,91,31,100,95,62,88,73,65,71,25,59,91,20,32,66,100,73,95,57,72,61,83,100,56,72,73,31,97,24,95,93,73,60,89,71,74,89,90,26,96,99,72,79,90,91,74,90,18,48,75,15,92,75,98,53,84,74,89,53,70,94,70,82,55,80,48,37,76,63,96,56,55,68,63,78,49,93,79,86,82,55,100,70,40,72,74,70,59,69,79,89,72,76,86,68,81,78,98,39,91,72,40,66,62,89,76,73,100,83,93,56,52,64,80,90,85,64,78,48,40,64,86,52,75,90,85,76,73,79,19,95,75,58,55,93,65,77,61,98,87,82,79,95,22,84,73,100,88,93,98,57,65,87,79,8,89,77,48,99,11,79,57,70,15,93,63,97,62,100,71,80,72,70,42,93,53,99,95,71,71,81,77,97,60,82,78,73,69,88,81,78,68,68,27,60,65,89,73,46,74,67,68,100,46,67,84,20,87,86,94,89,31,50,95,76,67,84,68,87,94,80,89,74,83,13,69,70,70,75,72,92,50,71,34,44,69,65,82,63,96,10,81,81,89,80,91,20,14,61,74,95,29,82,74,87,48,84,93,86,92,71,55,60,99,55,49,14,90,55,51,73,99,84,65,90,93,51,97,90,86,63,77,86,69,68,77,68,81,64,70,71,26,35,67,89,85,55,81,91,87,73,49,23,73,81,69,27,35,81,64,67,68,18,83,83,14,93,74,95,69,26,84,87,82,46,40,67,44,89,100,33,22,62,88,91,52,78,85,70,93,90,83,96,89,61,68,79],\"Lat\":{\"__ndarray__\":\"qKr/c3HHP0EjpnmeDnheQVV8Nus2I1TBxDSmKji+U0HM7vksaG9QQWhY2qKC71vBk1SW7jgIVEHIxZ5KutBFwUDwkXSbVmNBsya6Y7+OQsGYPAFnTe5DwagIcM6wyl9BdyPZ4mhIFsF/qzMu9cNeQc9HeUHW42pB+Jc93xQrVsFEiJDtAWVmQQhwOeSLo2JBnM91v0s0ZkFkpIGIzBf0wLC9AOsQcELBbAJOGwFJSEG0TeHp5Cc8wUp2TLEWMUTBSurg0QMmYUH65WcCnQ5QwWfrupdDildBenx4aOqmQcGl0PBdjnZSQW8vNziZIDxBQ2BM2xseUEEkafLV3W5bQUZhBpBNqU7B3HkKg6WPXkHJPg2T5I8cwfx9+NzagmVBqycc5GlRV0G7uDxMFgBhQQHpZEa1cSfBw4q2iBVIQUEgE2nkEGhlQU1i26wU1ULB0ys3HT+EWUGJF9RE+pxTwRKn/R67z09B3KYbJfY6Q0FnfuDOBbALQcGUISfndFNBhPRysUsBSMGXN6FRkDFUwZoEVw5Mf2dBYUrfwgYZQUHpP8L/GqkWQekAABzpbVZBLjbdPj9uQsGe2oeGuMcgQSEpZlmhwWBBqzWSYNMOY0F/SLR6+7tNwRALyusmYU7BhMuNZepyLsFsbv3408FhQYkV1tZk8GVBoc12c9xkRkHi22GHYbowwbP5CF3VKk/BAN7Frml4UcESZwhw1JM+wagyJj7ofU/BsS4aqcRIT8FhPTs7rwUlwX8kxcy+2DLB0TYmmHYLWEHDBlZmsA5LQRTuX3g9XGZB17d0SIi/ZEHcfpW3v6VYQSE169yRPUXB111Upvq2XUG1c1aUD7ZBwV76Hi++9VxBfDISjYWQQkEESH4ogcFaQZHTl43SmU7BP2A95bB7TUFae7KsKwViQUuWJRrJ9kvBMLVSyjqTQsFsALSIxWFNQboDNfIfEllB02DWuz79UEFl+1N6ePZZQaDcQ7zvyV9BZu06LUpII0F4SGgRot8UQV9fcIgzDTJB7+yPqs75UUHQMe9wOrBKQWOcMvmC4RPB88jfVho6LUFUHi3Znb5FwXswPV6UwFhB8Bg2EGOuWcHHp+ZZfn08wd+VVKNIa1bBlW+PMS9rOcFpy0Q6Le1TQXlKhDCj4UTBmkqsEYe2YUGN+nO/WkNRwULrgIPNcC5BrJA+8KyXOUESPIHGuxVXQbfvrX5VfxHBs0DE4i8oRUHWulvBs0tRQQwDPc5WbENBCwynE5hkPMHGW6DCpwxEwZwg7KSOTvDAMFinmKRRTsFBm1ZQTQZLQUOKM7wGzGRBfZXOiRygXUF7uwvF7cAswUaCduYM/UNBZWNGDnVtTsHjPWtY44JZQbSbnUpdLlFByAgHgnvmNUE6RZB/bAwdwVkLu+bYpF1Be9ToDHq+WsH9fZfERZxUQYjKlbMLeFZB2COxMh4gGcHfpJcXTWxQwfaiUV5Cp07Bdzj1UdTpOEHx2/QEC2kiQXqXgicBx2RBwGjCr87kSkHJY4xx5zRSQcbBuyc9Y0hB92Uat4OkT0GB8QxVXZxcQa+hjkMpRUlBpfal2B9hUcFJmk/IQGJhQQR5M+i1Y1RBw4z1hyPfT8G8ZhYUItH4wIE7zo0fJ0JB/oMlAHGfYkHIgIUBXg4kQSWuYfQf6mJBQ1uOTgHUNEEgNo6wEUI+wVaXocwBU1dBzG6DxiCHScFcz33EA5kdwaPGNtDyGmFBfy2f6t/ANsEoM4Fkyks7wXQgVp/sfjfBxTF4D1+fNsFphxJjW0YvwQ8lY9UROVbBewD5ef8WXkFrYAkW+N9gQfc6T+F6rkNBYlgycVEoXEGFWWK4KPhIwSE/YuCK70BBFY9fT13qTUEZfZA4QZQ4QWnjbAjfWUDBBcXQoQtGYkGBRh8E/71YQcGuyLOB7SxB17q6KgMUYkFepqihokxXQZLAwUxO61tBAgVmE0X4ZkFNtEexjvMZQb0/QB4Dvz/BdFgBqyY4ScGggteMGzBCwRdjcpKevU7Bjfkcjv5YQcGNmxpuchs9QYJ4HyPTTyHBZkRVefWsDUGBrKY5SL4uwW0f0vHP/l9BhxdICwEKUkGx2/NblS9RQb49c55wUkxB9TKBP43DK8Gv8jn18lBWQSI/YuCK70DB07M0FW/tZEFmiw0sr9xiQZhsivegOV5B5Qwtjm61YkE/2JXFNMJNwYg0ZlXAv2BBRWBTsPgcMMF/RTklzSAcQdwLg8Ovs01BXiiGqcTiQ0E/j4i5V7JRQQ1SPS58VFNBcx3KIh/zXkF6Titvy35HwRhECGedryHBFnQu3Rq7XEHbacii8HFAwf0ILuUaNVFBZ3LxlUQpQUFnPNUUwo4XQTeylFvzPBLBsZH6kjZfYEEC763gLndUQa/vMSD7y1dBGWDXWOrEWEFi/wlsxgH4wHiT8r2goWtB6r6JotbNSEESKCsqh3cqQXmISV8pVWBB9tEUAwSsTUFJujTUDHhiQRdPRSGGMO9A2E/cmFURMMHCxLQNdiBAwcJBT2hbBDTBboChpdtTQcGsGR/lnwpEwTwbNGM0cFTBMdASJlXIR0FV8JWqF2YGQbNoG/icMFNBcpUZBC81WEG4p6+RZqlMwRPCaOKzW2RBz0t2xPesWkEKjw99nuUnQcTf9pUFP1pBKNHaiSd4R0HEbu5hsrdgQZ/neNWXOCtBtT4gKdyGFUHjl/ybnU8uQcbBF4PZikJBLYW3AKCHQcEyTnXYrmZKwbGzoXt2ni9B1l5IXgn4VcFQ8e8a2FAMwShk/AMEDWRBFi6b757NTUEQgP6SkKNcQeRPt/wy2CRBGM+4mwt0U0GhTpMHgTRLQfpA7pj0nFHBt4dwLKRyWEH14QSR5xpTQQRKdvuawlVBXqNE+TjxYEHW8d4zJq9KwZKWRoAqoEBBGkoWYl2MYEHID9UNyj5iQUcPJ782q0JB9BKOU6dtRkH8/eDTQ7NKQR4Gx7jVsF9BqP1QaQxEUEFWtUerhWtSQU92mRvCIVbBGf8Ae7P7J0HUGU21BTNgQcOVOiHwP0zBtoj1FmbYUMFLlwb0GqM5QVaQk784JSZBvIayE5S6UkGMwIZ25Iw1QWgQOgr82WRBI4H9N+JoRkFtIdlcRHBTQX7o4/EfS1VB5U9oNwc/NkGunZ8CxYQVQQRJkMxJyUlBa/VzhOIyK0HS4tG8kHVSwTqnC/Cm111BGQ2ScjeHGsGNA5PV/pNYQQkOf1JDz0HBzpUrF2+6RMFqVY1QqCVRQTbsQN3o9k9BV+SKXDtBYkG8x/9qyNo/QWqqZwy79i7BvQ7LAma/YkFMufpzQlBSQbWPYSlNH2VBGzz9zHYFQkHIYQO/8hpRwVksjZkrTVlBEQxSjAjGQ8FMZqic1KY2QZZbBNcWVj1BBVF+wn7mWUFvF7A44Hw4wfgzUgJOdz5Bu7AeYMIeOsH0sDThWMFhQQXyoKgOvGRBizpR2TNZVkF9TDHmML9MweIptKdKVllBGkMXOnCiZEEkS2zGKO5SQURFvO5g6ErB7v8sGZquN0GqnrKGcwNaQVYlGMDdO0/BXkWFWbFADcFhoxbibp1CQR0dm++22VpBmEAiIzX5VcF24trclAFCwWEHXDTZNT7Brx4FB7QIWUG42JWg6yFIQdEIAe6gd1lBTdda9+iSU0G+RkpfsVJbQX7GWwz8tVdBIa1AuYb1VkHbUPAxvEEjQVSsp1+zc1RBbM/u95XEGkFWY2kCYCcwQW2hc/YVKlBB7m3ZhQy7TcHKdfPEgKtaQfnb2cvgo0HB5G7qmCTXGcH+vYfJphgwwSb3Cv15OjbB1K3WEt/wT8FinSZa63ZOQRGoAtfujFNBeem3pz/jUUGh/VXEr98+wZt6PjaqIFlBTXcEEAqNRkG+a7XeYQ5ZQZEV3sVUXllBKHrjbN8UHkGl06BX63RVQb27r0YznmNBf5OYvY69X0EdYamBacJcQbE/qD3hmzTBG8QORBeTVMH4Eg9PLVxDwd1junvkz2BBvVSCL92gQcEzjuXrKeVSQelPcB9tdD1BaYRFltDrW0EFiqT/obpfQc3IaPx2KkbBUNKFDTUNQsFzLBXDp+tcQX8MwaQUVRfBF5o2o+XLQUEzxRjxl/QzQVZDLFq2zFJBJ3cTY6G/UUFheFOjHGZkQbVpl+SMMEdBfBj5aKOM88CSVg5GIE5WQdWsOFDkkGFBN3Yp+lA5NkGMXBTbUKNaQbPTMO76+FlB3FmqvK3WYkGngCXIpMxRQfdMXOHftmRBIiuMY8doT8EorrcHD+VgQX2b0QyyHFJB+Q+P07Y8UUH7pEnGQ6JQQRZtLtsZ/F5BJJ8aAEzzUUFp0n6rw8hhQfdViZZteFxB4HSrgfRON0E5mrklsxtSQQMg7KSOTvBAbj8nMcXdUUGhkkXBmoliQfdHf7/BPSTBEA32b/9cL0FkUuYmFoBSQRsam6NVuRlB/+JkFOf6Q0E7Nw6yDDVDQaUp69poOEbBP9MltjjuQcGmlk/OBlBUQRUEnOypgAnBD1XN5q74PsHJQgN/Yz0Awc5WM94ff1RBGyQKIQkVYEGXHKj10ec1wdWtG2ubpFRBquOko4x9C8EtsjXg1MhQQTuKdwltxifBz7kozoB/LcE4QC1sPPQHwUnIzRXA1FNB3t1wE4g4YEEICBETl1JNQUPWF1LQG1DBQstwj2nWW0FmDz+JRM4gwbqHXIVL3izBU1jBnEIWUkHdPF+B/tpTQRgfmdxzr15B/ZpiVfH87ECh3ZYomZkMwf1x8Vf15lFB5XAe5eW+ZUELf8JayfRjQfHOOiqLfkDB14vGViVzUEH6UbDn5W5RQY8JVt6T9E3BEFB4KslMRkGXMqVcfoVBQbuJAcv6JilBsi//Q9f5QUERHx5WRSs+Qb5IPx1OMkNBlP4h+SS8WUFkUqTD1hBQwXdERd8qbDzBr4GFpaD3MsEBdcQ1MWtCwd7C40TxyUfBx3v5L1gzQcFwwem2c3o/QUp6GSqAamBBO5aMZrsHTUFyvmfrdgNbQe1xxW35WkBBPakZX3LbMcFowuk/U50+wck3Z/8QjQxBBQ/hlJ/bQ0HkF4+9TOMWwS6rMqZZ11NBhQFtP4k7PcG94CRRohhMwUuXBvQaozlBd9VZtW4iY0GfiHDKXiQ1QavrFiC+K0xBUOKFVxi4VkEiQ7ZJRAFjQRf2aeHoM1BBH/KjVTCAWkGHKAYKOGxeQQ1W3dqgSVFB9KUFMXlhYUEUbuNHcDdcQTd5lwN1FU5BaR93pLwnIEFIWU0XSLhjQRxIXlzoEFJB79tgI6dKUEEXw6J7i1xPQXHAQY8Vn2FBgMcEyH+QNkG7EHtqZlNZQeRWdmXvuFlBwOPgFwNpC0F7me3CGDZXQSusj5QY5VRBIuJxDcpHU0FwwbPZfv9UQdVeSF4J+FVBQqH6uER6JMEeZ2DI3wpgQce0f3V7ZkJB9lCUn+QLS0FY9/eIqG5Bwehr1u05xltB+tw88zeJQEHiepmM1ApZQW52pD8XrS9BHSAv3PbDSEF31JavfzMwQbl2XFuQrkTBtmPHfRZRUUFUiUpcmRBEQToF9o3aKj3BD3kFUyLBTkFqhEwAIX9EQRJe6lKkbkPBAw3G9CXAT0FqVY1QqCVRQZvsqE+jeVxBMSSpIG1aU8Grzn7lw2EnQYUU+VW32hJBBRGyGuqoT8GFNl/ByOdVQSDIbiwpVDFB5NDwvG+cW0EkvpN0wwVSQRmFtnySL0JB6nEBjPmeVEFfiFSaWSBdQaO3+hH95UTBpec96ZLIUMEMv0AgjUZaQdjjofKPKEBBaismxoWrMUEZXwztMmpJwR8dTP3uuDnB5oXalacLU0HHKUmUUpBQQQi+XYdzyFNBfEFqv36AIEEa/UQoM6lGQUOAPm/9509BRPU810YYK8Ecapy1VMz5wHmT9gqs7VJBd0exj8jQV0EUAohHGb1jQRZ9U8XymFlB3qTaj0PQY0E6KIXl/2RPQfTe7YQCZlJBIAPeFEj3PMHhfSJDnbn6wLGsW+z7zETBtTCfme0WV0GbN/JFlk5RQUlaBAVv8DTB6bl5T2XzQEEYElCy7NU/QUMaBlKQAzFBwgcu5jCjYkEdhaTb3V5QwWe8QkqUnGBBKvxdhfE+XEE3T/AnjaY0QTSwdRKjikHBtoSxi4iNQcE=\",\"dtype\":\"float64\",\"order\":\"little\",\"shape\":[577]},\"Lng\":{\"__ndarray__\":\"cv+WJNsGUkFtVl567x0nQcgaOXNoOW9BCZn2J9rSYMEwJ0bbpQlmQZ3SJ07sAF3ByQ8T7uVoX8E0KfsikCBoQY4YGqzeylbB2z/mdQyPV0Ghg7nBBBJWwbOJ3XyKJUpBqcPtfPCsUMF/hFkDEPVXQS2HpAaBdF3BjAI6/lPtcUHDS835aMNlQWyKnrQG90/BWCaUf7lca0EqwMiLFy9jwZCQQ3pN9nDBrpAnXzwhZcH9Cz6lFtRWwfifvNNHqGzBT7GvLHqDcEGmvM+Kc8BewfRE/n4BZmDBV9hT39eGWEFerAwqYiBTQW5rpVygejnBlfWQ4QSuZMHiLtfRjSY2QcIAJz4tSz9B1mwc2zuyJcHGwhwTEl5PQYOLKXcLaG9BSNM+C82fR0GXnuo/WGImwfLGFdPu0mdBB+P9DONYZsHdjCHumSBdwXuvGuOublHB9J8GoDjWAkGPfTKNCVlfwed0bs+7CWPBLFRC3+jpcMGqI4EuWEFTQYWRVgryuFJBN6RJQBEPcEHbGy45H0hvQY2hdgceGmFBaOs7vfl2cMF0BTopd7xBQSomvdDkLDJB8XmXbISZcsEfma4TLTlWwZyqX26vzFZBHDl82IbdZ0EdbLOMkLRHQY++R4f3fGhBtAMdCaWgakHDvqWYkw1Dwcwv8GMkpXDBOn+XwYgOYUEEDhmFL4VtwXXkcV/7VUBB52nY5RlxWMEBMWygrapQwZEsg3sQ2WxB51/k/i0FQUGqWSuyMoBuQe904RTuM13B7JXqHWpjWMERnaB5CG4yQXEFptsFOWhBOrQJmjZMYkHKHSuVtvg7Qdc3HBaKG1XBEOSZY7uCDMFk9Zmnl4BYQZJKSom3fmNBw1If7GTIcMFDnQ0lKwBbQQO4r73m4WlBnB9o9bA5Q0GoUxI84WVywWecnAg/HFrBSVHCjo2uV0HVieVKyws9wYh9FzGoAm1BmiWTheMdaMEaYSSBAqJDQbvYfxJY4m9B6HX8tNz/XkEgxD9RBlhyQYoo0Jzx2F5BdHf8AhNUZUHwnLjiiPdpQXUi9q1c81DBRBJf+3Y/YUEfcXbP0DxVwSPtpATCEWtBXMlS6bpkXcHAEKd/5GFIQc4z1ZPl3nFB7IC2h9BTWMG3TZPVJpMewfuSI3gRDU5B+Qog0D0YXcHWnM0fhkZfwSWFy9VEolzB1JD929rNRMGGPTImdGRWwYiGtz1LAnBB+GRtlRFyaEFdGFskgQFowX+aFyERPWhBumSlyzMccME97eNS3NhRwRGbdO/qCF9BoWClNqrWRkH4xFTSkBxnQRpjVGnZxGJB/YLq1sfpSEF3KpOXnEZoQWvhzuT93WFBhhKyhdWzVsEt/NuyoeBKQeIWIy2i/mnBRW3O89wSYsFz0pBhcT5hwV+6DFbku2zBXQCyu2IdXsHN2jK0zM9hwUQokdtQDWhBJl6rBVQ3a0FRG1VNshRvQYfqeUF5t0VBhNa85i+TY8Hsh160wE1lQb+V+/NGP2zBPqYV3Ld3ZMFJY9eMlt4vwWC4eUhvgWNBULzVsfxTYMGlPKhcAwlZQWAvfLQUjDfBbjWrq2fjbUEIpJ1a30svQXo6mudDMGrBKhRuxwNzckGeaVsR/BZqQR09lwt7nHDBJXbPDl8ncsHc4LU2Nz1kQdPteoKi51vBHHF/XMGhYcGvGgkTrAFvQaxzkEBPAVFBhBijtBtVaEGULFwQJypwQWMfRcKnR2jB6bKTVjhNVcFnkchf94JQwX13fIfGLmDB8Yx/QT/UVEFNADEFeb9ZwW1YLewECHJBKTSO10fJWkGTK/mdlOdwQaOQeLVpR1lBSN8K8b5aZsFr0KaT+v1DQZ8giHlm1GLBjef0V8eFYcGSN/T+uVoMQcXM8MI8WlzBYbKTVfYjRMHfIvifhB5lwevuMrvpeDbB5hmNw1mPccHPJJY0N3VjQZ/a3mFXJ01BgTLot5/YV8Es1HRJJuVoQbrC2W+ljkJBWFM3HYUNQkENG9OdNKFIQWGwY20fAUVBUk1DuVR8WEFOqqAoWyZlwQMvh7b9OGHBdn1JzboUQ0FCBtphG+pNwc3/XP3SWldBkKZ1WifER8E6e349cS4ewcrdWoV2hk1BA/Tn9FTxcEGo40lH6WtGQRLZoq1D+HFBVxhNXbUUckFHpdeErXM9wWEMWz4QLnDBfIj6Er4DcEFUgQakompewefofGo2dmRBRZpKKPw/b0FOjHb1FWlkQda5fmieOWxBK9w06oFwZUGPBcJyBMhpwfXXNkbeLF/Bp2XinDAPZUEAtlCw8L85QV7VfBnrHU7BPcu8dIftHMGLwWv653VYwY4JZ+BrlC3BxnYbSWU6YkG8YZl/uolKQUElqEbzsmdBjXbcPFSWaMEjkyS8FftSQeYvvfRWfmLBhWsy1WQtYkGB7VRlH95rQdj0y/f3kDpB3grbdI20ZMH1KT6OnKtewfdVkQXtZmhB5Vl7W36SZMGNsAC7B+5qwbDHhjHk2TVBFwtwu5JNYMHG78xFc3hywVqUMu1HXlJBcngD2kN3WEHpFxycgqM4QUiOq7hMpVvBWDg5bXpSYUEufKv3QMQ4QVXkYATKCmFBWM+XoxgcS0GmpP1dowduQRbb1p2/H3FBXp66IaVNY0GRtSgmmvpQQQ3nspreN1pBO+n+IhufYMEFbm538RghQeqB9RAR22hBiwPCLPP/Z0GkPmSCAaYRQQFKygPCemdB6IeQBWOHWEEBQBB+wlFDQRcLcLuSTWBB3Bg6aPSpXMEJE5cqtoZlQVpFBUyJqmzBDMmTo2a+O8HoKXg6+cZkwVAvpcM2OWFB3T4XUevPYcE/raPefJ5owcCAHZihJG5BDF8jtePIX8EfACRTcQppQUr9uYMXDGrBEHuxTcPmakGEg0tOy0tewTQArRmlcV3BgLIaIt3Tb8F3DMFNKF1vwbaRQAXeNV7BMBTs8u4nY0FWWWD+2hJRQRiSvr6ED3BB/n7EZwbnbUFWQaxZ7+pkQRPqIDk7zXFBOZHmIH6BbEGXc2xOlpBsQbEBhkmfGl3B956EKBunckHe7LBBSPdDwSU+v596QCBBx1gAsKZ+X8GjbBCm2lhhwdzYgdMCLEFBtIoE31NGYMH5E6RZ7R4twaXiuV4UCWxB4Lt3JHMJUEGoMtoNRjdWwZK7ZFMHTUJBfW3+EZAnVUFcv5oSmBpfwdP6wwRSuGJBD9n9bINNUMGYbzdFToxjQQIZZHCqbFhBIOADmUFtbEG/ohmvkM5tQe4uRTxgN2jBmNrhjdphb8E4n18+EEpdwTO2EecqaG5BZPc59I1rQkGJjMhNPlpgwYM+c16RymxBm/U5KmpdZsF3aaFtZRxZwVzLrZj3yOHAdw7CusvHcUFkaTYvFkZZwZ1PH5to+FZBcfsjCBZ0AUFo/uvfpE1VQfXxm9T6rWFB+PRMt0ikNEGn1XLfGKVDQTaYFoPw8HJBUQhtePfZbEFo7d9nqR9WwbK58+kmPmxB8LiwfhqzVcEvznqN794qwdUW7XTfUVXBZlox2z9mMsEns041bIBlwYDpgNKYElfB5OoNyc7RV8FoAfra+r5wwWy1naci/2BBFQDjXuEZckFKs+aejZ5tQe2HfuuBvW/BLPNzAvqLacF4lPr4LtdnwY2sZoltZWlB/SkDsAkNX8GRxY49Jj5hQViI41YfjlbBtauJuvIEYkFqIRO3FtZWwZFQ6dvC6G5B4Sa/R2HHUUFfrxzUlHA0QQ5+dErypmZBZM/pNON6PkFqHIp/rtdwQfBlTCU3HFHBdtBX7Km2ZUG4kNYID/twQdXRTDe1NFFBdpPczUFickHu48v2Zt9sQRBOU6GISmJBlKybD/qOVEGtathiSVRPQWLYkiSLmElB0kOmikWKYEFiWFHM7w1rwUehH8suWldBRxBg55v6KMGwWV6J4spjwWjdMKu+UHBBR6hiebgWcMHh0y8nGO8XwQ7rBYDiWmDBaaXMsMJTckFua6VcoHpJQRiuHYhZ51VBH8RoFbgsaUFYrkHtmFxqwVWGc6zu/WlBfPssSpYAa8HVGeFFCvBnQeLmuDTuz2tBiS/zac7eaEG1DozdcUNUQWFKw7NpGTJBSj9GuVUbMcHWp6xYcrFjQT6CaNuXdF5Bvc9gsfpfSMEp2b1oIL1VwZR646aKrFJBaFqANyDVLUHyNLCO7IgaQa9lRkjcN0HB4xnfS704z8CpvlsOrAJqwbYAS3Lv3lBBn4AmZ5usZ0Fm9VQK3vliwXlN1Jg5omJBgm9UkpXkWMFgzhuNaBdVwdSGJ33T8mHB6bQ3Aej1akFpufcWYxplwd70ODCUHlNBFY3sN9I+YMHwc9o9vRBqQd1tTfwru2FBJTzl8ZcSY8EqUj1qoHouQWbsekY6/mDBnVV3od38RsHgmgdEyHZWwX95pZGJy0hB4jvZs88DaUFv3jy8yvscQVss4/g9/F5BDLXLDFBWZ8HHw9Fh39dkwedUk1wxOnBBUXt/IvqtcUGl/IPBq4A+QWF+A+6A8jpBotdEfbHJQEED99e92opTwTG3Qdbk7SBBgzn3u741U8FQPteNTzlTQShwbnv5vVVBdK3CX/VEb0FBsyoKEaI5QS/yUgGelU3BNAf/C6F2aEGZ+MR0iblUwfgcQF7rGWDBtnG7djOicUEmwR88zxxeQWPJtpRmjVnBETcNq/yoV0G9rUjBAwRqQfI06u/Yy21BUufcYIvXaEGyvMkybUtqQbnqu3kNlmFBPghYdJz4XkGOiHI8t/xXwXOs+hjoCzDBfSXexRPyREG8ifyKfMdQQZBnkPL7CXLBQ03iOSyOTkFjxOgVWcFpwRzF31AIGFfBR81FzDz1ZcHjwR6HyHz7QEQaEl1RGi1BOXXOTStWZsHBd/42RKJmQTHUxai6wGJBAVUoO1SvFMGPa5yNpvJvQco/C9Od8FzBToZyerh6YMH9TnLqoKxSwU53tHJ4AEVBUFHMTbSWTUGbVvCLCsdawV8URKMdjlPByVHZhBC7aUEDHJDz5G5YQdaLtLzg9RfBqW6+uZwwcUGce6jBFKtvwfFOlBuv02VBgmF0ndS4aUHimfF+OcRsQQN3/+tKQmlBPqqvDVIAVsF+0bnhlZ1Ywd7ssEFI90PBveZUy0vKXEElr4eNj9dIQXskMgQ33WtBPvebKf8iIEG/T/qcUgVzweSf2yNDbWDBLwPrtsA9ZkHF+tSYJXE5QUk5bbGG4GnBdHTBO2YJc0E2YrdTURwTwa8T7SPjgWtBXMf5PDJtV8EyT8vMBZZsQTyA+jMbUWDBGkqGoaUsYcGPpuW+RoxSQaOMbHDTF0dBpaE/kKvuUkFJFJtRUSlcQcYFDLvir2VB7ydjroP6Z0EEjZRFmrViQU6t6ISd2mPBzm9FKYzEXcHYuRtDACJiwewo2unT5UVBCD07Z7LHbkEeRgMa3K5dQf1GIq5k6WBBUrUKzvAhTkH0YwzSWw5vQQTALh9CpDxBSv9dLse0T0GwaAC4GpNwQVtG1nNe1mBBQkJI8tA3aMGGurkO0ZNVQTfatwk35V3BZCaqALuZRcG+yd/m04Zhwbp1MvGx8k1BqwTPIogqaEG6Inhd2mZnwXO+du4fn1bB83xVOnyybUFxZUTJOhFtQVk5b2nKdGVB8aooHRaickFYm5HK7YVlQU5BZIdLdEdBfP3qHnF8WcFzQPNqX5BmQdqREiTDJGLB3CN6F6JNVUF34bARqXRKQQyiOyFm7zzB0IcB3sH1aUEmCp+cJNcxQW5F1bIqBUVBLr//c4wMX8FxBryglOsxQaFWJRKX8DVBiD3vN5e8ZkGhOCRN705wQWVYAfNoQ0NBBSyXQ4xYasEVNuFt025pwdIqy4OQQV7BhIWz6LHSSkEf5U5nGCRfQSuQ3ZEJym1BR2yRGXlqZ0ECtWWyx05lQZ9UtxZDP1/Bf36rwqb7ZUHCMQ7Tno81QbQaPOpbTGRBPUyIVIqwa0FzgOEChJNpwWew1AN1TGlBPrEDryrkRkE9MWptvoVgwX04GibmQlPBfLU85vDtacFxjFX/pHpgwQ3l2Oz7CW1BmJ4mUCGEX0GP6QGJgnBbwedivPZQ8WRBKG1+CIjdXkH4gZ2Gu3VyQTpMDjFEAFtB1Ytc0w8iYEFqMq/K8js7wSKoLYtJyV3BUtRo+JRpcUE=\",\"dtype\":\"float64\",\"order\":\"little\",\"shape\":[577]},\"color\":[\"faya\",\"farsund\",\"new norfolk\",\"jamestown\",\"lanzhou\",\"ushuaia\",\"albany\",\"carnarvon\",\"sisimiut\",\"saint-pierre\",\"colorado\",\"nikolskoye\",\"trairi\",\"dobryanka\",\"qaanaaq\",\"mataura\",\"khatanga\",\"tasiilaq\",\"tiksi\",\"puerto ayora\",\"avarua\",\"nuevo laredo\",\"guiratinga\",\"rikitea\",\"dukat\",\"constitucion\",\"senneterre\",\"bambous virieux\",\"zangakatun\",\"saint-louis\",\"midwest city\",\"grimmen\",\"cape town\",\"stornoway\",\"naberera\",\"chokurdakh\",\"drochia\",\"klaksvik\",\"labuhan\",\"tomatlan\",\"clyde river\",\"sao joao da barra\",\"margate\",\"ancud\",\"collierville\",\"kapaa\",\"mogadishu\",\"tsalka\",\"dalby\",\"hobart\",\"dikson\",\"hilo\",\"businga\",\"lasa\",\"vaini\",\"cayenne\",\"ust-kulom\",\"udachnyy\",\"east london\",\"busselton\",\"airai\",\"grindavik\",\"barrow\",\"banda\",\"atuona\",\"hermanus\",\"mar del plata\",\"caravelas\",\"port lincoln\",\"bredasdorp\",\"mendi\",\"cobija\",\"deer lake\",\"nalut\",\"saskylakh\",\"dudinka\",\"zamberk\",\"jaguariaiva\",\"aberdeen\",\"mahebourg\",\"kedrovyy\",\"makakilo city\",\"qostanay\",\"esperance\",\"darnah\",\"provideniya\",\"rafaela\",\"saint-philippe\",\"ponta do sol\",\"solnechnyy\",\"saint george\",\"alba\",\"arman\",\"ugoofaaru\",\"butaritari\",\"kavaratti\",\"zhangye\",\"shenjiamen\",\"itarema\",\"trincomalee\",\"castro\",\"heihe\",\"rio gallegos\",\"siavonga\",\"bluff\",\"nova olimpia\",\"palencia\",\"inhambane\",\"iqaluit\",\"lebu\",\"calabozo\",\"sao filipe\",\"torbay\",\"kavieng\",\"yidu\",\"cedar city\",\"victoria\",\"faanui\",\"arraial do cabo\",\"hithadhoo\",\"port alfred\",\"lichuan\",\"talnakh\",\"novorzhev\",\"muncar\",\"jashpurnagar\",\"chuy\",\"kulykivka\",\"half moon bay\",\"bocana de paiwas\",\"el alto\",\"sitka\",\"punta arenas\",\"bay city\",\"baruun-urt\",\"ambon\",\"corowa\",\"port elizabeth\",\"ocos\",\"georgetown\",\"tuktoyaktuk\",\"brenham\",\"peniche\",\"tawang\",\"havelock\",\"novobelokatay\",\"puerto del rosario\",\"mount gambier\",\"rindal\",\"roseburg\",\"kaeo\",\"biak\",\"kahului\",\"lavrentiya\",\"sabang\",\"pangnirtung\",\"corn island\",\"innisfail\",\"almaznyy\",\"geraldton\",\"kokopo\",\"yellowknife\",\"sao miguel do araguaia\",\"belmonte\",\"pisco\",\"ambilobe\",\"aripuana\",\"kaitangata\",\"lesnoy\",\"evensk\",\"sur\",\"la ronge\",\"danielskuil\",\"chunhuhub\",\"avera\",\"ouallam\",\"challapata\",\"olafsvik\",\"neepawa\",\"freetown\",\"nome\",\"hovd\",\"ugra\",\"upernavik\",\"sembakung\",\"shakawe\",\"upington\",\"gwanda\",\"kruisfontein\",\"grand gaube\",\"cacahuatepec\",\"paita\",\"bumba\",\"maragogi\",\"kosa\",\"lagoa\",\"cabra\",\"gat\",\"buala\",\"asau\",\"isangel\",\"pevek\",\"husavik\",\"kodiak\",\"zyryanka\",\"valparaiso\",\"baykit\",\"port moresby\",\"meulaboh\",\"nakamura\",\"simao\",\"laguna\",\"bethel\",\"kodinsk\",\"luderitz\",\"touros\",\"glasgow\",\"ladario\",\"sao teotonio\",\"puri\",\"yumbe\",\"pangkalanbuun\",\"hay river\",\"verkhniye achaluki\",\"terrace bay\",\"ust-koksa\",\"sorong\",\"longyearbyen\",\"san patricio\",\"san cristobal\",\"lensk\",\"carrollton\",\"norman wells\",\"makokou\",\"llata\",\"neiafu\",\"moroni\",\"cap malheureux\",\"walvis bay\",\"rawson\",\"tikaitnagar\",\"sembe\",\"aksu\",\"russkaya polyana\",\"broken hill\",\"cherskiy\",\"beya\",\"goba\",\"ordzhonikidze\",\"high rock\",\"floro\",\"balabac\",\"bintulu\",\"tchaourou\",\"zhongshan\",\"quatre cocos\",\"prieska\",\"pathanamthitta\",\"comodoro rivadavia\",\"sungaipenuh\",\"aklavik\",\"camacha\",\"thompson\",\"hambantota\",\"swanton\",\"san quintin\",\"codrington\",\"chapais\",\"chengde\",\"portland\",\"berdigestyakh\",\"coquimbo\",\"samana\",\"anchorage\",\"fairbanks\",\"cockburn town\",\"tura\",\"sakakah\",\"ola\",\"hasaki\",\"jiuquan\",\"tuatapere\",\"kloulklubed\",\"ust-maya\",\"san juan\",\"whitianga\",\"praia\",\"okitipupa\",\"monmouth\",\"san andres\",\"lyngseidet\",\"dunmore town\",\"galegos\",\"kamen-rybolov\",\"dabat\",\"camopi\",\"jalu\",\"eyl\",\"valdivia\",\"teguldet\",\"aquiraz\",\"ulaangom\",\"souillac\",\"alice springs\",\"koriyama\",\"kingman\",\"college\",\"la romana\",\"daru\",\"boden\",\"carroll\",\"ust-kuyga\",\"bucerias\",\"tandil\",\"horsham\",\"vao\",\"bathsheba\",\"salalah\",\"harwich\",\"sambava\",\"yarada\",\"namibe\",\"kokkola\",\"leningradskiy\",\"vostok\",\"rio grande\",\"chegdomyn\",\"ilulissat\",\"viseu\",\"cidreira\",\"bafoulabe\",\"swan river\",\"rocha\",\"juruti\",\"kailua\",\"verkh-suetka\",\"dunedin\",\"mount isa\",\"mahina\",\"kamloops\",\"santa rosalia\",\"nerchinskiy zavod\",\"torrington\",\"krutikha\",\"bonavista\",\"zaysan\",\"mana\",\"nemuro\",\"mandera\",\"numan\",\"pingliang\",\"saldanha\",\"petropavlovsk-kamchatskiy\",\"vila velha\",\"bengkulu\",\"honiara\",\"pemba\",\"ahipara\",\"shingu\",\"korla\",\"lerik\",\"quelimane\",\"katyuzhanka\",\"narwar\",\"port hardy\",\"sol-iletsk\",\"tabou\",\"saint anthony\",\"srednekolymsk\",\"homer\",\"livingston\",\"lima\",\"christchurch\",\"beitbridge\",\"kortkeros\",\"port hedland\",\"fortuna\",\"dicabisagan\",\"smithers\",\"peleduy\",\"yulara\",\"roebourne\",\"mariinskiy posad\",\"mayumba\",\"adrar\",\"port blair\",\"komsomolskiy\",\"ribeira grande\",\"qasigiannguit\",\"buraydah\",\"port-gentil\",\"saint-francois\",\"vestmannaeyjar\",\"bogande\",\"quesnel\",\"usman\",\"aykhal\",\"carlyle\",\"kayerkan\",\"moron\",\"paamiut\",\"hamilton\",\"seoul\",\"woodward\",\"georgiyevskoye\",\"mayo\",\"kysyl-syr\",\"tashara\",\"acajutla\",\"capoterra\",\"muisne\",\"praia da vitoria\",\"maniitsoq\",\"kalemie\",\"tagusao\",\"mao\",\"mahibadhoo\",\"cabo san lucas\",\"panuco\",\"hervey bay\",\"fayaoue\",\"stolac\",\"gamboma\",\"rundu\",\"carutapera\",\"port-de-bouc\",\"nanortalik\",\"dzaoudzi\",\"aktau\",\"lorengau\",\"pachino\",\"cabedelo\",\"denpasar\",\"ipixuna\",\"broome\",\"tilichiki\",\"lakki marwat\",\"veinticinco de mayo\",\"avdon\",\"katobu\",\"merauke\",\"yangliuqing\",\"tieling\",\"togur\",\"thinadhoo\",\"terra santa\",\"colares\",\"havoysund\",\"ostrovnoy\",\"alofi\",\"samandag\",\"san joaquin\",\"treinta y tres\",\"nazareno\",\"tessalit\",\"yaan\",\"ixtapa\",\"dong hoi\",\"harindanga\",\"pontypool\",\"ulladulla\",\"la paz\",\"hualmay\",\"barroso\",\"vryburg\",\"beira\",\"the valley\",\"narsaq\",\"juegang\",\"verkhniy avzyan\",\"araouane\",\"kirakira\",\"tautira\",\"singkang\",\"taitung\",\"nabire\",\"chifeng\",\"caiaponia\",\"salto\",\"praya\",\"aksarka\",\"abu zabad\",\"kushima\",\"beaune\",\"egvekinot\",\"greenville\",\"ust-ordynskiy\",\"tranas\",\"pleasanton\",\"beringovskiy\",\"newcastleton\",\"hirado\",\"brokopondo\",\"batagay\",\"laurel\",\"statesville\",\"tikrit\",\"iisalmi\",\"lahij\",\"derzhavinsk\",\"kyren\",\"kapit\",\"altay\",\"waseca\",\"nantucket\",\"cadillac\",\"sfantu gheorghe\",\"kundiawa\",\"gornopravdinsk\",\"bhandara\",\"wadi musa\",\"charters towers\",\"ustka\",\"sawakin\",\"severo-kurilsk\",\"rameswaram\",\"guerrero negro\",\"bandarbeyla\",\"antofagasta\",\"vila franca do campo\",\"bauta\",\"nsanje\",\"xuchang\",\"todos santos\",\"bataipora\",\"tateyama\",\"wajima\",\"pokosnoye\",\"waipawa\",\"yaring\",\"isiro\",\"chivilcoy\",\"mandalgovi\",\"nicoya\",\"novocheremshansk\",\"emirdag\",\"nouadhibou\",\"tongliao\",\"ryomgard\",\"khudumelapye\",\"talcahuano\",\"gifhorn\",\"bilma\",\"vung tau\",\"byron bay\",\"kalabo\",\"arcata\",\"lemoore\",\"norfolk\",\"juba\",\"pali\",\"katsuura\",\"bambanglipuro\",\"padang\",\"freeport\",\"bulgan\",\"sorland\",\"saryg-sep\",\"batagay-alyta\",\"lompoc\",\"changli\",\"choma\",\"tena\",\"ilhabela\",\"redmond\",\"wyndham\",\"nhulunbuy\",\"sangamner\",\"road town\",\"ranong\",\"staryy nadym\",\"dargaville\",\"sovetskiy\",\"tatarsk\",\"canchungo\",\"iquique\",\"poum\"],\"size\":{\"__ndarray__\":\"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\",\"dtype\":\"float64\",\"order\":\"little\",\"shape\":[577]}},\"selected\":{\"id\":\"1082\"},\"selection_policy\":{\"id\":\"1094\"}},\"id\":\"1081\",\"type\":\"ColumnDataSource\"},{\"attributes\":{},\"id\":\"1034\",\"type\":\"SaveTool\"},{\"attributes\":{},\"id\":\"1035\",\"type\":\"PanTool\"},{\"attributes\":{\"zoom_on_axis\":false},\"id\":\"1036\",\"type\":\"WheelZoomTool\"},{\"attributes\":{\"match_aspect\":true,\"overlay\":{\"id\":\"1039\"}},\"id\":\"1037\",\"type\":\"BoxZoomTool\"},{\"attributes\":{},\"id\":\"1038\",\"type\":\"ResetTool\"},{\"attributes\":{},\"id\":\"1082\",\"type\":\"Selection\"},{\"attributes\":{\"below\":[{\"id\":\"1026\"}],\"center\":[{\"id\":\"1029\"},{\"id\":\"1033\"}],\"frame_height\":500,\"frame_width\":700,\"height\":null,\"left\":[{\"id\":\"1030\"}],\"margin\":[5,5,5,5],\"match_aspect\":true,\"min_border_bottom\":10,\"min_border_left\":10,\"min_border_right\":10,\"min_border_top\":10,\"renderers\":[{\"id\":\"1078\"},{\"id\":\"1089\"}],\"right\":[{\"id\":\"1097\"}],\"sizing_mode\":\"fixed\",\"title\":{\"id\":\"1018\"},\"toolbar\":{\"id\":\"1040\"},\"width\":null,\"x_range\":{\"id\":\"1010\"},\"x_scale\":{\"id\":\"1022\"},\"y_range\":{\"id\":\"1011\"},\"y_scale\":{\"id\":\"1024\"}},\"id\":\"1017\",\"subtype\":\"Figure\",\"type\":\"Plot\"},{\"attributes\":{\"margin\":[5,5,5,5],\"name\":\"HSpacer01551\",\"sizing_mode\":\"stretch_width\"},\"id\":\"1107\",\"type\":\"Spacer\"},{\"attributes\":{},\"id\":\"1024\",\"type\":\"LinearScale\"},{\"attributes\":{\"fill_alpha\":{\"value\":0.5},\"fill_color\":{\"field\":\"color\",\"transform\":{\"id\":\"1080\"}},\"hatch_alpha\":{\"value\":0.5},\"hatch_color\":{\"field\":\"color\",\"transform\":{\"id\":\"1080\"}},\"line_alpha\":{\"value\":0.5},\"line_color\":{\"field\":\"color\",\"transform\":{\"id\":\"1080\"}},\"size\":{\"field\":\"size\"},\"x\":{\"field\":\"Lng\"},\"y\":{\"field\":\"Lat\"}},\"id\":\"1087\",\"type\":\"Scatter\"},{\"attributes\":{\"callback\":null,\"formatters\":{\"$x\":{\"id\":\"1099\"},\"$y\":{\"id\":\"1100\"}},\"renderers\":[{\"id\":\"1089\"}],\"tags\":[\"hv_created\"],\"tooltips\":[[\"Lng\",\"$x{custom}\"],[\"Lat\",\"$y{custom}\"],[\"City\",\"@{City}\"],[\"Humidity\",\"@{Humidity}\"]]},\"id\":\"1014\",\"type\":\"HoverTool\"},{\"attributes\":{\"dimension\":\"lon\"},\"id\":\"1050\",\"type\":\"MercatorTickFormatter\"},{\"attributes\":{\"fill_alpha\":{\"value\":0.5},\"fill_color\":{\"field\":\"color\",\"transform\":{\"id\":\"1080\"}},\"hatch_alpha\":{\"value\":0.1},\"hatch_color\":{\"field\":\"color\",\"transform\":{\"id\":\"1080\"}},\"line_alpha\":{\"value\":0.5},\"line_color\":{\"field\":\"color\",\"transform\":{\"id\":\"1080\"}},\"size\":{\"field\":\"size\"},\"x\":{\"field\":\"Lng\"},\"y\":{\"field\":\"Lat\"}},\"id\":\"1085\",\"type\":\"Scatter\"},{\"attributes\":{\"dimension\":\"lat\"},\"id\":\"1052\",\"type\":\"MercatorTickFormatter\"},{\"attributes\":{\"dimension\":\"lat\"},\"id\":\"1051\",\"type\":\"MercatorTicker\"},{\"attributes\":{\"children\":[{\"id\":\"1005\"},{\"id\":\"1017\"},{\"id\":\"1107\"}],\"margin\":[0,0,0,0],\"name\":\"Row01546\",\"tags\":[\"embedded\"]},\"id\":\"1004\",\"type\":\"Row\"},{\"attributes\":{},\"id\":\"1022\",\"type\":\"LinearScale\"},{\"attributes\":{\"factors\":[\"faya\",\"farsund\",\"new norfolk\",\"jamestown\",\"lanzhou\",\"ushuaia\",\"albany\",\"carnarvon\",\"sisimiut\",\"saint-pierre\",\"colorado\",\"nikolskoye\",\"trairi\",\"dobryanka\",\"qaanaaq\",\"mataura\",\"khatanga\",\"tasiilaq\",\"tiksi\",\"puerto ayora\",\"avarua\",\"nuevo laredo\",\"guiratinga\",\"rikitea\",\"dukat\",\"constitucion\",\"senneterre\",\"bambous virieux\",\"zangakatun\",\"saint-louis\",\"midwest city\",\"grimmen\",\"cape town\",\"stornoway\",\"naberera\",\"chokurdakh\",\"drochia\",\"klaksvik\",\"labuhan\",\"tomatlan\",\"clyde river\",\"sao joao da barra\",\"margate\",\"ancud\",\"collierville\",\"kapaa\",\"mogadishu\",\"tsalka\",\"dalby\",\"hobart\",\"dikson\",\"hilo\",\"businga\",\"lasa\",\"vaini\",\"cayenne\",\"ust-kulom\",\"udachnyy\",\"east london\",\"busselton\",\"airai\",\"grindavik\",\"barrow\",\"banda\",\"atuona\",\"hermanus\",\"mar del plata\",\"caravelas\",\"port lincoln\",\"bredasdorp\",\"mendi\",\"cobija\",\"deer lake\",\"nalut\",\"saskylakh\",\"dudinka\",\"zamberk\",\"jaguariaiva\",\"aberdeen\",\"mahebourg\",\"kedrovyy\",\"makakilo city\",\"qostanay\",\"esperance\",\"darnah\",\"provideniya\",\"rafaela\",\"saint-philippe\",\"ponta do sol\",\"solnechnyy\",\"saint george\",\"alba\",\"arman\",\"ugoofaaru\",\"butaritari\",\"kavaratti\",\"zhangye\",\"shenjiamen\",\"itarema\",\"trincomalee\",\"castro\",\"heihe\",\"rio gallegos\",\"siavonga\",\"bluff\",\"nova olimpia\",\"palencia\",\"inhambane\",\"iqaluit\",\"lebu\",\"calabozo\",\"sao filipe\",\"torbay\",\"kavieng\",\"yidu\",\"cedar city\",\"victoria\",\"faanui\",\"arraial do cabo\",\"hithadhoo\",\"port alfred\",\"lichuan\",\"talnakh\",\"novorzhev\",\"muncar\",\"jashpurnagar\",\"chuy\",\"kulykivka\",\"half moon bay\",\"bocana de paiwas\",\"el alto\",\"sitka\",\"punta arenas\",\"bay city\",\"baruun-urt\",\"ambon\",\"corowa\",\"port elizabeth\",\"ocos\",\"georgetown\",\"tuktoyaktuk\",\"brenham\",\"peniche\",\"tawang\",\"havelock\",\"novobelokatay\",\"puerto del rosario\",\"mount gambier\",\"rindal\",\"roseburg\",\"kaeo\",\"biak\",\"kahului\",\"lavrentiya\",\"sabang\",\"pangnirtung\",\"corn island\",\"innisfail\",\"almaznyy\",\"geraldton\",\"kokopo\",\"yellowknife\",\"sao miguel do araguaia\",\"belmonte\",\"pisco\",\"ambilobe\",\"aripuana\",\"kaitangata\",\"lesnoy\",\"evensk\",\"sur\",\"la ronge\",\"danielskuil\",\"chunhuhub\",\"avera\",\"ouallam\",\"challapata\",\"olafsvik\",\"neepawa\",\"freetown\",\"nome\",\"hovd\",\"ugra\",\"upernavik\",\"sembakung\",\"shakawe\",\"upington\",\"gwanda\",\"kruisfontein\",\"grand gaube\",\"cacahuatepec\",\"paita\",\"bumba\",\"maragogi\",\"kosa\",\"lagoa\",\"cabra\",\"gat\",\"buala\",\"asau\",\"isangel\",\"pevek\",\"husavik\",\"kodiak\",\"zyryanka\",\"valparaiso\",\"baykit\",\"port moresby\",\"meulaboh\",\"nakamura\",\"simao\",\"laguna\",\"bethel\",\"kodinsk\",\"luderitz\",\"touros\",\"glasgow\",\"ladario\",\"sao teotonio\",\"puri\",\"yumbe\",\"pangkalanbuun\",\"hay river\",\"verkhniye achaluki\",\"terrace bay\",\"ust-koksa\",\"sorong\",\"longyearbyen\",\"san patricio\",\"san cristobal\",\"lensk\",\"carrollton\",\"norman wells\",\"makokou\",\"llata\",\"neiafu\",\"moroni\",\"cap malheureux\",\"walvis bay\",\"rawson\",\"tikaitnagar\",\"sembe\",\"aksu\",\"russkaya polyana\",\"broken hill\",\"cherskiy\",\"beya\",\"goba\",\"ordzhonikidze\",\"high rock\",\"floro\",\"balabac\",\"bintulu\",\"tchaourou\",\"zhongshan\",\"quatre cocos\",\"prieska\",\"pathanamthitta\",\"comodoro rivadavia\",\"sungaipenuh\",\"aklavik\",\"camacha\",\"thompson\",\"hambantota\",\"swanton\",\"san quintin\",\"codrington\",\"chapais\",\"chengde\",\"portland\",\"berdigestyakh\",\"coquimbo\",\"samana\",\"anchorage\",\"fairbanks\",\"cockburn town\",\"tura\",\"sakakah\",\"ola\",\"hasaki\",\"jiuquan\",\"tuatapere\",\"kloulklubed\",\"ust-maya\",\"san juan\",\"whitianga\",\"praia\",\"okitipupa\",\"monmouth\",\"san andres\",\"lyngseidet\",\"dunmore town\",\"galegos\",\"kamen-rybolov\",\"dabat\",\"camopi\",\"jalu\",\"eyl\",\"valdivia\",\"teguldet\",\"aquiraz\",\"ulaangom\",\"souillac\",\"alice springs\",\"koriyama\",\"kingman\",\"college\",\"la romana\",\"daru\",\"boden\",\"carroll\",\"ust-kuyga\",\"bucerias\",\"tandil\",\"horsham\",\"vao\",\"bathsheba\",\"salalah\",\"harwich\",\"sambava\",\"yarada\",\"namibe\",\"kokkola\",\"leningradskiy\",\"vostok\",\"rio grande\",\"chegdomyn\",\"ilulissat\",\"viseu\",\"cidreira\",\"bafoulabe\",\"swan river\",\"rocha\",\"juruti\",\"kailua\",\"verkh-suetka\",\"dunedin\",\"mount isa\",\"mahina\",\"kamloops\",\"santa rosalia\",\"nerchinskiy zavod\",\"torrington\",\"krutikha\",\"bonavista\",\"zaysan\",\"mana\",\"nemuro\",\"mandera\",\"numan\",\"pingliang\",\"saldanha\",\"petropavlovsk-kamchatskiy\",\"vila velha\",\"bengkulu\",\"honiara\",\"pemba\",\"ahipara\",\"shingu\",\"korla\",\"lerik\",\"quelimane\",\"katyuzhanka\",\"narwar\",\"port hardy\",\"sol-iletsk\",\"tabou\",\"saint anthony\",\"srednekolymsk\",\"homer\",\"livingston\",\"lima\",\"christchurch\",\"beitbridge\",\"kortkeros\",\"port hedland\",\"fortuna\",\"dicabisagan\",\"smithers\",\"peleduy\",\"yulara\",\"roebourne\",\"mariinskiy posad\",\"mayumba\",\"adrar\",\"port blair\",\"komsomolskiy\",\"ribeira grande\",\"qasigiannguit\",\"buraydah\",\"port-gentil\",\"saint-francois\",\"vestmannaeyjar\",\"bogande\",\"quesnel\",\"usman\",\"aykhal\",\"carlyle\",\"kayerkan\",\"moron\",\"paamiut\",\"hamilton\",\"seoul\",\"woodward\",\"georgiyevskoye\",\"mayo\",\"kysyl-syr\",\"tashara\",\"acajutla\",\"capoterra\",\"muisne\",\"praia da vitoria\",\"maniitsoq\",\"kalemie\",\"tagusao\",\"mao\",\"mahibadhoo\",\"cabo san lucas\",\"panuco\",\"hervey bay\",\"fayaoue\",\"stolac\",\"gamboma\",\"rundu\",\"carutapera\",\"port-de-bouc\",\"nanortalik\",\"dzaoudzi\",\"aktau\",\"lorengau\",\"pachino\",\"cabedelo\",\"denpasar\",\"ipixuna\",\"broome\",\"tilichiki\",\"lakki marwat\",\"veinticinco de mayo\",\"avdon\",\"katobu\",\"merauke\",\"yangliuqing\",\"tieling\",\"togur\",\"thinadhoo\",\"terra santa\",\"colares\",\"havoysund\",\"ostrovnoy\",\"alofi\",\"samandag\",\"san joaquin\",\"treinta y tres\",\"nazareno\",\"tessalit\",\"yaan\",\"ixtapa\",\"dong hoi\",\"harindanga\",\"pontypool\",\"ulladulla\",\"la paz\",\"hualmay\",\"barroso\",\"vryburg\",\"beira\",\"the valley\",\"narsaq\",\"juegang\",\"verkhniy avzyan\",\"araouane\",\"kirakira\",\"tautira\",\"singkang\",\"taitung\",\"nabire\",\"chifeng\",\"caiaponia\",\"salto\",\"praya\",\"aksarka\",\"abu zabad\",\"kushima\",\"beaune\",\"egvekinot\",\"greenville\",\"ust-ordynskiy\",\"tranas\",\"pleasanton\",\"beringovskiy\",\"newcastleton\",\"hirado\",\"brokopondo\",\"batagay\",\"laurel\",\"statesville\",\"tikrit\",\"iisalmi\",\"lahij\",\"derzhavinsk\",\"kyren\",\"kapit\",\"altay\",\"waseca\",\"nantucket\",\"cadillac\",\"sfantu gheorghe\",\"kundiawa\",\"gornopravdinsk\",\"bhandara\",\"wadi musa\",\"charters towers\",\"ustka\",\"sawakin\",\"severo-kurilsk\",\"rameswaram\",\"guerrero negro\",\"bandarbeyla\",\"antofagasta\",\"vila franca do campo\",\"bauta\",\"nsanje\",\"xuchang\",\"todos santos\",\"bataipora\",\"tateyama\",\"wajima\",\"pokosnoye\",\"waipawa\",\"yaring\",\"isiro\",\"chivilcoy\",\"mandalgovi\",\"nicoya\",\"novocheremshansk\",\"emirdag\",\"nouadhibou\",\"tongliao\",\"ryomgard\",\"khudumelapye\",\"talcahuano\",\"gifhorn\",\"bilma\",\"vung tau\",\"byron bay\",\"kalabo\",\"arcata\",\"lemoore\",\"norfolk\",\"juba\",\"pali\",\"katsuura\",\"bambanglipuro\",\"padang\",\"freeport\",\"bulgan\",\"sorland\",\"saryg-sep\",\"batagay-alyta\",\"lompoc\",\"changli\",\"choma\",\"tena\",\"ilhabela\",\"redmond\",\"wyndham\",\"nhulunbuy\",\"sangamner\",\"road town\",\"ranong\",\"staryy nadym\",\"dargaville\",\"sovetskiy\",\"tatarsk\",\"canchungo\",\"iquique\",\"poum\"],\"palette\":[\"#1f77b3\",\"#ff7e0e\",\"#2ba02b\",\"#d62628\",\"#9367bc\",\"#8c564b\",\"#e277c1\",\"#7e7e7e\",\"#bcbc21\",\"#16bdcf\",\"#3a0182\",\"#004201\",\"#0fffa8\",\"#5d003f\",\"#bcbcff\",\"#d8afa1\",\"#b80080\",\"#004d52\",\"#6b6400\",\"#7c0100\",\"#6026ff\",\"#ffff9a\",\"#564964\",\"#8cb893\",\"#93fbff\",\"#018267\",\"#90ff00\",\"#8200a0\",\"#ac8944\",\"#5b3400\",\"#ffbff2\",\"#ff6e75\",\"#798cff\",\"#dd00ff\",\"#505646\",\"#004489\",\"#ffbf60\",\"#ff018c\",\"#bdc8cf\",\"#af97b5\",\"#b65600\",\"#017000\",\"#cd87ff\",\"#1cd646\",\"#bfebc3\",\"#7997b5\",\"#a56089\",\"#6e8956\",\"#bc7c75\",\"#8a2844\",\"#00acff\",\"#8ed4ff\",\"#4b6d77\",\"#00d4b1\",\"#9300f2\",\"#8a9500\",\"#5d5b9e\",\"#fddfba\",\"#00939e\",\"#ffdb00\",\"#00aa79\",\"#520067\",\"#000091\",\"#0a5d3d\",\"#a5e275\",\"#623b41\",\"#c6c689\",\"#ff9eb5\",\"#cd4f6b\",\"#ff07d6\",\"#8a3a05\",\"#7e3d70\",\"#ff4901\",\"#602ba5\",\"#1c00ff\",\"#e6dfff\",\"#aa3baf\",\"#d89c00\",\"#a3a39e\",\"#3f69ff\",\"#46490c\",\"#7b6985\",\"#6b978c\",\"#ff9a75\",\"#835bff\",\"#7c6b46\",\"#80b654\",\"#bc0049\",\"#fd93ff\",\"#5d0018\",\"#89d1d1\",\"#9c8cd3\",\"#da6d42\",\"#8a5700\",\"#3b5069\",\"#4b6b3b\",\"#edcfd8\",\"#cfedff\",\"#aa1500\",\"#dfff4f\",\"#ff2a56\",\"#d1499e\",\"#707cb8\",\"#598000\",\"#00e4fd\",\"#774b95\",\"#67d48c\",\"#3d3a72\",\"#ac413f\",\"#d6a166\",\"#c169cd\",\"#69595d\",\"#87aced\",\"#a0a569\",\"#d1aae6\",\"#870062\",\"#00fddb\",\"#672818\",\"#b342ff\",\"#0e59c4\",\"#168742\",\"#90d300\",\"#cd7900\",\"#f959ff\",\"#5b7466\",\"#8eaeb3\",\"#9c7c8c\",\"#4600c6\",\"#6b4d2d\",\"#a56d46\",\"#9e8972\",\"#a8afca\",\"#cd8ca7\",\"#00fd64\",\"#917900\",\"#ff62a1\",\"#f4ffd8\",\"#018cf0\",\"#13aca0\",\"#5b2d59\",\"#89859e\",\"#cfccba\",\"#d4afc4\",\"#dbdd6d\",\"#cffff4\",\"#006485\",\"#006962\",\"#a84167\",\"#2d97c4\",\"#a874ff\",\"#26ba5d\",\"#57b600\",\"#caffa7\",\"#a379aa\",\"#ffbc93\",\"#89e2c1\",\"#0fc8ff\",\"#d400c4\",\"#626d89\",\"#69858e\",\"#4b4d52\",\"#aa6067\",\"#79b5d4\",\"#2b5916\",\"#9a0024\",\"#bdd1f2\",\"#896e67\",\"#69a56b\",\"#855467\",\"#aecdba\",\"#87997e\",\"#cadb00\",\"#9a0390\",\"#ebbc1a\",\"#eb9cd1\",\"#70006e\",\"#b1a131\",\"#ca6b93\",\"#4146a3\",\"#e48c89\",\"#d44400\",\"#c68aca\",\"#b69597\",\"#d41f75\",\"#724bcc\",\"#674d00\",\"#672138\",\"#38564f\",\"#6ebaaa\",\"#853a31\",\"#a5d397\",\"#b8af8e\",\"#d8e4df\",\"#aa00df\",\"#cac1db\",\"#ffdf8c\",\"#e2524d\",\"#66696e\",\"#ff001c\",\"#522d72\",\"#4d906b\",\"#a86d11\",\"#ff9e26\",\"#5ea3af\",\"#c88556\",\"#915997\",\"#a3a1ff\",\"#fdbaba\",\"#242a87\",\"#dbe6a8\",\"#97f2a7\",\"#6793d6\",\"#ba5b3f\",\"#3a5d91\",\"#364f2f\",\"#267c95\",\"#89959a\",\"#cfb356\",\"#004664\",\"#5e5d2f\",\"#8e8e41\",\"#ac3f13\",\"#69953b\",\"#a13d85\",\"#bfb6ba\",\"#acc667\",\"#6469cf\",\"#91af00\",\"#2be2da\",\"#016e36\",\"#ff7952\",\"#42807e\",\"#4fe800\",\"#995428\",\"#5d0a00\",\"#a30057\",\"#0c8700\",\"#5982a7\",\"#ffebfb\",\"#4b6901\",\"#8775d4\",\"#e6c6ff\",\"#a5ffda\",\"#d86e77\",\"#df014b\",\"#69675b\",\"#776ba1\",\"#7e8067\",\"#594685\",\"#0000ca\",\"#7c002a\",\"#97ff72\",\"#b5e2e1\",\"#db52c8\",\"#777734\",\"#57bd8e\",\"#1f77b3\",\"#ff7e0e\",\"#2ba02b\",\"#d62628\",\"#9367bc\",\"#8c564b\",\"#e277c1\",\"#7e7e7e\",\"#bcbc21\",\"#16bdcf\",\"#3a0182\",\"#004201\",\"#0fffa8\",\"#5d003f\",\"#bcbcff\",\"#d8afa1\",\"#b80080\",\"#004d52\",\"#6b6400\",\"#7c0100\",\"#6026ff\",\"#ffff9a\",\"#564964\",\"#8cb893\",\"#93fbff\",\"#018267\",\"#90ff00\",\"#8200a0\",\"#ac8944\",\"#5b3400\",\"#ffbff2\",\"#ff6e75\",\"#798cff\",\"#dd00ff\",\"#505646\",\"#004489\",\"#ffbf60\",\"#ff018c\",\"#bdc8cf\",\"#af97b5\",\"#b65600\",\"#017000\",\"#cd87ff\",\"#1cd646\",\"#bfebc3\",\"#7997b5\",\"#a56089\",\"#6e8956\",\"#bc7c75\",\"#8a2844\",\"#00acff\",\"#8ed4ff\",\"#4b6d77\",\"#00d4b1\",\"#9300f2\",\"#8a9500\",\"#5d5b9e\",\"#fddfba\",\"#00939e\",\"#ffdb00\",\"#00aa79\",\"#520067\",\"#000091\",\"#0a5d3d\",\"#a5e275\",\"#623b41\",\"#c6c689\",\"#ff9eb5\",\"#cd4f6b\",\"#ff07d6\",\"#8a3a05\",\"#7e3d70\",\"#ff4901\",\"#602ba5\",\"#1c00ff\",\"#e6dfff\",\"#aa3baf\",\"#d89c00\",\"#a3a39e\",\"#3f69ff\",\"#46490c\",\"#7b6985\",\"#6b978c\",\"#ff9a75\",\"#835bff\",\"#7c6b46\",\"#80b654\",\"#bc0049\",\"#fd93ff\",\"#5d0018\",\"#89d1d1\",\"#9c8cd3\",\"#da6d42\",\"#8a5700\",\"#3b5069\",\"#4b6b3b\",\"#edcfd8\",\"#cfedff\",\"#aa1500\",\"#dfff4f\",\"#ff2a56\",\"#d1499e\",\"#707cb8\",\"#598000\",\"#00e4fd\",\"#774b95\",\"#67d48c\",\"#3d3a72\",\"#ac413f\",\"#d6a166\",\"#c169cd\",\"#69595d\",\"#87aced\",\"#a0a569\",\"#d1aae6\",\"#870062\",\"#00fddb\",\"#672818\",\"#b342ff\",\"#0e59c4\",\"#168742\",\"#90d300\",\"#cd7900\",\"#f959ff\",\"#5b7466\",\"#8eaeb3\",\"#9c7c8c\",\"#4600c6\",\"#6b4d2d\",\"#a56d46\",\"#9e8972\",\"#a8afca\",\"#cd8ca7\",\"#00fd64\",\"#917900\",\"#ff62a1\",\"#f4ffd8\",\"#018cf0\",\"#13aca0\",\"#5b2d59\",\"#89859e\",\"#cfccba\",\"#d4afc4\",\"#dbdd6d\",\"#cffff4\",\"#006485\",\"#006962\",\"#a84167\",\"#2d97c4\",\"#a874ff\",\"#26ba5d\",\"#57b600\",\"#caffa7\",\"#a379aa\",\"#ffbc93\",\"#89e2c1\",\"#0fc8ff\",\"#d400c4\",\"#626d89\",\"#69858e\",\"#4b4d52\",\"#aa6067\",\"#79b5d4\",\"#2b5916\",\"#9a0024\",\"#bdd1f2\",\"#896e67\",\"#69a56b\",\"#855467\",\"#aecdba\",\"#87997e\",\"#cadb00\",\"#9a0390\",\"#ebbc1a\",\"#eb9cd1\",\"#70006e\",\"#b1a131\",\"#ca6b93\",\"#4146a3\",\"#e48c89\",\"#d44400\",\"#c68aca\",\"#b69597\",\"#d41f75\",\"#724bcc\",\"#674d00\",\"#672138\",\"#38564f\",\"#6ebaaa\",\"#853a31\",\"#a5d397\",\"#b8af8e\",\"#d8e4df\",\"#aa00df\",\"#cac1db\",\"#ffdf8c\",\"#e2524d\",\"#66696e\",\"#ff001c\",\"#522d72\",\"#4d906b\",\"#a86d11\",\"#ff9e26\",\"#5ea3af\",\"#c88556\",\"#915997\",\"#a3a1ff\",\"#fdbaba\",\"#242a87\",\"#dbe6a8\",\"#97f2a7\",\"#6793d6\",\"#ba5b3f\",\"#3a5d91\",\"#364f2f\",\"#267c95\",\"#89959a\",\"#cfb356\",\"#004664\",\"#5e5d2f\",\"#8e8e41\",\"#ac3f13\",\"#69953b\",\"#a13d85\",\"#bfb6ba\",\"#acc667\",\"#6469cf\",\"#91af00\",\"#2be2da\",\"#016e36\",\"#ff7952\",\"#42807e\",\"#4fe800\",\"#995428\",\"#5d0a00\",\"#a30057\",\"#0c8700\",\"#5982a7\",\"#ffebfb\",\"#4b6901\",\"#8775d4\",\"#e6c6ff\",\"#a5ffda\",\"#d86e77\",\"#df014b\",\"#69675b\",\"#776ba1\",\"#7e8067\",\"#594685\",\"#0000ca\",\"#7c002a\",\"#97ff72\",\"#b5e2e1\",\"#db52c8\",\"#777734\",\"#57bd8e\",\"#1f77b3\",\"#ff7e0e\",\"#2ba02b\",\"#d62628\",\"#9367bc\",\"#8c564b\",\"#e277c1\",\"#7e7e7e\",\"#bcbc21\",\"#16bdcf\",\"#3a0182\",\"#004201\",\"#0fffa8\",\"#5d003f\",\"#bcbcff\",\"#d8afa1\",\"#b80080\",\"#004d52\",\"#6b6400\",\"#7c0100\",\"#6026ff\",\"#ffff9a\",\"#564964\",\"#8cb893\",\"#93fbff\",\"#018267\",\"#90ff00\",\"#8200a0\",\"#ac8944\",\"#5b3400\",\"#ffbff2\",\"#ff6e75\",\"#798cff\",\"#dd00ff\",\"#505646\",\"#004489\",\"#ffbf60\",\"#ff018c\",\"#bdc8cf\",\"#af97b5\",\"#b65600\",\"#017000\",\"#cd87ff\",\"#1cd646\",\"#bfebc3\",\"#7997b5\",\"#a56089\",\"#6e8956\",\"#bc7c75\",\"#8a2844\",\"#00acff\",\"#8ed4ff\",\"#4b6d77\",\"#00d4b1\",\"#9300f2\",\"#8a9500\",\"#5d5b9e\",\"#fddfba\",\"#00939e\",\"#ffdb00\",\"#00aa79\",\"#520067\",\"#000091\",\"#0a5d3d\",\"#a5e275\"]},\"id\":\"1080\",\"type\":\"CategoricalColorMapper\"},{\"attributes\":{\"code\":\"\\n        var projections = Bokeh.require(\\\"core/util/projections\\\");\\n        var x = special_vars.data_x\\n        var y = special_vars.data_y\\n        if (projections.wgs84_mercator.invert == null) {\\n          var coords = projections.wgs84_mercator.inverse([x, y])\\n        } else {\\n          var coords = projections.wgs84_mercator.invert(x, y)\\n        }\\n        return \\\"\\\" + (coords[0]).toFixed(4)\\n    \"},\"id\":\"1099\",\"type\":\"CustomJSHover\"},{\"attributes\":{\"axis_label\":\"x\",\"coordinates\":null,\"formatter\":{\"id\":\"1050\"},\"group\":null,\"major_label_policy\":{\"id\":\"1055\"},\"ticker\":{\"id\":\"1049\"}},\"id\":\"1026\",\"type\":\"LinearAxis\"},{\"attributes\":{\"end\":22811885.717925165,\"min_interval\":5,\"reset_end\":22811885.717925165,\"reset_start\":-22795187.794306178,\"start\":-22795187.794306178,\"tags\":[[[\"Lng\",\"Lng\",null]]]},\"id\":\"1010\",\"type\":\"Range1d\"},{\"attributes\":{\"end\":19870062.0596803,\"min_interval\":5,\"reset_end\":19870062.0596803,\"reset_start\":-12706419.020484949,\"start\":-12706419.020484949,\"tags\":[[[\"Lat\",\"Lat\",null]]]},\"id\":\"1011\",\"type\":\"Range1d\"},{\"attributes\":{\"attribution\":\"&copy; <a href=\\\"https://www.openstreetmap.org/copyright\\\">OpenStreetMap</a> contributors\",\"url\":\"https://c.tile.openstreetmap.org/{Z}/{X}/{Y}.png\"},\"id\":\"1075\",\"type\":\"WMTSTileSource\"},{\"attributes\":{\"code\":\"\\n        var projections = Bokeh.require(\\\"core/util/projections\\\");\\n        var x = special_vars.data_x\\n        var y = special_vars.data_y\\n        if (projections.wgs84_mercator.invert == null) {\\n          var coords = projections.wgs84_mercator.inverse([x, y])\\n        } else {\\n          var coords = projections.wgs84_mercator.invert(x, y)\\n        }\\n        return \\\"\\\" + (coords[1]).toFixed(4)\\n    \"},\"id\":\"1100\",\"type\":\"CustomJSHover\"},{\"attributes\":{\"margin\":[5,5,5,5],\"name\":\"HSpacer01550\",\"sizing_mode\":\"stretch_width\"},\"id\":\"1005\",\"type\":\"Spacer\"},{\"attributes\":{\"coordinates\":null,\"group\":null,\"level\":\"glyph\",\"tile_source\":{\"id\":\"1075\"}},\"id\":\"1078\",\"type\":\"TileRenderer\"},{\"attributes\":{\"fill_alpha\":{\"value\":0.5},\"fill_color\":{\"field\":\"color\",\"transform\":{\"id\":\"1080\"}},\"hatch_alpha\":{\"value\":0.5},\"hatch_color\":{\"field\":\"color\",\"transform\":{\"id\":\"1080\"}},\"line_alpha\":{\"value\":0.5},\"line_color\":{\"field\":\"color\",\"transform\":{\"id\":\"1080\"}},\"size\":{\"field\":\"size\"},\"x\":{\"field\":\"Lng\"},\"y\":{\"field\":\"Lat\"}},\"id\":\"1084\",\"type\":\"Scatter\"},{\"attributes\":{\"label\":{\"field\":\"color\"},\"renderers\":[{\"id\":\"1089\"}]},\"id\":\"1098\",\"type\":\"LegendItem\"},{\"attributes\":{\"click_policy\":\"mute\",\"coordinates\":null,\"group\":null,\"items\":[{\"id\":\"1098\"}],\"location\":[0,0]},\"id\":\"1097\",\"type\":\"Legend\"},{\"attributes\":{\"coordinates\":null,\"group\":null,\"text_color\":\"black\",\"text_font_size\":\"12pt\"},\"id\":\"1018\",\"type\":\"Title\"},{\"attributes\":{\"axis\":{\"id\":\"1026\"},\"coordinates\":null,\"grid_line_color\":null,\"group\":null,\"ticker\":null},\"id\":\"1029\",\"type\":\"Grid\"},{\"attributes\":{\"source\":{\"id\":\"1081\"}},\"id\":\"1090\",\"type\":\"CDSView\"},{\"attributes\":{\"fill_alpha\":{\"value\":0.5},\"fill_color\":{\"field\":\"color\",\"transform\":{\"id\":\"1080\"}},\"hatch_alpha\":{\"value\":0.5},\"hatch_color\":{\"field\":\"color\",\"transform\":{\"id\":\"1080\"}},\"line_alpha\":{\"value\":0.5},\"line_color\":{\"field\":\"color\",\"transform\":{\"id\":\"1080\"}},\"size\":{\"field\":\"size\"},\"x\":{\"field\":\"Lng\"},\"y\":{\"field\":\"Lat\"}},\"id\":\"1086\",\"type\":\"Scatter\"},{\"attributes\":{\"axis_label\":\"y\",\"coordinates\":null,\"formatter\":{\"id\":\"1052\"},\"group\":null,\"major_label_policy\":{\"id\":\"1062\"},\"ticker\":{\"id\":\"1051\"}},\"id\":\"1030\",\"type\":\"LinearAxis\"},{\"attributes\":{\"tools\":[{\"id\":\"1014\"},{\"id\":\"1034\"},{\"id\":\"1035\"},{\"id\":\"1036\"},{\"id\":\"1037\"},{\"id\":\"1038\"}]},\"id\":\"1040\",\"type\":\"Toolbar\"},{\"attributes\":{},\"id\":\"1055\",\"type\":\"AllLabels\"}],\"root_ids\":[\"1004\"]},\"title\":\"Bokeh Application\",\"version\":\"2.4.3\"}};\n",
       "    var render_items = [{\"docid\":\"f18eafcd-c088-4673-bd52-7b001861126d\",\"root_ids\":[\"1004\"],\"roots\":{\"1004\":\"c0b45dd8-c826-4432-8b47-4a3c5c55c78f\"}}];\n",
       "    root.Bokeh.embed.embed_items_notebook(docs_json, render_items);\n",
       "    for (const render_item of render_items) {\n",
       "      for (const root_id of render_item.root_ids) {\n",
       "\tconst id_el = document.getElementById(root_id)\n",
       "\tif (id_el.children.length && (id_el.children[0].className === 'bk-root')) {\n",
       "\t  const root_el = id_el.children[0]\n",
       "\t  root_el.id = root_el.id + '-rendered'\n",
       "\t}\n",
       "      }\n",
       "    }\n",
       "  }\n",
       "  if (root.Bokeh !== undefined && root.Bokeh.Panel !== undefined) {\n",
       "    embed_document(root);\n",
       "  } else {\n",
       "    var attempts = 0;\n",
       "    var timer = setInterval(function(root) {\n",
       "      if (root.Bokeh !== undefined && root.Bokeh.Panel !== undefined) {\n",
       "        clearInterval(timer);\n",
       "        embed_document(root);\n",
       "      } else if (document.readyState == \"complete\") {\n",
       "        attempts++;\n",
       "        if (attempts > 200) {\n",
       "          clearInterval(timer);\n",
       "          console.log(\"Bokeh: ERROR: Unable to run BokehJS code because BokehJS library is missing\");\n",
       "        }\n",
       "      }\n",
       "    }, 25, root)\n",
       "  }\n",
       "})(window);</script>"
      ],
      "text/plain": [
       ":Overlay\n",
       "   .Tiles.I  :Tiles   [x,y]\n",
       "   .Points.I :Points   [Lng,Lat]   (City,Humidity)"
      ]
     },
     "execution_count": 3,
     "metadata": {
      "application/vnd.holoviews_exec.v0+json": {
       "id": "1004"
      }
     },
     "output_type": "execute_result"
    }
   ],
   "source": [
    "%%capture --no-display\n",
    "\n",
    "# Configure the map plot\n",
    "# YOUR CODE HERE\n",
    "\n",
    "# Display the map\n",
    "# YOUR CODE HERE"
   ]
  },
  {
   "cell_type": "code",
   "execution_count": 7,
   "metadata": {},
   "outputs": [
    {
     "data": {
      "image/png": "[encoded data removed]",
      "text/plain": [
       "<Figure size 1000x600 with 2 Axes>"
      ]
     },
     "metadata": {},
     "output_type": "display_data"
    }
   ],
   "source": [
    "import matplotlib.pyplot as plt\n",
    "\n",
    "# Configure the size of the figure\n",
    "plt.figure(figsize=(10, 6))\n",
    "\n",
    "# Scatter plot the cities with humidity as point size\n",
    "plt.scatter(city_data_df['Lng'], city_data_df['Lat'], c=city_data_df['Humidity'], s=city_data_df['Humidity'], cmap='coolwarm', alpha=0.7)\n",
    "\n",
    "# Set labels and title\n",
    "plt.xlabel('Longitude')\n",
    "plt.ylabel('Latitude')\n",
    "plt.title('City Humidity')\n",
    "\n",
    "# Add a colorbar to indicate humidity levels\n",
    "cbar = plt.colorbar()\n",
    "cbar.set_label('Humidity')\n",
    "\n",
    "# Show the plot\n",
    "plt.show()\n",
    "\n"
   ]
  },
  {
   "cell_type": "markdown",
   "metadata": {},
   "source": [
    "### Step 2: Narrow down the `city_data_df` DataFrame to find your ideal weather condition"
   ]
  },
  {
   "cell_type": "code",
   "execution_count": 4,
   "metadata": {},
   "outputs": [
    {
     "data": {
      "text/html": [
       "<div>\n",
       "<style scoped>\n",
       "    .dataframe tbody tr th:only-of-type {\n",
       "        vertical-align: middle;\n",
       "    }\n",
       "\n",
       "    .dataframe tbody tr th {\n",
       "        vertical-align: top;\n",
       "    }\n",
       "\n",
       "    .dataframe thead th {\n",
       "        text-align: right;\n",
       "    }\n",
       "</style>\n",
       "<table border=\"1\" class=\"dataframe\">\n",
       "  <thead>\n",
       "    <tr style=\"text-align: right;\">\n",
       "      <th></th>\n",
       "      <th>City_ID</th>\n",
       "      <th>City</th>\n",
       "      <th>Lat</th>\n",
       "      <th>Lng</th>\n",
       "      <th>Max Temp</th>\n",
       "      <th>Humidity</th>\n",
       "      <th>Cloudiness</th>\n",
       "      <th>Wind Speed</th>\n",
       "      <th>Country</th>\n",
       "      <th>Date</th>\n",
       "    </tr>\n",
       "  </thead>\n",
       "  <tbody>\n",
       "    <tr>\n",
       "      <th>45</th>\n",
       "      <td>45</td>\n",
       "      <td>kapaa</td>\n",
       "      <td>22.0752</td>\n",
       "      <td>-159.3190</td>\n",
       "      <td>22.99</td>\n",
       "      <td>84</td>\n",
       "      <td>0</td>\n",
       "      <td>3.60</td>\n",
       "      <td>US</td>\n",
       "      <td>1666108257</td>\n",
       "    </tr>\n",
       "    <tr>\n",
       "      <th>51</th>\n",
       "      <td>51</td>\n",
       "      <td>hilo</td>\n",
       "      <td>19.7297</td>\n",
       "      <td>-155.0900</td>\n",
       "      <td>26.27</td>\n",
       "      <td>83</td>\n",
       "      <td>0</td>\n",
       "      <td>2.57</td>\n",
       "      <td>US</td>\n",
       "      <td>1666108260</td>\n",
       "    </tr>\n",
       "    <tr>\n",
       "      <th>63</th>\n",
       "      <td>63</td>\n",
       "      <td>banda</td>\n",
       "      <td>25.4833</td>\n",
       "      <td>80.3333</td>\n",
       "      <td>24.62</td>\n",
       "      <td>52</td>\n",
       "      <td>0</td>\n",
       "      <td>2.68</td>\n",
       "      <td>IN</td>\n",
       "      <td>1666108268</td>\n",
       "    </tr>\n",
       "    <tr>\n",
       "      <th>81</th>\n",
       "      <td>81</td>\n",
       "      <td>makakilo city</td>\n",
       "      <td>21.3469</td>\n",
       "      <td>-158.0858</td>\n",
       "      <td>21.66</td>\n",
       "      <td>81</td>\n",
       "      <td>0</td>\n",
       "      <td>2.57</td>\n",
       "      <td>US</td>\n",
       "      <td>1666108282</td>\n",
       "    </tr>\n",
       "    <tr>\n",
       "      <th>152</th>\n",
       "      <td>152</td>\n",
       "      <td>kahului</td>\n",
       "      <td>20.8947</td>\n",
       "      <td>-156.4700</td>\n",
       "      <td>23.80</td>\n",
       "      <td>60</td>\n",
       "      <td>0</td>\n",
       "      <td>3.09</td>\n",
       "      <td>US</td>\n",
       "      <td>1666108246</td>\n",
       "    </tr>\n",
       "    <tr>\n",
       "      <th>197</th>\n",
       "      <td>197</td>\n",
       "      <td>gat</td>\n",
       "      <td>31.6100</td>\n",
       "      <td>34.7642</td>\n",
       "      <td>24.38</td>\n",
       "      <td>100</td>\n",
       "      <td>0</td>\n",
       "      <td>3.69</td>\n",
       "      <td>IL</td>\n",
       "      <td>1666108356</td>\n",
       "    </tr>\n",
       "    <tr>\n",
       "      <th>211</th>\n",
       "      <td>211</td>\n",
       "      <td>laguna</td>\n",
       "      <td>38.4210</td>\n",
       "      <td>-121.4238</td>\n",
       "      <td>21.67</td>\n",
       "      <td>79</td>\n",
       "      <td>0</td>\n",
       "      <td>2.06</td>\n",
       "      <td>US</td>\n",
       "      <td>1666108364</td>\n",
       "    </tr>\n",
       "    <tr>\n",
       "      <th>240</th>\n",
       "      <td>240</td>\n",
       "      <td>tikaitnagar</td>\n",
       "      <td>26.9500</td>\n",
       "      <td>81.5833</td>\n",
       "      <td>23.56</td>\n",
       "      <td>59</td>\n",
       "      <td>0</td>\n",
       "      <td>0.35</td>\n",
       "      <td>IN</td>\n",
       "      <td>1666108378</td>\n",
       "    </tr>\n",
       "    <tr>\n",
       "      <th>265</th>\n",
       "      <td>265</td>\n",
       "      <td>san quintin</td>\n",
       "      <td>30.4833</td>\n",
       "      <td>-115.9500</td>\n",
       "      <td>21.20</td>\n",
       "      <td>74</td>\n",
       "      <td>0</td>\n",
       "      <td>1.37</td>\n",
       "      <td>MX</td>\n",
       "      <td>1666108394</td>\n",
       "    </tr>\n",
       "    <tr>\n",
       "      <th>340</th>\n",
       "      <td>340</td>\n",
       "      <td>santa rosalia</td>\n",
       "      <td>27.3167</td>\n",
       "      <td>-112.2833</td>\n",
       "      <td>24.62</td>\n",
       "      <td>56</td>\n",
       "      <td>0</td>\n",
       "      <td>0.74</td>\n",
       "      <td>MX</td>\n",
       "      <td>1666108436</td>\n",
       "    </tr>\n",
       "    <tr>\n",
       "      <th>363</th>\n",
       "      <td>363</td>\n",
       "      <td>narwar</td>\n",
       "      <td>25.6500</td>\n",
       "      <td>77.9000</td>\n",
       "      <td>22.35</td>\n",
       "      <td>55</td>\n",
       "      <td>0</td>\n",
       "      <td>1.29</td>\n",
       "      <td>IN</td>\n",
       "      <td>1666108449</td>\n",
       "    </tr>\n",
       "    <tr>\n",
       "      <th>375</th>\n",
       "      <td>375</td>\n",
       "      <td>port hedland</td>\n",
       "      <td>-20.3167</td>\n",
       "      <td>118.5667</td>\n",
       "      <td>21.03</td>\n",
       "      <td>73</td>\n",
       "      <td>0</td>\n",
       "      <td>3.09</td>\n",
       "      <td>AU</td>\n",
       "      <td>1666108455</td>\n",
       "    </tr>\n",
       "    <tr>\n",
       "      <th>381</th>\n",
       "      <td>381</td>\n",
       "      <td>roebourne</td>\n",
       "      <td>-20.7833</td>\n",
       "      <td>117.1333</td>\n",
       "      <td>23.48</td>\n",
       "      <td>65</td>\n",
       "      <td>0</td>\n",
       "      <td>2.95</td>\n",
       "      <td>AU</td>\n",
       "      <td>1666108458</td>\n",
       "    </tr>\n",
       "    <tr>\n",
       "      <th>391</th>\n",
       "      <td>391</td>\n",
       "      <td>saint-francois</td>\n",
       "      <td>46.4154</td>\n",
       "      <td>3.9054</td>\n",
       "      <td>23.69</td>\n",
       "      <td>57</td>\n",
       "      <td>0</td>\n",
       "      <td>4.12</td>\n",
       "      <td>FR</td>\n",
       "      <td>1666108465</td>\n",
       "    </tr>\n",
       "    <tr>\n",
       "      <th>409</th>\n",
       "      <td>409</td>\n",
       "      <td>capoterra</td>\n",
       "      <td>39.1763</td>\n",
       "      <td>8.9718</td>\n",
       "      <td>24.84</td>\n",
       "      <td>71</td>\n",
       "      <td>0</td>\n",
       "      <td>3.60</td>\n",
       "      <td>IT</td>\n",
       "      <td>1666108477</td>\n",
       "    </tr>\n",
       "    <tr>\n",
       "      <th>421</th>\n",
       "      <td>421</td>\n",
       "      <td>stolac</td>\n",
       "      <td>43.0844</td>\n",
       "      <td>17.9575</td>\n",
       "      <td>24.88</td>\n",
       "      <td>68</td>\n",
       "      <td>0</td>\n",
       "      <td>0.80</td>\n",
       "      <td>BA</td>\n",
       "      <td>1666108483</td>\n",
       "    </tr>\n",
       "    <tr>\n",
       "      <th>516</th>\n",
       "      <td>516</td>\n",
       "      <td>guerrero negro</td>\n",
       "      <td>27.9769</td>\n",
       "      <td>-114.0611</td>\n",
       "      <td>23.17</td>\n",
       "      <td>68</td>\n",
       "      <td>0</td>\n",
       "      <td>0.89</td>\n",
       "      <td>MX</td>\n",
       "      <td>1666108537</td>\n",
       "    </tr>\n",
       "  </tbody>\n",
       "</table>\n",
       "</div>"
      ],
      "text/plain": [
       "     City_ID            City      Lat       Lng  Max Temp  Humidity  \\\n",
       "45        45           kapaa  22.0752 -159.3190     22.99        84   \n",
       "51        51            hilo  19.7297 -155.0900     26.27        83   \n",
       "63        63           banda  25.4833   80.3333     24.62        52   \n",
       "81        81   makakilo city  21.3469 -158.0858     21.66        81   \n",
       "152      152         kahului  20.8947 -156.4700     23.80        60   \n",
       "197      197             gat  31.6100   34.7642     24.38       100   \n",
       "211      211          laguna  38.4210 -121.4238     21.67        79   \n",
       "240      240     tikaitnagar  26.9500   81.5833     23.56        59   \n",
       "265      265     san quintin  30.4833 -115.9500     21.20        74   \n",
       "340      340   santa rosalia  27.3167 -112.2833     24.62        56   \n",
       "363      363          narwar  25.6500   77.9000     22.35        55   \n",
       "375      375    port hedland -20.3167  118.5667     21.03        73   \n",
       "381      381       roebourne -20.7833  117.1333     23.48        65   \n",
       "391      391  saint-francois  46.4154    3.9054     23.69        57   \n",
       "409      409       capoterra  39.1763    8.9718     24.84        71   \n",
       "421      421          stolac  43.0844   17.9575     24.88        68   \n",
       "516      516  guerrero negro  27.9769 -114.0611     23.17        68   \n",
       "\n",
       "     Cloudiness  Wind Speed Country        Date  \n",
       "45            0        3.60      US  1666108257  \n",
       "51            0        2.57      US  1666108260  \n",
       "63            0        2.68      IN  1666108268  \n",
       "81            0        2.57      US  1666108282  \n",
       "152           0        3.09      US  1666108246  \n",
       "197           0        3.69      IL  1666108356  \n",
       "211           0        2.06      US  1666108364  \n",
       "240           0        0.35      IN  1666108378  \n",
       "265           0        1.37      MX  1666108394  \n",
       "340           0        0.74      MX  1666108436  \n",
       "363           0        1.29      IN  1666108449  \n",
       "375           0        3.09      AU  1666108455  \n",
       "381           0        2.95      AU  1666108458  \n",
       "391           0        4.12      FR  1666108465  \n",
       "409           0        3.60      IT  1666108477  \n",
       "421           0        0.80      BA  1666108483  \n",
       "516           0        0.89      MX  1666108537  "
      ]
     },
     "execution_count": 4,
     "metadata": {},
     "output_type": "execute_result"
    }
   ],
   "source": [
    "# Narrow down cities that fit criteria and drop any results with null values\n",
    "# YOUR CODE HERE\n",
    "\n",
    "# Drop any rows with null values\n",
    "# YOUR CODE HERE\n",
    "\n",
    "# Display sample data\n",
    "# YOUR CODE HERE"
   ]
  },
  {
   "cell_type": "code",
   "execution_count": 13,
   "metadata": {},
   "outputs": [
    {
     "name": "stderr",
     "output_type": "stream",
     "text": [
      "/var/folders/xn/p3zc10j52x39w1nb1bggp80w0000gn/T/ipykernel_33246/2326434243.py:10: SettingWithCopyWarning: \n",
      "A value is trying to be set on a copy of a slice from a DataFrame\n",
      "\n",
      "See the caveats in the documentation: https://pandas.pydata.org/pandas-docs/stable/user_guide/indexing.html#returning-a-view-versus-a-copy\n",
      "  filtered_cities_df.dropna(inplace=True)\n"
     ]
    },
    {
     "data": {
      "text/html": [
       "<div>\n",
       "<style scoped>\n",
       "    .dataframe tbody tr th:only-of-type {\n",
       "        vertical-align: middle;\n",
       "    }\n",
       "\n",
       "    .dataframe tbody tr th {\n",
       "        vertical-align: top;\n",
       "    }\n",
       "\n",
       "    .dataframe thead th {\n",
       "        text-align: right;\n",
       "    }\n",
       "</style>\n",
       "<table border=\"1\" class=\"dataframe\">\n",
       "  <thead>\n",
       "    <tr style=\"text-align: right;\">\n",
       "      <th></th>\n",
       "      <th>City_ID</th>\n",
       "      <th>City</th>\n",
       "      <th>Lat</th>\n",
       "      <th>Lng</th>\n",
       "      <th>Max Temp</th>\n",
       "      <th>Humidity</th>\n",
       "      <th>Cloudiness</th>\n",
       "      <th>Wind Speed</th>\n",
       "      <th>Country</th>\n",
       "      <th>Date</th>\n",
       "    </tr>\n",
       "  </thead>\n",
       "  <tbody>\n",
       "    <tr>\n",
       "      <th>4</th>\n",
       "      <td>4</td>\n",
       "      <td>lanzhou</td>\n",
       "      <td>36.0564</td>\n",
       "      <td>103.7922</td>\n",
       "      <td>14.53</td>\n",
       "      <td>48</td>\n",
       "      <td>59</td>\n",
       "      <td>1.20</td>\n",
       "      <td>CN</td>\n",
       "      <td>1666108230</td>\n",
       "    </tr>\n",
       "    <tr>\n",
       "      <th>30</th>\n",
       "      <td>30</td>\n",
       "      <td>midwest city</td>\n",
       "      <td>35.4495</td>\n",
       "      <td>-97.3967</td>\n",
       "      <td>9.12</td>\n",
       "      <td>33</td>\n",
       "      <td>75</td>\n",
       "      <td>6.17</td>\n",
       "      <td>US</td>\n",
       "      <td>1666108247</td>\n",
       "    </tr>\n",
       "    <tr>\n",
       "      <th>36</th>\n",
       "      <td>36</td>\n",
       "      <td>drochia</td>\n",
       "      <td>48.0350</td>\n",
       "      <td>27.8161</td>\n",
       "      <td>13.39</td>\n",
       "      <td>30</td>\n",
       "      <td>73</td>\n",
       "      <td>3.46</td>\n",
       "      <td>MD</td>\n",
       "      <td>1666108253</td>\n",
       "    </tr>\n",
       "    <tr>\n",
       "      <th>44</th>\n",
       "      <td>44</td>\n",
       "      <td>collierville</td>\n",
       "      <td>35.0420</td>\n",
       "      <td>-89.6645</td>\n",
       "      <td>7.11</td>\n",
       "      <td>47</td>\n",
       "      <td>0</td>\n",
       "      <td>5.66</td>\n",
       "      <td>US</td>\n",
       "      <td>1666108151</td>\n",
       "    </tr>\n",
       "    <tr>\n",
       "      <th>90</th>\n",
       "      <td>90</td>\n",
       "      <td>saint george</td>\n",
       "      <td>37.1041</td>\n",
       "      <td>-113.5841</td>\n",
       "      <td>13.33</td>\n",
       "      <td>44</td>\n",
       "      <td>0</td>\n",
       "      <td>1.54</td>\n",
       "      <td>US</td>\n",
       "      <td>1666108286</td>\n",
       "    </tr>\n",
       "    <tr>\n",
       "      <th>92</th>\n",
       "      <td>92</td>\n",
       "      <td>arman</td>\n",
       "      <td>59.7000</td>\n",
       "      <td>150.1667</td>\n",
       "      <td>-4.99</td>\n",
       "      <td>49</td>\n",
       "      <td>100</td>\n",
       "      <td>4.64</td>\n",
       "      <td>RU</td>\n",
       "      <td>1666108290</td>\n",
       "    </tr>\n",
       "    <tr>\n",
       "      <th>96</th>\n",
       "      <td>96</td>\n",
       "      <td>zhangye</td>\n",
       "      <td>38.9342</td>\n",
       "      <td>100.4517</td>\n",
       "      <td>11.11</td>\n",
       "      <td>16</td>\n",
       "      <td>0</td>\n",
       "      <td>1.67</td>\n",
       "      <td>CN</td>\n",
       "      <td>1666108292</td>\n",
       "    </tr>\n",
       "    <tr>\n",
       "      <th>101</th>\n",
       "      <td>101</td>\n",
       "      <td>heihe</td>\n",
       "      <td>50.2441</td>\n",
       "      <td>127.4902</td>\n",
       "      <td>2.32</td>\n",
       "      <td>49</td>\n",
       "      <td>3</td>\n",
       "      <td>3.14</td>\n",
       "      <td>CN</td>\n",
       "      <td>1666108295</td>\n",
       "    </tr>\n",
       "    <tr>\n",
       "      <th>114</th>\n",
       "      <td>114</td>\n",
       "      <td>yidu</td>\n",
       "      <td>24.1614</td>\n",
       "      <td>115.1328</td>\n",
       "      <td>19.73</td>\n",
       "      <td>27</td>\n",
       "      <td>99</td>\n",
       "      <td>2.78</td>\n",
       "      <td>CN</td>\n",
       "      <td>1666108303</td>\n",
       "    </tr>\n",
       "    <tr>\n",
       "      <th>115</th>\n",
       "      <td>115</td>\n",
       "      <td>cedar city</td>\n",
       "      <td>37.6775</td>\n",
       "      <td>-113.0619</td>\n",
       "      <td>14.11</td>\n",
       "      <td>49</td>\n",
       "      <td>0</td>\n",
       "      <td>0.00</td>\n",
       "      <td>US</td>\n",
       "      <td>1666108304</td>\n",
       "    </tr>\n",
       "    <tr>\n",
       "      <th>134</th>\n",
       "      <td>134</td>\n",
       "      <td>baruun-urt</td>\n",
       "      <td>46.6806</td>\n",
       "      <td>113.2792</td>\n",
       "      <td>2.25</td>\n",
       "      <td>22</td>\n",
       "      <td>95</td>\n",
       "      <td>4.99</td>\n",
       "      <td>MN</td>\n",
       "      <td>1666108315</td>\n",
       "    </tr>\n",
       "    <tr>\n",
       "      <th>141</th>\n",
       "      <td>141</td>\n",
       "      <td>brenham</td>\n",
       "      <td>30.1669</td>\n",
       "      <td>-96.3977</td>\n",
       "      <td>14.47</td>\n",
       "      <td>40</td>\n",
       "      <td>0</td>\n",
       "      <td>3.09</td>\n",
       "      <td>US</td>\n",
       "      <td>1666108319</td>\n",
       "    </tr>\n",
       "    <tr>\n",
       "      <th>158</th>\n",
       "      <td>158</td>\n",
       "      <td>almaznyy</td>\n",
       "      <td>48.0448</td>\n",
       "      <td>40.0450</td>\n",
       "      <td>10.39</td>\n",
       "      <td>47</td>\n",
       "      <td>15</td>\n",
       "      <td>3.44</td>\n",
       "      <td>RU</td>\n",
       "      <td>1666108332</td>\n",
       "    </tr>\n",
       "    <tr>\n",
       "      <th>174</th>\n",
       "      <td>174</td>\n",
       "      <td>avera</td>\n",
       "      <td>33.1940</td>\n",
       "      <td>-82.5271</td>\n",
       "      <td>12.53</td>\n",
       "      <td>26</td>\n",
       "      <td>0</td>\n",
       "      <td>4.90</td>\n",
       "      <td>US</td>\n",
       "      <td>1666108342</td>\n",
       "    </tr>\n",
       "    <tr>\n",
       "      <th>176</th>\n",
       "      <td>176</td>\n",
       "      <td>challapata</td>\n",
       "      <td>-18.9000</td>\n",
       "      <td>-66.7667</td>\n",
       "      <td>14.15</td>\n",
       "      <td>30</td>\n",
       "      <td>0</td>\n",
       "      <td>5.26</td>\n",
       "      <td>BO</td>\n",
       "      <td>1666108343</td>\n",
       "    </tr>\n",
       "    <tr>\n",
       "      <th>178</th>\n",
       "      <td>178</td>\n",
       "      <td>neepawa</td>\n",
       "      <td>50.2289</td>\n",
       "      <td>-99.4664</td>\n",
       "      <td>-1.78</td>\n",
       "      <td>27</td>\n",
       "      <td>32</td>\n",
       "      <td>4.19</td>\n",
       "      <td>CA</td>\n",
       "      <td>1666108344</td>\n",
       "    </tr>\n",
       "    <tr>\n",
       "      <th>181</th>\n",
       "      <td>181</td>\n",
       "      <td>hovd</td>\n",
       "      <td>48.0056</td>\n",
       "      <td>91.6419</td>\n",
       "      <td>7.16</td>\n",
       "      <td>39</td>\n",
       "      <td>100</td>\n",
       "      <td>3.39</td>\n",
       "      <td>MN</td>\n",
       "      <td>1666108346</td>\n",
       "    </tr>\n",
       "    <tr>\n",
       "      <th>199</th>\n",
       "      <td>199</td>\n",
       "      <td>asau</td>\n",
       "      <td>46.4333</td>\n",
       "      <td>26.4000</td>\n",
       "      <td>13.51</td>\n",
       "      <td>48</td>\n",
       "      <td>47</td>\n",
       "      <td>2.08</td>\n",
       "      <td>RO</td>\n",
       "      <td>1666108357</td>\n",
       "    </tr>\n",
       "    <tr>\n",
       "      <th>228</th>\n",
       "      <td>228</td>\n",
       "      <td>san patricio</td>\n",
       "      <td>28.0170</td>\n",
       "      <td>-97.5169</td>\n",
       "      <td>15.92</td>\n",
       "      <td>43</td>\n",
       "      <td>99</td>\n",
       "      <td>7.82</td>\n",
       "      <td>US</td>\n",
       "      <td>1666108372</td>\n",
       "    </tr>\n",
       "    <tr>\n",
       "      <th>231</th>\n",
       "      <td>231</td>\n",
       "      <td>carrollton</td>\n",
       "      <td>32.9537</td>\n",
       "      <td>-96.8903</td>\n",
       "      <td>14.63</td>\n",
       "      <td>31</td>\n",
       "      <td>0</td>\n",
       "      <td>5.66</td>\n",
       "      <td>US</td>\n",
       "      <td>1666108361</td>\n",
       "    </tr>\n",
       "    <tr>\n",
       "      <th>242</th>\n",
       "      <td>242</td>\n",
       "      <td>aksu</td>\n",
       "      <td>41.1231</td>\n",
       "      <td>80.2644</td>\n",
       "      <td>15.37</td>\n",
       "      <td>20</td>\n",
       "      <td>81</td>\n",
       "      <td>3.23</td>\n",
       "      <td>CN</td>\n",
       "      <td>1666108378</td>\n",
       "    </tr>\n",
       "    <tr>\n",
       "      <th>243</th>\n",
       "      <td>243</td>\n",
       "      <td>russkaya polyana</td>\n",
       "      <td>49.4170</td>\n",
       "      <td>31.9201</td>\n",
       "      <td>12.87</td>\n",
       "      <td>32</td>\n",
       "      <td>10</td>\n",
       "      <td>3.97</td>\n",
       "      <td>UA</td>\n",
       "      <td>1666108380</td>\n",
       "    </tr>\n",
       "    <tr>\n",
       "      <th>268</th>\n",
       "      <td>268</td>\n",
       "      <td>chengde</td>\n",
       "      <td>40.9725</td>\n",
       "      <td>117.9361</td>\n",
       "      <td>5.17</td>\n",
       "      <td>26</td>\n",
       "      <td>0</td>\n",
       "      <td>0.63</td>\n",
       "      <td>CN</td>\n",
       "      <td>1666108395</td>\n",
       "    </tr>\n",
       "    <tr>\n",
       "      <th>278</th>\n",
       "      <td>278</td>\n",
       "      <td>ola</td>\n",
       "      <td>59.5833</td>\n",
       "      <td>151.2833</td>\n",
       "      <td>-4.92</td>\n",
       "      <td>48</td>\n",
       "      <td>100</td>\n",
       "      <td>8.58</td>\n",
       "      <td>RU</td>\n",
       "      <td>1666108399</td>\n",
       "    </tr>\n",
       "    <tr>\n",
       "      <th>280</th>\n",
       "      <td>280</td>\n",
       "      <td>jiuquan</td>\n",
       "      <td>39.7432</td>\n",
       "      <td>98.5174</td>\n",
       "      <td>8.56</td>\n",
       "      <td>15</td>\n",
       "      <td>39</td>\n",
       "      <td>0.70</td>\n",
       "      <td>CN</td>\n",
       "      <td>1666108400</td>\n",
       "    </tr>\n",
       "    <tr>\n",
       "      <th>331</th>\n",
       "      <td>331</td>\n",
       "      <td>swan river</td>\n",
       "      <td>52.1058</td>\n",
       "      <td>-101.2676</td>\n",
       "      <td>0.94</td>\n",
       "      <td>40</td>\n",
       "      <td>0</td>\n",
       "      <td>2.06</td>\n",
       "      <td>CA</td>\n",
       "      <td>1666108431</td>\n",
       "    </tr>\n",
       "    <tr>\n",
       "      <th>359</th>\n",
       "      <td>359</td>\n",
       "      <td>korla</td>\n",
       "      <td>41.7597</td>\n",
       "      <td>86.1469</td>\n",
       "      <td>13.51</td>\n",
       "      <td>19</td>\n",
       "      <td>27</td>\n",
       "      <td>1.37</td>\n",
       "      <td>CN</td>\n",
       "      <td>1666108447</td>\n",
       "    </tr>\n",
       "    <tr>\n",
       "      <th>387</th>\n",
       "      <td>387</td>\n",
       "      <td>ribeira grande</td>\n",
       "      <td>38.5167</td>\n",
       "      <td>-28.7000</td>\n",
       "      <td>19.22</td>\n",
       "      <td>48</td>\n",
       "      <td>20</td>\n",
       "      <td>8.75</td>\n",
       "      <td>PT</td>\n",
       "      <td>1666108463</td>\n",
       "    </tr>\n",
       "    <tr>\n",
       "      <th>403</th>\n",
       "      <td>403</td>\n",
       "      <td>woodward</td>\n",
       "      <td>36.4337</td>\n",
       "      <td>-99.3904</td>\n",
       "      <td>5.54</td>\n",
       "      <td>42</td>\n",
       "      <td>100</td>\n",
       "      <td>3.09</td>\n",
       "      <td>US</td>\n",
       "      <td>1666108472</td>\n",
       "    </tr>\n",
       "    <tr>\n",
       "      <th>428</th>\n",
       "      <td>428</td>\n",
       "      <td>aktau</td>\n",
       "      <td>43.6500</td>\n",
       "      <td>51.2000</td>\n",
       "      <td>10.32</td>\n",
       "      <td>46</td>\n",
       "      <td>0</td>\n",
       "      <td>3.91</td>\n",
       "      <td>KZ</td>\n",
       "      <td>1666108486</td>\n",
       "    </tr>\n",
       "    <tr>\n",
       "      <th>441</th>\n",
       "      <td>441</td>\n",
       "      <td>yangliuqing</td>\n",
       "      <td>39.1375</td>\n",
       "      <td>116.9997</td>\n",
       "      <td>7.97</td>\n",
       "      <td>31</td>\n",
       "      <td>0</td>\n",
       "      <td>3.58</td>\n",
       "      <td>CN</td>\n",
       "      <td>1666108494</td>\n",
       "    </tr>\n",
       "    <tr>\n",
       "      <th>476</th>\n",
       "      <td>476</td>\n",
       "      <td>chifeng</td>\n",
       "      <td>42.2683</td>\n",
       "      <td>118.9636</td>\n",
       "      <td>5.09</td>\n",
       "      <td>20</td>\n",
       "      <td>0</td>\n",
       "      <td>2.81</td>\n",
       "      <td>CN</td>\n",
       "      <td>1666108512</td>\n",
       "    </tr>\n",
       "    <tr>\n",
       "      <th>485</th>\n",
       "      <td>485</td>\n",
       "      <td>greenville</td>\n",
       "      <td>35.6127</td>\n",
       "      <td>-77.3663</td>\n",
       "      <td>12.29</td>\n",
       "      <td>48</td>\n",
       "      <td>100</td>\n",
       "      <td>2.57</td>\n",
       "      <td>US</td>\n",
       "      <td>1666108518</td>\n",
       "    </tr>\n",
       "    <tr>\n",
       "      <th>495</th>\n",
       "      <td>495</td>\n",
       "      <td>statesville</td>\n",
       "      <td>35.7826</td>\n",
       "      <td>-80.8873</td>\n",
       "      <td>10.76</td>\n",
       "      <td>49</td>\n",
       "      <td>0</td>\n",
       "      <td>4.63</td>\n",
       "      <td>US</td>\n",
       "      <td>1666108414</td>\n",
       "    </tr>\n",
       "    <tr>\n",
       "      <th>522</th>\n",
       "      <td>522</td>\n",
       "      <td>xuchang</td>\n",
       "      <td>34.0167</td>\n",
       "      <td>113.8167</td>\n",
       "      <td>12.46</td>\n",
       "      <td>35</td>\n",
       "      <td>0</td>\n",
       "      <td>3.02</td>\n",
       "      <td>CN</td>\n",
       "      <td>1666108539</td>\n",
       "    </tr>\n",
       "    <tr>\n",
       "      <th>532</th>\n",
       "      <td>532</td>\n",
       "      <td>mandalgovi</td>\n",
       "      <td>45.7625</td>\n",
       "      <td>106.2708</td>\n",
       "      <td>6.23</td>\n",
       "      <td>23</td>\n",
       "      <td>7</td>\n",
       "      <td>2.94</td>\n",
       "      <td>MN</td>\n",
       "      <td>1666108544</td>\n",
       "    </tr>\n",
       "    <tr>\n",
       "      <th>537</th>\n",
       "      <td>537</td>\n",
       "      <td>tongliao</td>\n",
       "      <td>43.6125</td>\n",
       "      <td>122.2653</td>\n",
       "      <td>3.54</td>\n",
       "      <td>35</td>\n",
       "      <td>0</td>\n",
       "      <td>3.55</td>\n",
       "      <td>CN</td>\n",
       "      <td>1666108546</td>\n",
       "    </tr>\n",
       "    <tr>\n",
       "      <th>554</th>\n",
       "      <td>554</td>\n",
       "      <td>freeport</td>\n",
       "      <td>40.6576</td>\n",
       "      <td>-73.5832</td>\n",
       "      <td>13.43</td>\n",
       "      <td>46</td>\n",
       "      <td>89</td>\n",
       "      <td>2.24</td>\n",
       "      <td>US</td>\n",
       "      <td>1666108554</td>\n",
       "    </tr>\n",
       "    <tr>\n",
       "      <th>555</th>\n",
       "      <td>555</td>\n",
       "      <td>bulgan</td>\n",
       "      <td>48.8125</td>\n",
       "      <td>103.5347</td>\n",
       "      <td>5.37</td>\n",
       "      <td>40</td>\n",
       "      <td>67</td>\n",
       "      <td>1.26</td>\n",
       "      <td>MN</td>\n",
       "      <td>1666108554</td>\n",
       "    </tr>\n",
       "    <tr>\n",
       "      <th>557</th>\n",
       "      <td>557</td>\n",
       "      <td>saryg-sep</td>\n",
       "      <td>51.5000</td>\n",
       "      <td>95.6000</td>\n",
       "      <td>4.70</td>\n",
       "      <td>44</td>\n",
       "      <td>100</td>\n",
       "      <td>1.22</td>\n",
       "      <td>RU</td>\n",
       "      <td>1666108555</td>\n",
       "    </tr>\n",
       "    <tr>\n",
       "      <th>560</th>\n",
       "      <td>560</td>\n",
       "      <td>changli</td>\n",
       "      <td>39.7042</td>\n",
       "      <td>119.1506</td>\n",
       "      <td>9.17</td>\n",
       "      <td>33</td>\n",
       "      <td>0</td>\n",
       "      <td>2.41</td>\n",
       "      <td>CN</td>\n",
       "      <td>1666108557</td>\n",
       "    </tr>\n",
       "  </tbody>\n",
       "</table>\n",
       "</div>"
      ],
      "text/plain": [
       "     City_ID              City      Lat       Lng  Max Temp  Humidity  \\\n",
       "4          4           lanzhou  36.0564  103.7922     14.53        48   \n",
       "30        30      midwest city  35.4495  -97.3967      9.12        33   \n",
       "36        36           drochia  48.0350   27.8161     13.39        30   \n",
       "44        44      collierville  35.0420  -89.6645      7.11        47   \n",
       "90        90      saint george  37.1041 -113.5841     13.33        44   \n",
       "92        92             arman  59.7000  150.1667     -4.99        49   \n",
       "96        96           zhangye  38.9342  100.4517     11.11        16   \n",
       "101      101             heihe  50.2441  127.4902      2.32        49   \n",
       "114      114              yidu  24.1614  115.1328     19.73        27   \n",
       "115      115        cedar city  37.6775 -113.0619     14.11        49   \n",
       "134      134        baruun-urt  46.6806  113.2792      2.25        22   \n",
       "141      141           brenham  30.1669  -96.3977     14.47        40   \n",
       "158      158          almaznyy  48.0448   40.0450     10.39        47   \n",
       "174      174             avera  33.1940  -82.5271     12.53        26   \n",
       "176      176        challapata -18.9000  -66.7667     14.15        30   \n",
       "178      178           neepawa  50.2289  -99.4664     -1.78        27   \n",
       "181      181              hovd  48.0056   91.6419      7.16        39   \n",
       "199      199              asau  46.4333   26.4000     13.51        48   \n",
       "228      228      san patricio  28.0170  -97.5169     15.92        43   \n",
       "231      231        carrollton  32.9537  -96.8903     14.63        31   \n",
       "242      242              aksu  41.1231   80.2644     15.37        20   \n",
       "243      243  russkaya polyana  49.4170   31.9201     12.87        32   \n",
       "268      268           chengde  40.9725  117.9361      5.17        26   \n",
       "278      278               ola  59.5833  151.2833     -4.92        48   \n",
       "280      280           jiuquan  39.7432   98.5174      8.56        15   \n",
       "331      331        swan river  52.1058 -101.2676      0.94        40   \n",
       "359      359             korla  41.7597   86.1469     13.51        19   \n",
       "387      387    ribeira grande  38.5167  -28.7000     19.22        48   \n",
       "403      403          woodward  36.4337  -99.3904      5.54        42   \n",
       "428      428             aktau  43.6500   51.2000     10.32        46   \n",
       "441      441       yangliuqing  39.1375  116.9997      7.97        31   \n",
       "476      476           chifeng  42.2683  118.9636      5.09        20   \n",
       "485      485        greenville  35.6127  -77.3663     12.29        48   \n",
       "495      495       statesville  35.7826  -80.8873     10.76        49   \n",
       "522      522           xuchang  34.0167  113.8167     12.46        35   \n",
       "532      532        mandalgovi  45.7625  106.2708      6.23        23   \n",
       "537      537          tongliao  43.6125  122.2653      3.54        35   \n",
       "554      554          freeport  40.6576  -73.5832     13.43        46   \n",
       "555      555            bulgan  48.8125  103.5347      5.37        40   \n",
       "557      557         saryg-sep  51.5000   95.6000      4.70        44   \n",
       "560      560           changli  39.7042  119.1506      9.17        33   \n",
       "\n",
       "     Cloudiness  Wind Speed Country        Date  \n",
       "4            59        1.20      CN  1666108230  \n",
       "30           75        6.17      US  1666108247  \n",
       "36           73        3.46      MD  1666108253  \n",
       "44            0        5.66      US  1666108151  \n",
       "90            0        1.54      US  1666108286  \n",
       "92          100        4.64      RU  1666108290  \n",
       "96            0        1.67      CN  1666108292  \n",
       "101           3        3.14      CN  1666108295  \n",
       "114          99        2.78      CN  1666108303  \n",
       "115           0        0.00      US  1666108304  \n",
       "134          95        4.99      MN  1666108315  \n",
       "141           0        3.09      US  1666108319  \n",
       "158          15        3.44      RU  1666108332  \n",
       "174           0        4.90      US  1666108342  \n",
       "176           0        5.26      BO  1666108343  \n",
       "178          32        4.19      CA  1666108344  \n",
       "181         100        3.39      MN  1666108346  \n",
       "199          47        2.08      RO  1666108357  \n",
       "228          99        7.82      US  1666108372  \n",
       "231           0        5.66      US  1666108361  \n",
       "242          81        3.23      CN  1666108378  \n",
       "243          10        3.97      UA  1666108380  \n",
       "268           0        0.63      CN  1666108395  \n",
       "278         100        8.58      RU  1666108399  \n",
       "280          39        0.70      CN  1666108400  \n",
       "331           0        2.06      CA  1666108431  \n",
       "359          27        1.37      CN  1666108447  \n",
       "387          20        8.75      PT  1666108463  \n",
       "403         100        3.09      US  1666108472  \n",
       "428           0        3.91      KZ  1666108486  \n",
       "441           0        3.58      CN  1666108494  \n",
       "476           0        2.81      CN  1666108512  \n",
       "485         100        2.57      US  1666108518  \n",
       "495           0        4.63      US  1666108414  \n",
       "522           0        3.02      CN  1666108539  \n",
       "532           7        2.94      MN  1666108544  \n",
       "537           0        3.55      CN  1666108546  \n",
       "554          89        2.24      US  1666108554  \n",
       "555          67        1.26      MN  1666108554  \n",
       "557         100        1.22      RU  1666108555  \n",
       "560           0        2.41      CN  1666108557  "
      ]
     },
     "execution_count": 13,
     "metadata": {},
     "output_type": "execute_result"
    }
   ],
   "source": [
    "# Step 1: Define your criteria\n",
    "# Replace these values with your specific criteria\n",
    "max_temp_criteria = 20  # Maximum temperature\n",
    "humidity_criteria = 50  # Humidity\n",
    "\n",
    "# Step 2: Filter the DataFrame based on your criteria\n",
    "filtered_cities_df = city_data_df[(city_data_df['Max Temp'] < max_temp_criteria) & (city_data_df['Humidity'] < humidity_criteria)]\n",
    "\n",
    "# Step 3: Drop any rows with null values\n",
    "filtered_cities_df.dropna(inplace=True)\n",
    "\n",
    "# Step 4: Display the sample data with all columns\n",
    "desired_columns = ['City_ID', 'City', 'Lat', 'Lng', 'Max Temp', 'Humidity', 'Cloudiness', 'Wind Speed', 'Country', 'Date']\n",
    "filtered_cities_df[desired_columns]\n",
    "\n"
   ]
  },
  {
   "cell_type": "markdown",
   "metadata": {},
   "source": [
    "### Step 3: Create a new DataFrame called `hotel_df`."
   ]
  },
  {
   "cell_type": "code",
   "execution_count": 5,
   "metadata": {},
   "outputs": [
    {
     "data": {
      "text/html": [
       "<div>\n",
       "<style scoped>\n",
       "    .dataframe tbody tr th:only-of-type {\n",
       "        vertical-align: middle;\n",
       "    }\n",
       "\n",
       "    .dataframe tbody tr th {\n",
       "        vertical-align: top;\n",
       "    }\n",
       "\n",
       "    .dataframe thead th {\n",
       "        text-align: right;\n",
       "    }\n",
       "</style>\n",
       "<table border=\"1\" class=\"dataframe\">\n",
       "  <thead>\n",
       "    <tr style=\"text-align: right;\">\n",
       "      <th></th>\n",
       "      <th>City</th>\n",
       "      <th>Country</th>\n",
       "      <th>Lat</th>\n",
       "      <th>Lng</th>\n",
       "      <th>Humidity</th>\n",
       "      <th>Hotel Name</th>\n",
       "    </tr>\n",
       "  </thead>\n",
       "  <tbody>\n",
       "    <tr>\n",
       "      <th>45</th>\n",
       "      <td>kapaa</td>\n",
       "      <td>US</td>\n",
       "      <td>22.0752</td>\n",
       "      <td>-159.3190</td>\n",
       "      <td>84</td>\n",
       "      <td></td>\n",
       "    </tr>\n",
       "    <tr>\n",
       "      <th>51</th>\n",
       "      <td>hilo</td>\n",
       "      <td>US</td>\n",
       "      <td>19.7297</td>\n",
       "      <td>-155.0900</td>\n",
       "      <td>83</td>\n",
       "      <td></td>\n",
       "    </tr>\n",
       "    <tr>\n",
       "      <th>63</th>\n",
       "      <td>banda</td>\n",
       "      <td>IN</td>\n",
       "      <td>25.4833</td>\n",
       "      <td>80.3333</td>\n",
       "      <td>52</td>\n",
       "      <td></td>\n",
       "    </tr>\n",
       "    <tr>\n",
       "      <th>81</th>\n",
       "      <td>makakilo city</td>\n",
       "      <td>US</td>\n",
       "      <td>21.3469</td>\n",
       "      <td>-158.0858</td>\n",
       "      <td>81</td>\n",
       "      <td></td>\n",
       "    </tr>\n",
       "    <tr>\n",
       "      <th>152</th>\n",
       "      <td>kahului</td>\n",
       "      <td>US</td>\n",
       "      <td>20.8947</td>\n",
       "      <td>-156.4700</td>\n",
       "      <td>60</td>\n",
       "      <td></td>\n",
       "    </tr>\n",
       "    <tr>\n",
       "      <th>197</th>\n",
       "      <td>gat</td>\n",
       "      <td>IL</td>\n",
       "      <td>31.6100</td>\n",
       "      <td>34.7642</td>\n",
       "      <td>100</td>\n",
       "      <td></td>\n",
       "    </tr>\n",
       "    <tr>\n",
       "      <th>211</th>\n",
       "      <td>laguna</td>\n",
       "      <td>US</td>\n",
       "      <td>38.4210</td>\n",
       "      <td>-121.4238</td>\n",
       "      <td>79</td>\n",
       "      <td></td>\n",
       "    </tr>\n",
       "    <tr>\n",
       "      <th>240</th>\n",
       "      <td>tikaitnagar</td>\n",
       "      <td>IN</td>\n",
       "      <td>26.9500</td>\n",
       "      <td>81.5833</td>\n",
       "      <td>59</td>\n",
       "      <td></td>\n",
       "    </tr>\n",
       "    <tr>\n",
       "      <th>265</th>\n",
       "      <td>san quintin</td>\n",
       "      <td>MX</td>\n",
       "      <td>30.4833</td>\n",
       "      <td>-115.9500</td>\n",
       "      <td>74</td>\n",
       "      <td></td>\n",
       "    </tr>\n",
       "    <tr>\n",
       "      <th>340</th>\n",
       "      <td>santa rosalia</td>\n",
       "      <td>MX</td>\n",
       "      <td>27.3167</td>\n",
       "      <td>-112.2833</td>\n",
       "      <td>56</td>\n",
       "      <td></td>\n",
       "    </tr>\n",
       "    <tr>\n",
       "      <th>363</th>\n",
       "      <td>narwar</td>\n",
       "      <td>IN</td>\n",
       "      <td>25.6500</td>\n",
       "      <td>77.9000</td>\n",
       "      <td>55</td>\n",
       "      <td></td>\n",
       "    </tr>\n",
       "    <tr>\n",
       "      <th>375</th>\n",
       "      <td>port hedland</td>\n",
       "      <td>AU</td>\n",
       "      <td>-20.3167</td>\n",
       "      <td>118.5667</td>\n",
       "      <td>73</td>\n",
       "      <td></td>\n",
       "    </tr>\n",
       "    <tr>\n",
       "      <th>381</th>\n",
       "      <td>roebourne</td>\n",
       "      <td>AU</td>\n",
       "      <td>-20.7833</td>\n",
       "      <td>117.1333</td>\n",
       "      <td>65</td>\n",
       "      <td></td>\n",
       "    </tr>\n",
       "    <tr>\n",
       "      <th>391</th>\n",
       "      <td>saint-francois</td>\n",
       "      <td>FR</td>\n",
       "      <td>46.4154</td>\n",
       "      <td>3.9054</td>\n",
       "      <td>57</td>\n",
       "      <td></td>\n",
       "    </tr>\n",
       "    <tr>\n",
       "      <th>409</th>\n",
       "      <td>capoterra</td>\n",
       "      <td>IT</td>\n",
       "      <td>39.1763</td>\n",
       "      <td>8.9718</td>\n",
       "      <td>71</td>\n",
       "      <td></td>\n",
       "    </tr>\n",
       "    <tr>\n",
       "      <th>421</th>\n",
       "      <td>stolac</td>\n",
       "      <td>BA</td>\n",
       "      <td>43.0844</td>\n",
       "      <td>17.9575</td>\n",
       "      <td>68</td>\n",
       "      <td></td>\n",
       "    </tr>\n",
       "    <tr>\n",
       "      <th>516</th>\n",
       "      <td>guerrero negro</td>\n",
       "      <td>MX</td>\n",
       "      <td>27.9769</td>\n",
       "      <td>-114.0611</td>\n",
       "      <td>68</td>\n",
       "      <td></td>\n",
       "    </tr>\n",
       "  </tbody>\n",
       "</table>\n",
       "</div>"
      ],
      "text/plain": [
       "               City Country      Lat       Lng  Humidity Hotel Name\n",
       "45            kapaa      US  22.0752 -159.3190        84           \n",
       "51             hilo      US  19.7297 -155.0900        83           \n",
       "63            banda      IN  25.4833   80.3333        52           \n",
       "81    makakilo city      US  21.3469 -158.0858        81           \n",
       "152         kahului      US  20.8947 -156.4700        60           \n",
       "197             gat      IL  31.6100   34.7642       100           \n",
       "211          laguna      US  38.4210 -121.4238        79           \n",
       "240     tikaitnagar      IN  26.9500   81.5833        59           \n",
       "265     san quintin      MX  30.4833 -115.9500        74           \n",
       "340   santa rosalia      MX  27.3167 -112.2833        56           \n",
       "363          narwar      IN  25.6500   77.9000        55           \n",
       "375    port hedland      AU -20.3167  118.5667        73           \n",
       "381       roebourne      AU -20.7833  117.1333        65           \n",
       "391  saint-francois      FR  46.4154    3.9054        57           \n",
       "409       capoterra      IT  39.1763    8.9718        71           \n",
       "421          stolac      BA  43.0844   17.9575        68           \n",
       "516  guerrero negro      MX  27.9769 -114.0611        68           "
      ]
     },
     "execution_count": 5,
     "metadata": {},
     "output_type": "execute_result"
    }
   ],
   "source": [
    "# Use the Pandas copy function to create DataFrame called hotel_df to store the city, country, coordinates, and humidity\n",
    "# YOUR CODE HERE\n",
    "\n",
    "# Add an empty column, \"Hotel Name,\" to the DataFrame so you can store the hotel found using the Geoapify API\n",
    "# YOUR CODE HERE\n",
    "\n",
    "# Display sample data\n",
    "# YOUR CODE HERE"
   ]
  },
  {
   "cell_type": "code",
   "execution_count": 15,
   "metadata": {},
   "outputs": [
    {
     "name": "stdout",
     "output_type": "stream",
     "text": [
      "            City Country      Lat       Lng  Humidity Hotel Name\n",
      "0           faya      SA  18.3851   42.4509        35           \n",
      "1        farsund      NO  58.0948    6.8047       100           \n",
      "2    new norfolk      AU -42.7826  147.0587        58           \n",
      "3      jamestown      US  42.0970  -79.2353        77           \n",
      "4        lanzhou      CN  36.0564  103.7922        48           \n",
      "5        ushuaia      AR -54.8000  -68.3000        81           \n",
      "6         albany      US  42.6001  -73.9662        74           \n",
      "7      carnarvon      AU -24.8667  113.6333        76           \n",
      "8       sisimiut      GL  66.9395  -53.6735        98           \n",
      "9   saint-pierre      RE -21.3393   55.4781        68           \n",
      "10      colorado      BR -22.8375  -51.9731        86           \n",
      "11    nikolskoye      RU  59.7035   30.7861        90           \n",
      "12        trairi      BR  -3.2778  -39.2689        51           \n",
      "13     dobryanka      RU  58.4619   56.4165        93           \n",
      "14       qaanaaq      GL  77.4840  -69.3632        74           \n"
     ]
    }
   ],
   "source": [
    "# Select the specified columns\n",
    "hotel_df = hotel_df[[\"City\", \"Country\", \"Lat\", \"Lng\", \"Humidity\", \"Hotel Name\"]]\n",
    "\n",
    "# Display the sample data with the selected columns\n",
    "print(hotel_df.head(15))\n"
   ]
  },
  {
   "cell_type": "markdown",
   "metadata": {},
   "source": [
    "### Step 4: For each city, use the Geoapify API to find the first hotel located within 10,000 metres of your coordinates."
   ]
  },
  {
   "cell_type": "code",
   "execution_count": 6,
   "metadata": {},
   "outputs": [
    {
     "name": "stdout",
     "output_type": "stream",
     "text": [
      "Starting hotel search\n",
      "kapaa - nearest hotel: Pono Kai Resort\n",
      "hilo - nearest hotel: Dolphin Bay Hotel\n",
      "banda - nearest hotel: #acnindiafy21\n",
      "makakilo city - nearest hotel: Embassy Suites by Hilton Oahu Kapolei\n",
      "kahului - nearest hotel: Maui Seaside Hotel\n",
      "gat - nearest hotel: No hotel found\n",
      "laguna - nearest hotel: Holiday Inn Express & Suites\n",
      "tikaitnagar - nearest hotel: No hotel found\n",
      "san quintin - nearest hotel: Jardines Hotel\n",
      "santa rosalia - nearest hotel: Hotel del Real\n",
      "narwar - nearest hotel: No hotel found\n",
      "port hedland - nearest hotel: The Esplanade Hotel\n",
      "roebourne - nearest hotel: No hotel found\n",
      "saint-francois - nearest hotel: Chez Lily\n",
      "capoterra - nearest hotel: Rosa Hotel\n",
      "stolac - nearest hotel: Bregava\n",
      "guerrero negro - nearest hotel: Plaza sal paraiso\n"
     ]
    },
    {
     "data": {
      "text/html": [
       "<div>\n",
       "<style scoped>\n",
       "    .dataframe tbody tr th:only-of-type {\n",
       "        vertical-align: middle;\n",
       "    }\n",
       "\n",
       "    .dataframe tbody tr th {\n",
       "        vertical-align: top;\n",
       "    }\n",
       "\n",
       "    .dataframe thead th {\n",
       "        text-align: right;\n",
       "    }\n",
       "</style>\n",
       "<table border=\"1\" class=\"dataframe\">\n",
       "  <thead>\n",
       "    <tr style=\"text-align: right;\">\n",
       "      <th></th>\n",
       "      <th>City</th>\n",
       "      <th>Country</th>\n",
       "      <th>Lat</th>\n",
       "      <th>Lng</th>\n",
       "      <th>Humidity</th>\n",
       "      <th>Hotel Name</th>\n",
       "    </tr>\n",
       "  </thead>\n",
       "  <tbody>\n",
       "    <tr>\n",
       "      <th>45</th>\n",
       "      <td>kapaa</td>\n",
       "      <td>US</td>\n",
       "      <td>22.0752</td>\n",
       "      <td>-159.3190</td>\n",
       "      <td>84</td>\n",
       "      <td>Pono Kai Resort</td>\n",
       "    </tr>\n",
       "    <tr>\n",
       "      <th>51</th>\n",
       "      <td>hilo</td>\n",
       "      <td>US</td>\n",
       "      <td>19.7297</td>\n",
       "      <td>-155.0900</td>\n",
       "      <td>83</td>\n",
       "      <td>Dolphin Bay Hotel</td>\n",
       "    </tr>\n",
       "    <tr>\n",
       "      <th>63</th>\n",
       "      <td>banda</td>\n",
       "      <td>IN</td>\n",
       "      <td>25.4833</td>\n",
       "      <td>80.3333</td>\n",
       "      <td>52</td>\n",
       "      <td>#acnindiafy21</td>\n",
       "    </tr>\n",
       "    <tr>\n",
       "      <th>81</th>\n",
       "      <td>makakilo city</td>\n",
       "      <td>US</td>\n",
       "      <td>21.3469</td>\n",
       "      <td>-158.0858</td>\n",
       "      <td>81</td>\n",
       "      <td>Embassy Suites by Hilton Oahu Kapolei</td>\n",
       "    </tr>\n",
       "    <tr>\n",
       "      <th>152</th>\n",
       "      <td>kahului</td>\n",
       "      <td>US</td>\n",
       "      <td>20.8947</td>\n",
       "      <td>-156.4700</td>\n",
       "      <td>60</td>\n",
       "      <td>Maui Seaside Hotel</td>\n",
       "    </tr>\n",
       "    <tr>\n",
       "      <th>197</th>\n",
       "      <td>gat</td>\n",
       "      <td>IL</td>\n",
       "      <td>31.6100</td>\n",
       "      <td>34.7642</td>\n",
       "      <td>100</td>\n",
       "      <td>No hotel found</td>\n",
       "    </tr>\n",
       "    <tr>\n",
       "      <th>211</th>\n",
       "      <td>laguna</td>\n",
       "      <td>US</td>\n",
       "      <td>38.4210</td>\n",
       "      <td>-121.4238</td>\n",
       "      <td>79</td>\n",
       "      <td>Holiday Inn Express &amp; Suites</td>\n",
       "    </tr>\n",
       "    <tr>\n",
       "      <th>240</th>\n",
       "      <td>tikaitnagar</td>\n",
       "      <td>IN</td>\n",
       "      <td>26.9500</td>\n",
       "      <td>81.5833</td>\n",
       "      <td>59</td>\n",
       "      <td>No hotel found</td>\n",
       "    </tr>\n",
       "    <tr>\n",
       "      <th>265</th>\n",
       "      <td>san quintin</td>\n",
       "      <td>MX</td>\n",
       "      <td>30.4833</td>\n",
       "      <td>-115.9500</td>\n",
       "      <td>74</td>\n",
       "      <td>Jardines Hotel</td>\n",
       "    </tr>\n",
       "    <tr>\n",
       "      <th>340</th>\n",
       "      <td>santa rosalia</td>\n",
       "      <td>MX</td>\n",
       "      <td>27.3167</td>\n",
       "      <td>-112.2833</td>\n",
       "      <td>56</td>\n",
       "      <td>Hotel del Real</td>\n",
       "    </tr>\n",
       "    <tr>\n",
       "      <th>363</th>\n",
       "      <td>narwar</td>\n",
       "      <td>IN</td>\n",
       "      <td>25.6500</td>\n",
       "      <td>77.9000</td>\n",
       "      <td>55</td>\n",
       "      <td>No hotel found</td>\n",
       "    </tr>\n",
       "    <tr>\n",
       "      <th>375</th>\n",
       "      <td>port hedland</td>\n",
       "      <td>AU</td>\n",
       "      <td>-20.3167</td>\n",
       "      <td>118.5667</td>\n",
       "      <td>73</td>\n",
       "      <td>The Esplanade Hotel</td>\n",
       "    </tr>\n",
       "    <tr>\n",
       "      <th>381</th>\n",
       "      <td>roebourne</td>\n",
       "      <td>AU</td>\n",
       "      <td>-20.7833</td>\n",
       "      <td>117.1333</td>\n",
       "      <td>65</td>\n",
       "      <td>No hotel found</td>\n",
       "    </tr>\n",
       "    <tr>\n",
       "      <th>391</th>\n",
       "      <td>saint-francois</td>\n",
       "      <td>FR</td>\n",
       "      <td>46.4154</td>\n",
       "      <td>3.9054</td>\n",
       "      <td>57</td>\n",
       "      <td>Chez Lily</td>\n",
       "    </tr>\n",
       "    <tr>\n",
       "      <th>409</th>\n",
       "      <td>capoterra</td>\n",
       "      <td>IT</td>\n",
       "      <td>39.1763</td>\n",
       "      <td>8.9718</td>\n",
       "      <td>71</td>\n",
       "      <td>Rosa Hotel</td>\n",
       "    </tr>\n",
       "    <tr>\n",
       "      <th>421</th>\n",
       "      <td>stolac</td>\n",
       "      <td>BA</td>\n",
       "      <td>43.0844</td>\n",
       "      <td>17.9575</td>\n",
       "      <td>68</td>\n",
       "      <td>Bregava</td>\n",
       "    </tr>\n",
       "    <tr>\n",
       "      <th>516</th>\n",
       "      <td>guerrero negro</td>\n",
       "      <td>MX</td>\n",
       "      <td>27.9769</td>\n",
       "      <td>-114.0611</td>\n",
       "      <td>68</td>\n",
       "      <td>Plaza sal paraiso</td>\n",
       "    </tr>\n",
       "  </tbody>\n",
       "</table>\n",
       "</div>"
      ],
      "text/plain": [
       "               City Country      Lat       Lng  Humidity  \\\n",
       "45            kapaa      US  22.0752 -159.3190        84   \n",
       "51             hilo      US  19.7297 -155.0900        83   \n",
       "63            banda      IN  25.4833   80.3333        52   \n",
       "81    makakilo city      US  21.3469 -158.0858        81   \n",
       "152         kahului      US  20.8947 -156.4700        60   \n",
       "197             gat      IL  31.6100   34.7642       100   \n",
       "211          laguna      US  38.4210 -121.4238        79   \n",
       "240     tikaitnagar      IN  26.9500   81.5833        59   \n",
       "265     san quintin      MX  30.4833 -115.9500        74   \n",
       "340   santa rosalia      MX  27.3167 -112.2833        56   \n",
       "363          narwar      IN  25.6500   77.9000        55   \n",
       "375    port hedland      AU -20.3167  118.5667        73   \n",
       "381       roebourne      AU -20.7833  117.1333        65   \n",
       "391  saint-francois      FR  46.4154    3.9054        57   \n",
       "409       capoterra      IT  39.1763    8.9718        71   \n",
       "421          stolac      BA  43.0844   17.9575        68   \n",
       "516  guerrero negro      MX  27.9769 -114.0611        68   \n",
       "\n",
       "                                Hotel Name  \n",
       "45                         Pono Kai Resort  \n",
       "51                       Dolphin Bay Hotel  \n",
       "63                           #acnindiafy21  \n",
       "81   Embassy Suites by Hilton Oahu Kapolei  \n",
       "152                     Maui Seaside Hotel  \n",
       "197                         No hotel found  \n",
       "211           Holiday Inn Express & Suites  \n",
       "240                         No hotel found  \n",
       "265                         Jardines Hotel  \n",
       "340                         Hotel del Real  \n",
       "363                         No hotel found  \n",
       "375                    The Esplanade Hotel  \n",
       "381                         No hotel found  \n",
       "391                              Chez Lily  \n",
       "409                             Rosa Hotel  \n",
       "421                                Bregava  \n",
       "516                      Plaza sal paraiso  "
      ]
     },
     "execution_count": 6,
     "metadata": {},
     "output_type": "execute_result"
    }
   ],
   "source": [
    "# Set parameters to search for a hotel\n",
    "radius = # YOUR CODE HERE\n",
    "params = {\n",
    "    # YOUR CODE HERE\n",
    "}\n",
    "\n",
    "# Print a message to follow up the hotel search\n",
    "print(\"Starting hotel search\")\n",
    "\n",
    "# Iterate through the hotel_df DataFrame\n",
    "for index, row in hotel_df.iterrows():\n",
    "    # get latitude, longitude from the DataFrame\n",
    "    # YOUR CODE HERE\n",
    "    \n",
    "    # Add filter and bias parameters with the current city's latitude and longitude to the params dictionary\n",
    "    params[\"filter\"] = # YOUR CODE HERE\n",
    "    params[\"bias\"] = # YOUR CODE HERE\n",
    "    \n",
    "    # Set base URL\n",
    "    base_url = \"https://api.geoapify.com/v2/places\"\n",
    "\n",
    "\n",
    "    # Make and API request using the params dictionaty\n",
    "    name_address = # YOUR CODE HERE\n",
    "    \n",
    "    # Convert the API response to JSON format\n",
    "    name_address = # YOUR CODE HERE\n",
    "    \n",
    "    # Grab the first hotel from the results and store the name in the hotel_df DataFrame\n",
    "    try:\n",
    "        hotel_df.loc[index, \"Hotel Name\"] = name_address[\"features\"][0][\"properties\"][\"name\"]\n",
    "    except (KeyError, IndexError):\n",
    "        # If no hotel is found, set the hotel name as \"No hotel found\".\n",
    "        hotel_df.loc[index, \"Hotel Name\"] = \"No hotel found\"\n",
    "        \n",
    "    # Log the search results\n",
    "    print(f\"{hotel_df.loc[index, 'City']} - nearest hotel: {hotel_df.loc[index, 'Hotel Name']}\")\n",
    "\n",
    "# Display sample data\n",
    "hotel_df"
   ]
  },
  {
   "cell_type": "code",
   "execution_count": 25,
   "metadata": {},
   "outputs": [
    {
     "name": "stdout",
     "output_type": "stream",
     "text": [
      "Starting hotel search\n",
      "API request for faya failed with status code 400\n",
      "faya - nearest hotel: No hotel found\n",
      "API request for farsund failed with status code 400\n",
      "farsund - nearest hotel: No hotel found\n",
      "API request for new norfolk failed with status code 400\n",
      "new norfolk - nearest hotel: No hotel found\n",
      "API request for jamestown failed with status code 400\n",
      "jamestown - nearest hotel: No hotel found\n",
      "API request for lanzhou failed with status code 400\n",
      "lanzhou - nearest hotel: No hotel found\n",
      "API request for ushuaia failed with status code 400\n",
      "ushuaia - nearest hotel: No hotel found\n",
      "API request for albany failed with status code 400\n",
      "albany - nearest hotel: No hotel found\n",
      "API request for carnarvon failed with status code 400\n",
      "carnarvon - nearest hotel: No hotel found\n",
      "API request for sisimiut failed with status code 400\n",
      "sisimiut - nearest hotel: No hotel found\n",
      "API request for saint-pierre failed with status code 400\n",
      "saint-pierre - nearest hotel: No hotel found\n",
      "API request for colorado failed with status code 400\n",
      "colorado - nearest hotel: No hotel found\n",
      "API request for nikolskoye failed with status code 400\n",
      "nikolskoye - nearest hotel: No hotel found\n",
      "API request for trairi failed with status code 400\n",
      "trairi - nearest hotel: No hotel found\n",
      "API request for dobryanka failed with status code 400\n",
      "dobryanka - nearest hotel: No hotel found\n",
      "API request for qaanaaq failed with status code 400\n",
      "qaanaaq - nearest hotel: No hotel found\n",
      "API request for mataura failed with status code 400\n",
      "mataura - nearest hotel: No hotel found\n",
      "API request for khatanga failed with status code 400\n",
      "khatanga - nearest hotel: No hotel found\n",
      "API request for tasiilaq failed with status code 400\n",
      "tasiilaq - nearest hotel: No hotel found\n",
      "API request for tiksi failed with status code 400\n",
      "tiksi - nearest hotel: No hotel found\n",
      "API request for puerto ayora failed with status code 400\n",
      "puerto ayora - nearest hotel: No hotel found\n",
      "API request for avarua failed with status code 400\n",
      "avarua - nearest hotel: No hotel found\n",
      "API request for nuevo laredo failed with status code 400\n",
      "nuevo laredo - nearest hotel: No hotel found\n",
      "API request for guiratinga failed with status code 400\n",
      "guiratinga - nearest hotel: No hotel found\n",
      "API request for rikitea failed with status code 400\n",
      "rikitea - nearest hotel: No hotel found\n",
      "API request for dukat failed with status code 400\n",
      "dukat - nearest hotel: No hotel found\n",
      "API request for constitucion failed with status code 400\n",
      "constitucion - nearest hotel: No hotel found\n",
      "API request for senneterre failed with status code 400\n",
      "senneterre - nearest hotel: No hotel found\n",
      "API request for bambous virieux failed with status code 400\n",
      "bambous virieux - nearest hotel: No hotel found\n",
      "API request for zangakatun failed with status code 400\n",
      "zangakatun - nearest hotel: No hotel found\n",
      "API request for saint-louis failed with status code 400\n",
      "saint-louis - nearest hotel: No hotel found\n",
      "API request for midwest city failed with status code 400\n",
      "midwest city - nearest hotel: No hotel found\n",
      "API request for grimmen failed with status code 400\n",
      "grimmen - nearest hotel: No hotel found\n",
      "API request for cape town failed with status code 400\n",
      "cape town - nearest hotel: No hotel found\n",
      "API request for stornoway failed with status code 400\n",
      "stornoway - nearest hotel: No hotel found\n",
      "API request for naberera failed with status code 400\n",
      "naberera - nearest hotel: No hotel found\n",
      "API request for chokurdakh failed with status code 400\n",
      "chokurdakh - nearest hotel: No hotel found\n"
     ]
    },
    {
     "ename": "KeyboardInterrupt",
     "evalue": "",
     "output_type": "error",
     "traceback": [
      "\u001b[0;31m---------------------------------------------------------------------------\u001b[0m",
      "\u001b[0;31mKeyboardInterrupt\u001b[0m                         Traceback (most recent call last)",
      "Cell \u001b[0;32mIn[25], line 28\u001b[0m\n\u001b[1;32m     25\u001b[0m base_url \u001b[39m=\u001b[39m \u001b[39m\"\u001b[39m\u001b[39mhttps://api.geoapify.com/v2/places\u001b[39m\u001b[39m\"\u001b[39m\n\u001b[1;32m     27\u001b[0m \u001b[39m# Make an API request using the params dictionary\u001b[39;00m\n\u001b[0;32m---> 28\u001b[0m response \u001b[39m=\u001b[39m requests\u001b[39m.\u001b[39mget(base_url, params\u001b[39m=\u001b[39mparams)\n\u001b[1;32m     30\u001b[0m \u001b[39m# Check if the API request was successful\u001b[39;00m\n\u001b[1;32m     31\u001b[0m \u001b[39mif\u001b[39;00m response\u001b[39m.\u001b[39mstatus_code \u001b[39m==\u001b[39m \u001b[39m200\u001b[39m:\n",
      "File \u001b[0;32m~/anaconda3/lib/python3.11/site-packages/requests/api.py:73\u001b[0m, in \u001b[0;36mget\u001b[0;34m(url, params, **kwargs)\u001b[0m\n\u001b[1;32m     62\u001b[0m \u001b[39mdef\u001b[39;00m \u001b[39mget\u001b[39m(url, params\u001b[39m=\u001b[39m\u001b[39mNone\u001b[39;00m, \u001b[39m*\u001b[39m\u001b[39m*\u001b[39mkwargs):\n\u001b[1;32m     63\u001b[0m \u001b[39m    \u001b[39m\u001b[39mr\u001b[39m\u001b[39m\"\"\"Sends a GET request.\u001b[39;00m\n\u001b[1;32m     64\u001b[0m \n\u001b[1;32m     65\u001b[0m \u001b[39m    :param url: URL for the new :class:`Request` object.\u001b[39;00m\n\u001b[0;32m   (...)\u001b[0m\n\u001b[1;32m     70\u001b[0m \u001b[39m    :rtype: requests.Response\u001b[39;00m\n\u001b[1;32m     71\u001b[0m \u001b[39m    \"\"\"\u001b[39;00m\n\u001b[0;32m---> 73\u001b[0m     \u001b[39mreturn\u001b[39;00m request(\u001b[39m\"\u001b[39m\u001b[39mget\u001b[39m\u001b[39m\"\u001b[39m, url, params\u001b[39m=\u001b[39mparams, \u001b[39m*\u001b[39m\u001b[39m*\u001b[39mkwargs)\n",
      "File \u001b[0;32m~/anaconda3/lib/python3.11/site-packages/requests/api.py:59\u001b[0m, in \u001b[0;36mrequest\u001b[0;34m(method, url, **kwargs)\u001b[0m\n\u001b[1;32m     55\u001b[0m \u001b[39m# By using the 'with' statement we are sure the session is closed, thus we\u001b[39;00m\n\u001b[1;32m     56\u001b[0m \u001b[39m# avoid leaving sockets open which can trigger a ResourceWarning in some\u001b[39;00m\n\u001b[1;32m     57\u001b[0m \u001b[39m# cases, and look like a memory leak in others.\u001b[39;00m\n\u001b[1;32m     58\u001b[0m \u001b[39mwith\u001b[39;00m sessions\u001b[39m.\u001b[39mSession() \u001b[39mas\u001b[39;00m session:\n\u001b[0;32m---> 59\u001b[0m     \u001b[39mreturn\u001b[39;00m session\u001b[39m.\u001b[39mrequest(method\u001b[39m=\u001b[39mmethod, url\u001b[39m=\u001b[39murl, \u001b[39m*\u001b[39m\u001b[39m*\u001b[39mkwargs)\n",
      "File \u001b[0;32m~/anaconda3/lib/python3.11/site-packages/requests/sessions.py:589\u001b[0m, in \u001b[0;36mSession.request\u001b[0;34m(self, method, url, params, data, headers, cookies, files, auth, timeout, allow_redirects, proxies, hooks, stream, verify, cert, json)\u001b[0m\n\u001b[1;32m    584\u001b[0m send_kwargs \u001b[39m=\u001b[39m {\n\u001b[1;32m    585\u001b[0m     \u001b[39m\"\u001b[39m\u001b[39mtimeout\u001b[39m\u001b[39m\"\u001b[39m: timeout,\n\u001b[1;32m    586\u001b[0m     \u001b[39m\"\u001b[39m\u001b[39mallow_redirects\u001b[39m\u001b[39m\"\u001b[39m: allow_redirects,\n\u001b[1;32m    587\u001b[0m }\n\u001b[1;32m    588\u001b[0m send_kwargs\u001b[39m.\u001b[39mupdate(settings)\n\u001b[0;32m--> 589\u001b[0m resp \u001b[39m=\u001b[39m \u001b[39mself\u001b[39m\u001b[39m.\u001b[39msend(prep, \u001b[39m*\u001b[39m\u001b[39m*\u001b[39msend_kwargs)\n\u001b[1;32m    591\u001b[0m \u001b[39mreturn\u001b[39;00m resp\n",
      "File \u001b[0;32m~/anaconda3/lib/python3.11/site-packages/requests/sessions.py:703\u001b[0m, in \u001b[0;36mSession.send\u001b[0;34m(self, request, **kwargs)\u001b[0m\n\u001b[1;32m    700\u001b[0m start \u001b[39m=\u001b[39m preferred_clock()\n\u001b[1;32m    702\u001b[0m \u001b[39m# Send the request\u001b[39;00m\n\u001b[0;32m--> 703\u001b[0m r \u001b[39m=\u001b[39m adapter\u001b[39m.\u001b[39msend(request, \u001b[39m*\u001b[39m\u001b[39m*\u001b[39mkwargs)\n\u001b[1;32m    705\u001b[0m \u001b[39m# Total elapsed time of the request (approximately)\u001b[39;00m\n\u001b[1;32m    706\u001b[0m elapsed \u001b[39m=\u001b[39m preferred_clock() \u001b[39m-\u001b[39m start\n",
      "File \u001b[0;32m~/anaconda3/lib/python3.11/site-packages/requests/adapters.py:486\u001b[0m, in \u001b[0;36mHTTPAdapter.send\u001b[0;34m(self, request, stream, timeout, verify, cert, proxies)\u001b[0m\n\u001b[1;32m    483\u001b[0m     timeout \u001b[39m=\u001b[39m TimeoutSauce(connect\u001b[39m=\u001b[39mtimeout, read\u001b[39m=\u001b[39mtimeout)\n\u001b[1;32m    485\u001b[0m \u001b[39mtry\u001b[39;00m:\n\u001b[0;32m--> 486\u001b[0m     resp \u001b[39m=\u001b[39m conn\u001b[39m.\u001b[39murlopen(\n\u001b[1;32m    487\u001b[0m         method\u001b[39m=\u001b[39mrequest\u001b[39m.\u001b[39mmethod,\n\u001b[1;32m    488\u001b[0m         url\u001b[39m=\u001b[39murl,\n\u001b[1;32m    489\u001b[0m         body\u001b[39m=\u001b[39mrequest\u001b[39m.\u001b[39mbody,\n\u001b[1;32m    490\u001b[0m         headers\u001b[39m=\u001b[39mrequest\u001b[39m.\u001b[39mheaders,\n\u001b[1;32m    491\u001b[0m         redirect\u001b[39m=\u001b[39m\u001b[39mFalse\u001b[39;00m,\n\u001b[1;32m    492\u001b[0m         assert_same_host\u001b[39m=\u001b[39m\u001b[39mFalse\u001b[39;00m,\n\u001b[1;32m    493\u001b[0m         preload_content\u001b[39m=\u001b[39m\u001b[39mFalse\u001b[39;00m,\n\u001b[1;32m    494\u001b[0m         decode_content\u001b[39m=\u001b[39m\u001b[39mFalse\u001b[39;00m,\n\u001b[1;32m    495\u001b[0m         retries\u001b[39m=\u001b[39m\u001b[39mself\u001b[39m\u001b[39m.\u001b[39mmax_retries,\n\u001b[1;32m    496\u001b[0m         timeout\u001b[39m=\u001b[39mtimeout,\n\u001b[1;32m    497\u001b[0m         chunked\u001b[39m=\u001b[39mchunked,\n\u001b[1;32m    498\u001b[0m     )\n\u001b[1;32m    500\u001b[0m \u001b[39mexcept\u001b[39;00m (ProtocolError, \u001b[39mOSError\u001b[39;00m) \u001b[39mas\u001b[39;00m err:\n\u001b[1;32m    501\u001b[0m     \u001b[39mraise\u001b[39;00m \u001b[39mConnectionError\u001b[39;00m(err, request\u001b[39m=\u001b[39mrequest)\n",
      "File \u001b[0;32m~/anaconda3/lib/python3.11/site-packages/urllib3/connectionpool.py:714\u001b[0m, in \u001b[0;36mHTTPConnectionPool.urlopen\u001b[0;34m(self, method, url, body, headers, retries, redirect, assert_same_host, timeout, pool_timeout, release_conn, chunked, body_pos, **response_kw)\u001b[0m\n\u001b[1;32m    711\u001b[0m     \u001b[39mself\u001b[39m\u001b[39m.\u001b[39m_prepare_proxy(conn)\n\u001b[1;32m    713\u001b[0m \u001b[39m# Make the request on the httplib connection object.\u001b[39;00m\n\u001b[0;32m--> 714\u001b[0m httplib_response \u001b[39m=\u001b[39m \u001b[39mself\u001b[39m\u001b[39m.\u001b[39m_make_request(\n\u001b[1;32m    715\u001b[0m     conn,\n\u001b[1;32m    716\u001b[0m     method,\n\u001b[1;32m    717\u001b[0m     url,\n\u001b[1;32m    718\u001b[0m     timeout\u001b[39m=\u001b[39mtimeout_obj,\n\u001b[1;32m    719\u001b[0m     body\u001b[39m=\u001b[39mbody,\n\u001b[1;32m    720\u001b[0m     headers\u001b[39m=\u001b[39mheaders,\n\u001b[1;32m    721\u001b[0m     chunked\u001b[39m=\u001b[39mchunked,\n\u001b[1;32m    722\u001b[0m )\n\u001b[1;32m    724\u001b[0m \u001b[39m# If we're going to release the connection in ``finally:``, then\u001b[39;00m\n\u001b[1;32m    725\u001b[0m \u001b[39m# the response doesn't need to know about the connection. Otherwise\u001b[39;00m\n\u001b[1;32m    726\u001b[0m \u001b[39m# it will also try to release it and we'll have a double-release\u001b[39;00m\n\u001b[1;32m    727\u001b[0m \u001b[39m# mess.\u001b[39;00m\n\u001b[1;32m    728\u001b[0m response_conn \u001b[39m=\u001b[39m conn \u001b[39mif\u001b[39;00m \u001b[39mnot\u001b[39;00m release_conn \u001b[39melse\u001b[39;00m \u001b[39mNone\u001b[39;00m\n",
      "File \u001b[0;32m~/anaconda3/lib/python3.11/site-packages/urllib3/connectionpool.py:403\u001b[0m, in \u001b[0;36mHTTPConnectionPool._make_request\u001b[0;34m(self, conn, method, url, timeout, chunked, **httplib_request_kw)\u001b[0m\n\u001b[1;32m    401\u001b[0m \u001b[39m# Trigger any extra validation we need to do.\u001b[39;00m\n\u001b[1;32m    402\u001b[0m \u001b[39mtry\u001b[39;00m:\n\u001b[0;32m--> 403\u001b[0m     \u001b[39mself\u001b[39m\u001b[39m.\u001b[39m_validate_conn(conn)\n\u001b[1;32m    404\u001b[0m \u001b[39mexcept\u001b[39;00m (SocketTimeout, BaseSSLError) \u001b[39mas\u001b[39;00m e:\n\u001b[1;32m    405\u001b[0m     \u001b[39m# Py2 raises this as a BaseSSLError, Py3 raises it as socket timeout.\u001b[39;00m\n\u001b[1;32m    406\u001b[0m     \u001b[39mself\u001b[39m\u001b[39m.\u001b[39m_raise_timeout(err\u001b[39m=\u001b[39me, url\u001b[39m=\u001b[39murl, timeout_value\u001b[39m=\u001b[39mconn\u001b[39m.\u001b[39mtimeout)\n",
      "File \u001b[0;32m~/anaconda3/lib/python3.11/site-packages/urllib3/connectionpool.py:1053\u001b[0m, in \u001b[0;36mHTTPSConnectionPool._validate_conn\u001b[0;34m(self, conn)\u001b[0m\n\u001b[1;32m   1051\u001b[0m \u001b[39m# Force connect early to allow us to validate the connection.\u001b[39;00m\n\u001b[1;32m   1052\u001b[0m \u001b[39mif\u001b[39;00m \u001b[39mnot\u001b[39;00m \u001b[39mgetattr\u001b[39m(conn, \u001b[39m\"\u001b[39m\u001b[39msock\u001b[39m\u001b[39m\"\u001b[39m, \u001b[39mNone\u001b[39;00m):  \u001b[39m# AppEngine might not have  `.sock`\u001b[39;00m\n\u001b[0;32m-> 1053\u001b[0m     conn\u001b[39m.\u001b[39mconnect()\n\u001b[1;32m   1055\u001b[0m \u001b[39mif\u001b[39;00m \u001b[39mnot\u001b[39;00m conn\u001b[39m.\u001b[39mis_verified:\n\u001b[1;32m   1056\u001b[0m     warnings\u001b[39m.\u001b[39mwarn(\n\u001b[1;32m   1057\u001b[0m         (\n\u001b[1;32m   1058\u001b[0m             \u001b[39m\"\u001b[39m\u001b[39mUnverified HTTPS request is being made to host \u001b[39m\u001b[39m'\u001b[39m\u001b[39m%s\u001b[39;00m\u001b[39m'\u001b[39m\u001b[39m. \u001b[39m\u001b[39m\"\u001b[39m\n\u001b[0;32m   (...)\u001b[0m\n\u001b[1;32m   1063\u001b[0m         InsecureRequestWarning,\n\u001b[1;32m   1064\u001b[0m     )\n",
      "File \u001b[0;32m~/anaconda3/lib/python3.11/site-packages/urllib3/connection.py:419\u001b[0m, in \u001b[0;36mHTTPSConnection.connect\u001b[0;34m(self)\u001b[0m\n\u001b[1;32m    410\u001b[0m \u001b[39mif\u001b[39;00m (\n\u001b[1;32m    411\u001b[0m     \u001b[39mnot\u001b[39;00m \u001b[39mself\u001b[39m\u001b[39m.\u001b[39mca_certs\n\u001b[1;32m    412\u001b[0m     \u001b[39mand\u001b[39;00m \u001b[39mnot\u001b[39;00m \u001b[39mself\u001b[39m\u001b[39m.\u001b[39mca_cert_dir\n\u001b[0;32m   (...)\u001b[0m\n\u001b[1;32m    415\u001b[0m     \u001b[39mand\u001b[39;00m \u001b[39mhasattr\u001b[39m(context, \u001b[39m\"\u001b[39m\u001b[39mload_default_certs\u001b[39m\u001b[39m\"\u001b[39m)\n\u001b[1;32m    416\u001b[0m ):\n\u001b[1;32m    417\u001b[0m     context\u001b[39m.\u001b[39mload_default_certs()\n\u001b[0;32m--> 419\u001b[0m \u001b[39mself\u001b[39m\u001b[39m.\u001b[39msock \u001b[39m=\u001b[39m ssl_wrap_socket(\n\u001b[1;32m    420\u001b[0m     sock\u001b[39m=\u001b[39mconn,\n\u001b[1;32m    421\u001b[0m     keyfile\u001b[39m=\u001b[39m\u001b[39mself\u001b[39m\u001b[39m.\u001b[39mkey_file,\n\u001b[1;32m    422\u001b[0m     certfile\u001b[39m=\u001b[39m\u001b[39mself\u001b[39m\u001b[39m.\u001b[39mcert_file,\n\u001b[1;32m    423\u001b[0m     key_password\u001b[39m=\u001b[39m\u001b[39mself\u001b[39m\u001b[39m.\u001b[39mkey_password,\n\u001b[1;32m    424\u001b[0m     ca_certs\u001b[39m=\u001b[39m\u001b[39mself\u001b[39m\u001b[39m.\u001b[39mca_certs,\n\u001b[1;32m    425\u001b[0m     ca_cert_dir\u001b[39m=\u001b[39m\u001b[39mself\u001b[39m\u001b[39m.\u001b[39mca_cert_dir,\n\u001b[1;32m    426\u001b[0m     ca_cert_data\u001b[39m=\u001b[39m\u001b[39mself\u001b[39m\u001b[39m.\u001b[39mca_cert_data,\n\u001b[1;32m    427\u001b[0m     server_hostname\u001b[39m=\u001b[39mserver_hostname,\n\u001b[1;32m    428\u001b[0m     ssl_context\u001b[39m=\u001b[39mcontext,\n\u001b[1;32m    429\u001b[0m     tls_in_tls\u001b[39m=\u001b[39mtls_in_tls,\n\u001b[1;32m    430\u001b[0m )\n\u001b[1;32m    432\u001b[0m \u001b[39m# If we're using all defaults and the connection\u001b[39;00m\n\u001b[1;32m    433\u001b[0m \u001b[39m# is TLSv1 or TLSv1.1 we throw a DeprecationWarning\u001b[39;00m\n\u001b[1;32m    434\u001b[0m \u001b[39m# for the host.\u001b[39;00m\n\u001b[1;32m    435\u001b[0m \u001b[39mif\u001b[39;00m (\n\u001b[1;32m    436\u001b[0m     default_ssl_context\n\u001b[1;32m    437\u001b[0m     \u001b[39mand\u001b[39;00m \u001b[39mself\u001b[39m\u001b[39m.\u001b[39mssl_version \u001b[39mis\u001b[39;00m \u001b[39mNone\u001b[39;00m\n\u001b[1;32m    438\u001b[0m     \u001b[39mand\u001b[39;00m \u001b[39mhasattr\u001b[39m(\u001b[39mself\u001b[39m\u001b[39m.\u001b[39msock, \u001b[39m\"\u001b[39m\u001b[39mversion\u001b[39m\u001b[39m\"\u001b[39m)\n\u001b[1;32m    439\u001b[0m     \u001b[39mand\u001b[39;00m \u001b[39mself\u001b[39m\u001b[39m.\u001b[39msock\u001b[39m.\u001b[39mversion() \u001b[39min\u001b[39;00m {\u001b[39m\"\u001b[39m\u001b[39mTLSv1\u001b[39m\u001b[39m\"\u001b[39m, \u001b[39m\"\u001b[39m\u001b[39mTLSv1.1\u001b[39m\u001b[39m\"\u001b[39m}\n\u001b[1;32m    440\u001b[0m ):\n",
      "File \u001b[0;32m~/anaconda3/lib/python3.11/site-packages/urllib3/util/ssl_.py:449\u001b[0m, in \u001b[0;36mssl_wrap_socket\u001b[0;34m(sock, keyfile, certfile, cert_reqs, ca_certs, server_hostname, ssl_version, ciphers, ssl_context, ca_cert_dir, key_password, ca_cert_data, tls_in_tls)\u001b[0m\n\u001b[1;32m    437\u001b[0m     warnings\u001b[39m.\u001b[39mwarn(\n\u001b[1;32m    438\u001b[0m         \u001b[39m\"\u001b[39m\u001b[39mAn HTTPS request has been made, but the SNI (Server Name \u001b[39m\u001b[39m\"\u001b[39m\n\u001b[1;32m    439\u001b[0m         \u001b[39m\"\u001b[39m\u001b[39mIndication) extension to TLS is not available on this platform. \u001b[39m\u001b[39m\"\u001b[39m\n\u001b[0;32m   (...)\u001b[0m\n\u001b[1;32m    445\u001b[0m         SNIMissingWarning,\n\u001b[1;32m    446\u001b[0m     )\n\u001b[1;32m    448\u001b[0m \u001b[39mif\u001b[39;00m send_sni:\n\u001b[0;32m--> 449\u001b[0m     ssl_sock \u001b[39m=\u001b[39m _ssl_wrap_socket_impl(\n\u001b[1;32m    450\u001b[0m         sock, context, tls_in_tls, server_hostname\u001b[39m=\u001b[39mserver_hostname\n\u001b[1;32m    451\u001b[0m     )\n\u001b[1;32m    452\u001b[0m \u001b[39melse\u001b[39;00m:\n\u001b[1;32m    453\u001b[0m     ssl_sock \u001b[39m=\u001b[39m _ssl_wrap_socket_impl(sock, context, tls_in_tls)\n",
      "File \u001b[0;32m~/anaconda3/lib/python3.11/site-packages/urllib3/util/ssl_.py:493\u001b[0m, in \u001b[0;36m_ssl_wrap_socket_impl\u001b[0;34m(sock, ssl_context, tls_in_tls, server_hostname)\u001b[0m\n\u001b[1;32m    490\u001b[0m     \u001b[39mreturn\u001b[39;00m SSLTransport(sock, ssl_context, server_hostname)\n\u001b[1;32m    492\u001b[0m \u001b[39mif\u001b[39;00m server_hostname:\n\u001b[0;32m--> 493\u001b[0m     \u001b[39mreturn\u001b[39;00m ssl_context\u001b[39m.\u001b[39mwrap_socket(sock, server_hostname\u001b[39m=\u001b[39mserver_hostname)\n\u001b[1;32m    494\u001b[0m \u001b[39melse\u001b[39;00m:\n\u001b[1;32m    495\u001b[0m     \u001b[39mreturn\u001b[39;00m ssl_context\u001b[39m.\u001b[39mwrap_socket(sock)\n",
      "File \u001b[0;32m~/anaconda3/lib/python3.11/ssl.py:517\u001b[0m, in \u001b[0;36mSSLContext.wrap_socket\u001b[0;34m(self, sock, server_side, do_handshake_on_connect, suppress_ragged_eofs, server_hostname, session)\u001b[0m\n\u001b[1;32m    511\u001b[0m \u001b[39mdef\u001b[39;00m \u001b[39mwrap_socket\u001b[39m(\u001b[39mself\u001b[39m, sock, server_side\u001b[39m=\u001b[39m\u001b[39mFalse\u001b[39;00m,\n\u001b[1;32m    512\u001b[0m                 do_handshake_on_connect\u001b[39m=\u001b[39m\u001b[39mTrue\u001b[39;00m,\n\u001b[1;32m    513\u001b[0m                 suppress_ragged_eofs\u001b[39m=\u001b[39m\u001b[39mTrue\u001b[39;00m,\n\u001b[1;32m    514\u001b[0m                 server_hostname\u001b[39m=\u001b[39m\u001b[39mNone\u001b[39;00m, session\u001b[39m=\u001b[39m\u001b[39mNone\u001b[39;00m):\n\u001b[1;32m    515\u001b[0m     \u001b[39m# SSLSocket class handles server_hostname encoding before it calls\u001b[39;00m\n\u001b[1;32m    516\u001b[0m     \u001b[39m# ctx._wrap_socket()\u001b[39;00m\n\u001b[0;32m--> 517\u001b[0m     \u001b[39mreturn\u001b[39;00m \u001b[39mself\u001b[39m\u001b[39m.\u001b[39msslsocket_class\u001b[39m.\u001b[39m_create(\n\u001b[1;32m    518\u001b[0m         sock\u001b[39m=\u001b[39msock,\n\u001b[1;32m    519\u001b[0m         server_side\u001b[39m=\u001b[39mserver_side,\n\u001b[1;32m    520\u001b[0m         do_handshake_on_connect\u001b[39m=\u001b[39mdo_handshake_on_connect,\n\u001b[1;32m    521\u001b[0m         suppress_ragged_eofs\u001b[39m=\u001b[39msuppress_ragged_eofs,\n\u001b[1;32m    522\u001b[0m         server_hostname\u001b[39m=\u001b[39mserver_hostname,\n\u001b[1;32m    523\u001b[0m         context\u001b[39m=\u001b[39m\u001b[39mself\u001b[39m,\n\u001b[1;32m    524\u001b[0m         session\u001b[39m=\u001b[39msession\n\u001b[1;32m    525\u001b[0m     )\n",
      "File \u001b[0;32m~/anaconda3/lib/python3.11/ssl.py:1075\u001b[0m, in \u001b[0;36mSSLSocket._create\u001b[0;34m(cls, sock, server_side, do_handshake_on_connect, suppress_ragged_eofs, server_hostname, context, session)\u001b[0m\n\u001b[1;32m   1072\u001b[0m         \u001b[39mif\u001b[39;00m timeout \u001b[39m==\u001b[39m \u001b[39m0.0\u001b[39m:\n\u001b[1;32m   1073\u001b[0m             \u001b[39m# non-blocking\u001b[39;00m\n\u001b[1;32m   1074\u001b[0m             \u001b[39mraise\u001b[39;00m \u001b[39mValueError\u001b[39;00m(\u001b[39m\"\u001b[39m\u001b[39mdo_handshake_on_connect should not be specified for non-blocking sockets\u001b[39m\u001b[39m\"\u001b[39m)\n\u001b[0;32m-> 1075\u001b[0m         \u001b[39mself\u001b[39m\u001b[39m.\u001b[39mdo_handshake()\n\u001b[1;32m   1076\u001b[0m \u001b[39mexcept\u001b[39;00m (\u001b[39mOSError\u001b[39;00m, \u001b[39mValueError\u001b[39;00m):\n\u001b[1;32m   1077\u001b[0m     \u001b[39mself\u001b[39m\u001b[39m.\u001b[39mclose()\n",
      "File \u001b[0;32m~/anaconda3/lib/python3.11/ssl.py:1346\u001b[0m, in \u001b[0;36mSSLSocket.do_handshake\u001b[0;34m(self, block)\u001b[0m\n\u001b[1;32m   1344\u001b[0m     \u001b[39mif\u001b[39;00m timeout \u001b[39m==\u001b[39m \u001b[39m0.0\u001b[39m \u001b[39mand\u001b[39;00m block:\n\u001b[1;32m   1345\u001b[0m         \u001b[39mself\u001b[39m\u001b[39m.\u001b[39msettimeout(\u001b[39mNone\u001b[39;00m)\n\u001b[0;32m-> 1346\u001b[0m     \u001b[39mself\u001b[39m\u001b[39m.\u001b[39m_sslobj\u001b[39m.\u001b[39mdo_handshake()\n\u001b[1;32m   1347\u001b[0m \u001b[39mfinally\u001b[39;00m:\n\u001b[1;32m   1348\u001b[0m     \u001b[39mself\u001b[39m\u001b[39m.\u001b[39msettimeout(timeout)\n",
      "\u001b[0;31mKeyboardInterrupt\u001b[0m: "
     ]
    }
   ],
   "source": [
    "import requests\n",
    "\n",
    "# Set parameters to search for a hotel\n",
    "radius = 5000  # You can adjust the radius as needed\n",
    "params = {\n",
    "    \"categories\": \"lodging\",\n",
    "    \"limit\": 1,\n",
    "    \"apiKey\": \"0745e34c259f42b6bc091115f54d016e\"  # Replace with your actual Geoapify API key\n",
    "}\n",
    "\n",
    "# Print a message to follow up the hotel search\n",
    "print(\"Starting hotel search\")\n",
    "\n",
    "# Iterate through the hotel_df DataFrame\n",
    "for index, row in hotel_df.iterrows():\n",
    "    # Get latitude and longitude from the DataFrame\n",
    "    lat = row[\"Lat\"]\n",
    "    lng = row[\"Lng\"]\n",
    "    \n",
    "    # Add filter and bias parameters with the current city's latitude and longitude to the params dictionary\n",
    "    params[\"filter\"] = f\"radius:{radius}@{lng},{lat}\"\n",
    "    params[\"bias\"] = f\"circle:{radius}@{lng},{lat}\"\n",
    "    \n",
    "    # Set base URL\n",
    "    base_url = \"https://api.geoapify.com/v2/places\"\n",
    "\n",
    "    # Make an API request using the params dictionary\n",
    "    response = requests.get(base_url, params=params)\n",
    "    \n",
    "    # Check if the API request was successful\n",
    "    if response.status_code == 200:\n",
    "        name_address = response.json()\n",
    "        \n",
    "        # Convert the API response to JSON format\n",
    "        try:\n",
    "            # Grab the first hotel from the results and store the name in the hotel_df DataFrame\n",
    "            hotel_name = name_address[\"features\"][0][\"properties\"][\"name\"]\n",
    "            hotel_df.loc[index, \"Hotel Name\"] = hotel_name\n",
    "        except (KeyError, IndexError):\n",
    "            # If no hotel is found, set the hotel name as \"No hotel found\"\n",
    "            hotel_df.loc[index, \"Hotel Name\"] = \"No hotel found\"\n",
    "    else:\n",
    "        # Handle unsuccessful API request, e.g., by printing an error message\n",
    "        print(f\"API request for {hotel_df.loc[index, 'City']} failed with status code {response.status_code}\")\n",
    "        \n",
    "    # Log the search results\n",
    "    print(f\"{hotel_df.loc[index, 'City']} - nearest hotel: {hotel_df.loc[index, 'Hotel Name']}\")\n",
    "\n",
    "# Display sample data\n",
    "print(hotel_df[[\"City\", \"Country\", \"Lat\", \"Lng\", \"Humidity\", \"Hotel Name\"]])\n"
   ]
  },
  {
   "cell_type": "code",
   "execution_count": 17,
   "metadata": {},
   "outputs": [
    {
     "name": "stdout",
     "output_type": "stream",
     "text": [
      "Starting hotel search\n",
      "faya - nearest hotel: No hotel found\n",
      "farsund - nearest hotel: No hotel found\n",
      "new norfolk - nearest hotel: No hotel found\n",
      "jamestown - nearest hotel: No hotel found\n",
      "lanzhou - nearest hotel: No hotel found\n",
      "ushuaia - nearest hotel: No hotel found\n",
      "albany - nearest hotel: No hotel found\n",
      "carnarvon - nearest hotel: No hotel found\n",
      "sisimiut - nearest hotel: No hotel found\n",
      "saint-pierre - nearest hotel: No hotel found\n",
      "colorado - nearest hotel: No hotel found\n",
      "nikolskoye - nearest hotel: No hotel found\n",
      "trairi - nearest hotel: No hotel found\n",
      "dobryanka - nearest hotel: No hotel found\n",
      "qaanaaq - nearest hotel: No hotel found\n",
      "mataura - nearest hotel: No hotel found\n",
      "khatanga - nearest hotel: No hotel found\n",
      "tasiilaq - nearest hotel: No hotel found\n",
      "tiksi - nearest hotel: No hotel found\n",
      "puerto ayora - nearest hotel: No hotel found\n",
      "avarua - nearest hotel: No hotel found\n",
      "nuevo laredo - nearest hotel: No hotel found\n",
      "guiratinga - nearest hotel: No hotel found\n",
      "rikitea - nearest hotel: No hotel found\n",
      "dukat - nearest hotel: No hotel found\n",
      "constitucion - nearest hotel: No hotel found\n",
      "senneterre - nearest hotel: No hotel found\n",
      "bambous virieux - nearest hotel: No hotel found\n",
      "zangakatun - nearest hotel: No hotel found\n",
      "saint-louis - nearest hotel: No hotel found\n",
      "midwest city - nearest hotel: No hotel found\n",
      "grimmen - nearest hotel: No hotel found\n",
      "cape town - nearest hotel: No hotel found\n",
      "stornoway - nearest hotel: No hotel found\n",
      "naberera - nearest hotel: No hotel found\n",
      "chokurdakh - nearest hotel: No hotel found\n",
      "drochia - nearest hotel: No hotel found\n",
      "klaksvik - nearest hotel: No hotel found\n",
      "labuhan - nearest hotel: No hotel found\n",
      "tomatlan - nearest hotel: No hotel found\n",
      "clyde river - nearest hotel: No hotel found\n",
      "sao joao da barra - nearest hotel: No hotel found\n",
      "margate - nearest hotel: No hotel found\n",
      "ancud - nearest hotel: No hotel found\n",
      "collierville - nearest hotel: No hotel found\n",
      "kapaa - nearest hotel: No hotel found\n",
      "mogadishu - nearest hotel: No hotel found\n",
      "tsalka - nearest hotel: No hotel found\n",
      "dalby - nearest hotel: No hotel found\n",
      "hobart - nearest hotel: No hotel found\n",
      "dikson - nearest hotel: No hotel found\n",
      "hilo - nearest hotel: No hotel found\n",
      "businga - nearest hotel: No hotel found\n",
      "lasa - nearest hotel: No hotel found\n",
      "vaini - nearest hotel: No hotel found\n",
      "cayenne - nearest hotel: No hotel found\n",
      "ust-kulom - nearest hotel: No hotel found\n",
      "udachnyy - nearest hotel: No hotel found\n",
      "east london - nearest hotel: No hotel found\n",
      "busselton - nearest hotel: No hotel found\n",
      "airai - nearest hotel: No hotel found\n",
      "grindavik - nearest hotel: No hotel found\n",
      "barrow - nearest hotel: No hotel found\n",
      "banda - nearest hotel: No hotel found\n",
      "atuona - nearest hotel: No hotel found\n",
      "hermanus - nearest hotel: No hotel found\n",
      "mar del plata - nearest hotel: No hotel found\n",
      "caravelas - nearest hotel: No hotel found\n",
      "port lincoln - nearest hotel: No hotel found\n",
      "bredasdorp - nearest hotel: No hotel found\n",
      "mendi - nearest hotel: No hotel found\n",
      "cobija - nearest hotel: No hotel found\n",
      "deer lake - nearest hotel: No hotel found\n",
      "nalut - nearest hotel: No hotel found\n",
      "saskylakh - nearest hotel: No hotel found\n",
      "dudinka - nearest hotel: No hotel found\n",
      "zamberk - nearest hotel: No hotel found\n",
      "jaguariaiva - nearest hotel: No hotel found\n",
      "aberdeen - nearest hotel: No hotel found\n",
      "mahebourg - nearest hotel: No hotel found\n",
      "kedrovyy - nearest hotel: No hotel found\n",
      "makakilo city - nearest hotel: No hotel found\n",
      "qostanay - nearest hotel: No hotel found\n",
      "esperance - nearest hotel: No hotel found\n",
      "darnah - nearest hotel: No hotel found\n",
      "provideniya - nearest hotel: No hotel found\n",
      "rafaela - nearest hotel: No hotel found\n",
      "saint-philippe - nearest hotel: No hotel found\n",
      "ponta do sol - nearest hotel: No hotel found\n",
      "solnechnyy - nearest hotel: No hotel found\n",
      "saint george - nearest hotel: No hotel found\n",
      "alba - nearest hotel: No hotel found\n",
      "arman - nearest hotel: No hotel found\n",
      "ugoofaaru - nearest hotel: No hotel found\n",
      "butaritari - nearest hotel: No hotel found\n",
      "kavaratti - nearest hotel: No hotel found\n",
      "zhangye - nearest hotel: No hotel found\n",
      "shenjiamen - nearest hotel: No hotel found\n",
      "itarema - nearest hotel: No hotel found\n",
      "trincomalee - nearest hotel: No hotel found\n",
      "castro - nearest hotel: No hotel found\n",
      "heihe - nearest hotel: No hotel found\n",
      "rio gallegos - nearest hotel: No hotel found\n",
      "siavonga - nearest hotel: No hotel found\n",
      "bluff - nearest hotel: No hotel found\n",
      "nova olimpia - nearest hotel: No hotel found\n",
      "palencia - nearest hotel: No hotel found\n",
      "inhambane - nearest hotel: No hotel found\n",
      "iqaluit - nearest hotel: No hotel found\n",
      "lebu - nearest hotel: No hotel found\n",
      "calabozo - nearest hotel: No hotel found\n",
      "sao filipe - nearest hotel: No hotel found\n",
      "torbay - nearest hotel: No hotel found\n",
      "kavieng - nearest hotel: No hotel found\n",
      "yidu - nearest hotel: No hotel found\n",
      "cedar city - nearest hotel: No hotel found\n",
      "victoria - nearest hotel: No hotel found\n",
      "faanui - nearest hotel: No hotel found\n",
      "arraial do cabo - nearest hotel: No hotel found\n",
      "hithadhoo - nearest hotel: No hotel found\n",
      "port alfred - nearest hotel: No hotel found\n",
      "lichuan - nearest hotel: No hotel found\n",
      "talnakh - nearest hotel: No hotel found\n",
      "novorzhev - nearest hotel: No hotel found\n",
      "muncar - nearest hotel: No hotel found\n",
      "jashpurnagar - nearest hotel: No hotel found\n",
      "chuy - nearest hotel: No hotel found\n",
      "kulykivka - nearest hotel: No hotel found\n",
      "half moon bay - nearest hotel: No hotel found\n",
      "bocana de paiwas - nearest hotel: No hotel found\n",
      "el alto - nearest hotel: No hotel found\n",
      "sitka - nearest hotel: No hotel found\n",
      "punta arenas - nearest hotel: No hotel found\n",
      "bay city - nearest hotel: No hotel found\n",
      "baruun-urt - nearest hotel: No hotel found\n",
      "ambon - nearest hotel: No hotel found\n",
      "corowa - nearest hotel: No hotel found\n",
      "port elizabeth - nearest hotel: No hotel found\n",
      "ocos - nearest hotel: No hotel found\n",
      "georgetown - nearest hotel: No hotel found\n",
      "tuktoyaktuk - nearest hotel: No hotel found\n",
      "brenham - nearest hotel: No hotel found\n",
      "peniche - nearest hotel: No hotel found\n",
      "tawang - nearest hotel: No hotel found\n",
      "havelock - nearest hotel: No hotel found\n",
      "novobelokatay - nearest hotel: No hotel found\n",
      "puerto del rosario - nearest hotel: No hotel found\n",
      "mount gambier - nearest hotel: No hotel found\n",
      "rindal - nearest hotel: No hotel found\n",
      "roseburg - nearest hotel: No hotel found\n",
      "kaeo - nearest hotel: No hotel found\n",
      "biak - nearest hotel: No hotel found\n",
      "kahului - nearest hotel: No hotel found\n",
      "lavrentiya - nearest hotel: No hotel found\n",
      "sabang - nearest hotel: No hotel found\n",
      "pangnirtung - nearest hotel: No hotel found\n",
      "corn island - nearest hotel: No hotel found\n",
      "innisfail - nearest hotel: No hotel found\n",
      "almaznyy - nearest hotel: No hotel found\n",
      "geraldton - nearest hotel: No hotel found\n",
      "kokopo - nearest hotel: No hotel found\n",
      "yellowknife - nearest hotel: No hotel found\n",
      "sao miguel do araguaia - nearest hotel: No hotel found\n",
      "belmonte - nearest hotel: No hotel found\n",
      "pisco - nearest hotel: No hotel found\n",
      "ambilobe - nearest hotel: No hotel found\n",
      "aripuana - nearest hotel: No hotel found\n",
      "kaitangata - nearest hotel: No hotel found\n",
      "lesnoy - nearest hotel: No hotel found\n",
      "evensk - nearest hotel: No hotel found\n",
      "sur - nearest hotel: No hotel found\n",
      "la ronge - nearest hotel: No hotel found\n",
      "danielskuil - nearest hotel: No hotel found\n",
      "chunhuhub - nearest hotel: No hotel found\n",
      "avera - nearest hotel: No hotel found\n",
      "ouallam - nearest hotel: No hotel found\n",
      "challapata - nearest hotel: No hotel found\n",
      "olafsvik - nearest hotel: No hotel found\n",
      "neepawa - nearest hotel: No hotel found\n",
      "freetown - nearest hotel: No hotel found\n",
      "nome - nearest hotel: No hotel found\n",
      "hovd - nearest hotel: No hotel found\n",
      "ugra - nearest hotel: No hotel found\n",
      "upernavik - nearest hotel: No hotel found\n",
      "sembakung - nearest hotel: No hotel found\n",
      "shakawe - nearest hotel: No hotel found\n",
      "upington - nearest hotel: No hotel found\n",
      "gwanda - nearest hotel: No hotel found\n",
      "kruisfontein - nearest hotel: No hotel found\n",
      "grand gaube - nearest hotel: No hotel found\n",
      "cacahuatepec - nearest hotel: No hotel found\n",
      "paita - nearest hotel: No hotel found\n",
      "bumba - nearest hotel: No hotel found\n",
      "maragogi - nearest hotel: No hotel found\n",
      "kosa - nearest hotel: No hotel found\n",
      "lagoa - nearest hotel: No hotel found\n",
      "cabra - nearest hotel: No hotel found\n",
      "gat - nearest hotel: No hotel found\n",
      "buala - nearest hotel: No hotel found\n",
      "asau - nearest hotel: No hotel found\n",
      "isangel - nearest hotel: No hotel found\n",
      "pevek - nearest hotel: No hotel found\n",
      "husavik - nearest hotel: No hotel found\n",
      "kodiak - nearest hotel: No hotel found\n",
      "zyryanka - nearest hotel: No hotel found\n",
      "valparaiso - nearest hotel: No hotel found\n",
      "baykit - nearest hotel: No hotel found\n",
      "port moresby - nearest hotel: No hotel found\n",
      "meulaboh - nearest hotel: No hotel found\n",
      "nakamura - nearest hotel: No hotel found\n",
      "simao - nearest hotel: No hotel found\n",
      "laguna - nearest hotel: No hotel found\n",
      "bethel - nearest hotel: No hotel found\n",
      "kodinsk - nearest hotel: No hotel found\n",
      "luderitz - nearest hotel: No hotel found\n",
      "touros - nearest hotel: No hotel found\n",
      "glasgow - nearest hotel: No hotel found\n",
      "ladario - nearest hotel: No hotel found\n",
      "sao teotonio - nearest hotel: No hotel found\n",
      "puri - nearest hotel: No hotel found\n",
      "yumbe - nearest hotel: No hotel found\n",
      "pangkalanbuun - nearest hotel: No hotel found\n",
      "hay river - nearest hotel: No hotel found\n",
      "verkhniye achaluki - nearest hotel: No hotel found\n",
      "terrace bay - nearest hotel: No hotel found\n",
      "ust-koksa - nearest hotel: No hotel found\n",
      "sorong - nearest hotel: No hotel found\n",
      "longyearbyen - nearest hotel: No hotel found\n",
      "san patricio - nearest hotel: No hotel found\n",
      "san cristobal - nearest hotel: No hotel found\n",
      "lensk - nearest hotel: No hotel found\n",
      "carrollton - nearest hotel: No hotel found\n",
      "norman wells - nearest hotel: No hotel found\n",
      "makokou - nearest hotel: No hotel found\n",
      "llata - nearest hotel: No hotel found\n",
      "neiafu - nearest hotel: No hotel found\n",
      "moroni - nearest hotel: No hotel found\n",
      "cap malheureux - nearest hotel: No hotel found\n",
      "walvis bay - nearest hotel: No hotel found\n",
      "rawson - nearest hotel: No hotel found\n",
      "tikaitnagar - nearest hotel: No hotel found\n",
      "sembe - nearest hotel: No hotel found\n",
      "aksu - nearest hotel: No hotel found\n",
      "russkaya polyana - nearest hotel: No hotel found\n",
      "broken hill - nearest hotel: No hotel found\n",
      "cherskiy - nearest hotel: No hotel found\n",
      "beya - nearest hotel: No hotel found\n",
      "goba - nearest hotel: No hotel found\n",
      "ordzhonikidze - nearest hotel: No hotel found\n",
      "high rock - nearest hotel: No hotel found\n",
      "floro - nearest hotel: No hotel found\n",
      "balabac - nearest hotel: No hotel found\n",
      "bintulu - nearest hotel: No hotel found\n",
      "tchaourou - nearest hotel: No hotel found\n",
      "zhongshan - nearest hotel: No hotel found\n",
      "quatre cocos - nearest hotel: No hotel found\n",
      "prieska - nearest hotel: No hotel found\n",
      "pathanamthitta - nearest hotel: No hotel found\n",
      "comodoro rivadavia - nearest hotel: No hotel found\n",
      "sungaipenuh - nearest hotel: No hotel found\n",
      "aklavik - nearest hotel: No hotel found\n",
      "camacha - nearest hotel: No hotel found\n",
      "thompson - nearest hotel: No hotel found\n",
      "hambantota - nearest hotel: No hotel found\n",
      "swanton - nearest hotel: No hotel found\n",
      "san quintin - nearest hotel: No hotel found\n",
      "codrington - nearest hotel: No hotel found\n",
      "chapais - nearest hotel: No hotel found\n",
      "chengde - nearest hotel: No hotel found\n",
      "portland - nearest hotel: No hotel found\n",
      "berdigestyakh - nearest hotel: No hotel found\n",
      "coquimbo - nearest hotel: No hotel found\n",
      "samana - nearest hotel: No hotel found\n",
      "anchorage - nearest hotel: No hotel found\n",
      "fairbanks - nearest hotel: No hotel found\n",
      "cockburn town - nearest hotel: No hotel found\n",
      "tura - nearest hotel: No hotel found\n",
      "sakakah - nearest hotel: No hotel found\n",
      "ola - nearest hotel: No hotel found\n",
      "hasaki - nearest hotel: No hotel found\n",
      "jiuquan - nearest hotel: No hotel found\n",
      "tuatapere - nearest hotel: No hotel found\n",
      "kloulklubed - nearest hotel: No hotel found\n",
      "ust-maya - nearest hotel: No hotel found\n",
      "san juan - nearest hotel: No hotel found\n",
      "whitianga - nearest hotel: No hotel found\n",
      "praia - nearest hotel: No hotel found\n",
      "okitipupa - nearest hotel: No hotel found\n",
      "monmouth - nearest hotel: No hotel found\n",
      "san andres - nearest hotel: No hotel found\n",
      "lyngseidet - nearest hotel: No hotel found\n",
      "dunmore town - nearest hotel: No hotel found\n",
      "galegos - nearest hotel: No hotel found\n",
      "kamen-rybolov - nearest hotel: No hotel found\n",
      "dabat - nearest hotel: No hotel found\n",
      "camopi - nearest hotel: No hotel found\n",
      "jalu - nearest hotel: No hotel found\n",
      "eyl - nearest hotel: No hotel found\n",
      "valdivia - nearest hotel: No hotel found\n",
      "teguldet - nearest hotel: No hotel found\n",
      "aquiraz - nearest hotel: No hotel found\n",
      "ulaangom - nearest hotel: No hotel found\n",
      "souillac - nearest hotel: No hotel found\n",
      "alice springs - nearest hotel: No hotel found\n",
      "koriyama - nearest hotel: No hotel found\n",
      "kingman - nearest hotel: No hotel found\n",
      "college - nearest hotel: No hotel found\n",
      "la romana - nearest hotel: No hotel found\n",
      "daru - nearest hotel: No hotel found\n",
      "boden - nearest hotel: No hotel found\n",
      "carroll - nearest hotel: No hotel found\n",
      "ust-kuyga - nearest hotel: No hotel found\n",
      "bucerias - nearest hotel: No hotel found\n",
      "tandil - nearest hotel: No hotel found\n",
      "horsham - nearest hotel: No hotel found\n",
      "vao - nearest hotel: No hotel found\n",
      "bathsheba - nearest hotel: No hotel found\n",
      "salalah - nearest hotel: No hotel found\n",
      "harwich - nearest hotel: No hotel found\n",
      "sambava - nearest hotel: No hotel found\n",
      "yarada - nearest hotel: No hotel found\n",
      "namibe - nearest hotel: No hotel found\n",
      "kokkola - nearest hotel: No hotel found\n",
      "leningradskiy - nearest hotel: No hotel found\n",
      "vostok - nearest hotel: No hotel found\n",
      "rio grande - nearest hotel: No hotel found\n",
      "chegdomyn - nearest hotel: No hotel found\n",
      "ilulissat - nearest hotel: No hotel found\n",
      "viseu - nearest hotel: No hotel found\n",
      "cidreira - nearest hotel: No hotel found\n",
      "bafoulabe - nearest hotel: No hotel found\n",
      "swan river - nearest hotel: No hotel found\n",
      "rocha - nearest hotel: No hotel found\n",
      "juruti - nearest hotel: No hotel found\n",
      "kailua - nearest hotel: No hotel found\n",
      "verkh-suetka - nearest hotel: No hotel found\n",
      "dunedin - nearest hotel: No hotel found\n",
      "mount isa - nearest hotel: No hotel found\n",
      "mahina - nearest hotel: No hotel found\n",
      "kamloops - nearest hotel: No hotel found\n",
      "santa rosalia - nearest hotel: No hotel found\n",
      "nerchinskiy zavod - nearest hotel: No hotel found\n",
      "torrington - nearest hotel: No hotel found\n",
      "krutikha - nearest hotel: No hotel found\n",
      "bonavista - nearest hotel: No hotel found\n",
      "zaysan - nearest hotel: No hotel found\n",
      "mana - nearest hotel: No hotel found\n",
      "nemuro - nearest hotel: No hotel found\n",
      "mandera - nearest hotel: No hotel found\n",
      "numan - nearest hotel: No hotel found\n",
      "pingliang - nearest hotel: No hotel found\n",
      "saldanha - nearest hotel: No hotel found\n",
      "petropavlovsk-kamchatskiy - nearest hotel: No hotel found\n",
      "vila velha - nearest hotel: No hotel found\n",
      "bengkulu - nearest hotel: No hotel found\n",
      "honiara - nearest hotel: No hotel found\n",
      "pemba - nearest hotel: No hotel found\n",
      "ahipara - nearest hotel: No hotel found\n",
      "shingu - nearest hotel: No hotel found\n",
      "korla - nearest hotel: No hotel found\n",
      "lerik - nearest hotel: No hotel found\n",
      "quelimane - nearest hotel: No hotel found\n",
      "katyuzhanka - nearest hotel: No hotel found\n",
      "narwar - nearest hotel: No hotel found\n",
      "port hardy - nearest hotel: No hotel found\n",
      "sol-iletsk - nearest hotel: No hotel found\n",
      "tabou - nearest hotel: No hotel found\n",
      "saint anthony - nearest hotel: No hotel found\n",
      "srednekolymsk - nearest hotel: No hotel found\n",
      "homer - nearest hotel: No hotel found\n",
      "livingston - nearest hotel: No hotel found\n",
      "lima - nearest hotel: No hotel found\n",
      "christchurch - nearest hotel: No hotel found\n",
      "beitbridge - nearest hotel: No hotel found\n",
      "kortkeros - nearest hotel: No hotel found\n",
      "port hedland - nearest hotel: No hotel found\n",
      "fortuna - nearest hotel: No hotel found\n",
      "dicabisagan - nearest hotel: No hotel found\n",
      "smithers - nearest hotel: No hotel found\n",
      "peleduy - nearest hotel: No hotel found\n",
      "yulara - nearest hotel: No hotel found\n",
      "roebourne - nearest hotel: No hotel found\n",
      "mariinskiy posad - nearest hotel: No hotel found\n",
      "mayumba - nearest hotel: No hotel found\n",
      "adrar - nearest hotel: No hotel found\n",
      "port blair - nearest hotel: No hotel found\n",
      "komsomolskiy - nearest hotel: No hotel found\n",
      "ribeira grande - nearest hotel: No hotel found\n",
      "qasigiannguit - nearest hotel: No hotel found\n",
      "buraydah - nearest hotel: No hotel found\n",
      "port-gentil - nearest hotel: No hotel found\n",
      "saint-francois - nearest hotel: No hotel found\n",
      "vestmannaeyjar - nearest hotel: No hotel found\n",
      "bogande - nearest hotel: No hotel found\n",
      "quesnel - nearest hotel: No hotel found\n",
      "usman - nearest hotel: No hotel found\n",
      "aykhal - nearest hotel: No hotel found\n",
      "carlyle - nearest hotel: No hotel found\n",
      "kayerkan - nearest hotel: No hotel found\n",
      "moron - nearest hotel: No hotel found\n",
      "paamiut - nearest hotel: No hotel found\n",
      "hamilton - nearest hotel: No hotel found\n",
      "seoul - nearest hotel: No hotel found\n",
      "woodward - nearest hotel: No hotel found\n",
      "georgiyevskoye - nearest hotel: No hotel found\n",
      "mayo - nearest hotel: No hotel found\n",
      "kysyl-syr - nearest hotel: No hotel found\n",
      "tashara - nearest hotel: No hotel found\n",
      "acajutla - nearest hotel: No hotel found\n",
      "capoterra - nearest hotel: No hotel found\n",
      "muisne - nearest hotel: No hotel found\n",
      "praia da vitoria - nearest hotel: No hotel found\n",
      "maniitsoq - nearest hotel: No hotel found\n",
      "kalemie - nearest hotel: No hotel found\n",
      "tagusao - nearest hotel: No hotel found\n",
      "mao - nearest hotel: No hotel found\n",
      "mahibadhoo - nearest hotel: No hotel found\n",
      "cabo san lucas - nearest hotel: No hotel found\n",
      "panuco - nearest hotel: No hotel found\n",
      "hervey bay - nearest hotel: No hotel found\n",
      "fayaoue - nearest hotel: No hotel found\n",
      "stolac - nearest hotel: No hotel found\n",
      "gamboma - nearest hotel: No hotel found\n",
      "rundu - nearest hotel: No hotel found\n",
      "carutapera - nearest hotel: No hotel found\n",
      "port-de-bouc - nearest hotel: No hotel found\n",
      "nanortalik - nearest hotel: No hotel found\n",
      "dzaoudzi - nearest hotel: No hotel found\n",
      "aktau - nearest hotel: No hotel found\n",
      "lorengau - nearest hotel: No hotel found\n",
      "pachino - nearest hotel: No hotel found\n",
      "cabedelo - nearest hotel: No hotel found\n",
      "denpasar - nearest hotel: No hotel found\n",
      "ipixuna - nearest hotel: No hotel found\n",
      "broome - nearest hotel: No hotel found\n",
      "tilichiki - nearest hotel: No hotel found\n",
      "lakki marwat - nearest hotel: No hotel found\n",
      "veinticinco de mayo - nearest hotel: No hotel found\n",
      "avdon - nearest hotel: No hotel found\n",
      "katobu - nearest hotel: No hotel found\n",
      "merauke - nearest hotel: No hotel found\n",
      "yangliuqing - nearest hotel: No hotel found\n",
      "tieling - nearest hotel: No hotel found\n",
      "togur - nearest hotel: No hotel found\n",
      "thinadhoo - nearest hotel: No hotel found\n",
      "terra santa - nearest hotel: No hotel found\n",
      "colares - nearest hotel: No hotel found\n",
      "havoysund - nearest hotel: No hotel found\n",
      "ostrovnoy - nearest hotel: No hotel found\n",
      "alofi - nearest hotel: No hotel found\n",
      "samandag - nearest hotel: No hotel found\n",
      "san joaquin - nearest hotel: No hotel found\n",
      "treinta y tres - nearest hotel: No hotel found\n",
      "nazareno - nearest hotel: No hotel found\n",
      "tessalit - nearest hotel: No hotel found\n",
      "yaan - nearest hotel: No hotel found\n",
      "ixtapa - nearest hotel: No hotel found\n",
      "dong hoi - nearest hotel: No hotel found\n",
      "harindanga - nearest hotel: No hotel found\n",
      "pontypool - nearest hotel: No hotel found\n",
      "ulladulla - nearest hotel: No hotel found\n",
      "la paz - nearest hotel: No hotel found\n",
      "hualmay - nearest hotel: No hotel found\n",
      "barroso - nearest hotel: No hotel found\n",
      "vryburg - nearest hotel: No hotel found\n",
      "beira - nearest hotel: No hotel found\n",
      "the valley - nearest hotel: No hotel found\n",
      "narsaq - nearest hotel: No hotel found\n",
      "juegang - nearest hotel: No hotel found\n",
      "verkhniy avzyan - nearest hotel: No hotel found\n",
      "araouane - nearest hotel: No hotel found\n",
      "kirakira - nearest hotel: No hotel found\n",
      "tautira - nearest hotel: No hotel found\n",
      "singkang - nearest hotel: No hotel found\n",
      "taitung - nearest hotel: No hotel found\n",
      "nabire - nearest hotel: No hotel found\n",
      "chifeng - nearest hotel: No hotel found\n",
      "caiaponia - nearest hotel: No hotel found\n",
      "salto - nearest hotel: No hotel found\n",
      "praya - nearest hotel: No hotel found\n",
      "aksarka - nearest hotel: No hotel found\n",
      "abu zabad - nearest hotel: No hotel found\n",
      "kushima - nearest hotel: No hotel found\n",
      "beaune - nearest hotel: No hotel found\n",
      "egvekinot - nearest hotel: No hotel found\n",
      "greenville - nearest hotel: No hotel found\n",
      "ust-ordynskiy - nearest hotel: No hotel found\n",
      "tranas - nearest hotel: No hotel found\n",
      "pleasanton - nearest hotel: No hotel found\n",
      "beringovskiy - nearest hotel: No hotel found\n",
      "newcastleton - nearest hotel: No hotel found\n",
      "hirado - nearest hotel: No hotel found\n",
      "brokopondo - nearest hotel: No hotel found\n",
      "batagay - nearest hotel: No hotel found\n",
      "laurel - nearest hotel: No hotel found\n",
      "statesville - nearest hotel: No hotel found\n",
      "tikrit - nearest hotel: No hotel found\n",
      "iisalmi - nearest hotel: No hotel found\n",
      "lahij - nearest hotel: No hotel found\n",
      "derzhavinsk - nearest hotel: No hotel found\n",
      "kyren - nearest hotel: No hotel found\n",
      "kapit - nearest hotel: No hotel found\n",
      "altay - nearest hotel: No hotel found\n",
      "waseca - nearest hotel: No hotel found\n",
      "nantucket - nearest hotel: No hotel found\n",
      "cadillac - nearest hotel: No hotel found\n",
      "sfantu gheorghe - nearest hotel: No hotel found\n",
      "kundiawa - nearest hotel: No hotel found\n",
      "gornopravdinsk - nearest hotel: No hotel found\n",
      "bhandara - nearest hotel: No hotel found\n",
      "wadi musa - nearest hotel: No hotel found\n",
      "charters towers - nearest hotel: No hotel found\n",
      "ustka - nearest hotel: No hotel found\n",
      "sawakin - nearest hotel: No hotel found\n",
      "severo-kurilsk - nearest hotel: No hotel found\n",
      "rameswaram - nearest hotel: No hotel found\n",
      "guerrero negro - nearest hotel: No hotel found\n",
      "bandarbeyla - nearest hotel: No hotel found\n",
      "antofagasta - nearest hotel: No hotel found\n",
      "vila franca do campo - nearest hotel: No hotel found\n",
      "bauta - nearest hotel: No hotel found\n",
      "nsanje - nearest hotel: No hotel found\n",
      "xuchang - nearest hotel: No hotel found\n",
      "todos santos - nearest hotel: No hotel found\n",
      "bataipora - nearest hotel: No hotel found\n",
      "tateyama - nearest hotel: No hotel found\n",
      "wajima - nearest hotel: No hotel found\n",
      "pokosnoye - nearest hotel: No hotel found\n",
      "waipawa - nearest hotel: No hotel found\n",
      "yaring - nearest hotel: No hotel found\n",
      "isiro - nearest hotel: No hotel found\n",
      "chivilcoy - nearest hotel: No hotel found\n",
      "mandalgovi - nearest hotel: No hotel found\n",
      "nicoya - nearest hotel: No hotel found\n",
      "novocheremshansk - nearest hotel: No hotel found\n",
      "emirdag - nearest hotel: No hotel found\n",
      "nouadhibou - nearest hotel: No hotel found\n",
      "tongliao - nearest hotel: No hotel found\n",
      "ryomgard - nearest hotel: No hotel found\n",
      "khudumelapye - nearest hotel: No hotel found\n",
      "talcahuano - nearest hotel: No hotel found\n",
      "gifhorn - nearest hotel: No hotel found\n",
      "bilma - nearest hotel: No hotel found\n",
      "vung tau - nearest hotel: No hotel found\n",
      "byron bay - nearest hotel: No hotel found\n",
      "kalabo - nearest hotel: No hotel found\n",
      "arcata - nearest hotel: No hotel found\n",
      "lemoore - nearest hotel: No hotel found\n",
      "norfolk - nearest hotel: No hotel found\n",
      "juba - nearest hotel: No hotel found\n",
      "pali - nearest hotel: No hotel found\n",
      "katsuura - nearest hotel: No hotel found\n",
      "bambanglipuro - nearest hotel: No hotel found\n",
      "padang - nearest hotel: No hotel found\n",
      "freeport - nearest hotel: No hotel found\n",
      "bulgan - nearest hotel: No hotel found\n",
      "sorland - nearest hotel: No hotel found\n",
      "saryg-sep - nearest hotel: No hotel found\n",
      "batagay-alyta - nearest hotel: No hotel found\n",
      "lompoc - nearest hotel: No hotel found\n",
      "changli - nearest hotel: No hotel found\n",
      "choma - nearest hotel: No hotel found\n",
      "tena - nearest hotel: No hotel found\n",
      "ilhabela - nearest hotel: No hotel found\n",
      "redmond - nearest hotel: No hotel found\n",
      "wyndham - nearest hotel: No hotel found\n",
      "nhulunbuy - nearest hotel: No hotel found\n",
      "sangamner - nearest hotel: No hotel found\n",
      "road town - nearest hotel: No hotel found\n",
      "ranong - nearest hotel: No hotel found\n",
      "staryy nadym - nearest hotel: No hotel found\n",
      "dargaville - nearest hotel: No hotel found\n",
      "sovetskiy - nearest hotel: No hotel found\n",
      "tatarsk - nearest hotel: No hotel found\n",
      "canchungo - nearest hotel: No hotel found\n",
      "iquique - nearest hotel: No hotel found\n",
      "poum - nearest hotel: No hotel found\n",
      "            City Country      Lat       Lng  Humidity      Hotel Name\n",
      "0           faya      SA  18.3851   42.4509        35  No hotel found\n",
      "1        farsund      NO  58.0948    6.8047       100  No hotel found\n",
      "2    new norfolk      AU -42.7826  147.0587        58  No hotel found\n",
      "3      jamestown      US  42.0970  -79.2353        77  No hotel found\n",
      "4        lanzhou      CN  36.0564  103.7922        48  No hotel found\n",
      "..           ...     ...      ...       ...       ...             ...\n",
      "572    sovetskiy      RU  61.3614   63.5842        96  No hotel found\n",
      "573      tatarsk      RU  55.2190   75.9828        89  No hotel found\n",
      "574    canchungo      GW  12.0672  -16.0333        61  No hotel found\n",
      "575      iquique      CL -20.2208  -70.1431        68  No hotel found\n",
      "576         poum      NC -20.2333  164.0167        79  No hotel found\n",
      "\n",
      "[577 rows x 6 columns]\n"
     ]
    }
   ],
   "source": [
    "import requests\n",
    "\n",
    "# Set parameters to search for a hotel\n",
    "radius = 5000  # You can adjust the radius as needed\n",
    "params = {\n",
    "    \"categories\": \"lodging\",\n",
    "    \"limit\": 1,\n",
    "    \"apiKey\": \"0745e34c259f42b6bc091115f54d016e\"  # Replace with your actual Geoapify API key\n",
    "}\n",
    "\n",
    "# Print a message to follow up the hotel search\n",
    "print(\"Starting hotel search\")\n",
    "\n",
    "# Iterate through the hotel_df DataFrame\n",
    "for index, row in hotel_df.iterrows():\n",
    "    # Get latitude and longitude from the DataFrame\n",
    "    lat = row[\"Lat\"]\n",
    "    lng = row[\"Lng\"]\n",
    "    \n",
    "    # Add filter and bias parameters with the current city's latitude and longitude to the params dictionary\n",
    "    params[\"filter\"] = f\"circle:{radius}@{lng},{lat}\"\n",
    "    params[\"bias\"] = f\"point:{lng},{lat}\"\n",
    "    \n",
    "    # Set base URL\n",
    "    base_url = \"https://api.geoapify.com/v1/places\"\n",
    "\n",
    "    # Make an API request using the params dictionary\n",
    "    response = requests.get(base_url, params=params)\n",
    "\n",
    "    # Convert the API response to JSON format\n",
    "    name_address = response.json()\n",
    "\n",
    "    # Grab the first hotel from the results and store the name in the hotel_df DataFrame\n",
    "    try:\n",
    "        hotel_name = name_address[\"features\"][0][\"properties\"][\"name\"]\n",
    "        hotel_df.loc[index, \"Hotel Name\"] = hotel_name\n",
    "    except (KeyError, IndexError):\n",
    "        # If no hotel is found, set the hotel name as \"No hotel found\"\n",
    "        hotel_df.loc[index, \"Hotel Name\"] = \"No hotel found\"\n",
    "        \n",
    "    # Log the search results\n",
    "    print(f\"{hotel_df.loc[index, 'City']} - nearest hotel: {hotel_df.loc[index, 'Hotel Name']}\")\n",
    "\n",
    "# Display sample data\n",
    "print(hotel_df[[\"City\", \"Country\", \"Lat\", \"Lng\", \"Humidity\", \"Hotel Name\"]])\n"
   ]
  },
  {
   "cell_type": "markdown",
   "metadata": {},
   "source": [
    "### Step 5: Add the hotel name and the country as additional information in the hover message for each city in the map."
   ]
  },
  {
   "cell_type": "code",
   "execution_count": 7,
   "metadata": {},
   "outputs": [
    {
     "data": {},
     "metadata": {},
     "output_type": "display_data"
    },
    {
     "data": {
      "application/vnd.holoviews_exec.v0+json": "",
      "text/html": [
       "<div id='1139'>\n",
       "  <div class=\"bk-root\" id=\"7b5a7bdc-70f8-4d0f-98b5-94088c2a4292\" data-root-id=\"1139\"></div>\n",
       "</div>\n",
       "<script type=\"application/javascript\">(function(root) {\n",
       "  function embed_document(root) {\n",
       "    var docs_json = {\"c8f53044-6bb6-451a-8ec5-6a7e93149cf2\":{\"defs\":[{\"extends\":null,\"module\":null,\"name\":\"ReactiveHTML1\",\"overrides\":[],\"properties\":[]},{\"extends\":null,\"module\":null,\"name\":\"FlexBox1\",\"overrides\":[],\"properties\":[{\"default\":\"flex-start\",\"kind\":null,\"name\":\"align_content\"},{\"default\":\"flex-start\",\"kind\":null,\"name\":\"align_items\"},{\"default\":\"row\",\"kind\":null,\"name\":\"flex_direction\"},{\"default\":\"wrap\",\"kind\":null,\"name\":\"flex_wrap\"},{\"default\":\"flex-start\",\"kind\":null,\"name\":\"justify_content\"}]},{\"extends\":null,\"module\":null,\"name\":\"GridStack1\",\"overrides\":[],\"properties\":[{\"default\":\"warn\",\"kind\":null,\"name\":\"mode\"},{\"default\":null,\"kind\":null,\"name\":\"ncols\"},{\"default\":null,\"kind\":null,\"name\":\"nrows\"},{\"default\":true,\"kind\":null,\"name\":\"allow_resize\"},{\"default\":true,\"kind\":null,\"name\":\"allow_drag\"},{\"default\":[],\"kind\":null,\"name\":\"state\"}]},{\"extends\":null,\"module\":null,\"name\":\"click1\",\"overrides\":[],\"properties\":[{\"default\":\"\",\"kind\":null,\"name\":\"terminal_output\"},{\"default\":\"\",\"kind\":null,\"name\":\"debug_name\"},{\"default\":0,\"kind\":null,\"name\":\"clears\"}]},{\"extends\":null,\"module\":null,\"name\":\"NotificationAreaBase1\",\"overrides\":[],\"properties\":[{\"default\":\"bottom-right\",\"kind\":null,\"name\":\"position\"},{\"default\":0,\"kind\":null,\"name\":\"_clear\"}]},{\"extends\":null,\"module\":null,\"name\":\"NotificationArea1\",\"overrides\":[],\"properties\":[{\"default\":[],\"kind\":null,\"name\":\"notifications\"},{\"default\":\"bottom-right\",\"kind\":null,\"name\":\"position\"},{\"default\":0,\"kind\":null,\"name\":\"_clear\"},{\"default\":[{\"background\":\"#ffc107\",\"icon\":{\"className\":\"fas fa-exclamation-triangle\",\"color\":\"white\",\"tagName\":\"i\"},\"type\":\"warning\"},{\"background\":\"#007bff\",\"icon\":{\"className\":\"fas fa-info-circle\",\"color\":\"white\",\"tagName\":\"i\"},\"type\":\"info\"}],\"kind\":null,\"name\":\"types\"}]},{\"extends\":null,\"module\":null,\"name\":\"Notification\",\"overrides\":[],\"properties\":[{\"default\":null,\"kind\":null,\"name\":\"background\"},{\"default\":3000,\"kind\":null,\"name\":\"duration\"},{\"default\":null,\"kind\":null,\"name\":\"icon\"},{\"default\":\"\",\"kind\":null,\"name\":\"message\"},{\"default\":null,\"kind\":null,\"name\":\"notification_type\"},{\"default\":false,\"kind\":null,\"name\":\"_destroyed\"}]},{\"extends\":null,\"module\":null,\"name\":\"TemplateActions1\",\"overrides\":[],\"properties\":[{\"default\":0,\"kind\":null,\"name\":\"open_modal\"},{\"default\":0,\"kind\":null,\"name\":\"close_modal\"}]},{\"extends\":null,\"module\":null,\"name\":\"MaterialTemplateActions1\",\"overrides\":[],\"properties\":[{\"default\":0,\"kind\":null,\"name\":\"open_modal\"},{\"default\":0,\"kind\":null,\"name\":\"close_modal\"}]}],\"roots\":{\"references\":[{\"attributes\":{\"dimension\":\"lat\"},\"id\":\"1186\",\"type\":\"MercatorTicker\"},{\"attributes\":{},\"id\":\"1159\",\"type\":\"LinearScale\"},{\"attributes\":{\"data\":{\"City\":[\"kapaa\",\"hilo\",\"banda\",\"makakilo city\",\"kahului\",\"gat\",\"laguna\",\"tikaitnagar\",\"san quintin\",\"santa rosalia\",\"narwar\",\"port hedland\",\"roebourne\",\"saint-francois\",\"capoterra\",\"stolac\",\"guerrero negro\"],\"Country\":[\"US\",\"US\",\"IN\",\"US\",\"US\",\"IL\",\"US\",\"IN\",\"MX\",\"MX\",\"IN\",\"AU\",\"AU\",\"FR\",\"IT\",\"BA\",\"MX\"],\"Hotel_Name\":[\"Pono Kai Resort\",\"Dolphin Bay Hotel\",\"#acnindiafy21\",\"Embassy Suites by Hilton Oahu Kapolei\",\"Maui Seaside Hotel\",\"No hotel found\",\"Holiday Inn Express & Suites\",\"No hotel found\",\"Jardines Hotel\",\"Hotel del Real\",\"No hotel found\",\"The Esplanade Hotel\",\"No hotel found\",\"Chez Lily\",\"Rosa Hotel\",\"Bregava\",\"Plaza sal paraiso\"],\"Humidity\":[84,83,52,81,60,100,79,59,74,56,55,73,65,57,71,68,68],\"Lat\":{\"__ndarray__\":\"3KYbJfY6Q0FhSt/CBhlBQaHNdnPcZEZBfDISjYWQQkGBO86NHydCQb49c55wUkxBP4+IuVeyUUEx0BImVchHQaFOkweBNEtBuNiVoOshSEFNdwQQCo1GQb1Ugi/doEHBUNKFDTUNQsGSVg5GIE5WQTmauSWzG1JBppZPzgZQVEEdIC/c9sNIQQ==\",\"dtype\":\"float64\",\"order\":\"little\",\"shape\":[17]},\"Lng\":{\"__ndarray__\":\"LFRC3+jpcMFo6zu9+XZwwTp/l8GIDmFBw1If7GTIcMEdPZcLe5xwwcrdWoV2hk1BjwXCcgTIacFYODltelJhQT+to958nmjBeJT6+C7XZ8HSQ6aKRYpgQR/EaBW4LGlBiS/zac7eaEHyNLCO7IgaQSpSPWqgei5BpfyDwauAPkFCQkjy0DdowQ==\",\"dtype\":\"float64\",\"order\":\"little\",\"shape\":[17]},\"color\":[\"kapaa\",\"hilo\",\"banda\",\"makakilo city\",\"kahului\",\"gat\",\"laguna\",\"tikaitnagar\",\"san quintin\",\"santa rosalia\",\"narwar\",\"port hedland\",\"roebourne\",\"saint-francois\",\"capoterra\",\"stolac\",\"guerrero negro\"],\"size\":{\"__ndarray__\":\"hR4VuY5UIkAonAXAijgiQPNZYUQr2BxAAAAAAAAAIkDaTk+x3vseQAAAAAAAACRAcLgta8HGIUDbnltFfrkeQE4BN/pjNCFAST9oEeruHUDY4arvL6odQKMUrqiHFiFA0LphP+AfIEBcz1bMBzMeQAb7lU0w2iBAB+2vZg9+IEAH7a9mD34gQA==\",\"dtype\":\"float64\",\"order\":\"little\",\"shape\":[17]}},\"selected\":{\"id\":\"1217\"},\"selection_policy\":{\"id\":\"1229\"}},\"id\":\"1216\",\"type\":\"ColumnDataSource\"},{\"attributes\":{\"bottom_units\":\"screen\",\"coordinates\":null,\"fill_alpha\":0.5,\"fill_color\":\"lightgrey\",\"group\":null,\"left_units\":\"screen\",\"level\":\"overlay\",\"line_alpha\":1.0,\"line_color\":\"black\",\"line_dash\":[4,4],\"line_width\":2,\"right_units\":\"screen\",\"syncable\":false,\"top_units\":\"screen\"},\"id\":\"1174\",\"type\":\"BoxAnnotation\"},{\"attributes\":{\"coordinates\":null,\"group\":null,\"level\":\"glyph\",\"tile_source\":{\"id\":\"1210\"}},\"id\":\"1213\",\"type\":\"TileRenderer\"},{\"attributes\":{\"source\":{\"id\":\"1216\"}},\"id\":\"1225\",\"type\":\"CDSView\"},{\"attributes\":{\"margin\":[5,5,5,5],\"name\":\"HSpacer01686\",\"sizing_mode\":\"stretch_width\"},\"id\":\"1140\",\"type\":\"Spacer\"},{\"attributes\":{\"attribution\":\"&copy; <a href=\\\"https://www.openstreetmap.org/copyright\\\">OpenStreetMap</a> contributors\",\"url\":\"https://c.tile.openstreetmap.org/{Z}/{X}/{Y}.png\"},\"id\":\"1210\",\"type\":\"WMTSTileSource\"},{\"attributes\":{\"coordinates\":null,\"data_source\":{\"id\":\"1216\"},\"glyph\":{\"id\":\"1219\"},\"group\":null,\"hover_glyph\":{\"id\":\"1222\"},\"muted_glyph\":{\"id\":\"1223\"},\"nonselection_glyph\":{\"id\":\"1220\"},\"selection_glyph\":{\"id\":\"1221\"},\"view\":{\"id\":\"1225\"}},\"id\":\"1224\",\"type\":\"GlyphRenderer\"},{\"attributes\":{\"axis\":{\"id\":\"1161\"},\"coordinates\":null,\"grid_line_color\":null,\"group\":null,\"ticker\":null},\"id\":\"1164\",\"type\":\"Grid\"},{\"attributes\":{\"click_policy\":\"mute\",\"coordinates\":null,\"group\":null,\"items\":[{\"id\":\"1233\"}],\"location\":[0,0]},\"id\":\"1232\",\"type\":\"Legend\"},{\"attributes\":{\"axis_label\":\"x\",\"coordinates\":null,\"formatter\":{\"id\":\"1185\"},\"group\":null,\"major_label_policy\":{\"id\":\"1190\"},\"ticker\":{\"id\":\"1184\"}},\"id\":\"1161\",\"type\":\"LinearAxis\"},{\"attributes\":{\"fill_alpha\":{\"value\":0.5},\"fill_color\":{\"field\":\"color\",\"transform\":{\"id\":\"1215\"}},\"hatch_alpha\":{\"value\":0.5},\"hatch_color\":{\"field\":\"color\",\"transform\":{\"id\":\"1215\"}},\"line_alpha\":{\"value\":0.5},\"line_color\":{\"field\":\"color\",\"transform\":{\"id\":\"1215\"}},\"size\":{\"field\":\"size\"},\"x\":{\"field\":\"Lng\"},\"y\":{\"field\":\"Lat\"}},\"id\":\"1222\",\"type\":\"Scatter\"},{\"attributes\":{\"zoom_on_axis\":false},\"id\":\"1171\",\"type\":\"WheelZoomTool\"},{\"attributes\":{},\"id\":\"1217\",\"type\":\"Selection\"},{\"attributes\":{},\"id\":\"1229\",\"type\":\"UnionRenderers\"},{\"attributes\":{},\"id\":\"1170\",\"type\":\"PanTool\"},{\"attributes\":{},\"id\":\"1157\",\"type\":\"LinearScale\"},{\"attributes\":{\"coordinates\":null,\"group\":null,\"text_color\":\"black\",\"text_font_size\":\"12pt\"},\"id\":\"1153\",\"type\":\"Title\"},{\"attributes\":{\"code\":\"\\n        var projections = Bokeh.require(\\\"core/util/projections\\\");\\n        var x = special_vars.data_x\\n        var y = special_vars.data_y\\n        if (projections.wgs84_mercator.invert == null) {\\n          var coords = projections.wgs84_mercator.inverse([x, y])\\n        } else {\\n          var coords = projections.wgs84_mercator.invert(x, y)\\n        }\\n        return \\\"\\\" + (coords[1]).toFixed(4)\\n    \"},\"id\":\"1235\",\"type\":\"CustomJSHover\"},{\"attributes\":{\"fill_alpha\":{\"value\":0.5},\"fill_color\":{\"field\":\"color\",\"transform\":{\"id\":\"1215\"}},\"hatch_alpha\":{\"value\":0.5},\"hatch_color\":{\"field\":\"color\",\"transform\":{\"id\":\"1215\"}},\"line_alpha\":{\"value\":0.5},\"line_color\":{\"field\":\"color\",\"transform\":{\"id\":\"1215\"}},\"size\":{\"field\":\"size\"},\"x\":{\"field\":\"Lng\"},\"y\":{\"field\":\"Lat\"}},\"id\":\"1219\",\"type\":\"Scatter\"},{\"attributes\":{\"children\":[{\"id\":\"1140\"},{\"id\":\"1152\"},{\"id\":\"1242\"}],\"margin\":[0,0,0,0],\"name\":\"Row01682\",\"tags\":[\"embedded\"]},\"id\":\"1139\",\"type\":\"Row\"},{\"attributes\":{\"callback\":null,\"formatters\":{\"$x\":{\"id\":\"1234\"},\"$y\":{\"id\":\"1235\"}},\"renderers\":[{\"id\":\"1224\"}],\"tags\":[\"hv_created\"],\"tooltips\":[[\"Lng\",\"$x{custom}\"],[\"Lat\",\"$y{custom}\"],[\"City\",\"@{City}\"],[\"Humidity\",\"@{Humidity}\"],[\"Hotel Name\",\"@{Hotel_Name}\"],[\"Country\",\"@{Country}\"]]},\"id\":\"1149\",\"type\":\"HoverTool\"},{\"attributes\":{},\"id\":\"1173\",\"type\":\"ResetTool\"},{\"attributes\":{\"fill_alpha\":{\"value\":0.2},\"fill_color\":{\"field\":\"color\",\"transform\":{\"id\":\"1215\"}},\"hatch_alpha\":{\"value\":0.2},\"hatch_color\":{\"field\":\"color\",\"transform\":{\"id\":\"1215\"}},\"line_alpha\":{\"value\":0.2},\"line_color\":{\"field\":\"color\",\"transform\":{\"id\":\"1215\"}},\"size\":{\"field\":\"size\"},\"x\":{\"field\":\"Lng\"},\"y\":{\"field\":\"Lat\"}},\"id\":\"1223\",\"type\":\"Scatter\"},{\"attributes\":{\"end\":14366716.452919383,\"min_interval\":5,\"reset_end\":14366716.452919383,\"reset_start\":-10885605.506340533,\"start\":-10885605.506340533,\"tags\":[[[\"Lat\",\"Lat\",null]]]},\"id\":\"1146\",\"type\":\"Range1d\"},{\"attributes\":{},\"id\":\"1197\",\"type\":\"AllLabels\"},{\"attributes\":{\"axis_label\":\"y\",\"coordinates\":null,\"formatter\":{\"id\":\"1187\"},\"group\":null,\"major_label_policy\":{\"id\":\"1197\"},\"ticker\":{\"id\":\"1186\"}},\"id\":\"1165\",\"type\":\"LinearAxis\"},{\"attributes\":{\"end\":15408362.72915458,\"min_interval\":5,\"reset_end\":15408362.72915458,\"reset_start\":-19944888.0138093,\"start\":-19944888.0138093,\"tags\":[[[\"Lng\",\"Lng\",null]]]},\"id\":\"1145\",\"type\":\"Range1d\"},{\"attributes\":{\"below\":[{\"id\":\"1161\"}],\"center\":[{\"id\":\"1164\"},{\"id\":\"1168\"}],\"frame_height\":500,\"frame_width\":700,\"height\":null,\"left\":[{\"id\":\"1165\"}],\"margin\":[5,5,5,5],\"match_aspect\":true,\"min_border_bottom\":10,\"min_border_left\":10,\"min_border_right\":10,\"min_border_top\":10,\"renderers\":[{\"id\":\"1213\"},{\"id\":\"1224\"}],\"right\":[{\"id\":\"1232\"}],\"sizing_mode\":\"fixed\",\"title\":{\"id\":\"1153\"},\"toolbar\":{\"id\":\"1175\"},\"width\":null,\"x_range\":{\"id\":\"1145\"},\"x_scale\":{\"id\":\"1157\"},\"y_range\":{\"id\":\"1146\"},\"y_scale\":{\"id\":\"1159\"}},\"id\":\"1152\",\"subtype\":\"Figure\",\"type\":\"Plot\"},{\"attributes\":{\"axis\":{\"id\":\"1165\"},\"coordinates\":null,\"dimension\":1,\"grid_line_color\":null,\"group\":null,\"ticker\":null},\"id\":\"1168\",\"type\":\"Grid\"},{\"attributes\":{\"label\":{\"field\":\"color\"},\"renderers\":[{\"id\":\"1224\"}]},\"id\":\"1233\",\"type\":\"LegendItem\"},{\"attributes\":{},\"id\":\"1190\",\"type\":\"AllLabels\"},{\"attributes\":{\"fill_alpha\":{\"value\":0.5},\"fill_color\":{\"field\":\"color\",\"transform\":{\"id\":\"1215\"}},\"hatch_alpha\":{\"value\":0.1},\"hatch_color\":{\"field\":\"color\",\"transform\":{\"id\":\"1215\"}},\"line_alpha\":{\"value\":0.5},\"line_color\":{\"field\":\"color\",\"transform\":{\"id\":\"1215\"}},\"size\":{\"field\":\"size\"},\"x\":{\"field\":\"Lng\"},\"y\":{\"field\":\"Lat\"}},\"id\":\"1220\",\"type\":\"Scatter\"},{\"attributes\":{\"dimension\":\"lon\"},\"id\":\"1185\",\"type\":\"MercatorTickFormatter\"},{\"attributes\":{\"tools\":[{\"id\":\"1149\"},{\"id\":\"1169\"},{\"id\":\"1170\"},{\"id\":\"1171\"},{\"id\":\"1172\"},{\"id\":\"1173\"}]},\"id\":\"1175\",\"type\":\"Toolbar\"},{\"attributes\":{\"dimension\":\"lat\"},\"id\":\"1187\",\"type\":\"MercatorTickFormatter\"},{\"attributes\":{},\"id\":\"1169\",\"type\":\"SaveTool\"},{\"attributes\":{\"factors\":[\"kapaa\",\"hilo\",\"banda\",\"makakilo city\",\"kahului\",\"gat\",\"laguna\",\"tikaitnagar\",\"san quintin\",\"santa rosalia\",\"narwar\",\"port hedland\",\"roebourne\",\"saint-francois\",\"capoterra\",\"stolac\",\"guerrero negro\"],\"palette\":[\"#1f77b3\",\"#ff7e0e\",\"#2ba02b\",\"#d62628\",\"#9367bc\",\"#8c564b\",\"#e277c1\",\"#7e7e7e\",\"#bcbc21\",\"#16bdcf\",\"#3a0182\",\"#004201\",\"#0fffa8\",\"#5d003f\",\"#bcbcff\",\"#d8afa1\",\"#b80080\"]},\"id\":\"1215\",\"type\":\"CategoricalColorMapper\"},{\"attributes\":{\"code\":\"\\n        var projections = Bokeh.require(\\\"core/util/projections\\\");\\n        var x = special_vars.data_x\\n        var y = special_vars.data_y\\n        if (projections.wgs84_mercator.invert == null) {\\n          var coords = projections.wgs84_mercator.inverse([x, y])\\n        } else {\\n          var coords = projections.wgs84_mercator.invert(x, y)\\n        }\\n        return \\\"\\\" + (coords[0]).toFixed(4)\\n    \"},\"id\":\"1234\",\"type\":\"CustomJSHover\"},{\"attributes\":{\"match_aspect\":true,\"overlay\":{\"id\":\"1174\"}},\"id\":\"1172\",\"type\":\"BoxZoomTool\"},{\"attributes\":{\"margin\":[5,5,5,5],\"name\":\"HSpacer01687\",\"sizing_mode\":\"stretch_width\"},\"id\":\"1242\",\"type\":\"Spacer\"},{\"attributes\":{\"fill_alpha\":{\"value\":0.5},\"fill_color\":{\"field\":\"color\",\"transform\":{\"id\":\"1215\"}},\"hatch_alpha\":{\"value\":0.5},\"hatch_color\":{\"field\":\"color\",\"transform\":{\"id\":\"1215\"}},\"line_alpha\":{\"value\":0.5},\"line_color\":{\"field\":\"color\",\"transform\":{\"id\":\"1215\"}},\"size\":{\"field\":\"size\"},\"x\":{\"field\":\"Lng\"},\"y\":{\"field\":\"Lat\"}},\"id\":\"1221\",\"type\":\"Scatter\"},{\"attributes\":{\"dimension\":\"lon\"},\"id\":\"1184\",\"type\":\"MercatorTicker\"}],\"root_ids\":[\"1139\"]},\"title\":\"Bokeh Application\",\"version\":\"2.4.3\"}};\n",
       "    var render_items = [{\"docid\":\"c8f53044-6bb6-451a-8ec5-6a7e93149cf2\",\"root_ids\":[\"1139\"],\"roots\":{\"1139\":\"7b5a7bdc-70f8-4d0f-98b5-94088c2a4292\"}}];\n",
       "    root.Bokeh.embed.embed_items_notebook(docs_json, render_items);\n",
       "    for (const render_item of render_items) {\n",
       "      for (const root_id of render_item.root_ids) {\n",
       "\tconst id_el = document.getElementById(root_id)\n",
       "\tif (id_el.children.length && (id_el.children[0].className === 'bk-root')) {\n",
       "\t  const root_el = id_el.children[0]\n",
       "\t  root_el.id = root_el.id + '-rendered'\n",
       "\t}\n",
       "      }\n",
       "    }\n",
       "  }\n",
       "  if (root.Bokeh !== undefined && root.Bokeh.Panel !== undefined) {\n",
       "    embed_document(root);\n",
       "  } else {\n",
       "    var attempts = 0;\n",
       "    var timer = setInterval(function(root) {\n",
       "      if (root.Bokeh !== undefined && root.Bokeh.Panel !== undefined) {\n",
       "        clearInterval(timer);\n",
       "        embed_document(root);\n",
       "      } else if (document.readyState == \"complete\") {\n",
       "        attempts++;\n",
       "        if (attempts > 200) {\n",
       "          clearInterval(timer);\n",
       "          console.log(\"Bokeh: ERROR: Unable to run BokehJS code because BokehJS library is missing\");\n",
       "        }\n",
       "      }\n",
       "    }, 25, root)\n",
       "  }\n",
       "})(window);</script>"
      ],
      "text/plain": [
       ":Overlay\n",
       "   .Tiles.I  :Tiles   [x,y]\n",
       "   .Points.I :Points   [Lng,Lat]   (City,Humidity,Hotel Name,Country)"
      ]
     },
     "execution_count": 7,
     "metadata": {
      "application/vnd.holoviews_exec.v0+json": {
       "id": "1139"
      }
     },
     "output_type": "execute_result"
    }
   ],
   "source": [
    "%%capture --no-display\n",
    "\n",
    "# Configure the map plot\n",
    "# YOUR CODE HERE\n",
    "\n",
    "# Display the map\n",
    "# YOUR CODE HERE"
   ]
  },
  {
   "cell_type": "code",
   "execution_count": 23,
   "metadata": {},
   "outputs": [
    {
     "data": {
      "application/vnd.plotly.v1+json": {
       "config": {
        "plotlyServerURL": "https://plot.ly"
       },
       "data": [
        {
         "customdata": [],
         "geo": "geo",
         "hovertemplate": "<b>%{hovertext}</b><br><br>City=%{text}<br>Lat=%{lat}<br>Lng=%{lon}<br>Country=%{customdata[0]}<br>Hotel Name=%{customdata[1]}<br>Humidity=%{customdata[2]}<extra></extra>",
         "hovertext": [],
         "lat": [],
         "legendgroup": "",
         "lon": [],
         "marker": {
          "color": "#636efa",
          "symbol": "circle"
         },
         "mode": "markers+text",
         "name": "",
         "showlegend": false,
         "text": "%{text}<br>Country: %{customdata[0]}<br>Hotel: %{customdata[1]}<br>Humidity: %{customdata[2]}",
         "type": "scattergeo"
        }
       ],
       "layout": {
        "geo": {
         "center": {},
         "domain": {
          "x": [
           0,
           1
          ],
          "y": [
           0,
           1
          ]
         },
         "showland": true
        },
        "hoverlabel": {
         "bgcolor": "white",
         "bordercolor": "black",
         "font": {
          "family": "Arial",
          "size": 14
         }
        },
        "legend": {
         "tracegroupgap": 0
        },
        "margin": {
         "t": 60
        },
        "template": {
         "data": {
          "bar": [
           {
            "error_x": {
             "color": "#2a3f5f"
            },
            "error_y": {
             "color": "#2a3f5f"
            },
            "marker": {
             "line": {
              "color": "#E5ECF6",
              "width": 0.5
             },
             "pattern": {
              "fillmode": "overlay",
              "size": 10,
              "solidity": 0.2
             }
            },
            "type": "bar"
           }
          ],
          "barpolar": [
           {
            "marker": {
             "line": {
              "color": "#E5ECF6",
              "width": 0.5
             },
             "pattern": {
              "fillmode": "overlay",
              "size": 10,
              "solidity": 0.2
             }
            },
            "type": "barpolar"
           }
          ],
          "carpet": [
           {
            "aaxis": {
             "endlinecolor": "#2a3f5f",
             "gridcolor": "white",
             "linecolor": "white",
             "minorgridcolor": "white",
             "startlinecolor": "#2a3f5f"
            },
            "baxis": {
             "endlinecolor": "#2a3f5f",
             "gridcolor": "white",
             "linecolor": "white",
             "minorgridcolor": "white",
             "startlinecolor": "#2a3f5f"
            },
            "type": "carpet"
           }
          ],
          "choropleth": [
           {
            "colorbar": {
             "outlinewidth": 0,
             "ticks": ""
            },
            "type": "choropleth"
           }
          ],
          "contour": [
           {
            "colorbar": {
             "outlinewidth": 0,
             "ticks": ""
            },
            "colorscale": [
             [
              0,
              "#0d0887"
             ],
             [
              0.1111111111111111,
              "#46039f"
             ],
             [
              0.2222222222222222,
              "#7201a8"
             ],
             [
              0.3333333333333333,
              "#9c179e"
             ],
             [
              0.4444444444444444,
              "#bd3786"
             ],
             [
              0.5555555555555556,
              "#d8576b"
             ],
             [
              0.6666666666666666,
              "#ed7953"
             ],
             [
              0.7777777777777778,
              "#fb9f3a"
             ],
             [
              0.8888888888888888,
              "#fdca26"
             ],
             [
              1,
              "#f0f921"
             ]
            ],
            "type": "contour"
           }
          ],
          "contourcarpet": [
           {
            "colorbar": {
             "outlinewidth": 0,
             "ticks": ""
            },
            "type": "contourcarpet"
           }
          ],
          "heatmap": [
           {
            "colorbar": {
             "outlinewidth": 0,
             "ticks": ""
            },
            "colorscale": [
             [
              0,
              "#0d0887"
             ],
             [
              0.1111111111111111,
              "#46039f"
             ],
             [
              0.2222222222222222,
              "#7201a8"
             ],
             [
              0.3333333333333333,
              "#9c179e"
             ],
             [
              0.4444444444444444,
              "#bd3786"
             ],
             [
              0.5555555555555556,
              "#d8576b"
             ],
             [
              0.6666666666666666,
              "#ed7953"
             ],
             [
              0.7777777777777778,
              "#fb9f3a"
             ],
             [
              0.8888888888888888,
              "#fdca26"
             ],
             [
              1,
              "#f0f921"
             ]
            ],
            "type": "heatmap"
           }
          ],
          "heatmapgl": [
           {
            "colorbar": {
             "outlinewidth": 0,
             "ticks": ""
            },
            "colorscale": [
             [
              0,
              "#0d0887"
             ],
             [
              0.1111111111111111,
              "#46039f"
             ],
             [
              0.2222222222222222,
              "#7201a8"
             ],
             [
              0.3333333333333333,
              "#9c179e"
             ],
             [
              0.4444444444444444,
              "#bd3786"
             ],
             [
              0.5555555555555556,
              "#d8576b"
             ],
             [
              0.6666666666666666,
              "#ed7953"
             ],
             [
              0.7777777777777778,
              "#fb9f3a"
             ],
             [
              0.8888888888888888,
              "#fdca26"
             ],
             [
              1,
              "#f0f921"
             ]
            ],
            "type": "heatmapgl"
           }
          ],
          "histogram": [
           {
            "marker": {
             "pattern": {
              "fillmode": "overlay",
              "size": 10,
              "solidity": 0.2
             }
            },
            "type": "histogram"
           }
          ],
          "histogram2d": [
           {
            "colorbar": {
             "outlinewidth": 0,
             "ticks": ""
            },
            "colorscale": [
             [
              0,
              "#0d0887"
             ],
             [
              0.1111111111111111,
              "#46039f"
             ],
             [
              0.2222222222222222,
              "#7201a8"
             ],
             [
              0.3333333333333333,
              "#9c179e"
             ],
             [
              0.4444444444444444,
              "#bd3786"
             ],
             [
              0.5555555555555556,
              "#d8576b"
             ],
             [
              0.6666666666666666,
              "#ed7953"
             ],
             [
              0.7777777777777778,
              "#fb9f3a"
             ],
             [
              0.8888888888888888,
              "#fdca26"
             ],
             [
              1,
              "#f0f921"
             ]
            ],
            "type": "histogram2d"
           }
          ],
          "histogram2dcontour": [
           {
            "colorbar": {
             "outlinewidth": 0,
             "ticks": ""
            },
            "colorscale": [
             [
              0,
              "#0d0887"
             ],
             [
              0.1111111111111111,
              "#46039f"
             ],
             [
              0.2222222222222222,
              "#7201a8"
             ],
             [
              0.3333333333333333,
              "#9c179e"
             ],
             [
              0.4444444444444444,
              "#bd3786"
             ],
             [
              0.5555555555555556,
              "#d8576b"
             ],
             [
              0.6666666666666666,
              "#ed7953"
             ],
             [
              0.7777777777777778,
              "#fb9f3a"
             ],
             [
              0.8888888888888888,
              "#fdca26"
             ],
             [
              1,
              "#f0f921"
             ]
            ],
            "type": "histogram2dcontour"
           }
          ],
          "mesh3d": [
           {
            "colorbar": {
             "outlinewidth": 0,
             "ticks": ""
            },
            "type": "mesh3d"
           }
          ],
          "parcoords": [
           {
            "line": {
             "colorbar": {
              "outlinewidth": 0,
              "ticks": ""
             }
            },
            "type": "parcoords"
           }
          ],
          "pie": [
           {
            "automargin": true,
            "type": "pie"
           }
          ],
          "scatter": [
           {
            "fillpattern": {
             "fillmode": "overlay",
             "size": 10,
             "solidity": 0.2
            },
            "type": "scatter"
           }
          ],
          "scatter3d": [
           {
            "line": {
             "colorbar": {
              "outlinewidth": 0,
              "ticks": ""
             }
            },
            "marker": {
             "colorbar": {
              "outlinewidth": 0,
              "ticks": ""
             }
            },
            "type": "scatter3d"
           }
          ],
          "scattercarpet": [
           {
            "marker": {
             "colorbar": {
              "outlinewidth": 0,
              "ticks": ""
             }
            },
            "type": "scattercarpet"
           }
          ],
          "scattergeo": [
           {
            "marker": {
             "colorbar": {
              "outlinewidth": 0,
              "ticks": ""
             }
            },
            "type": "scattergeo"
           }
          ],
          "scattergl": [
           {
            "marker": {
             "colorbar": {
              "outlinewidth": 0,
              "ticks": ""
             }
            },
            "type": "scattergl"
           }
          ],
          "scattermapbox": [
           {
            "marker": {
             "colorbar": {
              "outlinewidth": 0,
              "ticks": ""
             }
            },
            "type": "scattermapbox"
           }
          ],
          "scatterpolar": [
           {
            "marker": {
             "colorbar": {
              "outlinewidth": 0,
              "ticks": ""
             }
            },
            "type": "scatterpolar"
           }
          ],
          "scatterpolargl": [
           {
            "marker": {
             "colorbar": {
              "outlinewidth": 0,
              "ticks": ""
             }
            },
            "type": "scatterpolargl"
           }
          ],
          "scatterternary": [
           {
            "marker": {
             "colorbar": {
              "outlinewidth": 0,
              "ticks": ""
             }
            },
            "type": "scatterternary"
           }
          ],
          "surface": [
           {
            "colorbar": {
             "outlinewidth": 0,
             "ticks": ""
            },
            "colorscale": [
             [
              0,
              "#0d0887"
             ],
             [
              0.1111111111111111,
              "#46039f"
             ],
             [
              0.2222222222222222,
              "#7201a8"
             ],
             [
              0.3333333333333333,
              "#9c179e"
             ],
             [
              0.4444444444444444,
              "#bd3786"
             ],
             [
              0.5555555555555556,
              "#d8576b"
             ],
             [
              0.6666666666666666,
              "#ed7953"
             ],
             [
              0.7777777777777778,
              "#fb9f3a"
             ],
             [
              0.8888888888888888,
              "#fdca26"
             ],
             [
              1,
              "#f0f921"
             ]
            ],
            "type": "surface"
           }
          ],
          "table": [
           {
            "cells": {
             "fill": {
              "color": "#EBF0F8"
             },
             "line": {
              "color": "white"
             }
            },
            "header": {
             "fill": {
              "color": "#C8D4E3"
             },
             "line": {
              "color": "white"
             }
            },
            "type": "table"
           }
          ]
         },
         "layout": {
          "annotationdefaults": {
           "arrowcolor": "#2a3f5f",
           "arrowhead": 0,
           "arrowwidth": 1
          },
          "autotypenumbers": "strict",
          "coloraxis": {
           "colorbar": {
            "outlinewidth": 0,
            "ticks": ""
           }
          },
          "colorscale": {
           "diverging": [
            [
             0,
             "#8e0152"
            ],
            [
             0.1,
             "#c51b7d"
            ],
            [
             0.2,
             "#de77ae"
            ],
            [
             0.3,
             "#f1b6da"
            ],
            [
             0.4,
             "#fde0ef"
            ],
            [
             0.5,
             "#f7f7f7"
            ],
            [
             0.6,
             "#e6f5d0"
            ],
            [
             0.7,
             "#b8e186"
            ],
            [
             0.8,
             "#7fbc41"
            ],
            [
             0.9,
             "#4d9221"
            ],
            [
             1,
             "#276419"
            ]
           ],
           "sequential": [
            [
             0,
             "#0d0887"
            ],
            [
             0.1111111111111111,
             "#46039f"
            ],
            [
             0.2222222222222222,
             "#7201a8"
            ],
            [
             0.3333333333333333,
             "#9c179e"
            ],
            [
             0.4444444444444444,
             "#bd3786"
            ],
            [
             0.5555555555555556,
             "#d8576b"
            ],
            [
             0.6666666666666666,
             "#ed7953"
            ],
            [
             0.7777777777777778,
             "#fb9f3a"
            ],
            [
             0.8888888888888888,
             "#fdca26"
            ],
            [
             1,
             "#f0f921"
            ]
           ],
           "sequentialminus": [
            [
             0,
             "#0d0887"
            ],
            [
             0.1111111111111111,
             "#46039f"
            ],
            [
             0.2222222222222222,
             "#7201a8"
            ],
            [
             0.3333333333333333,
             "#9c179e"
            ],
            [
             0.4444444444444444,
             "#bd3786"
            ],
            [
             0.5555555555555556,
             "#d8576b"
            ],
            [
             0.6666666666666666,
             "#ed7953"
            ],
            [
             0.7777777777777778,
             "#fb9f3a"
            ],
            [
             0.8888888888888888,
             "#fdca26"
            ],
            [
             1,
             "#f0f921"
            ]
           ]
          },
          "colorway": [
           "#636efa",
           "#EF553B",
           "#00cc96",
           "#ab63fa",
           "#FFA15A",
           "#19d3f3",
           "#FF6692",
           "#B6E880",
           "#FF97FF",
           "#FECB52"
          ],
          "font": {
           "color": "#2a3f5f"
          },
          "geo": {
           "bgcolor": "white",
           "lakecolor": "white",
           "landcolor": "#E5ECF6",
           "showlakes": true,
           "showland": true,
           "subunitcolor": "white"
          },
          "hoverlabel": {
           "align": "left"
          },
          "hovermode": "closest",
          "mapbox": {
           "style": "light"
          },
          "paper_bgcolor": "white",
          "plot_bgcolor": "#E5ECF6",
          "polar": {
           "angularaxis": {
            "gridcolor": "white",
            "linecolor": "white",
            "ticks": ""
           },
           "bgcolor": "#E5ECF6",
           "radialaxis": {
            "gridcolor": "white",
            "linecolor": "white",
            "ticks": ""
           }
          },
          "scene": {
           "xaxis": {
            "backgroundcolor": "#E5ECF6",
            "gridcolor": "white",
            "gridwidth": 2,
            "linecolor": "white",
            "showbackground": true,
            "ticks": "",
            "zerolinecolor": "white"
           },
           "yaxis": {
            "backgroundcolor": "#E5ECF6",
            "gridcolor": "white",
            "gridwidth": 2,
            "linecolor": "white",
            "showbackground": true,
            "ticks": "",
            "zerolinecolor": "white"
           },
           "zaxis": {
            "backgroundcolor": "#E5ECF6",
            "gridcolor": "white",
            "gridwidth": 2,
            "linecolor": "white",
            "showbackground": true,
            "ticks": "",
            "zerolinecolor": "white"
           }
          },
          "shapedefaults": {
           "line": {
            "color": "#2a3f5f"
           }
          },
          "ternary": {
           "aaxis": {
            "gridcolor": "white",
            "linecolor": "white",
            "ticks": ""
           },
           "baxis": {
            "gridcolor": "white",
            "linecolor": "white",
            "ticks": ""
           },
           "bgcolor": "#E5ECF6",
           "caxis": {
            "gridcolor": "white",
            "linecolor": "white",
            "ticks": ""
           }
          },
          "title": {
           "x": 0.05
          },
          "xaxis": {
           "automargin": true,
           "gridcolor": "white",
           "linecolor": "white",
           "ticks": "",
           "title": {
            "standoff": 15
           },
           "zerolinecolor": "white",
           "zerolinewidth": 2
          },
          "yaxis": {
           "automargin": true,
           "gridcolor": "white",
           "linecolor": "white",
           "ticks": "",
           "title": {
            "standoff": 15
           },
           "zerolinecolor": "white",
           "zerolinewidth": 2
          }
         }
        }
       }
      }
     },
     "metadata": {},
     "output_type": "display_data"
    }
   ],
   "source": [
    "import plotly.express as px\n",
    "\n",
    "# Filter the DataFrame to include only rows with a hotel found\n",
    "filtered_df = hotel_df[hotel_df[\"Hotel Name\"] != \"No hotel found\"]\n",
    "\n",
    "# Create a scatter map using Plotly Express\n",
    "fig = px.scatter_geo(\n",
    "    filtered_df,\n",
    "    lat=\"Lat\",\n",
    "    lon=\"Lng\",\n",
    "    text=\"City\",\n",
    "    hover_name=\"City\",\n",
    "    hover_data=[\"Country\", \"Hotel Name\", \"Humidity\"],\n",
    ")\n",
    "\n",
    "# Update hover information\n",
    "fig.update_traces(customdata=filtered_df[[\"Country\", \"Hotel Name\", \"Humidity\"]])\n",
    "fig.update_layout(hoverlabel=dict(\n",
    "    bgcolor=\"white\",\n",
    "    bordercolor=\"black\",\n",
    "    font_size=14,\n",
    "    font_family=\"Arial\"\n",
    "))\n",
    "\n",
    "# Customize hover text\n",
    "fig.update_traces(text=\"%{text}<br>Country: %{customdata[0]}<br>Hotel: %{customdata[1]}<br>Humidity: %{customdata[2]}\")\n",
    "fig.update_layout(geo=dict(showland=True))\n",
    "\n",
    "# Show the map\n",
    "fig.show()\n"
   ]
  },
  {
   "cell_type": "code",
   "execution_count": 22,
   "metadata": {},
   "outputs": [
    {
     "data": {
      "application/vnd.plotly.v1+json": {
       "config": {
        "plotlyServerURL": "https://plot.ly"
       },
       "data": [
        {
         "customdata": [],
         "geo": "geo",
         "hovertemplate": "<b>%{hovertext}</b><br><br>City=%{text}<br>Lat=%{lat}<br>Lng=%{lon}<br>Country=%{customdata[0]}<br>Hotel Name=%{customdata[1]}<br>Humidity=%{customdata[2]}<extra></extra>",
         "hovertext": [],
         "lat": [],
         "legendgroup": "",
         "lon": [],
         "marker": {
          "color": "#636efa",
          "symbol": "circle"
         },
         "mode": "markers+text",
         "name": "",
         "showlegend": false,
         "text": "%{text}",
         "type": "scattergeo"
        }
       ],
       "layout": {
        "geo": {
         "center": {},
         "domain": {
          "x": [
           0,
           1
          ],
          "y": [
           0,
           1
          ]
         },
         "showland": true
        },
        "hoverlabel": {
         "bgcolor": "white",
         "bordercolor": "black",
         "font": {
          "family": "Arial",
          "size": 14
         }
        },
        "legend": {
         "tracegroupgap": 0
        },
        "margin": {
         "t": 60
        },
        "template": {
         "data": {
          "bar": [
           {
            "error_x": {
             "color": "#2a3f5f"
            },
            "error_y": {
             "color": "#2a3f5f"
            },
            "marker": {
             "line": {
              "color": "#E5ECF6",
              "width": 0.5
             },
             "pattern": {
              "fillmode": "overlay",
              "size": 10,
              "solidity": 0.2
             }
            },
            "type": "bar"
           }
          ],
          "barpolar": [
           {
            "marker": {
             "line": {
              "color": "#E5ECF6",
              "width": 0.5
             },
             "pattern": {
              "fillmode": "overlay",
              "size": 10,
              "solidity": 0.2
             }
            },
            "type": "barpolar"
           }
          ],
          "carpet": [
           {
            "aaxis": {
             "endlinecolor": "#2a3f5f",
             "gridcolor": "white",
             "linecolor": "white",
             "minorgridcolor": "white",
             "startlinecolor": "#2a3f5f"
            },
            "baxis": {
             "endlinecolor": "#2a3f5f",
             "gridcolor": "white",
             "linecolor": "white",
             "minorgridcolor": "white",
             "startlinecolor": "#2a3f5f"
            },
            "type": "carpet"
           }
          ],
          "choropleth": [
           {
            "colorbar": {
             "outlinewidth": 0,
             "ticks": ""
            },
            "type": "choropleth"
           }
          ],
          "contour": [
           {
            "colorbar": {
             "outlinewidth": 0,
             "ticks": ""
            },
            "colorscale": [
             [
              0,
              "#0d0887"
             ],
             [
              0.1111111111111111,
              "#46039f"
             ],
             [
              0.2222222222222222,
              "#7201a8"
             ],
             [
              0.3333333333333333,
              "#9c179e"
             ],
             [
              0.4444444444444444,
              "#bd3786"
             ],
             [
              0.5555555555555556,
              "#d8576b"
             ],
             [
              0.6666666666666666,
              "#ed7953"
             ],
             [
              0.7777777777777778,
              "#fb9f3a"
             ],
             [
              0.8888888888888888,
              "#fdca26"
             ],
             [
              1,
              "#f0f921"
             ]
            ],
            "type": "contour"
           }
          ],
          "contourcarpet": [
           {
            "colorbar": {
             "outlinewidth": 0,
             "ticks": ""
            },
            "type": "contourcarpet"
           }
          ],
          "heatmap": [
           {
            "colorbar": {
             "outlinewidth": 0,
             "ticks": ""
            },
            "colorscale": [
             [
              0,
              "#0d0887"
             ],
             [
              0.1111111111111111,
              "#46039f"
             ],
             [
              0.2222222222222222,
              "#7201a8"
             ],
             [
              0.3333333333333333,
              "#9c179e"
             ],
             [
              0.4444444444444444,
              "#bd3786"
             ],
             [
              0.5555555555555556,
              "#d8576b"
             ],
             [
              0.6666666666666666,
              "#ed7953"
             ],
             [
              0.7777777777777778,
              "#fb9f3a"
             ],
             [
              0.8888888888888888,
              "#fdca26"
             ],
             [
              1,
              "#f0f921"
             ]
            ],
            "type": "heatmap"
           }
          ],
          "heatmapgl": [
           {
            "colorbar": {
             "outlinewidth": 0,
             "ticks": ""
            },
            "colorscale": [
             [
              0,
              "#0d0887"
             ],
             [
              0.1111111111111111,
              "#46039f"
             ],
             [
              0.2222222222222222,
              "#7201a8"
             ],
             [
              0.3333333333333333,
              "#9c179e"
             ],
             [
              0.4444444444444444,
              "#bd3786"
             ],
             [
              0.5555555555555556,
              "#d8576b"
             ],
             [
              0.6666666666666666,
              "#ed7953"
             ],
             [
              0.7777777777777778,
              "#fb9f3a"
             ],
             [
              0.8888888888888888,
              "#fdca26"
             ],
             [
              1,
              "#f0f921"
             ]
            ],
            "type": "heatmapgl"
           }
          ],
          "histogram": [
           {
            "marker": {
             "pattern": {
              "fillmode": "overlay",
              "size": 10,
              "solidity": 0.2
             }
            },
            "type": "histogram"
           }
          ],
          "histogram2d": [
           {
            "colorbar": {
             "outlinewidth": 0,
             "ticks": ""
            },
            "colorscale": [
             [
              0,
              "#0d0887"
             ],
             [
              0.1111111111111111,
              "#46039f"
             ],
             [
              0.2222222222222222,
              "#7201a8"
             ],
             [
              0.3333333333333333,
              "#9c179e"
             ],
             [
              0.4444444444444444,
              "#bd3786"
             ],
             [
              0.5555555555555556,
              "#d8576b"
             ],
             [
              0.6666666666666666,
              "#ed7953"
             ],
             [
              0.7777777777777778,
              "#fb9f3a"
             ],
             [
              0.8888888888888888,
              "#fdca26"
             ],
             [
              1,
              "#f0f921"
             ]
            ],
            "type": "histogram2d"
           }
          ],
          "histogram2dcontour": [
           {
            "colorbar": {
             "outlinewidth": 0,
             "ticks": ""
            },
            "colorscale": [
             [
              0,
              "#0d0887"
             ],
             [
              0.1111111111111111,
              "#46039f"
             ],
             [
              0.2222222222222222,
              "#7201a8"
             ],
             [
              0.3333333333333333,
              "#9c179e"
             ],
             [
              0.4444444444444444,
              "#bd3786"
             ],
             [
              0.5555555555555556,
              "#d8576b"
             ],
             [
              0.6666666666666666,
              "#ed7953"
             ],
             [
              0.7777777777777778,
              "#fb9f3a"
             ],
             [
              0.8888888888888888,
              "#fdca26"
             ],
             [
              1,
              "#f0f921"
             ]
            ],
            "type": "histogram2dcontour"
           }
          ],
          "mesh3d": [
           {
            "colorbar": {
             "outlinewidth": 0,
             "ticks": ""
            },
            "type": "mesh3d"
           }
          ],
          "parcoords": [
           {
            "line": {
             "colorbar": {
              "outlinewidth": 0,
              "ticks": ""
             }
            },
            "type": "parcoords"
           }
          ],
          "pie": [
           {
            "automargin": true,
            "type": "pie"
           }
          ],
          "scatter": [
           {
            "fillpattern": {
             "fillmode": "overlay",
             "size": 10,
             "solidity": 0.2
            },
            "type": "scatter"
           }
          ],
          "scatter3d": [
           {
            "line": {
             "colorbar": {
              "outlinewidth": 0,
              "ticks": ""
             }
            },
            "marker": {
             "colorbar": {
              "outlinewidth": 0,
              "ticks": ""
             }
            },
            "type": "scatter3d"
           }
          ],
          "scattercarpet": [
           {
            "marker": {
             "colorbar": {
              "outlinewidth": 0,
              "ticks": ""
             }
            },
            "type": "scattercarpet"
           }
          ],
          "scattergeo": [
           {
            "marker": {
             "colorbar": {
              "outlinewidth": 0,
              "ticks": ""
             }
            },
            "type": "scattergeo"
           }
          ],
          "scattergl": [
           {
            "marker": {
             "colorbar": {
              "outlinewidth": 0,
              "ticks": ""
             }
            },
            "type": "scattergl"
           }
          ],
          "scattermapbox": [
           {
            "marker": {
             "colorbar": {
              "outlinewidth": 0,
              "ticks": ""
             }
            },
            "type": "scattermapbox"
           }
          ],
          "scatterpolar": [
           {
            "marker": {
             "colorbar": {
              "outlinewidth": 0,
              "ticks": ""
             }
            },
            "type": "scatterpolar"
           }
          ],
          "scatterpolargl": [
           {
            "marker": {
             "colorbar": {
              "outlinewidth": 0,
              "ticks": ""
             }
            },
            "type": "scatterpolargl"
           }
          ],
          "scatterternary": [
           {
            "marker": {
             "colorbar": {
              "outlinewidth": 0,
              "ticks": ""
             }
            },
            "type": "scatterternary"
           }
          ],
          "surface": [
           {
            "colorbar": {
             "outlinewidth": 0,
             "ticks": ""
            },
            "colorscale": [
             [
              0,
              "#0d0887"
             ],
             [
              0.1111111111111111,
              "#46039f"
             ],
             [
              0.2222222222222222,
              "#7201a8"
             ],
             [
              0.3333333333333333,
              "#9c179e"
             ],
             [
              0.4444444444444444,
              "#bd3786"
             ],
             [
              0.5555555555555556,
              "#d8576b"
             ],
             [
              0.6666666666666666,
              "#ed7953"
             ],
             [
              0.7777777777777778,
              "#fb9f3a"
             ],
             [
              0.8888888888888888,
              "#fdca26"
             ],
             [
              1,
              "#f0f921"
             ]
            ],
            "type": "surface"
           }
          ],
          "table": [
           {
            "cells": {
             "fill": {
              "color": "#EBF0F8"
             },
             "line": {
              "color": "white"
             }
            },
            "header": {
             "fill": {
              "color": "#C8D4E3"
             },
             "line": {
              "color": "white"
             }
            },
            "type": "table"
           }
          ]
         },
         "layout": {
          "annotationdefaults": {
           "arrowcolor": "#2a3f5f",
           "arrowhead": 0,
           "arrowwidth": 1
          },
          "autotypenumbers": "strict",
          "coloraxis": {
           "colorbar": {
            "outlinewidth": 0,
            "ticks": ""
           }
          },
          "colorscale": {
           "diverging": [
            [
             0,
             "#8e0152"
            ],
            [
             0.1,
             "#c51b7d"
            ],
            [
             0.2,
             "#de77ae"
            ],
            [
             0.3,
             "#f1b6da"
            ],
            [
             0.4,
             "#fde0ef"
            ],
            [
             0.5,
             "#f7f7f7"
            ],
            [
             0.6,
             "#e6f5d0"
            ],
            [
             0.7,
             "#b8e186"
            ],
            [
             0.8,
             "#7fbc41"
            ],
            [
             0.9,
             "#4d9221"
            ],
            [
             1,
             "#276419"
            ]
           ],
           "sequential": [
            [
             0,
             "#0d0887"
            ],
            [
             0.1111111111111111,
             "#46039f"
            ],
            [
             0.2222222222222222,
             "#7201a8"
            ],
            [
             0.3333333333333333,
             "#9c179e"
            ],
            [
             0.4444444444444444,
             "#bd3786"
            ],
            [
             0.5555555555555556,
             "#d8576b"
            ],
            [
             0.6666666666666666,
             "#ed7953"
            ],
            [
             0.7777777777777778,
             "#fb9f3a"
            ],
            [
             0.8888888888888888,
             "#fdca26"
            ],
            [
             1,
             "#f0f921"
            ]
           ],
           "sequentialminus": [
            [
             0,
             "#0d0887"
            ],
            [
             0.1111111111111111,
             "#46039f"
            ],
            [
             0.2222222222222222,
             "#7201a8"
            ],
            [
             0.3333333333333333,
             "#9c179e"
            ],
            [
             0.4444444444444444,
             "#bd3786"
            ],
            [
             0.5555555555555556,
             "#d8576b"
            ],
            [
             0.6666666666666666,
             "#ed7953"
            ],
            [
             0.7777777777777778,
             "#fb9f3a"
            ],
            [
             0.8888888888888888,
             "#fdca26"
            ],
            [
             1,
             "#f0f921"
            ]
           ]
          },
          "colorway": [
           "#636efa",
           "#EF553B",
           "#00cc96",
           "#ab63fa",
           "#FFA15A",
           "#19d3f3",
           "#FF6692",
           "#B6E880",
           "#FF97FF",
           "#FECB52"
          ],
          "font": {
           "color": "#2a3f5f"
          },
          "geo": {
           "bgcolor": "white",
           "lakecolor": "white",
           "landcolor": "#E5ECF6",
           "showlakes": true,
           "showland": true,
           "subunitcolor": "white"
          },
          "hoverlabel": {
           "align": "left"
          },
          "hovermode": "closest",
          "mapbox": {
           "style": "light"
          },
          "paper_bgcolor": "white",
          "plot_bgcolor": "#E5ECF6",
          "polar": {
           "angularaxis": {
            "gridcolor": "white",
            "linecolor": "white",
            "ticks": ""
           },
           "bgcolor": "#E5ECF6",
           "radialaxis": {
            "gridcolor": "white",
            "linecolor": "white",
            "ticks": ""
           }
          },
          "scene": {
           "xaxis": {
            "backgroundcolor": "#E5ECF6",
            "gridcolor": "white",
            "gridwidth": 2,
            "linecolor": "white",
            "showbackground": true,
            "ticks": "",
            "zerolinecolor": "white"
           },
           "yaxis": {
            "backgroundcolor": "#E5ECF6",
            "gridcolor": "white",
            "gridwidth": 2,
            "linecolor": "white",
            "showbackground": true,
            "ticks": "",
            "zerolinecolor": "white"
           },
           "zaxis": {
            "backgroundcolor": "#E5ECF6",
            "gridcolor": "white",
            "gridwidth": 2,
            "linecolor": "white",
            "showbackground": true,
            "ticks": "",
            "zerolinecolor": "white"
           }
          },
          "shapedefaults": {
           "line": {
            "color": "#2a3f5f"
           }
          },
          "ternary": {
           "aaxis": {
            "gridcolor": "white",
            "linecolor": "white",
            "ticks": ""
           },
           "baxis": {
            "gridcolor": "white",
            "linecolor": "white",
            "ticks": ""
           },
           "bgcolor": "#E5ECF6",
           "caxis": {
            "gridcolor": "white",
            "linecolor": "white",
            "ticks": ""
           }
          },
          "title": {
           "x": 0.05
          },
          "xaxis": {
           "automargin": true,
           "gridcolor": "white",
           "linecolor": "white",
           "ticks": "",
           "title": {
            "standoff": 15
           },
           "zerolinecolor": "white",
           "zerolinewidth": 2
          },
          "yaxis": {
           "automargin": true,
           "gridcolor": "white",
           "linecolor": "white",
           "ticks": "",
           "title": {
            "standoff": 15
           },
           "zerolinecolor": "white",
           "zerolinewidth": 2
          }
         }
        }
       }
      }
     },
     "metadata": {},
     "output_type": "display_data"
    }
   ],
   "source": [
    "import plotly.express as px\n",
    "\n",
    "# Filter the DataFrame to include only rows with a hotel found\n",
    "filtered_df = hotel_df[hotel_df[\"Hotel Name\"] != \"No hotel found\"]\n",
    "\n",
    "# Create a scatter map using Plotly Express\n",
    "fig = px.scatter_geo(\n",
    "    filtered_df,\n",
    "    lat=\"Lat\",\n",
    "    lon=\"Lng\",\n",
    "    text=\"City\",\n",
    "    hover_name=\"City\",\n",
    "    hover_data=[\"Country\", \"Hotel Name\", \"Humidity\"],\n",
    ")\n",
    "\n",
    "# Update hover information\n",
    "fig.update_traces(customdata=filtered_df[[\"Country\", \"Hotel Name\", \"Humidity\"]])\n",
    "fig.update_layout(hoverlabel=dict(\n",
    "    bgcolor=\"white\",\n",
    "    bordercolor=\"black\",\n",
    "    font_size=14,\n",
    "    font_family=\"Arial\"\n",
    "))\n",
    "\n",
    "# Customize hover text\n",
    "fig.update_traces(text=\"%{text}\")\n",
    "fig.update_layout(geo=dict(showland=True))\n",
    "\n",
    "# Show the map\n",
    "fig.show()\n"
   ]
  },
  {
   "cell_type": "code",
   "execution_count": 21,
   "metadata": {},
   "outputs": [
    {
     "data": {
      "application/vnd.plotly.v1+json": {
       "config": {
        "plotlyServerURL": "https://plot.ly"
       },
       "data": [
        {
         "customdata": [
          [
           "SA",
           "No hotel found",
           35
          ],
          [
           "NO",
           "No hotel found",
           100
          ],
          [
           "AU",
           "No hotel found",
           58
          ],
          [
           "US",
           "No hotel found",
           77
          ],
          [
           "CN",
           "No hotel found",
           48
          ],
          [
           "AR",
           "No hotel found",
           81
          ],
          [
           "US",
           "No hotel found",
           74
          ],
          [
           "AU",
           "No hotel found",
           76
          ],
          [
           "GL",
           "No hotel found",
           98
          ],
          [
           "RE",
           "No hotel found",
           68
          ],
          [
           "BR",
           "No hotel found",
           86
          ],
          [
           "RU",
           "No hotel found",
           90
          ],
          [
           "BR",
           "No hotel found",
           51
          ],
          [
           "RU",
           "No hotel found",
           93
          ],
          [
           "GL",
           "No hotel found",
           74
          ],
          [
           "NZ",
           "No hotel found",
           96
          ],
          [
           "RU",
           "No hotel found",
           96
          ],
          [
           "GL",
           "No hotel found",
           84
          ],
          [
           "RU",
           "No hotel found",
           93
          ],
          [
           "EC",
           "No hotel found",
           82
          ],
          [
           "CK",
           "No hotel found",
           73
          ],
          [
           "MX",
           "No hotel found",
           87
          ],
          [
           "BR",
           "No hotel found",
           14
          ],
          [
           "PF",
           "No hotel found",
           65
          ],
          [
           "RU",
           "No hotel found",
           95
          ],
          [
           "CL",
           "No hotel found",
           61
          ],
          [
           "CA",
           "No hotel found",
           90
          ],
          [
           "MU",
           "No hotel found",
           68
          ],
          [
           "AM",
           "No hotel found",
           55
          ],
          [
           "SN",
           "No hotel found",
           24
          ],
          [
           "US",
           "No hotel found",
           33
          ],
          [
           "DE",
           "No hotel found",
           75
          ],
          [
           "ZA",
           "No hotel found",
           71
          ],
          [
           "GB",
           "No hotel found",
           79
          ],
          [
           "TZ",
           "No hotel found",
           54
          ],
          [
           "RU",
           "No hotel found",
           98
          ],
          [
           "MD",
           "No hotel found",
           30
          ],
          [
           "FO",
           "No hotel found",
           65
          ],
          [
           "ID",
           "No hotel found",
           88
          ],
          [
           "MX",
           "No hotel found",
           71
          ],
          [
           "CA",
           "No hotel found",
           93
          ],
          [
           "BR",
           "No hotel found",
           75
          ],
          [
           "GB",
           "No hotel found",
           76
          ],
          [
           "CL",
           "No hotel found",
           70
          ],
          [
           "US",
           "No hotel found",
           47
          ],
          [
           "US",
           "No hotel found",
           84
          ],
          [
           "SO",
           "No hotel found",
           83
          ],
          [
           "GE",
           "No hotel found",
           95
          ],
          [
           "AU",
           "No hotel found",
           80
          ],
          [
           "AU",
           "No hotel found",
           68
          ],
          [
           "RU",
           "No hotel found",
           75
          ],
          [
           "US",
           "No hotel found",
           83
          ],
          [
           "CD",
           "No hotel found",
           87
          ],
          [
           "IT",
           "No hotel found",
           68
          ],
          [
           "TO",
           "No hotel found",
           100
          ],
          [
           "GF",
           "No hotel found",
           58
          ],
          [
           "RU",
           "No hotel found",
           88
          ],
          [
           "RU",
           "No hotel found",
           85
          ],
          [
           "ZA",
           "No hotel found",
           88
          ],
          [
           "AU",
           "No hotel found",
           92
          ],
          [
           "TL",
           "No hotel found",
           93
          ],
          [
           "IS",
           "No hotel found",
           70
          ],
          [
           "US",
           "No hotel found",
           80
          ],
          [
           "IN",
           "No hotel found",
           52
          ],
          [
           "PF",
           "No hotel found",
           69
          ],
          [
           "ZA",
           "No hotel found",
           80
          ],
          [
           "AR",
           "No hotel found",
           83
          ],
          [
           "BR",
           "No hotel found",
           64
          ],
          [
           "AU",
           "No hotel found",
           88
          ],
          [
           "ZA",
           "No hotel found",
           75
          ],
          [
           "PG",
           "No hotel found",
           97
          ],
          [
           "BO",
           "No hotel found",
           83
          ],
          [
           "CA",
           "No hotel found",
           94
          ],
          [
           "LY",
           "No hotel found",
           27
          ],
          [
           "RU",
           "No hotel found",
           97
          ],
          [
           "RU",
           "No hotel found",
           96
          ],
          [
           "CZ",
           "No hotel found",
           73
          ],
          [
           "BR",
           "No hotel found",
           81
          ],
          [
           "GB",
           "No hotel found",
           78
          ],
          [
           "MU",
           "No hotel found",
           68
          ],
          [
           "RU",
           "No hotel found",
           95
          ],
          [
           "US",
           "No hotel found",
           81
          ],
          [
           "KZ",
           "No hotel found",
           70
          ],
          [
           "AU",
           "No hotel found",
           87
          ],
          [
           "LY",
           "No hotel found",
           73
          ],
          [
           "RU",
           "No hotel found",
           76
          ],
          [
           "AR",
           "No hotel found",
           42
          ],
          [
           "RE",
           "No hotel found",
           76
          ],
          [
           "PT",
           "No hotel found",
           69
          ],
          [
           "RU",
           "No hotel found",
           60
          ],
          [
           "US",
           "No hotel found",
           44
          ],
          [
           "PL",
           "No hotel found",
           69
          ],
          [
           "RU",
           "No hotel found",
           49
          ],
          [
           "MV",
           "No hotel found",
           80
          ],
          [
           "KI",
           "No hotel found",
           77
          ],
          [
           "IN",
           "No hotel found",
           78
          ],
          [
           "CN",
           "No hotel found",
           16
          ],
          [
           "CN",
           "No hotel found",
           59
          ],
          [
           "BR",
           "No hotel found",
           54
          ],
          [
           "LK",
           "No hotel found",
           82
          ],
          [
           "BR",
           "No hotel found",
           88
          ],
          [
           "CN",
           "No hotel found",
           49
          ],
          [
           "AR",
           "No hotel found",
           26
          ],
          [
           "ZM",
           "No hotel found",
           32
          ],
          [
           "NZ",
           "No hotel found",
           76
          ],
          [
           "BR",
           "No hotel found",
           21
          ],
          [
           "ES",
           "No hotel found",
           30
          ],
          [
           "MZ",
           "No hotel found",
           65
          ],
          [
           "CA",
           "No hotel found",
           79
          ],
          [
           "CL",
           "No hotel found",
           72
          ],
          [
           "VE",
           "No hotel found",
           75
          ],
          [
           "CV",
           "No hotel found",
           78
          ],
          [
           "CA",
           "No hotel found",
           95
          ],
          [
           "PG",
           "No hotel found",
           71
          ],
          [
           "CN",
           "No hotel found",
           27
          ],
          [
           "US",
           "No hotel found",
           49
          ],
          [
           "HK",
           "No hotel found",
           77
          ],
          [
           "PF",
           "No hotel found",
           78
          ],
          [
           "BR",
           "No hotel found",
           74
          ],
          [
           "MV",
           "No hotel found",
           69
          ],
          [
           "ZA",
           "No hotel found",
           87
          ],
          [
           "CN",
           "No hotel found",
           77
          ],
          [
           "RU",
           "No hotel found",
           99
          ],
          [
           "RU",
           "No hotel found",
           90
          ],
          [
           "ID",
           "No hotel found",
           96
          ],
          [
           "IN",
           "No hotel found",
           87
          ],
          [
           "UY",
           "No hotel found",
           71
          ],
          [
           "UA",
           "No hotel found",
           62
          ],
          [
           "US",
           "No hotel found",
           86
          ],
          [
           "NI",
           "No hotel found",
           81
          ],
          [
           "PE",
           "No hotel found",
           68
          ],
          [
           "US",
           "No hotel found",
           82
          ],
          [
           "CL",
           "No hotel found",
           62
          ],
          [
           "US",
           "No hotel found",
           89
          ],
          [
           "MN",
           "No hotel found",
           22
          ],
          [
           "ID",
           "No hotel found",
           83
          ],
          [
           "AU",
           "No hotel found",
           92
          ],
          [
           "ZA",
           "No hotel found",
           83
          ],
          [
           "GT",
           "No hotel found",
           86
          ],
          [
           "MY",
           "No hotel found",
           89
          ],
          [
           "CA",
           "No hotel found",
           93
          ],
          [
           "US",
           "No hotel found",
           40
          ],
          [
           "PT",
           "No hotel found",
           89
          ],
          [
           "IN",
           "No hotel found",
           77
          ],
          [
           "US",
           "No hotel found",
           69
          ],
          [
           "RU",
           "No hotel found",
           93
          ],
          [
           "ES",
           "No hotel found",
           73
          ],
          [
           "AU",
           "No hotel found",
           91
          ],
          [
           "NO",
           "No hotel found",
           94
          ],
          [
           "US",
           "No hotel found",
           82
          ],
          [
           "NZ",
           "No hotel found",
           94
          ],
          [
           "ID",
           "No hotel found",
           88
          ],
          [
           "US",
           "No hotel found",
           60
          ],
          [
           "RU",
           "No hotel found",
           75
          ],
          [
           "ID",
           "No hotel found",
           81
          ],
          [
           "CA",
           "No hotel found",
           63
          ],
          [
           "NI",
           "No hotel found",
           74
          ],
          [
           "AU",
           "No hotel found",
           74
          ],
          [
           "RU",
           "No hotel found",
           47
          ],
          [
           "AU",
           "No hotel found",
           88
          ],
          [
           "PG",
           "No hotel found",
           75
          ],
          [
           "CA",
           "No hotel found",
           87
          ],
          [
           "BR",
           "No hotel found",
           13
          ],
          [
           "BR",
           "No hotel found",
           65
          ],
          [
           "PE",
           "No hotel found",
           77
          ],
          [
           "MG",
           "No hotel found",
           62
          ],
          [
           "BR",
           "No hotel found",
           45
          ],
          [
           "NZ",
           "No hotel found",
           77
          ],
          [
           "RU",
           "No hotel found",
           74
          ],
          [
           "RU",
           "No hotel found",
           85
          ],
          [
           "OM",
           "No hotel found",
           40
          ],
          [
           "CA",
           "No hotel found",
           52
          ],
          [
           "ZA",
           "No hotel found",
           60
          ],
          [
           "MX",
           "No hotel found",
           54
          ],
          [
           "US",
           "No hotel found",
           26
          ],
          [
           "NE",
           "No hotel found",
           10
          ],
          [
           "BO",
           "No hotel found",
           30
          ],
          [
           "IS",
           "No hotel found",
           76
          ],
          [
           "CA",
           "No hotel found",
           27
          ],
          [
           "SL",
           "No hotel found",
           74
          ],
          [
           "US",
           "No hotel found",
           100
          ],
          [
           "MN",
           "No hotel found",
           39
          ],
          [
           "RU",
           "No hotel found",
           80
          ],
          [
           "GL",
           "No hotel found",
           95
          ],
          [
           "ID",
           "No hotel found",
           99
          ],
          [
           "BW",
           "No hotel found",
           27
          ],
          [
           "ZA",
           "No hotel found",
           19
          ],
          [
           "ZW",
           "No hotel found",
           25
          ],
          [
           "ZA",
           "No hotel found",
           82
          ],
          [
           "MU",
           "No hotel found",
           65
          ],
          [
           "MX",
           "No hotel found",
           91
          ],
          [
           "PE",
           "No hotel found",
           67
          ],
          [
           "CD",
           "No hotel found",
           70
          ],
          [
           "BR",
           "No hotel found",
           73
          ],
          [
           "RU",
           "No hotel found",
           92
          ],
          [
           "PT",
           "No hotel found",
           61
          ],
          [
           "ES",
           "No hotel found",
           30
          ],
          [
           "IL",
           "No hotel found",
           100
          ],
          [
           "SB",
           "No hotel found",
           82
          ],
          [
           "RO",
           "No hotel found",
           48
          ],
          [
           "VU",
           "No hotel found",
           88
          ],
          [
           "RU",
           "No hotel found",
           96
          ],
          [
           "IS",
           "No hotel found",
           75
          ],
          [
           "US",
           "No hotel found",
           81
          ],
          [
           "RU",
           "No hotel found",
           93
          ],
          [
           "CL",
           "No hotel found",
           79
          ],
          [
           "RU",
           "No hotel found",
           89
          ],
          [
           "PG",
           "No hotel found",
           94
          ],
          [
           "ID",
           "No hotel found",
           88
          ],
          [
           "JP",
           "No hotel found",
           87
          ],
          [
           "CN",
           "No hotel found",
           67
          ],
          [
           "US",
           "No hotel found",
           79
          ],
          [
           "US",
           "No hotel found",
           54
          ],
          [
           "RU",
           "No hotel found",
           98
          ],
          [
           null,
           "No hotel found",
           68
          ],
          [
           "BR",
           "No hotel found",
           61
          ],
          [
           "GB",
           "No hotel found",
           73
          ],
          [
           "BR",
           "No hotel found",
           78
          ],
          [
           "PT",
           "No hotel found",
           60
          ],
          [
           "IN",
           "No hotel found",
           72
          ],
          [
           "UG",
           "No hotel found",
           84
          ],
          [
           "ID",
           "No hotel found",
           96
          ],
          [
           "CA",
           "No hotel found",
           58
          ],
          [
           "RU",
           "No hotel found",
           93
          ],
          [
           "CA",
           "No hotel found",
           74
          ],
          [
           "RU",
           "No hotel found",
           91
          ],
          [
           "ID",
           "No hotel found",
           83
          ],
          [
           "SJ",
           "No hotel found",
           81
          ],
          [
           "US",
           "No hotel found",
           43
          ],
          [
           "VE",
           "No hotel found",
           45
          ],
          [
           "RU",
           "No hotel found",
           91
          ],
          [
           "US",
           "No hotel found",
           31
          ],
          [
           "CA",
           "No hotel found",
           100
          ],
          [
           "GA",
           "No hotel found",
           95
          ],
          [
           "PE",
           "No hotel found",
           62
          ],
          [
           "TO",
           "No hotel found",
           88
          ],
          [
           "KM",
           "No hotel found",
           73
          ],
          [
           "MU",
           "No hotel found",
           65
          ],
          [
           null,
           "No hotel found",
           71
          ],
          [
           "AR",
           "No hotel found",
           25
          ],
          [
           "IN",
           "No hotel found",
           59
          ],
          [
           "CG",
           "No hotel found",
           91
          ],
          [
           "CN",
           "No hotel found",
           20
          ],
          [
           "UA",
           "No hotel found",
           32
          ],
          [
           "AU",
           "No hotel found",
           66
          ],
          [
           "RU",
           "No hotel found",
           100
          ],
          [
           "RU",
           "No hotel found",
           73
          ],
          [
           "ET",
           "No hotel found",
           95
          ],
          [
           "KZ",
           "No hotel found",
           57
          ],
          [
           "BS",
           "No hotel found",
           72
          ],
          [
           "NO",
           "No hotel found",
           61
          ],
          [
           "PH",
           "No hotel found",
           83
          ],
          [
           "MY",
           "No hotel found",
           100
          ],
          [
           "BJ",
           "No hotel found",
           56
          ],
          [
           "CN",
           "No hotel found",
           72
          ],
          [
           "MU",
           "No hotel found",
           73
          ],
          [
           "ZA",
           "No hotel found",
           31
          ],
          [
           "IN",
           "No hotel found",
           97
          ],
          [
           "AR",
           "No hotel found",
           24
          ],
          [
           "ID",
           "No hotel found",
           95
          ],
          [
           "CA",
           "No hotel found",
           93
          ],
          [
           "PT",
           "No hotel found",
           73
          ],
          [
           "CA",
           "No hotel found",
           60
          ],
          [
           "LK",
           "No hotel found",
           89
          ],
          [
           "US",
           "No hotel found",
           71
          ],
          [
           "MX",
           "No hotel found",
           74
          ],
          [
           "AU",
           "No hotel found",
           89
          ],
          [
           "CA",
           "No hotel found",
           90
          ],
          [
           "CN",
           "No hotel found",
           26
          ],
          [
           "US",
           "No hotel found",
           96
          ],
          [
           "RU",
           "No hotel found",
           99
          ],
          [
           "CL",
           "No hotel found",
           72
          ],
          [
           "DO",
           "No hotel found",
           79
          ],
          [
           "US",
           "No hotel found",
           90
          ],
          [
           "US",
           "No hotel found",
           91
          ],
          [
           "TC",
           "No hotel found",
           74
          ],
          [
           "IN",
           "No hotel found",
           90
          ],
          [
           "SA",
           "No hotel found",
           18
          ],
          [
           "RU",
           "No hotel found",
           48
          ],
          [
           "JP",
           "No hotel found",
           75
          ],
          [
           "CN",
           "No hotel found",
           15
          ],
          [
           "NZ",
           "No hotel found",
           92
          ],
          [
           "PW",
           "No hotel found",
           75
          ],
          [
           "RU",
           "No hotel found",
           98
          ],
          [
           "AR",
           "No hotel found",
           53
          ],
          [
           "NZ",
           "No hotel found",
           84
          ],
          [
           "CV",
           "No hotel found",
           74
          ],
          [
           "NG",
           "No hotel found",
           89
          ],
          [
           "US",
           "No hotel found",
           53
          ],
          [
           "CO",
           "No hotel found",
           70
          ],
          [
           "NO",
           "No hotel found",
           94
          ],
          [
           "BS",
           "No hotel found",
           70
          ],
          [
           "PT",
           "No hotel found",
           82
          ],
          [
           "RU",
           "No hotel found",
           55
          ],
          [
           "ET",
           "No hotel found",
           80
          ],
          [
           "GF",
           "No hotel found",
           48
          ],
          [
           "LY",
           "No hotel found",
           37
          ],
          [
           "SO",
           "No hotel found",
           76
          ],
          [
           "CL",
           "No hotel found",
           63
          ],
          [
           "RU",
           "No hotel found",
           96
          ],
          [
           "BR",
           "No hotel found",
           56
          ],
          [
           "MN",
           "No hotel found",
           55
          ],
          [
           "MU",
           "No hotel found",
           68
          ],
          [
           "AU",
           "No hotel found",
           63
          ],
          [
           "JP",
           "No hotel found",
           78
          ],
          [
           "US",
           "No hotel found",
           49
          ],
          [
           "US",
           "No hotel found",
           93
          ],
          [
           "DO",
           "No hotel found",
           79
          ],
          [
           "PG",
           "No hotel found",
           86
          ],
          [
           "SE",
           "No hotel found",
           82
          ],
          [
           "US",
           "No hotel found",
           55
          ],
          [
           "RU",
           "No hotel found",
           100
          ],
          [
           "MX",
           "No hotel found",
           70
          ],
          [
           "AR",
           "No hotel found",
           40
          ],
          [
           "GB",
           "No hotel found",
           72
          ],
          [
           "NC",
           "No hotel found",
           74
          ],
          [
           "BB",
           "No hotel found",
           70
          ],
          [
           "OM",
           "No hotel found",
           59
          ],
          [
           "GB",
           "No hotel found",
           69
          ],
          [
           "MG",
           "No hotel found",
           79
          ],
          [
           "IN",
           "No hotel found",
           89
          ],
          [
           "AO",
           "No hotel found",
           72
          ],
          [
           "FI",
           "No hotel found",
           76
          ],
          [
           "RU",
           "No hotel found",
           86
          ],
          [
           "RU",
           "No hotel found",
           68
          ],
          [
           "BR",
           "No hotel found",
           81
          ],
          [
           "RU",
           "No hotel found",
           78
          ],
          [
           "GL",
           "No hotel found",
           98
          ],
          [
           "PT",
           "No hotel found",
           39
          ],
          [
           "BR",
           "No hotel found",
           91
          ],
          [
           "ML",
           "No hotel found",
           72
          ],
          [
           "CA",
           "No hotel found",
           40
          ],
          [
           "UY",
           "No hotel found",
           66
          ],
          [
           "BR",
           "No hotel found",
           62
          ],
          [
           "US",
           "No hotel found",
           89
          ],
          [
           "RU",
           "No hotel found",
           76
          ],
          [
           "NZ",
           "No hotel found",
           73
          ],
          [
           "AU",
           "No hotel found",
           100
          ],
          [
           "PF",
           "No hotel found",
           83
          ],
          [
           "CA",
           "No hotel found",
           93
          ],
          [
           "MX",
           "No hotel found",
           56
          ],
          [
           "RU",
           "No hotel found",
           52
          ],
          [
           "US",
           "No hotel found",
           64
          ],
          [
           "RU",
           "No hotel found",
           80
          ],
          [
           "CA",
           "No hotel found",
           90
          ],
          [
           "KZ",
           "No hotel found",
           85
          ],
          [
           "GF",
           "No hotel found",
           64
          ],
          [
           "JP",
           "No hotel found",
           78
          ],
          [
           "KE",
           "No hotel found",
           48
          ],
          [
           "NG",
           "No hotel found",
           40
          ],
          [
           "CN",
           "No hotel found",
           64
          ],
          [
           "ZA",
           "No hotel found",
           86
          ],
          [
           "RU",
           "No hotel found",
           52
          ],
          [
           "BR",
           "No hotel found",
           75
          ],
          [
           "ID",
           "No hotel found",
           90
          ],
          [
           "SB",
           "No hotel found",
           85
          ],
          [
           "MZ",
           "No hotel found",
           76
          ],
          [
           "NZ",
           "No hotel found",
           73
          ],
          [
           "JP",
           "No hotel found",
           79
          ],
          [
           "CN",
           "No hotel found",
           19
          ],
          [
           "AZ",
           "No hotel found",
           95
          ],
          [
           "MZ",
           "No hotel found",
           75
          ],
          [
           "UA",
           "No hotel found",
           58
          ],
          [
           "IN",
           "No hotel found",
           55
          ],
          [
           "CA",
           "No hotel found",
           93
          ],
          [
           "RU",
           "No hotel found",
           65
          ],
          [
           "CI",
           "No hotel found",
           77
          ],
          [
           "US",
           "No hotel found",
           61
          ],
          [
           "RU",
           "No hotel found",
           98
          ],
          [
           "US",
           "No hotel found",
           87
          ],
          [
           "GB",
           "No hotel found",
           82
          ],
          [
           "PE",
           "No hotel found",
           79
          ],
          [
           "NZ",
           "No hotel found",
           95
          ],
          [
           "ZW",
           "No hotel found",
           22
          ],
          [
           "RU",
           "No hotel found",
           84
          ],
          [
           "AU",
           "No hotel found",
           73
          ],
          [
           "US",
           "No hotel found",
           100
          ],
          [
           "PH",
           "No hotel found",
           88
          ],
          [
           "CA",
           "No hotel found",
           93
          ],
          [
           "RU",
           "No hotel found",
           98
          ],
          [
           "AU",
           "No hotel found",
           57
          ],
          [
           "AU",
           "No hotel found",
           65
          ],
          [
           "RU",
           "No hotel found",
           87
          ],
          [
           "GA",
           "No hotel found",
           79
          ],
          [
           "MR",
           "No hotel found",
           8
          ],
          [
           "IN",
           "No hotel found",
           89
          ],
          [
           "UZ",
           "No hotel found",
           77
          ],
          [
           "PT",
           "No hotel found",
           48
          ],
          [
           "GL",
           "No hotel found",
           99
          ],
          [
           "SA",
           "No hotel found",
           11
          ],
          [
           "GA",
           "No hotel found",
           79
          ],
          [
           "FR",
           "No hotel found",
           57
          ],
          [
           "IS",
           "No hotel found",
           70
          ],
          [
           "BF",
           "No hotel found",
           15
          ],
          [
           "CA",
           "No hotel found",
           93
          ],
          [
           "RU",
           "No hotel found",
           63
          ],
          [
           "RU",
           "No hotel found",
           97
          ],
          [
           "US",
           "No hotel found",
           62
          ],
          [
           "RU",
           "No hotel found",
           100
          ],
          [
           "AR",
           "No hotel found",
           71
          ],
          [
           "GL",
           "No hotel found",
           80
          ],
          [
           "US",
           "No hotel found",
           72
          ],
          [
           "KR",
           "No hotel found",
           70
          ],
          [
           "US",
           "No hotel found",
           42
          ],
          [
           "RU",
           "No hotel found",
           93
          ],
          [
           "US",
           "No hotel found",
           53
          ],
          [
           "RU",
           "No hotel found",
           99
          ],
          [
           "RU",
           "No hotel found",
           95
          ],
          [
           "SV",
           "No hotel found",
           71
          ],
          [
           "IT",
           "No hotel found",
           71
          ],
          [
           "EC",
           "No hotel found",
           81
          ],
          [
           "PT",
           "No hotel found",
           77
          ],
          [
           "GL",
           "No hotel found",
           97
          ],
          [
           "CD",
           "No hotel found",
           60
          ],
          [
           "PH",
           "No hotel found",
           82
          ],
          [
           "ES",
           "No hotel found",
           78
          ],
          [
           "MV",
           "No hotel found",
           73
          ],
          [
           "MX",
           "No hotel found",
           69
          ],
          [
           "MX",
           "No hotel found",
           88
          ],
          [
           "AU",
           "No hotel found",
           81
          ],
          [
           "NC",
           "No hotel found",
           78
          ],
          [
           "BA",
           "No hotel found",
           68
          ],
          [
           "CG",
           "No hotel found",
           68
          ],
          [
           null,
           "No hotel found",
           27
          ],
          [
           "BR",
           "No hotel found",
           60
          ],
          [
           "FR",
           "No hotel found",
           65
          ],
          [
           "GL",
           "No hotel found",
           89
          ],
          [
           "YT",
           "No hotel found",
           73
          ],
          [
           "KZ",
           "No hotel found",
           46
          ],
          [
           "PG",
           "No hotel found",
           74
          ],
          [
           "IT",
           "No hotel found",
           67
          ],
          [
           "BR",
           "No hotel found",
           68
          ],
          [
           "ID",
           "No hotel found",
           100
          ],
          [
           "BR",
           "No hotel found",
           46
          ],
          [
           "US",
           "No hotel found",
           67
          ],
          [
           "RU",
           "No hotel found",
           84
          ],
          [
           "PK",
           "No hotel found",
           20
          ],
          [
           "AR",
           "No hotel found",
           87
          ],
          [
           "RU",
           "No hotel found",
           86
          ],
          [
           "ID",
           "No hotel found",
           94
          ],
          [
           "ID",
           "No hotel found",
           89
          ],
          [
           "CN",
           "No hotel found",
           31
          ],
          [
           "CN",
           "No hotel found",
           50
          ],
          [
           "RU",
           "No hotel found",
           95
          ],
          [
           "MV",
           "No hotel found",
           76
          ],
          [
           "BR",
           "No hotel found",
           67
          ],
          [
           "PT",
           "No hotel found",
           84
          ],
          [
           "NO",
           "No hotel found",
           68
          ],
          [
           "RU",
           "No hotel found",
           87
          ],
          [
           "NU",
           "No hotel found",
           94
          ],
          [
           "TR",
           "No hotel found",
           80
          ],
          [
           "US",
           "No hotel found",
           89
          ],
          [
           "UY",
           "No hotel found",
           74
          ],
          [
           "MX",
           "No hotel found",
           83
          ],
          [
           "ML",
           "No hotel found",
           13
          ],
          [
           "NG",
           "No hotel found",
           69
          ],
          [
           "MX",
           "No hotel found",
           70
          ],
          [
           "VN",
           "No hotel found",
           70
          ],
          [
           "IN",
           "No hotel found",
           75
          ],
          [
           "GB",
           "No hotel found",
           72
          ],
          [
           "AU",
           "No hotel found",
           92
          ],
          [
           "BO",
           "No hotel found",
           50
          ],
          [
           "PE",
           "No hotel found",
           71
          ],
          [
           "BR",
           "No hotel found",
           34
          ],
          [
           "ZA",
           "No hotel found",
           44
          ],
          [
           "MZ",
           "No hotel found",
           69
          ],
          [
           "AI",
           "No hotel found",
           65
          ],
          [
           "GL",
           "No hotel found",
           82
          ],
          [
           "CN",
           "No hotel found",
           63
          ],
          [
           "RU",
           "No hotel found",
           96
          ],
          [
           "ML",
           "No hotel found",
           10
          ],
          [
           "SB",
           "No hotel found",
           81
          ],
          [
           "PF",
           "No hotel found",
           81
          ],
          [
           "MY",
           "No hotel found",
           89
          ],
          [
           "TW",
           "No hotel found",
           80
          ],
          [
           "ID",
           "No hotel found",
           91
          ],
          [
           "CN",
           "No hotel found",
           20
          ],
          [
           "BR",
           "No hotel found",
           14
          ],
          [
           "UY",
           "No hotel found",
           61
          ],
          [
           "CV",
           "No hotel found",
           74
          ],
          [
           "RU",
           "No hotel found",
           95
          ],
          [
           "SD",
           "No hotel found",
           29
          ],
          [
           "JP",
           "No hotel found",
           82
          ],
          [
           "FR",
           "No hotel found",
           74
          ],
          [
           "RU",
           "No hotel found",
           87
          ],
          [
           "US",
           "No hotel found",
           48
          ],
          [
           "RU",
           "No hotel found",
           84
          ],
          [
           "SE",
           "No hotel found",
           93
          ],
          [
           "US",
           "No hotel found",
           86
          ],
          [
           "RU",
           "No hotel found",
           92
          ],
          [
           "GB",
           "No hotel found",
           71
          ],
          [
           "JP",
           "No hotel found",
           55
          ],
          [
           "SR",
           "No hotel found",
           60
          ],
          [
           "RU",
           "No hotel found",
           99
          ],
          [
           "US",
           "No hotel found",
           55
          ],
          [
           "US",
           "No hotel found",
           49
          ],
          [
           "IQ",
           "No hotel found",
           14
          ],
          [
           "FI",
           "No hotel found",
           90
          ],
          [
           "YE",
           "No hotel found",
           55
          ],
          [
           "KZ",
           "No hotel found",
           51
          ],
          [
           "RU",
           "No hotel found",
           73
          ],
          [
           "MY",
           "No hotel found",
           99
          ],
          [
           "CN",
           "No hotel found",
           84
          ],
          [
           "US",
           "No hotel found",
           65
          ],
          [
           "US",
           "No hotel found",
           90
          ],
          [
           "US",
           "No hotel found",
           93
          ],
          [
           "RO",
           "No hotel found",
           51
          ],
          [
           "PG",
           "No hotel found",
           97
          ],
          [
           "RU",
           "No hotel found",
           90
          ],
          [
           "IN",
           "No hotel found",
           86
          ],
          [
           "JO",
           "No hotel found",
           63
          ],
          [
           "AU",
           "No hotel found",
           77
          ],
          [
           "PL",
           "No hotel found",
           86
          ],
          [
           "SD",
           "No hotel found",
           69
          ],
          [
           "RU",
           "No hotel found",
           68
          ],
          [
           "IN",
           "No hotel found",
           77
          ],
          [
           "MX",
           "No hotel found",
           68
          ],
          [
           "SO",
           "No hotel found",
           81
          ],
          [
           "CL",
           "No hotel found",
           64
          ],
          [
           "PT",
           "No hotel found",
           70
          ],
          [
           "CU",
           "No hotel found",
           71
          ],
          [
           "MW",
           "No hotel found",
           26
          ],
          [
           "CN",
           "No hotel found",
           35
          ],
          [
           "MX",
           "No hotel found",
           67
          ],
          [
           "BR",
           "No hotel found",
           89
          ],
          [
           "JP",
           "No hotel found",
           85
          ],
          [
           "JP",
           "No hotel found",
           55
          ],
          [
           "RU",
           "No hotel found",
           81
          ],
          [
           "NZ",
           "No hotel found",
           91
          ],
          [
           "TH",
           "No hotel found",
           87
          ],
          [
           "CD",
           "No hotel found",
           73
          ],
          [
           "AR",
           "No hotel found",
           49
          ],
          [
           "MN",
           "No hotel found",
           23
          ],
          [
           "CR",
           "No hotel found",
           73
          ],
          [
           "RU",
           "No hotel found",
           81
          ],
          [
           "TR",
           "No hotel found",
           69
          ],
          [
           "MR",
           "No hotel found",
           27
          ],
          [
           "CN",
           "No hotel found",
           35
          ],
          [
           "DK",
           "No hotel found",
           81
          ],
          [
           "BW",
           "No hotel found",
           64
          ],
          [
           "CL",
           "No hotel found",
           67
          ],
          [
           "DE",
           "No hotel found",
           68
          ],
          [
           "NE",
           "No hotel found",
           18
          ],
          [
           "VN",
           "No hotel found",
           83
          ],
          [
           "AU",
           "No hotel found",
           83
          ],
          [
           "ZM",
           "No hotel found",
           14
          ],
          [
           "US",
           "No hotel found",
           93
          ],
          [
           "US",
           "No hotel found",
           74
          ],
          [
           "US",
           "No hotel found",
           95
          ],
          [
           "SS",
           "No hotel found",
           69
          ],
          [
           "IN",
           "No hotel found",
           26
          ],
          [
           "JP",
           "No hotel found",
           84
          ],
          [
           "ID",
           "No hotel found",
           87
          ],
          [
           "ID",
           "No hotel found",
           82
          ],
          [
           "US",
           "No hotel found",
           46
          ],
          [
           "MN",
           "No hotel found",
           40
          ],
          [
           "NO",
           "No hotel found",
           67
          ],
          [
           "RU",
           "No hotel found",
           44
          ],
          [
           "RU",
           "No hotel found",
           89
          ],
          [
           "US",
           "No hotel found",
           100
          ],
          [
           "CN",
           "No hotel found",
           33
          ],
          [
           "ZM",
           "No hotel found",
           22
          ],
          [
           "EC",
           "No hotel found",
           62
          ],
          [
           "BR",
           "No hotel found",
           88
          ],
          [
           "US",
           "No hotel found",
           91
          ],
          [
           "US",
           "No hotel found",
           52
          ],
          [
           "AU",
           "No hotel found",
           78
          ],
          [
           "IN",
           "No hotel found",
           85
          ],
          [
           "VG",
           "No hotel found",
           70
          ],
          [
           "TH",
           "No hotel found",
           93
          ],
          [
           "RU",
           "No hotel found",
           90
          ],
          [
           "NZ",
           "No hotel found",
           83
          ],
          [
           "RU",
           "No hotel found",
           96
          ],
          [
           "RU",
           "No hotel found",
           89
          ],
          [
           "GW",
           "No hotel found",
           61
          ],
          [
           "CL",
           "No hotel found",
           68
          ],
          [
           "NC",
           "No hotel found",
           79
          ]
         ],
         "geo": "geo",
         "hovertemplate": "<b>%{hovertext}</b><br><br>City=%{text}<br>Lat=%{lat}<br>Lng=%{lon}<br>Country=%{customdata[0]}<br>Hotel Name=%{customdata[1]}<br>Humidity=%{customdata[2]}<extra></extra>",
         "hovertext": [
          "faya",
          "farsund",
          "new norfolk",
          "jamestown",
          "lanzhou",
          "ushuaia",
          "albany",
          "carnarvon",
          "sisimiut",
          "saint-pierre",
          "colorado",
          "nikolskoye",
          "trairi",
          "dobryanka",
          "qaanaaq",
          "mataura",
          "khatanga",
          "tasiilaq",
          "tiksi",
          "puerto ayora",
          "avarua",
          "nuevo laredo",
          "guiratinga",
          "rikitea",
          "dukat",
          "constitucion",
          "senneterre",
          "bambous virieux",
          "zangakatun",
          "saint-louis",
          "midwest city",
          "grimmen",
          "cape town",
          "stornoway",
          "naberera",
          "chokurdakh",
          "drochia",
          "klaksvik",
          "labuhan",
          "tomatlan",
          "clyde river",
          "sao joao da barra",
          "margate",
          "ancud",
          "collierville",
          "kapaa",
          "mogadishu",
          "tsalka",
          "dalby",
          "hobart",
          "dikson",
          "hilo",
          "businga",
          "lasa",
          "vaini",
          "cayenne",
          "ust-kulom",
          "udachnyy",
          "east london",
          "busselton",
          "airai",
          "grindavik",
          "barrow",
          "banda",
          "atuona",
          "hermanus",
          "mar del plata",
          "caravelas",
          "port lincoln",
          "bredasdorp",
          "mendi",
          "cobija",
          "deer lake",
          "nalut",
          "saskylakh",
          "dudinka",
          "zamberk",
          "jaguariaiva",
          "aberdeen",
          "mahebourg",
          "kedrovyy",
          "makakilo city",
          "qostanay",
          "esperance",
          "darnah",
          "provideniya",
          "rafaela",
          "saint-philippe",
          "ponta do sol",
          "solnechnyy",
          "saint george",
          "alba",
          "arman",
          "ugoofaaru",
          "butaritari",
          "kavaratti",
          "zhangye",
          "shenjiamen",
          "itarema",
          "trincomalee",
          "castro",
          "heihe",
          "rio gallegos",
          "siavonga",
          "bluff",
          "nova olimpia",
          "palencia",
          "inhambane",
          "iqaluit",
          "lebu",
          "calabozo",
          "sao filipe",
          "torbay",
          "kavieng",
          "yidu",
          "cedar city",
          "victoria",
          "faanui",
          "arraial do cabo",
          "hithadhoo",
          "port alfred",
          "lichuan",
          "talnakh",
          "novorzhev",
          "muncar",
          "jashpurnagar",
          "chuy",
          "kulykivka",
          "half moon bay",
          "bocana de paiwas",
          "el alto",
          "sitka",
          "punta arenas",
          "bay city",
          "baruun-urt",
          "ambon",
          "corowa",
          "port elizabeth",
          "ocos",
          "georgetown",
          "tuktoyaktuk",
          "brenham",
          "peniche",
          "tawang",
          "havelock",
          "novobelokatay",
          "puerto del rosario",
          "mount gambier",
          "rindal",
          "roseburg",
          "kaeo",
          "biak",
          "kahului",
          "lavrentiya",
          "sabang",
          "pangnirtung",
          "corn island",
          "innisfail",
          "almaznyy",
          "geraldton",
          "kokopo",
          "yellowknife",
          "sao miguel do araguaia",
          "belmonte",
          "pisco",
          "ambilobe",
          "aripuana",
          "kaitangata",
          "lesnoy",
          "evensk",
          "sur",
          "la ronge",
          "danielskuil",
          "chunhuhub",
          "avera",
          "ouallam",
          "challapata",
          "olafsvik",
          "neepawa",
          "freetown",
          "nome",
          "hovd",
          "ugra",
          "upernavik",
          "sembakung",
          "shakawe",
          "upington",
          "gwanda",
          "kruisfontein",
          "grand gaube",
          "cacahuatepec",
          "paita",
          "bumba",
          "maragogi",
          "kosa",
          "lagoa",
          "cabra",
          "gat",
          "buala",
          "asau",
          "isangel",
          "pevek",
          "husavik",
          "kodiak",
          "zyryanka",
          "valparaiso",
          "baykit",
          "port moresby",
          "meulaboh",
          "nakamura",
          "simao",
          "laguna",
          "bethel",
          "kodinsk",
          "luderitz",
          "touros",
          "glasgow",
          "ladario",
          "sao teotonio",
          "puri",
          "yumbe",
          "pangkalanbuun",
          "hay river",
          "verkhniye achaluki",
          "terrace bay",
          "ust-koksa",
          "sorong",
          "longyearbyen",
          "san patricio",
          "san cristobal",
          "lensk",
          "carrollton",
          "norman wells",
          "makokou",
          "llata",
          "neiafu",
          "moroni",
          "cap malheureux",
          "walvis bay",
          "rawson",
          "tikaitnagar",
          "sembe",
          "aksu",
          "russkaya polyana",
          "broken hill",
          "cherskiy",
          "beya",
          "goba",
          "ordzhonikidze",
          "high rock",
          "floro",
          "balabac",
          "bintulu",
          "tchaourou",
          "zhongshan",
          "quatre cocos",
          "prieska",
          "pathanamthitta",
          "comodoro rivadavia",
          "sungaipenuh",
          "aklavik",
          "camacha",
          "thompson",
          "hambantota",
          "swanton",
          "san quintin",
          "codrington",
          "chapais",
          "chengde",
          "portland",
          "berdigestyakh",
          "coquimbo",
          "samana",
          "anchorage",
          "fairbanks",
          "cockburn town",
          "tura",
          "sakakah",
          "ola",
          "hasaki",
          "jiuquan",
          "tuatapere",
          "kloulklubed",
          "ust-maya",
          "san juan",
          "whitianga",
          "praia",
          "okitipupa",
          "monmouth",
          "san andres",
          "lyngseidet",
          "dunmore town",
          "galegos",
          "kamen-rybolov",
          "dabat",
          "camopi",
          "jalu",
          "eyl",
          "valdivia",
          "teguldet",
          "aquiraz",
          "ulaangom",
          "souillac",
          "alice springs",
          "koriyama",
          "kingman",
          "college",
          "la romana",
          "daru",
          "boden",
          "carroll",
          "ust-kuyga",
          "bucerias",
          "tandil",
          "horsham",
          "vao",
          "bathsheba",
          "salalah",
          "harwich",
          "sambava",
          "yarada",
          "namibe",
          "kokkola",
          "leningradskiy",
          "vostok",
          "rio grande",
          "chegdomyn",
          "ilulissat",
          "viseu",
          "cidreira",
          "bafoulabe",
          "swan river",
          "rocha",
          "juruti",
          "kailua",
          "verkh-suetka",
          "dunedin",
          "mount isa",
          "mahina",
          "kamloops",
          "santa rosalia",
          "nerchinskiy zavod",
          "torrington",
          "krutikha",
          "bonavista",
          "zaysan",
          "mana",
          "nemuro",
          "mandera",
          "numan",
          "pingliang",
          "saldanha",
          "petropavlovsk-kamchatskiy",
          "vila velha",
          "bengkulu",
          "honiara",
          "pemba",
          "ahipara",
          "shingu",
          "korla",
          "lerik",
          "quelimane",
          "katyuzhanka",
          "narwar",
          "port hardy",
          "sol-iletsk",
          "tabou",
          "saint anthony",
          "srednekolymsk",
          "homer",
          "livingston",
          "lima",
          "christchurch",
          "beitbridge",
          "kortkeros",
          "port hedland",
          "fortuna",
          "dicabisagan",
          "smithers",
          "peleduy",
          "yulara",
          "roebourne",
          "mariinskiy posad",
          "mayumba",
          "adrar",
          "port blair",
          "komsomolskiy",
          "ribeira grande",
          "qasigiannguit",
          "buraydah",
          "port-gentil",
          "saint-francois",
          "vestmannaeyjar",
          "bogande",
          "quesnel",
          "usman",
          "aykhal",
          "carlyle",
          "kayerkan",
          "moron",
          "paamiut",
          "hamilton",
          "seoul",
          "woodward",
          "georgiyevskoye",
          "mayo",
          "kysyl-syr",
          "tashara",
          "acajutla",
          "capoterra",
          "muisne",
          "praia da vitoria",
          "maniitsoq",
          "kalemie",
          "tagusao",
          "mao",
          "mahibadhoo",
          "cabo san lucas",
          "panuco",
          "hervey bay",
          "fayaoue",
          "stolac",
          "gamboma",
          "rundu",
          "carutapera",
          "port-de-bouc",
          "nanortalik",
          "dzaoudzi",
          "aktau",
          "lorengau",
          "pachino",
          "cabedelo",
          "denpasar",
          "ipixuna",
          "broome",
          "tilichiki",
          "lakki marwat",
          "veinticinco de mayo",
          "avdon",
          "katobu",
          "merauke",
          "yangliuqing",
          "tieling",
          "togur",
          "thinadhoo",
          "terra santa",
          "colares",
          "havoysund",
          "ostrovnoy",
          "alofi",
          "samandag",
          "san joaquin",
          "treinta y tres",
          "nazareno",
          "tessalit",
          "yaan",
          "ixtapa",
          "dong hoi",
          "harindanga",
          "pontypool",
          "ulladulla",
          "la paz",
          "hualmay",
          "barroso",
          "vryburg",
          "beira",
          "the valley",
          "narsaq",
          "juegang",
          "verkhniy avzyan",
          "araouane",
          "kirakira",
          "tautira",
          "singkang",
          "taitung",
          "nabire",
          "chifeng",
          "caiaponia",
          "salto",
          "praya",
          "aksarka",
          "abu zabad",
          "kushima",
          "beaune",
          "egvekinot",
          "greenville",
          "ust-ordynskiy",
          "tranas",
          "pleasanton",
          "beringovskiy",
          "newcastleton",
          "hirado",
          "brokopondo",
          "batagay",
          "laurel",
          "statesville",
          "tikrit",
          "iisalmi",
          "lahij",
          "derzhavinsk",
          "kyren",
          "kapit",
          "altay",
          "waseca",
          "nantucket",
          "cadillac",
          "sfantu gheorghe",
          "kundiawa",
          "gornopravdinsk",
          "bhandara",
          "wadi musa",
          "charters towers",
          "ustka",
          "sawakin",
          "severo-kurilsk",
          "rameswaram",
          "guerrero negro",
          "bandarbeyla",
          "antofagasta",
          "vila franca do campo",
          "bauta",
          "nsanje",
          "xuchang",
          "todos santos",
          "bataipora",
          "tateyama",
          "wajima",
          "pokosnoye",
          "waipawa",
          "yaring",
          "isiro",
          "chivilcoy",
          "mandalgovi",
          "nicoya",
          "novocheremshansk",
          "emirdag",
          "nouadhibou",
          "tongliao",
          "ryomgard",
          "khudumelapye",
          "talcahuano",
          "gifhorn",
          "bilma",
          "vung tau",
          "byron bay",
          "kalabo",
          "arcata",
          "lemoore",
          "norfolk",
          "juba",
          "pali",
          "katsuura",
          "bambanglipuro",
          "padang",
          "freeport",
          "bulgan",
          "sorland",
          "saryg-sep",
          "batagay-alyta",
          "lompoc",
          "changli",
          "choma",
          "tena",
          "ilhabela",
          "redmond",
          "wyndham",
          "nhulunbuy",
          "sangamner",
          "road town",
          "ranong",
          "staryy nadym",
          "dargaville",
          "sovetskiy",
          "tatarsk",
          "canchungo",
          "iquique",
          "poum"
         ],
         "lat": [
          18.3851,
          58.0948,
          -42.7826,
          42.097,
          36.0564,
          -54.8,
          42.6001,
          -24.8667,
          66.9395,
          -21.3393,
          -22.8375,
          59.7035,
          -3.2778,
          58.4619,
          77.484,
          -46.1927,
          71.9667,
          65.6145,
          71.6872,
          -0.7393,
          -21.2078,
          27.4763,
          -16.3494,
          -23.1203,
          62.55,
          -35.3333,
          48.3835,
          -20.3428,
          39.8212,
          16.3333,
          35.4495,
          54.1121,
          -33.9258,
          58.2093,
          -4.2,
          70.6333,
          48.035,
          62.2266,
          -6.8844,
          19.9333,
          70.4692,
          -21.6403,
          51.3813,
          -41.8697,
          35.042,
          22.0752,
          2.0371,
          41.5946,
          -27.1833,
          -42.8794,
          73.5069,
          19.7297,
          3.3333,
          46.6166,
          -21.2,
          4.9333,
          61.6864,
          66.4167,
          -33.0153,
          -33.65,
          -8.9266,
          63.8424,
          71.2906,
          25.4833,
          -9.8,
          -34.4187,
          -38.0023,
          -17.7125,
          -34.7333,
          -34.5322,
          -6.1761,
          -11.0267,
          49.1667,
          30.3333,
          71.9167,
          69.4058,
          50.086,
          -24.2511,
          57.1437,
          -20.4081,
          56.1667,
          21.3469,
          53.1667,
          -33.8667,
          32.767,
          64.3833,
          -31.2503,
          -21.3585,
          32.6667,
          50.7214,
          37.1041,
          52.0324,
          59.7,
          5.6667,
          3.0707,
          10.5669,
          38.9342,
          29.9576,
          -2.9248,
          8.5711,
          -24.7911,
          50.2441,
          -51.6226,
          -16.5382,
          -46.6,
          -14.7972,
          42.4167,
          -23.865,
          63.7506,
          -37.6167,
          8.9242,
          14.8961,
          47.6666,
          -2.5744,
          24.1614,
          37.6775,
          22.2855,
          -16.4833,
          -22.9661,
          -0.6,
          -33.5906,
          30.3,
          69.4865,
          57.0294,
          -8.4333,
          22.9,
          -33.6971,
          51.3735,
          37.4636,
          12.7857,
          -4.2714,
          57.0531,
          -53.15,
          43.5945,
          46.6806,
          -3.6954,
          -36.0333,
          -33.918,
          14.5094,
          5.4112,
          69.4541,
          30.1669,
          39.3558,
          27.5833,
          34.8791,
          55.7062,
          28.5004,
          -37.8333,
          63.0565,
          43.2165,
          -35.1,
          -0.9131,
          20.8947,
          65.5833,
          5.8933,
          66.1451,
          12.1694,
          -17.5333,
          48.0448,
          -28.7667,
          -4.352,
          62.456,
          -13.275,
          -15.8631,
          -13.7,
          -13.2,
          -9.1667,
          -46.2817,
          57.6198,
          61.95,
          22.5667,
          55.1001,
          -28.1887,
          19.55,
          33.194,
          14.3188,
          -18.9,
          64.8945,
          50.2289,
          8.484,
          64.5011,
          48.0056,
          54.7777,
          72.7868,
          3.8167,
          -18.3667,
          -28.4478,
          -20.9333,
          -34.0033,
          -20.0064,
          16.8861,
          -5.0892,
          2.1833,
          -9.0122,
          59.9445,
          39.05,
          37.4725,
          31.61,
          -8.145,
          46.4333,
          -19.55,
          69.7008,
          66.0449,
          57.79,
          65.75,
          -33.0393,
          61.67,
          -9.4431,
          4.1363,
          32.9833,
          22.7886,
          38.421,
          41.3712,
          58.6881,
          -26.6481,
          -5.1989,
          55.8652,
          -19.0047,
          37.5128,
          19.8,
          3.4651,
          -2.6833,
          60.8156,
          43.3469,
          48.7834,
          50.2696,
          -0.8833,
          78.2186,
          28.017,
          7.7669,
          60.7253,
          32.9537,
          65.282,
          0.5738,
          -9.4167,
          -18.65,
          -11.7022,
          -19.9842,
          -22.9575,
          -43.3002,
          26.95,
          1.6481,
          41.1231,
          49.417,
          -31.95,
          68.75,
          53.0533,
          7.0167,
          52.4411,
          26.6208,
          61.5996,
          7.9868,
          3.1667,
          8.8865,
          21.3226,
          -20.2078,
          -29.6641,
          9.2667,
          -45.8667,
          -2.0833,
          68.2191,
          33.0833,
          55.7435,
          6.1241,
          41.5887,
          30.4833,
          -38.2667,
          49.7834,
          40.9725,
          45.5234,
          62.0989,
          -29.9533,
          19.2056,
          61.2181,
          64.8378,
          21.4612,
          25.5198,
          29.9697,
          59.5833,
          35.7333,
          39.7432,
          -46.1333,
          7.0419,
          60.4167,
          -31.5375,
          -36.8333,
          14.9215,
          6.5047,
          40.3001,
          12.5847,
          69.5763,
          25.5,
          41.5627,
          44.7481,
          12.9842,
          3.1655,
          29.0331,
          7.9803,
          -39.8142,
          57.3064,
          -3.9014,
          49.9811,
          -20.5167,
          -23.7,
          37.4,
          35.1894,
          64.8569,
          18.4273,
          -9.0763,
          65.8252,
          39.5501,
          70.0167,
          20.75,
          -37.3217,
          51.064,
          -22.6667,
          13.2167,
          17.0151,
          51.9419,
          -14.2667,
          17.65,
          -15.1961,
          63.8385,
          69.3833,
          46.4856,
          -32.035,
          51.1167,
          69.2167,
          40.661,
          -30.1811,
          13.8065,
          52.1058,
          -34.4833,
          -2.1522,
          21.4022,
          53.3,
          -45.8742,
          -20.7333,
          -17.5065,
          50.6665,
          27.3167,
          51.3088,
          41.8007,
          53.9599,
          48.6499,
          47.4667,
          5.6592,
          43.3236,
          3.9366,
          9.4667,
          35.5392,
          -33.0117,
          53.0452,
          -20.3297,
          -3.8004,
          -9.4333,
          -12.974,
          -35.1667,
          33.7333,
          41.7597,
          38.7726,
          -17.8786,
          50.806,
          25.65,
          50.6996,
          51.1631,
          4.423,
          45.0205,
          67.45,
          59.6425,
          55.9029,
          -12.0432,
          -43.5333,
          -22.2167,
          61.8106,
          -20.3167,
          40.5982,
          17.0818,
          54.7804,
          59.6289,
          -25.2406,
          -20.7833,
          56.115,
          -3.432,
          20.5022,
          11.6667,
          40.4272,
          38.5167,
          68.8193,
          26.326,
          -0.7193,
          46.4154,
          63.4427,
          12.9714,
          52.9999,
          52.0466,
          66,
          38.6103,
          69.3497,
          -34.6534,
          61.994,
          39.1834,
          37.5683,
          36.4337,
          58.731,
          38.8876,
          63.8986,
          55.5195,
          13.5928,
          39.1763,
          0.6,
          38.7333,
          65.4167,
          -5.9475,
          9.1924,
          39.8885,
          3.7833,
          22.8909,
          22.05,
          -25.2986,
          -20.65,
          43.0844,
          -1.8764,
          -17.9333,
          -1.195,
          43.4,
          60.1432,
          -12.7887,
          43.65,
          -2.0226,
          36.7186,
          -6.9811,
          -8.65,
          -1.7625,
          42.2506,
          60.4667,
          32.6079,
          -35.4323,
          54.6667,
          -4.9408,
          -8.4667,
          39.1375,
          42.2931,
          58.3631,
          0.5333,
          -2.1042,
          38.7992,
          70.9963,
          68.0531,
          -19.0595,
          36.0842,
          37.9333,
          -33.2333,
          25.3833,
          20.1986,
          7.3833,
          20.7,
          17.4833,
          22.0383,
          51.7011,
          -35.35,
          -16.5,
          -11.0964,
          -21.1869,
          -26.9566,
          -19.8436,
          18.217,
          60.9167,
          32.3174,
          53.5289,
          18.9048,
          -10.4544,
          -17.7333,
          2.1006,
          22.7583,
          -3.3667,
          42.2683,
          -16.9567,
          -31.3833,
          14.9215,
          66.5606,
          12.35,
          31.4583,
          47.0833,
          66.3167,
          35.6127,
          52.805,
          58.0372,
          37.6624,
          63.05,
          55.1796,
          33.3597,
          4.75,
          67.6333,
          39.0993,
          35.7826,
          34.6071,
          63.5592,
          13.1667,
          51.1,
          51.6828,
          2.0167,
          47.8667,
          44.0777,
          41.2835,
          44.2519,
          45.8667,
          -6.0167,
          60.05,
          21.1667,
          30.3222,
          -20.1,
          54.5805,
          19.1059,
          50.6789,
          9.2833,
          27.9769,
          9.4942,
          -23.65,
          37.7167,
          22.9828,
          -16.92,
          34.0167,
          23.45,
          -22.2953,
          34.9833,
          37.4,
          55.5258,
          -41.4122,
          6.8662,
          2.7739,
          -34.8957,
          45.7625,
          10.1483,
          54.3571,
          39.0197,
          20.931,
          43.6125,
          56.3843,
          -23.8833,
          -36.7167,
          52.4833,
          18.6853,
          10.346,
          -28.65,
          -14.97,
          40.8665,
          36.3008,
          42.1668,
          4.8517,
          25.7667,
          35.1333,
          -7.95,
          -0.9492,
          40.6576,
          48.8125,
          67.667,
          51.5,
          67.8006,
          34.6391,
          39.7042,
          -16.8065,
          -0.9833,
          -23.7781,
          47.674,
          37.6985,
          -12.2333,
          19.5667,
          18.4167,
          9.9658,
          65.6118,
          -35.9333,
          61.3614,
          55.219,
          12.0672,
          -20.2208,
          -20.2333
         ],
         "legendgroup": "",
         "lon": [
          42.4509,
          6.8047,
          147.0587,
          -79.2353,
          103.7922,
          -68.3,
          -73.9662,
          113.6333,
          -53.6735,
          55.4781,
          -51.9731,
          30.7861,
          -39.2689,
          56.4165,
          -69.3632,
          168.8643,
          102.5,
          -37.6368,
          128.8694,
          -90.3518,
          -159.775,
          -99.5164,
          -53.7583,
          -134.9692,
          155.55,
          -72.4167,
          -77.2328,
          57.7575,
          45.0406,
          -15,
          -97.3967,
          13.0405,
          18.4232,
          -6.3865,
          36.9333,
          147.9167,
          27.8161,
          -6.589,
          112.2051,
          -105.25,
          -68.5914,
          -41.0511,
          1.3862,
          -73.8203,
          -89.6645,
          -159.319,
          45.3438,
          44.0891,
          151.2667,
          147.3294,
          80.5464,
          -155.09,
          20.8833,
          10.7002,
          -175.2,
          -52.3333,
          53.6902,
          112.4,
          27.9116,
          115.3333,
          125.4092,
          -22.4338,
          -156.7887,
          80.3333,
          -139.0333,
          19.2345,
          -57.5575,
          -39.2481,
          135.8667,
          20.0403,
          143.6513,
          -68.7692,
          -57.4316,
          10.85,
          114.0833,
          86.1778,
          16.4674,
          -49.7058,
          -2.0981,
          57.7,
          91.8167,
          -158.0858,
          63.5833,
          121.9,
          22.6367,
          -173.3,
          -61.4867,
          55.7679,
          -17.1,
          136.6319,
          -113.5841,
          23.1165,
          150.1667,
          73,
          172.7902,
          72.642,
          100.4517,
          122.298,
          -39.9167,
          81.2335,
          -50.0119,
          127.4902,
          -69.2181,
          28.7088,
          168.3333,
          -57.2881,
          -4.5,
          35.3833,
          -68.5145,
          -73.65,
          -67.4293,
          -24.4956,
          -52.7314,
          150.7967,
          115.1328,
          -113.0619,
          114.1577,
          -151.75,
          -42.0278,
          73.0833,
          26.891,
          108.85,
          88.3972,
          29.3338,
          114.3333,
          84.15,
          -53.4616,
          31.6466,
          -122.4286,
          -85.1227,
          -81.2147,
          -135.33,
          -70.9167,
          -83.8889,
          113.2792,
          128.1814,
          146.3833,
          25.5701,
          -92.1933,
          100.3354,
          -133.0374,
          -96.3977,
          -9.3811,
          91.8667,
          -76.9013,
          58.9549,
          -13.8627,
          140.7667,
          9.2124,
          -123.3417,
          173.7833,
          122.8766,
          -156.47,
          -171,
          95.3214,
          -65.7125,
          -83.0418,
          146.0333,
          40.045,
          114.6,
          152.2633,
          -114.3525,
          -50.1628,
          -38.8828,
          -76.2167,
          49.05,
          -60.6333,
          169.8464,
          63.0784,
          159.2333,
          59.5289,
          -105.2842,
          23.5395,
          -88.6833,
          -82.5271,
          2.0866,
          -66.7667,
          -23.7142,
          -99.4664,
          -13.2299,
          -165.4064,
          91.6419,
          34.3267,
          -56.1549,
          117.25,
          21.85,
          21.2561,
          29,
          24.7314,
          57.6608,
          -99.6106,
          -81.1144,
          22.4667,
          -35.2225,
          54.9977,
          -27.9833,
          -4.4421,
          34.7642,
          159.5921,
          26.4,
          169.2667,
          170.3133,
          -17.3389,
          -152.4072,
          150.85,
          -71.6273,
          96.37,
          147.1797,
          96.1285,
          132.9333,
          100.9748,
          -121.4238,
          -73.414,
          99.1844,
          15.1594,
          -35.4608,
          -4.2576,
          -57.6017,
          -8.7071,
          85.85,
          31.2469,
          111.6167,
          -115.7999,
          44.6975,
          -87.1,
          85.6108,
          131.25,
          15.6401,
          -97.5169,
          -72.225,
          114.9278,
          -96.8903,
          -126.8329,
          12.8642,
          -76.7833,
          -173.9833,
          43.2551,
          57.6142,
          14.5053,
          -65.1023,
          81.5833,
          14.5806,
          80.2644,
          31.9201,
          141.4333,
          161.3,
          90.9139,
          39.9833,
          61.7408,
          -78.2833,
          5.0328,
          117.0645,
          113.0333,
          2.5975,
          110.5829,
          57.7625,
          22.7474,
          76.7833,
          -67.5,
          101.3833,
          -135.0107,
          -16.3333,
          -97.8558,
          81.1185,
          -83.8911,
          -115.95,
          141.9667,
          -74.8492,
          117.9361,
          -122.6762,
          126.6992,
          -71.3436,
          -69.3369,
          -149.9003,
          -147.7164,
          -71.1419,
          90.2201,
          40.2064,
          151.2833,
          140.8333,
          98.5174,
          167.6833,
          134.2556,
          134.5333,
          -68.5364,
          175.7,
          -23.5087,
          4.7839,
          -74.1663,
          -81.7006,
          20.2189,
          -76.65,
          -8.572,
          132.0403,
          37.765,
          -52.3158,
          21.5482,
          49.8164,
          -73.2459,
          88.1667,
          -38.3911,
          92.0667,
          57.5167,
          133.8833,
          140.3833,
          -114.053,
          -147.8028,
          -68.9728,
          143.2092,
          21.6886,
          -77.0164,
          135.6,
          -105.3333,
          -59.1332,
          -0.3272,
          167.4833,
          -59.5167,
          54.0924,
          1.2844,
          50.1667,
          83.2667,
          12.1522,
          23.1307,
          178.4167,
          135.8833,
          -52.0986,
          133.0167,
          -51.1,
          -7.9097,
          -50.2056,
          -10.8321,
          -101.2676,
          -54.3333,
          -56.0922,
          -157.7394,
          80.05,
          170.5036,
          139.5,
          -149.489,
          -120.3192,
          -112.2833,
          119.61,
          -73.1212,
          81.2093,
          -53.1147,
          84.8667,
          -53.7767,
          145.575,
          41.867,
          12.0333,
          106.6861,
          17.9442,
          158.6483,
          -40.2925,
          102.2655,
          159.95,
          40.5178,
          173.1667,
          135.9833,
          86.1469,
          48.4128,
          36.8883,
          30.1376,
          77.9,
          -127.4199,
          54.9918,
          -7.3528,
          -93.218,
          153.6833,
          -151.5483,
          -3.5226,
          -77.0282,
          172.6333,
          30,
          51.5806,
          118.5667,
          -124.1573,
          122.4157,
          -127.1743,
          112.7406,
          130.9889,
          117.1333,
          47.718,
          10.6554,
          -10.0711,
          92.75,
          71.7189,
          -28.7,
          -51.1922,
          43.975,
          8.7815,
          3.9054,
          -20.2734,
          -0.1436,
          -122.5029,
          39.7288,
          111.5,
          -89.3726,
          87.7602,
          -58.6198,
          -49.6678,
          -84.5333,
          126.9778,
          -99.3904,
          45.024,
          -76.5119,
          122.7617,
          83.5094,
          -89.8275,
          8.9718,
          -80.0333,
          -27.0667,
          -52.9,
          29.1947,
          117.8141,
          4.2658,
          72.9667,
          -109.9124,
          -98.1667,
          152.8535,
          166.5333,
          17.9575,
          15.8644,
          19.7667,
          -46.02,
          4.9833,
          -45.2371,
          45.2699,
          51.2,
          147.2712,
          15.0907,
          -34.8339,
          115.2167,
          -48.8043,
          -75.833,
          166.1,
          70.9114,
          -60.1727,
          55.7167,
          122.5276,
          140.3333,
          116.9997,
          123.8414,
          82.8265,
          72.9333,
          -56.4869,
          -9.4469,
          24.6622,
          39.5131,
          -169.9187,
          35.9771,
          -121.3011,
          -54.3833,
          -103.4167,
          1.0114,
          8.5667,
          -105.2,
          106.6,
          88.3214,
          -3.0444,
          150.4667,
          -68.15,
          -77.6139,
          -43.9758,
          24.7284,
          34.8389,
          -63.0578,
          -46.05,
          121.1855,
          57.5372,
          -3.5265,
          161.9205,
          -149.15,
          102.7994,
          121.1444,
          135.4833,
          118.9636,
          -51.8103,
          -57.9667,
          -23.5087,
          67.7975,
          29.25,
          131.2333,
          4.75,
          -179.1667,
          -77.3663,
          104.7508,
          14.9782,
          -121.8747,
          179.3167,
          -2.8127,
          129.5531,
          -55.1667,
          134.6333,
          -76.8483,
          -80.8873,
          43.6782,
          27.1907,
          44.5833,
          66.3167,
          102.1408,
          112.9333,
          88.1167,
          -93.5074,
          -70.0995,
          -85.4012,
          25.7833,
          144.9667,
          69.9,
          79.65,
          35.4793,
          146.2667,
          16.8619,
          37.3321,
          156.125,
          79.3,
          -114.0611,
          50.8122,
          -70.4,
          -25.4333,
          -82.5464,
          35.262,
          113.8167,
          -110.2167,
          -53.2711,
          139.8667,
          136.9,
          101.0536,
          175.5153,
          101.3689,
          27.616,
          -60.0167,
          106.2708,
          -85.452,
          50.1666,
          31.15,
          -17.0347,
          122.2653,
          10.503,
          24.75,
          -73.1167,
          10.55,
          12.9164,
          107.0843,
          153.6167,
          22.6814,
          -124.0828,
          -119.7829,
          -71.2495,
          31.5825,
          73.3333,
          140.3,
          110.2833,
          100.3543,
          -73.5832,
          103.5347,
          12.6934,
          95.6,
          130.4114,
          -120.4579,
          119.1506,
          26.9531,
          -77.8167,
          -45.3581,
          -122.1215,
          -77.6125,
          136.7667,
          74.2167,
          -64.6167,
          98.6348,
          72.6842,
          173.8833,
          63.5842,
          75.9828,
          -16.0333,
          -70.1431,
          164.0167
         ],
         "marker": {
          "color": "#636efa",
          "symbol": "circle"
         },
         "mode": "markers+text",
         "name": "",
         "showlegend": false,
         "text": "%{text}",
         "type": "scattergeo"
        }
       ],
       "layout": {
        "geo": {
         "center": {},
         "domain": {
          "x": [
           0,
           1
          ],
          "y": [
           0,
           1
          ]
         },
         "showland": true
        },
        "hoverlabel": {
         "bgcolor": "white",
         "bordercolor": "black",
         "font": {
          "family": "Arial",
          "size": 14
         }
        },
        "legend": {
         "tracegroupgap": 0
        },
        "margin": {
         "t": 60
        },
        "template": {
         "data": {
          "bar": [
           {
            "error_x": {
             "color": "#2a3f5f"
            },
            "error_y": {
             "color": "#2a3f5f"
            },
            "marker": {
             "line": {
              "color": "#E5ECF6",
              "width": 0.5
             },
             "pattern": {
              "fillmode": "overlay",
              "size": 10,
              "solidity": 0.2
             }
            },
            "type": "bar"
           }
          ],
          "barpolar": [
           {
            "marker": {
             "line": {
              "color": "#E5ECF6",
              "width": 0.5
             },
             "pattern": {
              "fillmode": "overlay",
              "size": 10,
              "solidity": 0.2
             }
            },
            "type": "barpolar"
           }
          ],
          "carpet": [
           {
            "aaxis": {
             "endlinecolor": "#2a3f5f",
             "gridcolor": "white",
             "linecolor": "white",
             "minorgridcolor": "white",
             "startlinecolor": "#2a3f5f"
            },
            "baxis": {
             "endlinecolor": "#2a3f5f",
             "gridcolor": "white",
             "linecolor": "white",
             "minorgridcolor": "white",
             "startlinecolor": "#2a3f5f"
            },
            "type": "carpet"
           }
          ],
          "choropleth": [
           {
            "colorbar": {
             "outlinewidth": 0,
             "ticks": ""
            },
            "type": "choropleth"
           }
          ],
          "contour": [
           {
            "colorbar": {
             "outlinewidth": 0,
             "ticks": ""
            },
            "colorscale": [
             [
              0,
              "#0d0887"
             ],
             [
              0.1111111111111111,
              "#46039f"
             ],
             [
              0.2222222222222222,
              "#7201a8"
             ],
             [
              0.3333333333333333,
              "#9c179e"
             ],
             [
              0.4444444444444444,
              "#bd3786"
             ],
             [
              0.5555555555555556,
              "#d8576b"
             ],
             [
              0.6666666666666666,
              "#ed7953"
             ],
             [
              0.7777777777777778,
              "#fb9f3a"
             ],
             [
              0.8888888888888888,
              "#fdca26"
             ],
             [
              1,
              "#f0f921"
             ]
            ],
            "type": "contour"
           }
          ],
          "contourcarpet": [
           {
            "colorbar": {
             "outlinewidth": 0,
             "ticks": ""
            },
            "type": "contourcarpet"
           }
          ],
          "heatmap": [
           {
            "colorbar": {
             "outlinewidth": 0,
             "ticks": ""
            },
            "colorscale": [
             [
              0,
              "#0d0887"
             ],
             [
              0.1111111111111111,
              "#46039f"
             ],
             [
              0.2222222222222222,
              "#7201a8"
             ],
             [
              0.3333333333333333,
              "#9c179e"
             ],
             [
              0.4444444444444444,
              "#bd3786"
             ],
             [
              0.5555555555555556,
              "#d8576b"
             ],
             [
              0.6666666666666666,
              "#ed7953"
             ],
             [
              0.7777777777777778,
              "#fb9f3a"
             ],
             [
              0.8888888888888888,
              "#fdca26"
             ],
             [
              1,
              "#f0f921"
             ]
            ],
            "type": "heatmap"
           }
          ],
          "heatmapgl": [
           {
            "colorbar": {
             "outlinewidth": 0,
             "ticks": ""
            },
            "colorscale": [
             [
              0,
              "#0d0887"
             ],
             [
              0.1111111111111111,
              "#46039f"
             ],
             [
              0.2222222222222222,
              "#7201a8"
             ],
             [
              0.3333333333333333,
              "#9c179e"
             ],
             [
              0.4444444444444444,
              "#bd3786"
             ],
             [
              0.5555555555555556,
              "#d8576b"
             ],
             [
              0.6666666666666666,
              "#ed7953"
             ],
             [
              0.7777777777777778,
              "#fb9f3a"
             ],
             [
              0.8888888888888888,
              "#fdca26"
             ],
             [
              1,
              "#f0f921"
             ]
            ],
            "type": "heatmapgl"
           }
          ],
          "histogram": [
           {
            "marker": {
             "pattern": {
              "fillmode": "overlay",
              "size": 10,
              "solidity": 0.2
             }
            },
            "type": "histogram"
           }
          ],
          "histogram2d": [
           {
            "colorbar": {
             "outlinewidth": 0,
             "ticks": ""
            },
            "colorscale": [
             [
              0,
              "#0d0887"
             ],
             [
              0.1111111111111111,
              "#46039f"
             ],
             [
              0.2222222222222222,
              "#7201a8"
             ],
             [
              0.3333333333333333,
              "#9c179e"
             ],
             [
              0.4444444444444444,
              "#bd3786"
             ],
             [
              0.5555555555555556,
              "#d8576b"
             ],
             [
              0.6666666666666666,
              "#ed7953"
             ],
             [
              0.7777777777777778,
              "#fb9f3a"
             ],
             [
              0.8888888888888888,
              "#fdca26"
             ],
             [
              1,
              "#f0f921"
             ]
            ],
            "type": "histogram2d"
           }
          ],
          "histogram2dcontour": [
           {
            "colorbar": {
             "outlinewidth": 0,
             "ticks": ""
            },
            "colorscale": [
             [
              0,
              "#0d0887"
             ],
             [
              0.1111111111111111,
              "#46039f"
             ],
             [
              0.2222222222222222,
              "#7201a8"
             ],
             [
              0.3333333333333333,
              "#9c179e"
             ],
             [
              0.4444444444444444,
              "#bd3786"
             ],
             [
              0.5555555555555556,
              "#d8576b"
             ],
             [
              0.6666666666666666,
              "#ed7953"
             ],
             [
              0.7777777777777778,
              "#fb9f3a"
             ],
             [
              0.8888888888888888,
              "#fdca26"
             ],
             [
              1,
              "#f0f921"
             ]
            ],
            "type": "histogram2dcontour"
           }
          ],
          "mesh3d": [
           {
            "colorbar": {
             "outlinewidth": 0,
             "ticks": ""
            },
            "type": "mesh3d"
           }
          ],
          "parcoords": [
           {
            "line": {
             "colorbar": {
              "outlinewidth": 0,
              "ticks": ""
             }
            },
            "type": "parcoords"
           }
          ],
          "pie": [
           {
            "automargin": true,
            "type": "pie"
           }
          ],
          "scatter": [
           {
            "fillpattern": {
             "fillmode": "overlay",
             "size": 10,
             "solidity": 0.2
            },
            "type": "scatter"
           }
          ],
          "scatter3d": [
           {
            "line": {
             "colorbar": {
              "outlinewidth": 0,
              "ticks": ""
             }
            },
            "marker": {
             "colorbar": {
              "outlinewidth": 0,
              "ticks": ""
             }
            },
            "type": "scatter3d"
           }
          ],
          "scattercarpet": [
           {
            "marker": {
             "colorbar": {
              "outlinewidth": 0,
              "ticks": ""
             }
            },
            "type": "scattercarpet"
           }
          ],
          "scattergeo": [
           {
            "marker": {
             "colorbar": {
              "outlinewidth": 0,
              "ticks": ""
             }
            },
            "type": "scattergeo"
           }
          ],
          "scattergl": [
           {
            "marker": {
             "colorbar": {
              "outlinewidth": 0,
              "ticks": ""
             }
            },
            "type": "scattergl"
           }
          ],
          "scattermapbox": [
           {
            "marker": {
             "colorbar": {
              "outlinewidth": 0,
              "ticks": ""
             }
            },
            "type": "scattermapbox"
           }
          ],
          "scatterpolar": [
           {
            "marker": {
             "colorbar": {
              "outlinewidth": 0,
              "ticks": ""
             }
            },
            "type": "scatterpolar"
           }
          ],
          "scatterpolargl": [
           {
            "marker": {
             "colorbar": {
              "outlinewidth": 0,
              "ticks": ""
             }
            },
            "type": "scatterpolargl"
           }
          ],
          "scatterternary": [
           {
            "marker": {
             "colorbar": {
              "outlinewidth": 0,
              "ticks": ""
             }
            },
            "type": "scatterternary"
           }
          ],
          "surface": [
           {
            "colorbar": {
             "outlinewidth": 0,
             "ticks": ""
            },
            "colorscale": [
             [
              0,
              "#0d0887"
             ],
             [
              0.1111111111111111,
              "#46039f"
             ],
             [
              0.2222222222222222,
              "#7201a8"
             ],
             [
              0.3333333333333333,
              "#9c179e"
             ],
             [
              0.4444444444444444,
              "#bd3786"
             ],
             [
              0.5555555555555556,
              "#d8576b"
             ],
             [
              0.6666666666666666,
              "#ed7953"
             ],
             [
              0.7777777777777778,
              "#fb9f3a"
             ],
             [
              0.8888888888888888,
              "#fdca26"
             ],
             [
              1,
              "#f0f921"
             ]
            ],
            "type": "surface"
           }
          ],
          "table": [
           {
            "cells": {
             "fill": {
              "color": "#EBF0F8"
             },
             "line": {
              "color": "white"
             }
            },
            "header": {
             "fill": {
              "color": "#C8D4E3"
             },
             "line": {
              "color": "white"
             }
            },
            "type": "table"
           }
          ]
         },
         "layout": {
          "annotationdefaults": {
           "arrowcolor": "#2a3f5f",
           "arrowhead": 0,
           "arrowwidth": 1
          },
          "autotypenumbers": "strict",
          "coloraxis": {
           "colorbar": {
            "outlinewidth": 0,
            "ticks": ""
           }
          },
          "colorscale": {
           "diverging": [
            [
             0,
             "#8e0152"
            ],
            [
             0.1,
             "#c51b7d"
            ],
            [
             0.2,
             "#de77ae"
            ],
            [
             0.3,
             "#f1b6da"
            ],
            [
             0.4,
             "#fde0ef"
            ],
            [
             0.5,
             "#f7f7f7"
            ],
            [
             0.6,
             "#e6f5d0"
            ],
            [
             0.7,
             "#b8e186"
            ],
            [
             0.8,
             "#7fbc41"
            ],
            [
             0.9,
             "#4d9221"
            ],
            [
             1,
             "#276419"
            ]
           ],
           "sequential": [
            [
             0,
             "#0d0887"
            ],
            [
             0.1111111111111111,
             "#46039f"
            ],
            [
             0.2222222222222222,
             "#7201a8"
            ],
            [
             0.3333333333333333,
             "#9c179e"
            ],
            [
             0.4444444444444444,
             "#bd3786"
            ],
            [
             0.5555555555555556,
             "#d8576b"
            ],
            [
             0.6666666666666666,
             "#ed7953"
            ],
            [
             0.7777777777777778,
             "#fb9f3a"
            ],
            [
             0.8888888888888888,
             "#fdca26"
            ],
            [
             1,
             "#f0f921"
            ]
           ],
           "sequentialminus": [
            [
             0,
             "#0d0887"
            ],
            [
             0.1111111111111111,
             "#46039f"
            ],
            [
             0.2222222222222222,
             "#7201a8"
            ],
            [
             0.3333333333333333,
             "#9c179e"
            ],
            [
             0.4444444444444444,
             "#bd3786"
            ],
            [
             0.5555555555555556,
             "#d8576b"
            ],
            [
             0.6666666666666666,
             "#ed7953"
            ],
            [
             0.7777777777777778,
             "#fb9f3a"
            ],
            [
             0.8888888888888888,
             "#fdca26"
            ],
            [
             1,
             "#f0f921"
            ]
           ]
          },
          "colorway": [
           "#636efa",
           "#EF553B",
           "#00cc96",
           "#ab63fa",
           "#FFA15A",
           "#19d3f3",
           "#FF6692",
           "#B6E880",
           "#FF97FF",
           "#FECB52"
          ],
          "font": {
           "color": "#2a3f5f"
          },
          "geo": {
           "bgcolor": "white",
           "lakecolor": "white",
           "landcolor": "#E5ECF6",
           "showlakes": true,
           "showland": true,
           "subunitcolor": "white"
          },
          "hoverlabel": {
           "align": "left"
          },
          "hovermode": "closest",
          "mapbox": {
           "style": "light"
          },
          "paper_bgcolor": "white",
          "plot_bgcolor": "#E5ECF6",
          "polar": {
           "angularaxis": {
            "gridcolor": "white",
            "linecolor": "white",
            "ticks": ""
           },
           "bgcolor": "#E5ECF6",
           "radialaxis": {
            "gridcolor": "white",
            "linecolor": "white",
            "ticks": ""
           }
          },
          "scene": {
           "xaxis": {
            "backgroundcolor": "#E5ECF6",
            "gridcolor": "white",
            "gridwidth": 2,
            "linecolor": "white",
            "showbackground": true,
            "ticks": "",
            "zerolinecolor": "white"
           },
           "yaxis": {
            "backgroundcolor": "#E5ECF6",
            "gridcolor": "white",
            "gridwidth": 2,
            "linecolor": "white",
            "showbackground": true,
            "ticks": "",
            "zerolinecolor": "white"
           },
           "zaxis": {
            "backgroundcolor": "#E5ECF6",
            "gridcolor": "white",
            "gridwidth": 2,
            "linecolor": "white",
            "showbackground": true,
            "ticks": "",
            "zerolinecolor": "white"
           }
          },
          "shapedefaults": {
           "line": {
            "color": "#2a3f5f"
           }
          },
          "ternary": {
           "aaxis": {
            "gridcolor": "white",
            "linecolor": "white",
            "ticks": ""
           },
           "baxis": {
            "gridcolor": "white",
            "linecolor": "white",
            "ticks": ""
           },
           "bgcolor": "#E5ECF6",
           "caxis": {
            "gridcolor": "white",
            "linecolor": "white",
            "ticks": ""
           }
          },
          "title": {
           "x": 0.05
          },
          "xaxis": {
           "automargin": true,
           "gridcolor": "white",
           "linecolor": "white",
           "ticks": "",
           "title": {
            "standoff": 15
           },
           "zerolinecolor": "white",
           "zerolinewidth": 2
          },
          "yaxis": {
           "automargin": true,
           "gridcolor": "white",
           "linecolor": "white",
           "ticks": "",
           "title": {
            "standoff": 15
           },
           "zerolinecolor": "white",
           "zerolinewidth": 2
          }
         }
        }
       }
      }
     },
     "metadata": {},
     "output_type": "display_data"
    }
   ],
   "source": [
    "import plotly.express as px\n",
    "\n",
    "# Create a scatter map using Plotly Express\n",
    "fig = px.scatter_geo(\n",
    "    hotel_df,\n",
    "    lat=\"Lat\",\n",
    "    lon=\"Lng\",\n",
    "    text=\"City\",\n",
    "    hover_name=\"City\",\n",
    "    hover_data=[\"Country\", \"Hotel Name\", \"Humidity\"],\n",
    ")\n",
    "\n",
    "# Update hover information\n",
    "fig.update_traces(customdata=hotel_df[[\"Country\", \"Hotel Name\", \"Humidity\"]])\n",
    "fig.update_layout(hoverlabel=dict(\n",
    "    bgcolor=\"white\",\n",
    "    bordercolor=\"black\",\n",
    "    font_size=14,\n",
    "    font_family=\"Arial\"\n",
    "))\n",
    "\n",
    "# Customize hover text\n",
    "fig.update_traces(text=\"%{text}\")\n",
    "fig.update_layout(geo=dict(showland=True))\n",
    "\n",
    "# Show the map\n",
    "fig.show()\n"
   ]
  },
  {
   "cell_type": "code",
   "execution_count": 20,
   "metadata": {},
   "outputs": [
    {
     "data": {
      "application/vnd.plotly.v1+json": {
       "config": {
        "plotlyServerURL": "https://plot.ly"
       },
       "data": [
        {
         "customdata": [
          [
           "SA",
           "No hotel found",
           35
          ],
          [
           "NO",
           "No hotel found",
           100
          ],
          [
           "AU",
           "No hotel found",
           58
          ],
          [
           "US",
           "No hotel found",
           77
          ],
          [
           "CN",
           "No hotel found",
           48
          ],
          [
           "AR",
           "No hotel found",
           81
          ],
          [
           "US",
           "No hotel found",
           74
          ],
          [
           "AU",
           "No hotel found",
           76
          ],
          [
           "GL",
           "No hotel found",
           98
          ],
          [
           "RE",
           "No hotel found",
           68
          ],
          [
           "BR",
           "No hotel found",
           86
          ],
          [
           "RU",
           "No hotel found",
           90
          ],
          [
           "BR",
           "No hotel found",
           51
          ],
          [
           "RU",
           "No hotel found",
           93
          ],
          [
           "GL",
           "No hotel found",
           74
          ],
          [
           "NZ",
           "No hotel found",
           96
          ],
          [
           "RU",
           "No hotel found",
           96
          ],
          [
           "GL",
           "No hotel found",
           84
          ],
          [
           "RU",
           "No hotel found",
           93
          ],
          [
           "EC",
           "No hotel found",
           82
          ],
          [
           "CK",
           "No hotel found",
           73
          ],
          [
           "MX",
           "No hotel found",
           87
          ],
          [
           "BR",
           "No hotel found",
           14
          ],
          [
           "PF",
           "No hotel found",
           65
          ],
          [
           "RU",
           "No hotel found",
           95
          ],
          [
           "CL",
           "No hotel found",
           61
          ],
          [
           "CA",
           "No hotel found",
           90
          ],
          [
           "MU",
           "No hotel found",
           68
          ],
          [
           "AM",
           "No hotel found",
           55
          ],
          [
           "SN",
           "No hotel found",
           24
          ],
          [
           "US",
           "No hotel found",
           33
          ],
          [
           "DE",
           "No hotel found",
           75
          ],
          [
           "ZA",
           "No hotel found",
           71
          ],
          [
           "GB",
           "No hotel found",
           79
          ],
          [
           "TZ",
           "No hotel found",
           54
          ],
          [
           "RU",
           "No hotel found",
           98
          ],
          [
           "MD",
           "No hotel found",
           30
          ],
          [
           "FO",
           "No hotel found",
           65
          ],
          [
           "ID",
           "No hotel found",
           88
          ],
          [
           "MX",
           "No hotel found",
           71
          ],
          [
           "CA",
           "No hotel found",
           93
          ],
          [
           "BR",
           "No hotel found",
           75
          ],
          [
           "GB",
           "No hotel found",
           76
          ],
          [
           "CL",
           "No hotel found",
           70
          ],
          [
           "US",
           "No hotel found",
           47
          ],
          [
           "US",
           "No hotel found",
           84
          ],
          [
           "SO",
           "No hotel found",
           83
          ],
          [
           "GE",
           "No hotel found",
           95
          ],
          [
           "AU",
           "No hotel found",
           80
          ],
          [
           "AU",
           "No hotel found",
           68
          ],
          [
           "RU",
           "No hotel found",
           75
          ],
          [
           "US",
           "No hotel found",
           83
          ],
          [
           "CD",
           "No hotel found",
           87
          ],
          [
           "IT",
           "No hotel found",
           68
          ],
          [
           "TO",
           "No hotel found",
           100
          ],
          [
           "GF",
           "No hotel found",
           58
          ],
          [
           "RU",
           "No hotel found",
           88
          ],
          [
           "RU",
           "No hotel found",
           85
          ],
          [
           "ZA",
           "No hotel found",
           88
          ],
          [
           "AU",
           "No hotel found",
           92
          ],
          [
           "TL",
           "No hotel found",
           93
          ],
          [
           "IS",
           "No hotel found",
           70
          ],
          [
           "US",
           "No hotel found",
           80
          ],
          [
           "IN",
           "No hotel found",
           52
          ],
          [
           "PF",
           "No hotel found",
           69
          ],
          [
           "ZA",
           "No hotel found",
           80
          ],
          [
           "AR",
           "No hotel found",
           83
          ],
          [
           "BR",
           "No hotel found",
           64
          ],
          [
           "AU",
           "No hotel found",
           88
          ],
          [
           "ZA",
           "No hotel found",
           75
          ],
          [
           "PG",
           "No hotel found",
           97
          ],
          [
           "BO",
           "No hotel found",
           83
          ],
          [
           "CA",
           "No hotel found",
           94
          ],
          [
           "LY",
           "No hotel found",
           27
          ],
          [
           "RU",
           "No hotel found",
           97
          ],
          [
           "RU",
           "No hotel found",
           96
          ],
          [
           "CZ",
           "No hotel found",
           73
          ],
          [
           "BR",
           "No hotel found",
           81
          ],
          [
           "GB",
           "No hotel found",
           78
          ],
          [
           "MU",
           "No hotel found",
           68
          ],
          [
           "RU",
           "No hotel found",
           95
          ],
          [
           "US",
           "No hotel found",
           81
          ],
          [
           "KZ",
           "No hotel found",
           70
          ],
          [
           "AU",
           "No hotel found",
           87
          ],
          [
           "LY",
           "No hotel found",
           73
          ],
          [
           "RU",
           "No hotel found",
           76
          ],
          [
           "AR",
           "No hotel found",
           42
          ],
          [
           "RE",
           "No hotel found",
           76
          ],
          [
           "PT",
           "No hotel found",
           69
          ],
          [
           "RU",
           "No hotel found",
           60
          ],
          [
           "US",
           "No hotel found",
           44
          ],
          [
           "PL",
           "No hotel found",
           69
          ],
          [
           "RU",
           "No hotel found",
           49
          ],
          [
           "MV",
           "No hotel found",
           80
          ],
          [
           "KI",
           "No hotel found",
           77
          ],
          [
           "IN",
           "No hotel found",
           78
          ],
          [
           "CN",
           "No hotel found",
           16
          ],
          [
           "CN",
           "No hotel found",
           59
          ],
          [
           "BR",
           "No hotel found",
           54
          ],
          [
           "LK",
           "No hotel found",
           82
          ],
          [
           "BR",
           "No hotel found",
           88
          ],
          [
           "CN",
           "No hotel found",
           49
          ],
          [
           "AR",
           "No hotel found",
           26
          ],
          [
           "ZM",
           "No hotel found",
           32
          ],
          [
           "NZ",
           "No hotel found",
           76
          ],
          [
           "BR",
           "No hotel found",
           21
          ],
          [
           "ES",
           "No hotel found",
           30
          ],
          [
           "MZ",
           "No hotel found",
           65
          ],
          [
           "CA",
           "No hotel found",
           79
          ],
          [
           "CL",
           "No hotel found",
           72
          ],
          [
           "VE",
           "No hotel found",
           75
          ],
          [
           "CV",
           "No hotel found",
           78
          ],
          [
           "CA",
           "No hotel found",
           95
          ],
          [
           "PG",
           "No hotel found",
           71
          ],
          [
           "CN",
           "No hotel found",
           27
          ],
          [
           "US",
           "No hotel found",
           49
          ],
          [
           "HK",
           "No hotel found",
           77
          ],
          [
           "PF",
           "No hotel found",
           78
          ],
          [
           "BR",
           "No hotel found",
           74
          ],
          [
           "MV",
           "No hotel found",
           69
          ],
          [
           "ZA",
           "No hotel found",
           87
          ],
          [
           "CN",
           "No hotel found",
           77
          ],
          [
           "RU",
           "No hotel found",
           99
          ],
          [
           "RU",
           "No hotel found",
           90
          ],
          [
           "ID",
           "No hotel found",
           96
          ],
          [
           "IN",
           "No hotel found",
           87
          ],
          [
           "UY",
           "No hotel found",
           71
          ],
          [
           "UA",
           "No hotel found",
           62
          ],
          [
           "US",
           "No hotel found",
           86
          ],
          [
           "NI",
           "No hotel found",
           81
          ],
          [
           "PE",
           "No hotel found",
           68
          ],
          [
           "US",
           "No hotel found",
           82
          ],
          [
           "CL",
           "No hotel found",
           62
          ],
          [
           "US",
           "No hotel found",
           89
          ],
          [
           "MN",
           "No hotel found",
           22
          ],
          [
           "ID",
           "No hotel found",
           83
          ],
          [
           "AU",
           "No hotel found",
           92
          ],
          [
           "ZA",
           "No hotel found",
           83
          ],
          [
           "GT",
           "No hotel found",
           86
          ],
          [
           "MY",
           "No hotel found",
           89
          ],
          [
           "CA",
           "No hotel found",
           93
          ],
          [
           "US",
           "No hotel found",
           40
          ],
          [
           "PT",
           "No hotel found",
           89
          ],
          [
           "IN",
           "No hotel found",
           77
          ],
          [
           "US",
           "No hotel found",
           69
          ],
          [
           "RU",
           "No hotel found",
           93
          ],
          [
           "ES",
           "No hotel found",
           73
          ],
          [
           "AU",
           "No hotel found",
           91
          ],
          [
           "NO",
           "No hotel found",
           94
          ],
          [
           "US",
           "No hotel found",
           82
          ],
          [
           "NZ",
           "No hotel found",
           94
          ],
          [
           "ID",
           "No hotel found",
           88
          ],
          [
           "US",
           "No hotel found",
           60
          ],
          [
           "RU",
           "No hotel found",
           75
          ],
          [
           "ID",
           "No hotel found",
           81
          ],
          [
           "CA",
           "No hotel found",
           63
          ],
          [
           "NI",
           "No hotel found",
           74
          ],
          [
           "AU",
           "No hotel found",
           74
          ],
          [
           "RU",
           "No hotel found",
           47
          ],
          [
           "AU",
           "No hotel found",
           88
          ],
          [
           "PG",
           "No hotel found",
           75
          ],
          [
           "CA",
           "No hotel found",
           87
          ],
          [
           "BR",
           "No hotel found",
           13
          ],
          [
           "BR",
           "No hotel found",
           65
          ],
          [
           "PE",
           "No hotel found",
           77
          ],
          [
           "MG",
           "No hotel found",
           62
          ],
          [
           "BR",
           "No hotel found",
           45
          ],
          [
           "NZ",
           "No hotel found",
           77
          ],
          [
           "RU",
           "No hotel found",
           74
          ],
          [
           "RU",
           "No hotel found",
           85
          ],
          [
           "OM",
           "No hotel found",
           40
          ],
          [
           "CA",
           "No hotel found",
           52
          ],
          [
           "ZA",
           "No hotel found",
           60
          ],
          [
           "MX",
           "No hotel found",
           54
          ],
          [
           "US",
           "No hotel found",
           26
          ],
          [
           "NE",
           "No hotel found",
           10
          ],
          [
           "BO",
           "No hotel found",
           30
          ],
          [
           "IS",
           "No hotel found",
           76
          ],
          [
           "CA",
           "No hotel found",
           27
          ],
          [
           "SL",
           "No hotel found",
           74
          ],
          [
           "US",
           "No hotel found",
           100
          ],
          [
           "MN",
           "No hotel found",
           39
          ],
          [
           "RU",
           "No hotel found",
           80
          ],
          [
           "GL",
           "No hotel found",
           95
          ],
          [
           "ID",
           "No hotel found",
           99
          ],
          [
           "BW",
           "No hotel found",
           27
          ],
          [
           "ZA",
           "No hotel found",
           19
          ],
          [
           "ZW",
           "No hotel found",
           25
          ],
          [
           "ZA",
           "No hotel found",
           82
          ],
          [
           "MU",
           "No hotel found",
           65
          ],
          [
           "MX",
           "No hotel found",
           91
          ],
          [
           "PE",
           "No hotel found",
           67
          ],
          [
           "CD",
           "No hotel found",
           70
          ],
          [
           "BR",
           "No hotel found",
           73
          ],
          [
           "RU",
           "No hotel found",
           92
          ],
          [
           "PT",
           "No hotel found",
           61
          ],
          [
           "ES",
           "No hotel found",
           30
          ],
          [
           "IL",
           "No hotel found",
           100
          ],
          [
           "SB",
           "No hotel found",
           82
          ],
          [
           "RO",
           "No hotel found",
           48
          ],
          [
           "VU",
           "No hotel found",
           88
          ],
          [
           "RU",
           "No hotel found",
           96
          ],
          [
           "IS",
           "No hotel found",
           75
          ],
          [
           "US",
           "No hotel found",
           81
          ],
          [
           "RU",
           "No hotel found",
           93
          ],
          [
           "CL",
           "No hotel found",
           79
          ],
          [
           "RU",
           "No hotel found",
           89
          ],
          [
           "PG",
           "No hotel found",
           94
          ],
          [
           "ID",
           "No hotel found",
           88
          ],
          [
           "JP",
           "No hotel found",
           87
          ],
          [
           "CN",
           "No hotel found",
           67
          ],
          [
           "US",
           "No hotel found",
           79
          ],
          [
           "US",
           "No hotel found",
           54
          ],
          [
           "RU",
           "No hotel found",
           98
          ],
          [
           null,
           "No hotel found",
           68
          ],
          [
           "BR",
           "No hotel found",
           61
          ],
          [
           "GB",
           "No hotel found",
           73
          ],
          [
           "BR",
           "No hotel found",
           78
          ],
          [
           "PT",
           "No hotel found",
           60
          ],
          [
           "IN",
           "No hotel found",
           72
          ],
          [
           "UG",
           "No hotel found",
           84
          ],
          [
           "ID",
           "No hotel found",
           96
          ],
          [
           "CA",
           "No hotel found",
           58
          ],
          [
           "RU",
           "No hotel found",
           93
          ],
          [
           "CA",
           "No hotel found",
           74
          ],
          [
           "RU",
           "No hotel found",
           91
          ],
          [
           "ID",
           "No hotel found",
           83
          ],
          [
           "SJ",
           "No hotel found",
           81
          ],
          [
           "US",
           "No hotel found",
           43
          ],
          [
           "VE",
           "No hotel found",
           45
          ],
          [
           "RU",
           "No hotel found",
           91
          ],
          [
           "US",
           "No hotel found",
           31
          ],
          [
           "CA",
           "No hotel found",
           100
          ],
          [
           "GA",
           "No hotel found",
           95
          ],
          [
           "PE",
           "No hotel found",
           62
          ],
          [
           "TO",
           "No hotel found",
           88
          ],
          [
           "KM",
           "No hotel found",
           73
          ],
          [
           "MU",
           "No hotel found",
           65
          ],
          [
           null,
           "No hotel found",
           71
          ],
          [
           "AR",
           "No hotel found",
           25
          ],
          [
           "IN",
           "No hotel found",
           59
          ],
          [
           "CG",
           "No hotel found",
           91
          ],
          [
           "CN",
           "No hotel found",
           20
          ],
          [
           "UA",
           "No hotel found",
           32
          ],
          [
           "AU",
           "No hotel found",
           66
          ],
          [
           "RU",
           "No hotel found",
           100
          ],
          [
           "RU",
           "No hotel found",
           73
          ],
          [
           "ET",
           "No hotel found",
           95
          ],
          [
           "KZ",
           "No hotel found",
           57
          ],
          [
           "BS",
           "No hotel found",
           72
          ],
          [
           "NO",
           "No hotel found",
           61
          ],
          [
           "PH",
           "No hotel found",
           83
          ],
          [
           "MY",
           "No hotel found",
           100
          ],
          [
           "BJ",
           "No hotel found",
           56
          ],
          [
           "CN",
           "No hotel found",
           72
          ],
          [
           "MU",
           "No hotel found",
           73
          ],
          [
           "ZA",
           "No hotel found",
           31
          ],
          [
           "IN",
           "No hotel found",
           97
          ],
          [
           "AR",
           "No hotel found",
           24
          ],
          [
           "ID",
           "No hotel found",
           95
          ],
          [
           "CA",
           "No hotel found",
           93
          ],
          [
           "PT",
           "No hotel found",
           73
          ],
          [
           "CA",
           "No hotel found",
           60
          ],
          [
           "LK",
           "No hotel found",
           89
          ],
          [
           "US",
           "No hotel found",
           71
          ],
          [
           "MX",
           "No hotel found",
           74
          ],
          [
           "AU",
           "No hotel found",
           89
          ],
          [
           "CA",
           "No hotel found",
           90
          ],
          [
           "CN",
           "No hotel found",
           26
          ],
          [
           "US",
           "No hotel found",
           96
          ],
          [
           "RU",
           "No hotel found",
           99
          ],
          [
           "CL",
           "No hotel found",
           72
          ],
          [
           "DO",
           "No hotel found",
           79
          ],
          [
           "US",
           "No hotel found",
           90
          ],
          [
           "US",
           "No hotel found",
           91
          ],
          [
           "TC",
           "No hotel found",
           74
          ],
          [
           "IN",
           "No hotel found",
           90
          ],
          [
           "SA",
           "No hotel found",
           18
          ],
          [
           "RU",
           "No hotel found",
           48
          ],
          [
           "JP",
           "No hotel found",
           75
          ],
          [
           "CN",
           "No hotel found",
           15
          ],
          [
           "NZ",
           "No hotel found",
           92
          ],
          [
           "PW",
           "No hotel found",
           75
          ],
          [
           "RU",
           "No hotel found",
           98
          ],
          [
           "AR",
           "No hotel found",
           53
          ],
          [
           "NZ",
           "No hotel found",
           84
          ],
          [
           "CV",
           "No hotel found",
           74
          ],
          [
           "NG",
           "No hotel found",
           89
          ],
          [
           "US",
           "No hotel found",
           53
          ],
          [
           "CO",
           "No hotel found",
           70
          ],
          [
           "NO",
           "No hotel found",
           94
          ],
          [
           "BS",
           "No hotel found",
           70
          ],
          [
           "PT",
           "No hotel found",
           82
          ],
          [
           "RU",
           "No hotel found",
           55
          ],
          [
           "ET",
           "No hotel found",
           80
          ],
          [
           "GF",
           "No hotel found",
           48
          ],
          [
           "LY",
           "No hotel found",
           37
          ],
          [
           "SO",
           "No hotel found",
           76
          ],
          [
           "CL",
           "No hotel found",
           63
          ],
          [
           "RU",
           "No hotel found",
           96
          ],
          [
           "BR",
           "No hotel found",
           56
          ],
          [
           "MN",
           "No hotel found",
           55
          ],
          [
           "MU",
           "No hotel found",
           68
          ],
          [
           "AU",
           "No hotel found",
           63
          ],
          [
           "JP",
           "No hotel found",
           78
          ],
          [
           "US",
           "No hotel found",
           49
          ],
          [
           "US",
           "No hotel found",
           93
          ],
          [
           "DO",
           "No hotel found",
           79
          ],
          [
           "PG",
           "No hotel found",
           86
          ],
          [
           "SE",
           "No hotel found",
           82
          ],
          [
           "US",
           "No hotel found",
           55
          ],
          [
           "RU",
           "No hotel found",
           100
          ],
          [
           "MX",
           "No hotel found",
           70
          ],
          [
           "AR",
           "No hotel found",
           40
          ],
          [
           "GB",
           "No hotel found",
           72
          ],
          [
           "NC",
           "No hotel found",
           74
          ],
          [
           "BB",
           "No hotel found",
           70
          ],
          [
           "OM",
           "No hotel found",
           59
          ],
          [
           "GB",
           "No hotel found",
           69
          ],
          [
           "MG",
           "No hotel found",
           79
          ],
          [
           "IN",
           "No hotel found",
           89
          ],
          [
           "AO",
           "No hotel found",
           72
          ],
          [
           "FI",
           "No hotel found",
           76
          ],
          [
           "RU",
           "No hotel found",
           86
          ],
          [
           "RU",
           "No hotel found",
           68
          ],
          [
           "BR",
           "No hotel found",
           81
          ],
          [
           "RU",
           "No hotel found",
           78
          ],
          [
           "GL",
           "No hotel found",
           98
          ],
          [
           "PT",
           "No hotel found",
           39
          ],
          [
           "BR",
           "No hotel found",
           91
          ],
          [
           "ML",
           "No hotel found",
           72
          ],
          [
           "CA",
           "No hotel found",
           40
          ],
          [
           "UY",
           "No hotel found",
           66
          ],
          [
           "BR",
           "No hotel found",
           62
          ],
          [
           "US",
           "No hotel found",
           89
          ],
          [
           "RU",
           "No hotel found",
           76
          ],
          [
           "NZ",
           "No hotel found",
           73
          ],
          [
           "AU",
           "No hotel found",
           100
          ],
          [
           "PF",
           "No hotel found",
           83
          ],
          [
           "CA",
           "No hotel found",
           93
          ],
          [
           "MX",
           "No hotel found",
           56
          ],
          [
           "RU",
           "No hotel found",
           52
          ],
          [
           "US",
           "No hotel found",
           64
          ],
          [
           "RU",
           "No hotel found",
           80
          ],
          [
           "CA",
           "No hotel found",
           90
          ],
          [
           "KZ",
           "No hotel found",
           85
          ],
          [
           "GF",
           "No hotel found",
           64
          ],
          [
           "JP",
           "No hotel found",
           78
          ],
          [
           "KE",
           "No hotel found",
           48
          ],
          [
           "NG",
           "No hotel found",
           40
          ],
          [
           "CN",
           "No hotel found",
           64
          ],
          [
           "ZA",
           "No hotel found",
           86
          ],
          [
           "RU",
           "No hotel found",
           52
          ],
          [
           "BR",
           "No hotel found",
           75
          ],
          [
           "ID",
           "No hotel found",
           90
          ],
          [
           "SB",
           "No hotel found",
           85
          ],
          [
           "MZ",
           "No hotel found",
           76
          ],
          [
           "NZ",
           "No hotel found",
           73
          ],
          [
           "JP",
           "No hotel found",
           79
          ],
          [
           "CN",
           "No hotel found",
           19
          ],
          [
           "AZ",
           "No hotel found",
           95
          ],
          [
           "MZ",
           "No hotel found",
           75
          ],
          [
           "UA",
           "No hotel found",
           58
          ],
          [
           "IN",
           "No hotel found",
           55
          ],
          [
           "CA",
           "No hotel found",
           93
          ],
          [
           "RU",
           "No hotel found",
           65
          ],
          [
           "CI",
           "No hotel found",
           77
          ],
          [
           "US",
           "No hotel found",
           61
          ],
          [
           "RU",
           "No hotel found",
           98
          ],
          [
           "US",
           "No hotel found",
           87
          ],
          [
           "GB",
           "No hotel found",
           82
          ],
          [
           "PE",
           "No hotel found",
           79
          ],
          [
           "NZ",
           "No hotel found",
           95
          ],
          [
           "ZW",
           "No hotel found",
           22
          ],
          [
           "RU",
           "No hotel found",
           84
          ],
          [
           "AU",
           "No hotel found",
           73
          ],
          [
           "US",
           "No hotel found",
           100
          ],
          [
           "PH",
           "No hotel found",
           88
          ],
          [
           "CA",
           "No hotel found",
           93
          ],
          [
           "RU",
           "No hotel found",
           98
          ],
          [
           "AU",
           "No hotel found",
           57
          ],
          [
           "AU",
           "No hotel found",
           65
          ],
          [
           "RU",
           "No hotel found",
           87
          ],
          [
           "GA",
           "No hotel found",
           79
          ],
          [
           "MR",
           "No hotel found",
           8
          ],
          [
           "IN",
           "No hotel found",
           89
          ],
          [
           "UZ",
           "No hotel found",
           77
          ],
          [
           "PT",
           "No hotel found",
           48
          ],
          [
           "GL",
           "No hotel found",
           99
          ],
          [
           "SA",
           "No hotel found",
           11
          ],
          [
           "GA",
           "No hotel found",
           79
          ],
          [
           "FR",
           "No hotel found",
           57
          ],
          [
           "IS",
           "No hotel found",
           70
          ],
          [
           "BF",
           "No hotel found",
           15
          ],
          [
           "CA",
           "No hotel found",
           93
          ],
          [
           "RU",
           "No hotel found",
           63
          ],
          [
           "RU",
           "No hotel found",
           97
          ],
          [
           "US",
           "No hotel found",
           62
          ],
          [
           "RU",
           "No hotel found",
           100
          ],
          [
           "AR",
           "No hotel found",
           71
          ],
          [
           "GL",
           "No hotel found",
           80
          ],
          [
           "US",
           "No hotel found",
           72
          ],
          [
           "KR",
           "No hotel found",
           70
          ],
          [
           "US",
           "No hotel found",
           42
          ],
          [
           "RU",
           "No hotel found",
           93
          ],
          [
           "US",
           "No hotel found",
           53
          ],
          [
           "RU",
           "No hotel found",
           99
          ],
          [
           "RU",
           "No hotel found",
           95
          ],
          [
           "SV",
           "No hotel found",
           71
          ],
          [
           "IT",
           "No hotel found",
           71
          ],
          [
           "EC",
           "No hotel found",
           81
          ],
          [
           "PT",
           "No hotel found",
           77
          ],
          [
           "GL",
           "No hotel found",
           97
          ],
          [
           "CD",
           "No hotel found",
           60
          ],
          [
           "PH",
           "No hotel found",
           82
          ],
          [
           "ES",
           "No hotel found",
           78
          ],
          [
           "MV",
           "No hotel found",
           73
          ],
          [
           "MX",
           "No hotel found",
           69
          ],
          [
           "MX",
           "No hotel found",
           88
          ],
          [
           "AU",
           "No hotel found",
           81
          ],
          [
           "NC",
           "No hotel found",
           78
          ],
          [
           "BA",
           "No hotel found",
           68
          ],
          [
           "CG",
           "No hotel found",
           68
          ],
          [
           null,
           "No hotel found",
           27
          ],
          [
           "BR",
           "No hotel found",
           60
          ],
          [
           "FR",
           "No hotel found",
           65
          ],
          [
           "GL",
           "No hotel found",
           89
          ],
          [
           "YT",
           "No hotel found",
           73
          ],
          [
           "KZ",
           "No hotel found",
           46
          ],
          [
           "PG",
           "No hotel found",
           74
          ],
          [
           "IT",
           "No hotel found",
           67
          ],
          [
           "BR",
           "No hotel found",
           68
          ],
          [
           "ID",
           "No hotel found",
           100
          ],
          [
           "BR",
           "No hotel found",
           46
          ],
          [
           "US",
           "No hotel found",
           67
          ],
          [
           "RU",
           "No hotel found",
           84
          ],
          [
           "PK",
           "No hotel found",
           20
          ],
          [
           "AR",
           "No hotel found",
           87
          ],
          [
           "RU",
           "No hotel found",
           86
          ],
          [
           "ID",
           "No hotel found",
           94
          ],
          [
           "ID",
           "No hotel found",
           89
          ],
          [
           "CN",
           "No hotel found",
           31
          ],
          [
           "CN",
           "No hotel found",
           50
          ],
          [
           "RU",
           "No hotel found",
           95
          ],
          [
           "MV",
           "No hotel found",
           76
          ],
          [
           "BR",
           "No hotel found",
           67
          ],
          [
           "PT",
           "No hotel found",
           84
          ],
          [
           "NO",
           "No hotel found",
           68
          ],
          [
           "RU",
           "No hotel found",
           87
          ],
          [
           "NU",
           "No hotel found",
           94
          ],
          [
           "TR",
           "No hotel found",
           80
          ],
          [
           "US",
           "No hotel found",
           89
          ],
          [
           "UY",
           "No hotel found",
           74
          ],
          [
           "MX",
           "No hotel found",
           83
          ],
          [
           "ML",
           "No hotel found",
           13
          ],
          [
           "NG",
           "No hotel found",
           69
          ],
          [
           "MX",
           "No hotel found",
           70
          ],
          [
           "VN",
           "No hotel found",
           70
          ],
          [
           "IN",
           "No hotel found",
           75
          ],
          [
           "GB",
           "No hotel found",
           72
          ],
          [
           "AU",
           "No hotel found",
           92
          ],
          [
           "BO",
           "No hotel found",
           50
          ],
          [
           "PE",
           "No hotel found",
           71
          ],
          [
           "BR",
           "No hotel found",
           34
          ],
          [
           "ZA",
           "No hotel found",
           44
          ],
          [
           "MZ",
           "No hotel found",
           69
          ],
          [
           "AI",
           "No hotel found",
           65
          ],
          [
           "GL",
           "No hotel found",
           82
          ],
          [
           "CN",
           "No hotel found",
           63
          ],
          [
           "RU",
           "No hotel found",
           96
          ],
          [
           "ML",
           "No hotel found",
           10
          ],
          [
           "SB",
           "No hotel found",
           81
          ],
          [
           "PF",
           "No hotel found",
           81
          ],
          [
           "MY",
           "No hotel found",
           89
          ],
          [
           "TW",
           "No hotel found",
           80
          ],
          [
           "ID",
           "No hotel found",
           91
          ],
          [
           "CN",
           "No hotel found",
           20
          ],
          [
           "BR",
           "No hotel found",
           14
          ],
          [
           "UY",
           "No hotel found",
           61
          ],
          [
           "CV",
           "No hotel found",
           74
          ],
          [
           "RU",
           "No hotel found",
           95
          ],
          [
           "SD",
           "No hotel found",
           29
          ],
          [
           "JP",
           "No hotel found",
           82
          ],
          [
           "FR",
           "No hotel found",
           74
          ],
          [
           "RU",
           "No hotel found",
           87
          ],
          [
           "US",
           "No hotel found",
           48
          ],
          [
           "RU",
           "No hotel found",
           84
          ],
          [
           "SE",
           "No hotel found",
           93
          ],
          [
           "US",
           "No hotel found",
           86
          ],
          [
           "RU",
           "No hotel found",
           92
          ],
          [
           "GB",
           "No hotel found",
           71
          ],
          [
           "JP",
           "No hotel found",
           55
          ],
          [
           "SR",
           "No hotel found",
           60
          ],
          [
           "RU",
           "No hotel found",
           99
          ],
          [
           "US",
           "No hotel found",
           55
          ],
          [
           "US",
           "No hotel found",
           49
          ],
          [
           "IQ",
           "No hotel found",
           14
          ],
          [
           "FI",
           "No hotel found",
           90
          ],
          [
           "YE",
           "No hotel found",
           55
          ],
          [
           "KZ",
           "No hotel found",
           51
          ],
          [
           "RU",
           "No hotel found",
           73
          ],
          [
           "MY",
           "No hotel found",
           99
          ],
          [
           "CN",
           "No hotel found",
           84
          ],
          [
           "US",
           "No hotel found",
           65
          ],
          [
           "US",
           "No hotel found",
           90
          ],
          [
           "US",
           "No hotel found",
           93
          ],
          [
           "RO",
           "No hotel found",
           51
          ],
          [
           "PG",
           "No hotel found",
           97
          ],
          [
           "RU",
           "No hotel found",
           90
          ],
          [
           "IN",
           "No hotel found",
           86
          ],
          [
           "JO",
           "No hotel found",
           63
          ],
          [
           "AU",
           "No hotel found",
           77
          ],
          [
           "PL",
           "No hotel found",
           86
          ],
          [
           "SD",
           "No hotel found",
           69
          ],
          [
           "RU",
           "No hotel found",
           68
          ],
          [
           "IN",
           "No hotel found",
           77
          ],
          [
           "MX",
           "No hotel found",
           68
          ],
          [
           "SO",
           "No hotel found",
           81
          ],
          [
           "CL",
           "No hotel found",
           64
          ],
          [
           "PT",
           "No hotel found",
           70
          ],
          [
           "CU",
           "No hotel found",
           71
          ],
          [
           "MW",
           "No hotel found",
           26
          ],
          [
           "CN",
           "No hotel found",
           35
          ],
          [
           "MX",
           "No hotel found",
           67
          ],
          [
           "BR",
           "No hotel found",
           89
          ],
          [
           "JP",
           "No hotel found",
           85
          ],
          [
           "JP",
           "No hotel found",
           55
          ],
          [
           "RU",
           "No hotel found",
           81
          ],
          [
           "NZ",
           "No hotel found",
           91
          ],
          [
           "TH",
           "No hotel found",
           87
          ],
          [
           "CD",
           "No hotel found",
           73
          ],
          [
           "AR",
           "No hotel found",
           49
          ],
          [
           "MN",
           "No hotel found",
           23
          ],
          [
           "CR",
           "No hotel found",
           73
          ],
          [
           "RU",
           "No hotel found",
           81
          ],
          [
           "TR",
           "No hotel found",
           69
          ],
          [
           "MR",
           "No hotel found",
           27
          ],
          [
           "CN",
           "No hotel found",
           35
          ],
          [
           "DK",
           "No hotel found",
           81
          ],
          [
           "BW",
           "No hotel found",
           64
          ],
          [
           "CL",
           "No hotel found",
           67
          ],
          [
           "DE",
           "No hotel found",
           68
          ],
          [
           "NE",
           "No hotel found",
           18
          ],
          [
           "VN",
           "No hotel found",
           83
          ],
          [
           "AU",
           "No hotel found",
           83
          ],
          [
           "ZM",
           "No hotel found",
           14
          ],
          [
           "US",
           "No hotel found",
           93
          ],
          [
           "US",
           "No hotel found",
           74
          ],
          [
           "US",
           "No hotel found",
           95
          ],
          [
           "SS",
           "No hotel found",
           69
          ],
          [
           "IN",
           "No hotel found",
           26
          ],
          [
           "JP",
           "No hotel found",
           84
          ],
          [
           "ID",
           "No hotel found",
           87
          ],
          [
           "ID",
           "No hotel found",
           82
          ],
          [
           "US",
           "No hotel found",
           46
          ],
          [
           "MN",
           "No hotel found",
           40
          ],
          [
           "NO",
           "No hotel found",
           67
          ],
          [
           "RU",
           "No hotel found",
           44
          ],
          [
           "RU",
           "No hotel found",
           89
          ],
          [
           "US",
           "No hotel found",
           100
          ],
          [
           "CN",
           "No hotel found",
           33
          ],
          [
           "ZM",
           "No hotel found",
           22
          ],
          [
           "EC",
           "No hotel found",
           62
          ],
          [
           "BR",
           "No hotel found",
           88
          ],
          [
           "US",
           "No hotel found",
           91
          ],
          [
           "US",
           "No hotel found",
           52
          ],
          [
           "AU",
           "No hotel found",
           78
          ],
          [
           "IN",
           "No hotel found",
           85
          ],
          [
           "VG",
           "No hotel found",
           70
          ],
          [
           "TH",
           "No hotel found",
           93
          ],
          [
           "RU",
           "No hotel found",
           90
          ],
          [
           "NZ",
           "No hotel found",
           83
          ],
          [
           "RU",
           "No hotel found",
           96
          ],
          [
           "RU",
           "No hotel found",
           89
          ],
          [
           "GW",
           "No hotel found",
           61
          ],
          [
           "CL",
           "No hotel found",
           68
          ],
          [
           "NC",
           "No hotel found",
           79
          ]
         ],
         "geo": "geo",
         "hovertemplate": "<b>%{hovertext}</b><br><br>City=%{text}<br>Lat=%{lat}<br>Lng=%{lon}<br>Country=%{customdata[0]}<br>Hotel Name=%{customdata[1]}<br>Humidity=%{customdata[2]}<extra></extra>",
         "hovertext": [
          "faya",
          "farsund",
          "new norfolk",
          "jamestown",
          "lanzhou",
          "ushuaia",
          "albany",
          "carnarvon",
          "sisimiut",
          "saint-pierre",
          "colorado",
          "nikolskoye",
          "trairi",
          "dobryanka",
          "qaanaaq",
          "mataura",
          "khatanga",
          "tasiilaq",
          "tiksi",
          "puerto ayora",
          "avarua",
          "nuevo laredo",
          "guiratinga",
          "rikitea",
          "dukat",
          "constitucion",
          "senneterre",
          "bambous virieux",
          "zangakatun",
          "saint-louis",
          "midwest city",
          "grimmen",
          "cape town",
          "stornoway",
          "naberera",
          "chokurdakh",
          "drochia",
          "klaksvik",
          "labuhan",
          "tomatlan",
          "clyde river",
          "sao joao da barra",
          "margate",
          "ancud",
          "collierville",
          "kapaa",
          "mogadishu",
          "tsalka",
          "dalby",
          "hobart",
          "dikson",
          "hilo",
          "businga",
          "lasa",
          "vaini",
          "cayenne",
          "ust-kulom",
          "udachnyy",
          "east london",
          "busselton",
          "airai",
          "grindavik",
          "barrow",
          "banda",
          "atuona",
          "hermanus",
          "mar del plata",
          "caravelas",
          "port lincoln",
          "bredasdorp",
          "mendi",
          "cobija",
          "deer lake",
          "nalut",
          "saskylakh",
          "dudinka",
          "zamberk",
          "jaguariaiva",
          "aberdeen",
          "mahebourg",
          "kedrovyy",
          "makakilo city",
          "qostanay",
          "esperance",
          "darnah",
          "provideniya",
          "rafaela",
          "saint-philippe",
          "ponta do sol",
          "solnechnyy",
          "saint george",
          "alba",
          "arman",
          "ugoofaaru",
          "butaritari",
          "kavaratti",
          "zhangye",
          "shenjiamen",
          "itarema",
          "trincomalee",
          "castro",
          "heihe",
          "rio gallegos",
          "siavonga",
          "bluff",
          "nova olimpia",
          "palencia",
          "inhambane",
          "iqaluit",
          "lebu",
          "calabozo",
          "sao filipe",
          "torbay",
          "kavieng",
          "yidu",
          "cedar city",
          "victoria",
          "faanui",
          "arraial do cabo",
          "hithadhoo",
          "port alfred",
          "lichuan",
          "talnakh",
          "novorzhev",
          "muncar",
          "jashpurnagar",
          "chuy",
          "kulykivka",
          "half moon bay",
          "bocana de paiwas",
          "el alto",
          "sitka",
          "punta arenas",
          "bay city",
          "baruun-urt",
          "ambon",
          "corowa",
          "port elizabeth",
          "ocos",
          "georgetown",
          "tuktoyaktuk",
          "brenham",
          "peniche",
          "tawang",
          "havelock",
          "novobelokatay",
          "puerto del rosario",
          "mount gambier",
          "rindal",
          "roseburg",
          "kaeo",
          "biak",
          "kahului",
          "lavrentiya",
          "sabang",
          "pangnirtung",
          "corn island",
          "innisfail",
          "almaznyy",
          "geraldton",
          "kokopo",
          "yellowknife",
          "sao miguel do araguaia",
          "belmonte",
          "pisco",
          "ambilobe",
          "aripuana",
          "kaitangata",
          "lesnoy",
          "evensk",
          "sur",
          "la ronge",
          "danielskuil",
          "chunhuhub",
          "avera",
          "ouallam",
          "challapata",
          "olafsvik",
          "neepawa",
          "freetown",
          "nome",
          "hovd",
          "ugra",
          "upernavik",
          "sembakung",
          "shakawe",
          "upington",
          "gwanda",
          "kruisfontein",
          "grand gaube",
          "cacahuatepec",
          "paita",
          "bumba",
          "maragogi",
          "kosa",
          "lagoa",
          "cabra",
          "gat",
          "buala",
          "asau",
          "isangel",
          "pevek",
          "husavik",
          "kodiak",
          "zyryanka",
          "valparaiso",
          "baykit",
          "port moresby",
          "meulaboh",
          "nakamura",
          "simao",
          "laguna",
          "bethel",
          "kodinsk",
          "luderitz",
          "touros",
          "glasgow",
          "ladario",
          "sao teotonio",
          "puri",
          "yumbe",
          "pangkalanbuun",
          "hay river",
          "verkhniye achaluki",
          "terrace bay",
          "ust-koksa",
          "sorong",
          "longyearbyen",
          "san patricio",
          "san cristobal",
          "lensk",
          "carrollton",
          "norman wells",
          "makokou",
          "llata",
          "neiafu",
          "moroni",
          "cap malheureux",
          "walvis bay",
          "rawson",
          "tikaitnagar",
          "sembe",
          "aksu",
          "russkaya polyana",
          "broken hill",
          "cherskiy",
          "beya",
          "goba",
          "ordzhonikidze",
          "high rock",
          "floro",
          "balabac",
          "bintulu",
          "tchaourou",
          "zhongshan",
          "quatre cocos",
          "prieska",
          "pathanamthitta",
          "comodoro rivadavia",
          "sungaipenuh",
          "aklavik",
          "camacha",
          "thompson",
          "hambantota",
          "swanton",
          "san quintin",
          "codrington",
          "chapais",
          "chengde",
          "portland",
          "berdigestyakh",
          "coquimbo",
          "samana",
          "anchorage",
          "fairbanks",
          "cockburn town",
          "tura",
          "sakakah",
          "ola",
          "hasaki",
          "jiuquan",
          "tuatapere",
          "kloulklubed",
          "ust-maya",
          "san juan",
          "whitianga",
          "praia",
          "okitipupa",
          "monmouth",
          "san andres",
          "lyngseidet",
          "dunmore town",
          "galegos",
          "kamen-rybolov",
          "dabat",
          "camopi",
          "jalu",
          "eyl",
          "valdivia",
          "teguldet",
          "aquiraz",
          "ulaangom",
          "souillac",
          "alice springs",
          "koriyama",
          "kingman",
          "college",
          "la romana",
          "daru",
          "boden",
          "carroll",
          "ust-kuyga",
          "bucerias",
          "tandil",
          "horsham",
          "vao",
          "bathsheba",
          "salalah",
          "harwich",
          "sambava",
          "yarada",
          "namibe",
          "kokkola",
          "leningradskiy",
          "vostok",
          "rio grande",
          "chegdomyn",
          "ilulissat",
          "viseu",
          "cidreira",
          "bafoulabe",
          "swan river",
          "rocha",
          "juruti",
          "kailua",
          "verkh-suetka",
          "dunedin",
          "mount isa",
          "mahina",
          "kamloops",
          "santa rosalia",
          "nerchinskiy zavod",
          "torrington",
          "krutikha",
          "bonavista",
          "zaysan",
          "mana",
          "nemuro",
          "mandera",
          "numan",
          "pingliang",
          "saldanha",
          "petropavlovsk-kamchatskiy",
          "vila velha",
          "bengkulu",
          "honiara",
          "pemba",
          "ahipara",
          "shingu",
          "korla",
          "lerik",
          "quelimane",
          "katyuzhanka",
          "narwar",
          "port hardy",
          "sol-iletsk",
          "tabou",
          "saint anthony",
          "srednekolymsk",
          "homer",
          "livingston",
          "lima",
          "christchurch",
          "beitbridge",
          "kortkeros",
          "port hedland",
          "fortuna",
          "dicabisagan",
          "smithers",
          "peleduy",
          "yulara",
          "roebourne",
          "mariinskiy posad",
          "mayumba",
          "adrar",
          "port blair",
          "komsomolskiy",
          "ribeira grande",
          "qasigiannguit",
          "buraydah",
          "port-gentil",
          "saint-francois",
          "vestmannaeyjar",
          "bogande",
          "quesnel",
          "usman",
          "aykhal",
          "carlyle",
          "kayerkan",
          "moron",
          "paamiut",
          "hamilton",
          "seoul",
          "woodward",
          "georgiyevskoye",
          "mayo",
          "kysyl-syr",
          "tashara",
          "acajutla",
          "capoterra",
          "muisne",
          "praia da vitoria",
          "maniitsoq",
          "kalemie",
          "tagusao",
          "mao",
          "mahibadhoo",
          "cabo san lucas",
          "panuco",
          "hervey bay",
          "fayaoue",
          "stolac",
          "gamboma",
          "rundu",
          "carutapera",
          "port-de-bouc",
          "nanortalik",
          "dzaoudzi",
          "aktau",
          "lorengau",
          "pachino",
          "cabedelo",
          "denpasar",
          "ipixuna",
          "broome",
          "tilichiki",
          "lakki marwat",
          "veinticinco de mayo",
          "avdon",
          "katobu",
          "merauke",
          "yangliuqing",
          "tieling",
          "togur",
          "thinadhoo",
          "terra santa",
          "colares",
          "havoysund",
          "ostrovnoy",
          "alofi",
          "samandag",
          "san joaquin",
          "treinta y tres",
          "nazareno",
          "tessalit",
          "yaan",
          "ixtapa",
          "dong hoi",
          "harindanga",
          "pontypool",
          "ulladulla",
          "la paz",
          "hualmay",
          "barroso",
          "vryburg",
          "beira",
          "the valley",
          "narsaq",
          "juegang",
          "verkhniy avzyan",
          "araouane",
          "kirakira",
          "tautira",
          "singkang",
          "taitung",
          "nabire",
          "chifeng",
          "caiaponia",
          "salto",
          "praya",
          "aksarka",
          "abu zabad",
          "kushima",
          "beaune",
          "egvekinot",
          "greenville",
          "ust-ordynskiy",
          "tranas",
          "pleasanton",
          "beringovskiy",
          "newcastleton",
          "hirado",
          "brokopondo",
          "batagay",
          "laurel",
          "statesville",
          "tikrit",
          "iisalmi",
          "lahij",
          "derzhavinsk",
          "kyren",
          "kapit",
          "altay",
          "waseca",
          "nantucket",
          "cadillac",
          "sfantu gheorghe",
          "kundiawa",
          "gornopravdinsk",
          "bhandara",
          "wadi musa",
          "charters towers",
          "ustka",
          "sawakin",
          "severo-kurilsk",
          "rameswaram",
          "guerrero negro",
          "bandarbeyla",
          "antofagasta",
          "vila franca do campo",
          "bauta",
          "nsanje",
          "xuchang",
          "todos santos",
          "bataipora",
          "tateyama",
          "wajima",
          "pokosnoye",
          "waipawa",
          "yaring",
          "isiro",
          "chivilcoy",
          "mandalgovi",
          "nicoya",
          "novocheremshansk",
          "emirdag",
          "nouadhibou",
          "tongliao",
          "ryomgard",
          "khudumelapye",
          "talcahuano",
          "gifhorn",
          "bilma",
          "vung tau",
          "byron bay",
          "kalabo",
          "arcata",
          "lemoore",
          "norfolk",
          "juba",
          "pali",
          "katsuura",
          "bambanglipuro",
          "padang",
          "freeport",
          "bulgan",
          "sorland",
          "saryg-sep",
          "batagay-alyta",
          "lompoc",
          "changli",
          "choma",
          "tena",
          "ilhabela",
          "redmond",
          "wyndham",
          "nhulunbuy",
          "sangamner",
          "road town",
          "ranong",
          "staryy nadym",
          "dargaville",
          "sovetskiy",
          "tatarsk",
          "canchungo",
          "iquique",
          "poum"
         ],
         "lat": [
          18.3851,
          58.0948,
          -42.7826,
          42.097,
          36.0564,
          -54.8,
          42.6001,
          -24.8667,
          66.9395,
          -21.3393,
          -22.8375,
          59.7035,
          -3.2778,
          58.4619,
          77.484,
          -46.1927,
          71.9667,
          65.6145,
          71.6872,
          -0.7393,
          -21.2078,
          27.4763,
          -16.3494,
          -23.1203,
          62.55,
          -35.3333,
          48.3835,
          -20.3428,
          39.8212,
          16.3333,
          35.4495,
          54.1121,
          -33.9258,
          58.2093,
          -4.2,
          70.6333,
          48.035,
          62.2266,
          -6.8844,
          19.9333,
          70.4692,
          -21.6403,
          51.3813,
          -41.8697,
          35.042,
          22.0752,
          2.0371,
          41.5946,
          -27.1833,
          -42.8794,
          73.5069,
          19.7297,
          3.3333,
          46.6166,
          -21.2,
          4.9333,
          61.6864,
          66.4167,
          -33.0153,
          -33.65,
          -8.9266,
          63.8424,
          71.2906,
          25.4833,
          -9.8,
          -34.4187,
          -38.0023,
          -17.7125,
          -34.7333,
          -34.5322,
          -6.1761,
          -11.0267,
          49.1667,
          30.3333,
          71.9167,
          69.4058,
          50.086,
          -24.2511,
          57.1437,
          -20.4081,
          56.1667,
          21.3469,
          53.1667,
          -33.8667,
          32.767,
          64.3833,
          -31.2503,
          -21.3585,
          32.6667,
          50.7214,
          37.1041,
          52.0324,
          59.7,
          5.6667,
          3.0707,
          10.5669,
          38.9342,
          29.9576,
          -2.9248,
          8.5711,
          -24.7911,
          50.2441,
          -51.6226,
          -16.5382,
          -46.6,
          -14.7972,
          42.4167,
          -23.865,
          63.7506,
          -37.6167,
          8.9242,
          14.8961,
          47.6666,
          -2.5744,
          24.1614,
          37.6775,
          22.2855,
          -16.4833,
          -22.9661,
          -0.6,
          -33.5906,
          30.3,
          69.4865,
          57.0294,
          -8.4333,
          22.9,
          -33.6971,
          51.3735,
          37.4636,
          12.7857,
          -4.2714,
          57.0531,
          -53.15,
          43.5945,
          46.6806,
          -3.6954,
          -36.0333,
          -33.918,
          14.5094,
          5.4112,
          69.4541,
          30.1669,
          39.3558,
          27.5833,
          34.8791,
          55.7062,
          28.5004,
          -37.8333,
          63.0565,
          43.2165,
          -35.1,
          -0.9131,
          20.8947,
          65.5833,
          5.8933,
          66.1451,
          12.1694,
          -17.5333,
          48.0448,
          -28.7667,
          -4.352,
          62.456,
          -13.275,
          -15.8631,
          -13.7,
          -13.2,
          -9.1667,
          -46.2817,
          57.6198,
          61.95,
          22.5667,
          55.1001,
          -28.1887,
          19.55,
          33.194,
          14.3188,
          -18.9,
          64.8945,
          50.2289,
          8.484,
          64.5011,
          48.0056,
          54.7777,
          72.7868,
          3.8167,
          -18.3667,
          -28.4478,
          -20.9333,
          -34.0033,
          -20.0064,
          16.8861,
          -5.0892,
          2.1833,
          -9.0122,
          59.9445,
          39.05,
          37.4725,
          31.61,
          -8.145,
          46.4333,
          -19.55,
          69.7008,
          66.0449,
          57.79,
          65.75,
          -33.0393,
          61.67,
          -9.4431,
          4.1363,
          32.9833,
          22.7886,
          38.421,
          41.3712,
          58.6881,
          -26.6481,
          -5.1989,
          55.8652,
          -19.0047,
          37.5128,
          19.8,
          3.4651,
          -2.6833,
          60.8156,
          43.3469,
          48.7834,
          50.2696,
          -0.8833,
          78.2186,
          28.017,
          7.7669,
          60.7253,
          32.9537,
          65.282,
          0.5738,
          -9.4167,
          -18.65,
          -11.7022,
          -19.9842,
          -22.9575,
          -43.3002,
          26.95,
          1.6481,
          41.1231,
          49.417,
          -31.95,
          68.75,
          53.0533,
          7.0167,
          52.4411,
          26.6208,
          61.5996,
          7.9868,
          3.1667,
          8.8865,
          21.3226,
          -20.2078,
          -29.6641,
          9.2667,
          -45.8667,
          -2.0833,
          68.2191,
          33.0833,
          55.7435,
          6.1241,
          41.5887,
          30.4833,
          -38.2667,
          49.7834,
          40.9725,
          45.5234,
          62.0989,
          -29.9533,
          19.2056,
          61.2181,
          64.8378,
          21.4612,
          25.5198,
          29.9697,
          59.5833,
          35.7333,
          39.7432,
          -46.1333,
          7.0419,
          60.4167,
          -31.5375,
          -36.8333,
          14.9215,
          6.5047,
          40.3001,
          12.5847,
          69.5763,
          25.5,
          41.5627,
          44.7481,
          12.9842,
          3.1655,
          29.0331,
          7.9803,
          -39.8142,
          57.3064,
          -3.9014,
          49.9811,
          -20.5167,
          -23.7,
          37.4,
          35.1894,
          64.8569,
          18.4273,
          -9.0763,
          65.8252,
          39.5501,
          70.0167,
          20.75,
          -37.3217,
          51.064,
          -22.6667,
          13.2167,
          17.0151,
          51.9419,
          -14.2667,
          17.65,
          -15.1961,
          63.8385,
          69.3833,
          46.4856,
          -32.035,
          51.1167,
          69.2167,
          40.661,
          -30.1811,
          13.8065,
          52.1058,
          -34.4833,
          -2.1522,
          21.4022,
          53.3,
          -45.8742,
          -20.7333,
          -17.5065,
          50.6665,
          27.3167,
          51.3088,
          41.8007,
          53.9599,
          48.6499,
          47.4667,
          5.6592,
          43.3236,
          3.9366,
          9.4667,
          35.5392,
          -33.0117,
          53.0452,
          -20.3297,
          -3.8004,
          -9.4333,
          -12.974,
          -35.1667,
          33.7333,
          41.7597,
          38.7726,
          -17.8786,
          50.806,
          25.65,
          50.6996,
          51.1631,
          4.423,
          45.0205,
          67.45,
          59.6425,
          55.9029,
          -12.0432,
          -43.5333,
          -22.2167,
          61.8106,
          -20.3167,
          40.5982,
          17.0818,
          54.7804,
          59.6289,
          -25.2406,
          -20.7833,
          56.115,
          -3.432,
          20.5022,
          11.6667,
          40.4272,
          38.5167,
          68.8193,
          26.326,
          -0.7193,
          46.4154,
          63.4427,
          12.9714,
          52.9999,
          52.0466,
          66,
          38.6103,
          69.3497,
          -34.6534,
          61.994,
          39.1834,
          37.5683,
          36.4337,
          58.731,
          38.8876,
          63.8986,
          55.5195,
          13.5928,
          39.1763,
          0.6,
          38.7333,
          65.4167,
          -5.9475,
          9.1924,
          39.8885,
          3.7833,
          22.8909,
          22.05,
          -25.2986,
          -20.65,
          43.0844,
          -1.8764,
          -17.9333,
          -1.195,
          43.4,
          60.1432,
          -12.7887,
          43.65,
          -2.0226,
          36.7186,
          -6.9811,
          -8.65,
          -1.7625,
          42.2506,
          60.4667,
          32.6079,
          -35.4323,
          54.6667,
          -4.9408,
          -8.4667,
          39.1375,
          42.2931,
          58.3631,
          0.5333,
          -2.1042,
          38.7992,
          70.9963,
          68.0531,
          -19.0595,
          36.0842,
          37.9333,
          -33.2333,
          25.3833,
          20.1986,
          7.3833,
          20.7,
          17.4833,
          22.0383,
          51.7011,
          -35.35,
          -16.5,
          -11.0964,
          -21.1869,
          -26.9566,
          -19.8436,
          18.217,
          60.9167,
          32.3174,
          53.5289,
          18.9048,
          -10.4544,
          -17.7333,
          2.1006,
          22.7583,
          -3.3667,
          42.2683,
          -16.9567,
          -31.3833,
          14.9215,
          66.5606,
          12.35,
          31.4583,
          47.0833,
          66.3167,
          35.6127,
          52.805,
          58.0372,
          37.6624,
          63.05,
          55.1796,
          33.3597,
          4.75,
          67.6333,
          39.0993,
          35.7826,
          34.6071,
          63.5592,
          13.1667,
          51.1,
          51.6828,
          2.0167,
          47.8667,
          44.0777,
          41.2835,
          44.2519,
          45.8667,
          -6.0167,
          60.05,
          21.1667,
          30.3222,
          -20.1,
          54.5805,
          19.1059,
          50.6789,
          9.2833,
          27.9769,
          9.4942,
          -23.65,
          37.7167,
          22.9828,
          -16.92,
          34.0167,
          23.45,
          -22.2953,
          34.9833,
          37.4,
          55.5258,
          -41.4122,
          6.8662,
          2.7739,
          -34.8957,
          45.7625,
          10.1483,
          54.3571,
          39.0197,
          20.931,
          43.6125,
          56.3843,
          -23.8833,
          -36.7167,
          52.4833,
          18.6853,
          10.346,
          -28.65,
          -14.97,
          40.8665,
          36.3008,
          42.1668,
          4.8517,
          25.7667,
          35.1333,
          -7.95,
          -0.9492,
          40.6576,
          48.8125,
          67.667,
          51.5,
          67.8006,
          34.6391,
          39.7042,
          -16.8065,
          -0.9833,
          -23.7781,
          47.674,
          37.6985,
          -12.2333,
          19.5667,
          18.4167,
          9.9658,
          65.6118,
          -35.9333,
          61.3614,
          55.219,
          12.0672,
          -20.2208,
          -20.2333
         ],
         "legendgroup": "",
         "lon": [
          42.4509,
          6.8047,
          147.0587,
          -79.2353,
          103.7922,
          -68.3,
          -73.9662,
          113.6333,
          -53.6735,
          55.4781,
          -51.9731,
          30.7861,
          -39.2689,
          56.4165,
          -69.3632,
          168.8643,
          102.5,
          -37.6368,
          128.8694,
          -90.3518,
          -159.775,
          -99.5164,
          -53.7583,
          -134.9692,
          155.55,
          -72.4167,
          -77.2328,
          57.7575,
          45.0406,
          -15,
          -97.3967,
          13.0405,
          18.4232,
          -6.3865,
          36.9333,
          147.9167,
          27.8161,
          -6.589,
          112.2051,
          -105.25,
          -68.5914,
          -41.0511,
          1.3862,
          -73.8203,
          -89.6645,
          -159.319,
          45.3438,
          44.0891,
          151.2667,
          147.3294,
          80.5464,
          -155.09,
          20.8833,
          10.7002,
          -175.2,
          -52.3333,
          53.6902,
          112.4,
          27.9116,
          115.3333,
          125.4092,
          -22.4338,
          -156.7887,
          80.3333,
          -139.0333,
          19.2345,
          -57.5575,
          -39.2481,
          135.8667,
          20.0403,
          143.6513,
          -68.7692,
          -57.4316,
          10.85,
          114.0833,
          86.1778,
          16.4674,
          -49.7058,
          -2.0981,
          57.7,
          91.8167,
          -158.0858,
          63.5833,
          121.9,
          22.6367,
          -173.3,
          -61.4867,
          55.7679,
          -17.1,
          136.6319,
          -113.5841,
          23.1165,
          150.1667,
          73,
          172.7902,
          72.642,
          100.4517,
          122.298,
          -39.9167,
          81.2335,
          -50.0119,
          127.4902,
          -69.2181,
          28.7088,
          168.3333,
          -57.2881,
          -4.5,
          35.3833,
          -68.5145,
          -73.65,
          -67.4293,
          -24.4956,
          -52.7314,
          150.7967,
          115.1328,
          -113.0619,
          114.1577,
          -151.75,
          -42.0278,
          73.0833,
          26.891,
          108.85,
          88.3972,
          29.3338,
          114.3333,
          84.15,
          -53.4616,
          31.6466,
          -122.4286,
          -85.1227,
          -81.2147,
          -135.33,
          -70.9167,
          -83.8889,
          113.2792,
          128.1814,
          146.3833,
          25.5701,
          -92.1933,
          100.3354,
          -133.0374,
          -96.3977,
          -9.3811,
          91.8667,
          -76.9013,
          58.9549,
          -13.8627,
          140.7667,
          9.2124,
          -123.3417,
          173.7833,
          122.8766,
          -156.47,
          -171,
          95.3214,
          -65.7125,
          -83.0418,
          146.0333,
          40.045,
          114.6,
          152.2633,
          -114.3525,
          -50.1628,
          -38.8828,
          -76.2167,
          49.05,
          -60.6333,
          169.8464,
          63.0784,
          159.2333,
          59.5289,
          -105.2842,
          23.5395,
          -88.6833,
          -82.5271,
          2.0866,
          -66.7667,
          -23.7142,
          -99.4664,
          -13.2299,
          -165.4064,
          91.6419,
          34.3267,
          -56.1549,
          117.25,
          21.85,
          21.2561,
          29,
          24.7314,
          57.6608,
          -99.6106,
          -81.1144,
          22.4667,
          -35.2225,
          54.9977,
          -27.9833,
          -4.4421,
          34.7642,
          159.5921,
          26.4,
          169.2667,
          170.3133,
          -17.3389,
          -152.4072,
          150.85,
          -71.6273,
          96.37,
          147.1797,
          96.1285,
          132.9333,
          100.9748,
          -121.4238,
          -73.414,
          99.1844,
          15.1594,
          -35.4608,
          -4.2576,
          -57.6017,
          -8.7071,
          85.85,
          31.2469,
          111.6167,
          -115.7999,
          44.6975,
          -87.1,
          85.6108,
          131.25,
          15.6401,
          -97.5169,
          -72.225,
          114.9278,
          -96.8903,
          -126.8329,
          12.8642,
          -76.7833,
          -173.9833,
          43.2551,
          57.6142,
          14.5053,
          -65.1023,
          81.5833,
          14.5806,
          80.2644,
          31.9201,
          141.4333,
          161.3,
          90.9139,
          39.9833,
          61.7408,
          -78.2833,
          5.0328,
          117.0645,
          113.0333,
          2.5975,
          110.5829,
          57.7625,
          22.7474,
          76.7833,
          -67.5,
          101.3833,
          -135.0107,
          -16.3333,
          -97.8558,
          81.1185,
          -83.8911,
          -115.95,
          141.9667,
          -74.8492,
          117.9361,
          -122.6762,
          126.6992,
          -71.3436,
          -69.3369,
          -149.9003,
          -147.7164,
          -71.1419,
          90.2201,
          40.2064,
          151.2833,
          140.8333,
          98.5174,
          167.6833,
          134.2556,
          134.5333,
          -68.5364,
          175.7,
          -23.5087,
          4.7839,
          -74.1663,
          -81.7006,
          20.2189,
          -76.65,
          -8.572,
          132.0403,
          37.765,
          -52.3158,
          21.5482,
          49.8164,
          -73.2459,
          88.1667,
          -38.3911,
          92.0667,
          57.5167,
          133.8833,
          140.3833,
          -114.053,
          -147.8028,
          -68.9728,
          143.2092,
          21.6886,
          -77.0164,
          135.6,
          -105.3333,
          -59.1332,
          -0.3272,
          167.4833,
          -59.5167,
          54.0924,
          1.2844,
          50.1667,
          83.2667,
          12.1522,
          23.1307,
          178.4167,
          135.8833,
          -52.0986,
          133.0167,
          -51.1,
          -7.9097,
          -50.2056,
          -10.8321,
          -101.2676,
          -54.3333,
          -56.0922,
          -157.7394,
          80.05,
          170.5036,
          139.5,
          -149.489,
          -120.3192,
          -112.2833,
          119.61,
          -73.1212,
          81.2093,
          -53.1147,
          84.8667,
          -53.7767,
          145.575,
          41.867,
          12.0333,
          106.6861,
          17.9442,
          158.6483,
          -40.2925,
          102.2655,
          159.95,
          40.5178,
          173.1667,
          135.9833,
          86.1469,
          48.4128,
          36.8883,
          30.1376,
          77.9,
          -127.4199,
          54.9918,
          -7.3528,
          -93.218,
          153.6833,
          -151.5483,
          -3.5226,
          -77.0282,
          172.6333,
          30,
          51.5806,
          118.5667,
          -124.1573,
          122.4157,
          -127.1743,
          112.7406,
          130.9889,
          117.1333,
          47.718,
          10.6554,
          -10.0711,
          92.75,
          71.7189,
          -28.7,
          -51.1922,
          43.975,
          8.7815,
          3.9054,
          -20.2734,
          -0.1436,
          -122.5029,
          39.7288,
          111.5,
          -89.3726,
          87.7602,
          -58.6198,
          -49.6678,
          -84.5333,
          126.9778,
          -99.3904,
          45.024,
          -76.5119,
          122.7617,
          83.5094,
          -89.8275,
          8.9718,
          -80.0333,
          -27.0667,
          -52.9,
          29.1947,
          117.8141,
          4.2658,
          72.9667,
          -109.9124,
          -98.1667,
          152.8535,
          166.5333,
          17.9575,
          15.8644,
          19.7667,
          -46.02,
          4.9833,
          -45.2371,
          45.2699,
          51.2,
          147.2712,
          15.0907,
          -34.8339,
          115.2167,
          -48.8043,
          -75.833,
          166.1,
          70.9114,
          -60.1727,
          55.7167,
          122.5276,
          140.3333,
          116.9997,
          123.8414,
          82.8265,
          72.9333,
          -56.4869,
          -9.4469,
          24.6622,
          39.5131,
          -169.9187,
          35.9771,
          -121.3011,
          -54.3833,
          -103.4167,
          1.0114,
          8.5667,
          -105.2,
          106.6,
          88.3214,
          -3.0444,
          150.4667,
          -68.15,
          -77.6139,
          -43.9758,
          24.7284,
          34.8389,
          -63.0578,
          -46.05,
          121.1855,
          57.5372,
          -3.5265,
          161.9205,
          -149.15,
          102.7994,
          121.1444,
          135.4833,
          118.9636,
          -51.8103,
          -57.9667,
          -23.5087,
          67.7975,
          29.25,
          131.2333,
          4.75,
          -179.1667,
          -77.3663,
          104.7508,
          14.9782,
          -121.8747,
          179.3167,
          -2.8127,
          129.5531,
          -55.1667,
          134.6333,
          -76.8483,
          -80.8873,
          43.6782,
          27.1907,
          44.5833,
          66.3167,
          102.1408,
          112.9333,
          88.1167,
          -93.5074,
          -70.0995,
          -85.4012,
          25.7833,
          144.9667,
          69.9,
          79.65,
          35.4793,
          146.2667,
          16.8619,
          37.3321,
          156.125,
          79.3,
          -114.0611,
          50.8122,
          -70.4,
          -25.4333,
          -82.5464,
          35.262,
          113.8167,
          -110.2167,
          -53.2711,
          139.8667,
          136.9,
          101.0536,
          175.5153,
          101.3689,
          27.616,
          -60.0167,
          106.2708,
          -85.452,
          50.1666,
          31.15,
          -17.0347,
          122.2653,
          10.503,
          24.75,
          -73.1167,
          10.55,
          12.9164,
          107.0843,
          153.6167,
          22.6814,
          -124.0828,
          -119.7829,
          -71.2495,
          31.5825,
          73.3333,
          140.3,
          110.2833,
          100.3543,
          -73.5832,
          103.5347,
          12.6934,
          95.6,
          130.4114,
          -120.4579,
          119.1506,
          26.9531,
          -77.8167,
          -45.3581,
          -122.1215,
          -77.6125,
          136.7667,
          74.2167,
          -64.6167,
          98.6348,
          72.6842,
          173.8833,
          63.5842,
          75.9828,
          -16.0333,
          -70.1431,
          164.0167
         ],
         "marker": {
          "color": "#636efa",
          "symbol": "circle"
         },
         "mode": "markers+text",
         "name": "",
         "showlegend": false,
         "text": [
          "faya",
          "farsund",
          "new norfolk",
          "jamestown",
          "lanzhou",
          "ushuaia",
          "albany",
          "carnarvon",
          "sisimiut",
          "saint-pierre",
          "colorado",
          "nikolskoye",
          "trairi",
          "dobryanka",
          "qaanaaq",
          "mataura",
          "khatanga",
          "tasiilaq",
          "tiksi",
          "puerto ayora",
          "avarua",
          "nuevo laredo",
          "guiratinga",
          "rikitea",
          "dukat",
          "constitucion",
          "senneterre",
          "bambous virieux",
          "zangakatun",
          "saint-louis",
          "midwest city",
          "grimmen",
          "cape town",
          "stornoway",
          "naberera",
          "chokurdakh",
          "drochia",
          "klaksvik",
          "labuhan",
          "tomatlan",
          "clyde river",
          "sao joao da barra",
          "margate",
          "ancud",
          "collierville",
          "kapaa",
          "mogadishu",
          "tsalka",
          "dalby",
          "hobart",
          "dikson",
          "hilo",
          "businga",
          "lasa",
          "vaini",
          "cayenne",
          "ust-kulom",
          "udachnyy",
          "east london",
          "busselton",
          "airai",
          "grindavik",
          "barrow",
          "banda",
          "atuona",
          "hermanus",
          "mar del plata",
          "caravelas",
          "port lincoln",
          "bredasdorp",
          "mendi",
          "cobija",
          "deer lake",
          "nalut",
          "saskylakh",
          "dudinka",
          "zamberk",
          "jaguariaiva",
          "aberdeen",
          "mahebourg",
          "kedrovyy",
          "makakilo city",
          "qostanay",
          "esperance",
          "darnah",
          "provideniya",
          "rafaela",
          "saint-philippe",
          "ponta do sol",
          "solnechnyy",
          "saint george",
          "alba",
          "arman",
          "ugoofaaru",
          "butaritari",
          "kavaratti",
          "zhangye",
          "shenjiamen",
          "itarema",
          "trincomalee",
          "castro",
          "heihe",
          "rio gallegos",
          "siavonga",
          "bluff",
          "nova olimpia",
          "palencia",
          "inhambane",
          "iqaluit",
          "lebu",
          "calabozo",
          "sao filipe",
          "torbay",
          "kavieng",
          "yidu",
          "cedar city",
          "victoria",
          "faanui",
          "arraial do cabo",
          "hithadhoo",
          "port alfred",
          "lichuan",
          "talnakh",
          "novorzhev",
          "muncar",
          "jashpurnagar",
          "chuy",
          "kulykivka",
          "half moon bay",
          "bocana de paiwas",
          "el alto",
          "sitka",
          "punta arenas",
          "bay city",
          "baruun-urt",
          "ambon",
          "corowa",
          "port elizabeth",
          "ocos",
          "georgetown",
          "tuktoyaktuk",
          "brenham",
          "peniche",
          "tawang",
          "havelock",
          "novobelokatay",
          "puerto del rosario",
          "mount gambier",
          "rindal",
          "roseburg",
          "kaeo",
          "biak",
          "kahului",
          "lavrentiya",
          "sabang",
          "pangnirtung",
          "corn island",
          "innisfail",
          "almaznyy",
          "geraldton",
          "kokopo",
          "yellowknife",
          "sao miguel do araguaia",
          "belmonte",
          "pisco",
          "ambilobe",
          "aripuana",
          "kaitangata",
          "lesnoy",
          "evensk",
          "sur",
          "la ronge",
          "danielskuil",
          "chunhuhub",
          "avera",
          "ouallam",
          "challapata",
          "olafsvik",
          "neepawa",
          "freetown",
          "nome",
          "hovd",
          "ugra",
          "upernavik",
          "sembakung",
          "shakawe",
          "upington",
          "gwanda",
          "kruisfontein",
          "grand gaube",
          "cacahuatepec",
          "paita",
          "bumba",
          "maragogi",
          "kosa",
          "lagoa",
          "cabra",
          "gat",
          "buala",
          "asau",
          "isangel",
          "pevek",
          "husavik",
          "kodiak",
          "zyryanka",
          "valparaiso",
          "baykit",
          "port moresby",
          "meulaboh",
          "nakamura",
          "simao",
          "laguna",
          "bethel",
          "kodinsk",
          "luderitz",
          "touros",
          "glasgow",
          "ladario",
          "sao teotonio",
          "puri",
          "yumbe",
          "pangkalanbuun",
          "hay river",
          "verkhniye achaluki",
          "terrace bay",
          "ust-koksa",
          "sorong",
          "longyearbyen",
          "san patricio",
          "san cristobal",
          "lensk",
          "carrollton",
          "norman wells",
          "makokou",
          "llata",
          "neiafu",
          "moroni",
          "cap malheureux",
          "walvis bay",
          "rawson",
          "tikaitnagar",
          "sembe",
          "aksu",
          "russkaya polyana",
          "broken hill",
          "cherskiy",
          "beya",
          "goba",
          "ordzhonikidze",
          "high rock",
          "floro",
          "balabac",
          "bintulu",
          "tchaourou",
          "zhongshan",
          "quatre cocos",
          "prieska",
          "pathanamthitta",
          "comodoro rivadavia",
          "sungaipenuh",
          "aklavik",
          "camacha",
          "thompson",
          "hambantota",
          "swanton",
          "san quintin",
          "codrington",
          "chapais",
          "chengde",
          "portland",
          "berdigestyakh",
          "coquimbo",
          "samana",
          "anchorage",
          "fairbanks",
          "cockburn town",
          "tura",
          "sakakah",
          "ola",
          "hasaki",
          "jiuquan",
          "tuatapere",
          "kloulklubed",
          "ust-maya",
          "san juan",
          "whitianga",
          "praia",
          "okitipupa",
          "monmouth",
          "san andres",
          "lyngseidet",
          "dunmore town",
          "galegos",
          "kamen-rybolov",
          "dabat",
          "camopi",
          "jalu",
          "eyl",
          "valdivia",
          "teguldet",
          "aquiraz",
          "ulaangom",
          "souillac",
          "alice springs",
          "koriyama",
          "kingman",
          "college",
          "la romana",
          "daru",
          "boden",
          "carroll",
          "ust-kuyga",
          "bucerias",
          "tandil",
          "horsham",
          "vao",
          "bathsheba",
          "salalah",
          "harwich",
          "sambava",
          "yarada",
          "namibe",
          "kokkola",
          "leningradskiy",
          "vostok",
          "rio grande",
          "chegdomyn",
          "ilulissat",
          "viseu",
          "cidreira",
          "bafoulabe",
          "swan river",
          "rocha",
          "juruti",
          "kailua",
          "verkh-suetka",
          "dunedin",
          "mount isa",
          "mahina",
          "kamloops",
          "santa rosalia",
          "nerchinskiy zavod",
          "torrington",
          "krutikha",
          "bonavista",
          "zaysan",
          "mana",
          "nemuro",
          "mandera",
          "numan",
          "pingliang",
          "saldanha",
          "petropavlovsk-kamchatskiy",
          "vila velha",
          "bengkulu",
          "honiara",
          "pemba",
          "ahipara",
          "shingu",
          "korla",
          "lerik",
          "quelimane",
          "katyuzhanka",
          "narwar",
          "port hardy",
          "sol-iletsk",
          "tabou",
          "saint anthony",
          "srednekolymsk",
          "homer",
          "livingston",
          "lima",
          "christchurch",
          "beitbridge",
          "kortkeros",
          "port hedland",
          "fortuna",
          "dicabisagan",
          "smithers",
          "peleduy",
          "yulara",
          "roebourne",
          "mariinskiy posad",
          "mayumba",
          "adrar",
          "port blair",
          "komsomolskiy",
          "ribeira grande",
          "qasigiannguit",
          "buraydah",
          "port-gentil",
          "saint-francois",
          "vestmannaeyjar",
          "bogande",
          "quesnel",
          "usman",
          "aykhal",
          "carlyle",
          "kayerkan",
          "moron",
          "paamiut",
          "hamilton",
          "seoul",
          "woodward",
          "georgiyevskoye",
          "mayo",
          "kysyl-syr",
          "tashara",
          "acajutla",
          "capoterra",
          "muisne",
          "praia da vitoria",
          "maniitsoq",
          "kalemie",
          "tagusao",
          "mao",
          "mahibadhoo",
          "cabo san lucas",
          "panuco",
          "hervey bay",
          "fayaoue",
          "stolac",
          "gamboma",
          "rundu",
          "carutapera",
          "port-de-bouc",
          "nanortalik",
          "dzaoudzi",
          "aktau",
          "lorengau",
          "pachino",
          "cabedelo",
          "denpasar",
          "ipixuna",
          "broome",
          "tilichiki",
          "lakki marwat",
          "veinticinco de mayo",
          "avdon",
          "katobu",
          "merauke",
          "yangliuqing",
          "tieling",
          "togur",
          "thinadhoo",
          "terra santa",
          "colares",
          "havoysund",
          "ostrovnoy",
          "alofi",
          "samandag",
          "san joaquin",
          "treinta y tres",
          "nazareno",
          "tessalit",
          "yaan",
          "ixtapa",
          "dong hoi",
          "harindanga",
          "pontypool",
          "ulladulla",
          "la paz",
          "hualmay",
          "barroso",
          "vryburg",
          "beira",
          "the valley",
          "narsaq",
          "juegang",
          "verkhniy avzyan",
          "araouane",
          "kirakira",
          "tautira",
          "singkang",
          "taitung",
          "nabire",
          "chifeng",
          "caiaponia",
          "salto",
          "praya",
          "aksarka",
          "abu zabad",
          "kushima",
          "beaune",
          "egvekinot",
          "greenville",
          "ust-ordynskiy",
          "tranas",
          "pleasanton",
          "beringovskiy",
          "newcastleton",
          "hirado",
          "brokopondo",
          "batagay",
          "laurel",
          "statesville",
          "tikrit",
          "iisalmi",
          "lahij",
          "derzhavinsk",
          "kyren",
          "kapit",
          "altay",
          "waseca",
          "nantucket",
          "cadillac",
          "sfantu gheorghe",
          "kundiawa",
          "gornopravdinsk",
          "bhandara",
          "wadi musa",
          "charters towers",
          "ustka",
          "sawakin",
          "severo-kurilsk",
          "rameswaram",
          "guerrero negro",
          "bandarbeyla",
          "antofagasta",
          "vila franca do campo",
          "bauta",
          "nsanje",
          "xuchang",
          "todos santos",
          "bataipora",
          "tateyama",
          "wajima",
          "pokosnoye",
          "waipawa",
          "yaring",
          "isiro",
          "chivilcoy",
          "mandalgovi",
          "nicoya",
          "novocheremshansk",
          "emirdag",
          "nouadhibou",
          "tongliao",
          "ryomgard",
          "khudumelapye",
          "talcahuano",
          "gifhorn",
          "bilma",
          "vung tau",
          "byron bay",
          "kalabo",
          "arcata",
          "lemoore",
          "norfolk",
          "juba",
          "pali",
          "katsuura",
          "bambanglipuro",
          "padang",
          "freeport",
          "bulgan",
          "sorland",
          "saryg-sep",
          "batagay-alyta",
          "lompoc",
          "changli",
          "choma",
          "tena",
          "ilhabela",
          "redmond",
          "wyndham",
          "nhulunbuy",
          "sangamner",
          "road town",
          "ranong",
          "staryy nadym",
          "dargaville",
          "sovetskiy",
          "tatarsk",
          "canchungo",
          "iquique",
          "poum"
         ],
         "texttemplate": "%{text}<br>Country: %{hovertext[0]}<br>Hotel: %{hovertext[1]}<br>Humidity: %{hovertext[2]}",
         "type": "scattergeo"
        }
       ],
       "layout": {
        "geo": {
         "center": {},
         "domain": {
          "x": [
           0,
           1
          ],
          "y": [
           0,
           1
          ]
         },
         "showland": true
        },
        "legend": {
         "tracegroupgap": 0
        },
        "margin": {
         "t": 60
        },
        "template": {
         "data": {
          "bar": [
           {
            "error_x": {
             "color": "#2a3f5f"
            },
            "error_y": {
             "color": "#2a3f5f"
            },
            "marker": {
             "line": {
              "color": "#E5ECF6",
              "width": 0.5
             },
             "pattern": {
              "fillmode": "overlay",
              "size": 10,
              "solidity": 0.2
             }
            },
            "type": "bar"
           }
          ],
          "barpolar": [
           {
            "marker": {
             "line": {
              "color": "#E5ECF6",
              "width": 0.5
             },
             "pattern": {
              "fillmode": "overlay",
              "size": 10,
              "solidity": 0.2
             }
            },
            "type": "barpolar"
           }
          ],
          "carpet": [
           {
            "aaxis": {
             "endlinecolor": "#2a3f5f",
             "gridcolor": "white",
             "linecolor": "white",
             "minorgridcolor": "white",
             "startlinecolor": "#2a3f5f"
            },
            "baxis": {
             "endlinecolor": "#2a3f5f",
             "gridcolor": "white",
             "linecolor": "white",
             "minorgridcolor": "white",
             "startlinecolor": "#2a3f5f"
            },
            "type": "carpet"
           }
          ],
          "choropleth": [
           {
            "colorbar": {
             "outlinewidth": 0,
             "ticks": ""
            },
            "type": "choropleth"
           }
          ],
          "contour": [
           {
            "colorbar": {
             "outlinewidth": 0,
             "ticks": ""
            },
            "colorscale": [
             [
              0,
              "#0d0887"
             ],
             [
              0.1111111111111111,
              "#46039f"
             ],
             [
              0.2222222222222222,
              "#7201a8"
             ],
             [
              0.3333333333333333,
              "#9c179e"
             ],
             [
              0.4444444444444444,
              "#bd3786"
             ],
             [
              0.5555555555555556,
              "#d8576b"
             ],
             [
              0.6666666666666666,
              "#ed7953"
             ],
             [
              0.7777777777777778,
              "#fb9f3a"
             ],
             [
              0.8888888888888888,
              "#fdca26"
             ],
             [
              1,
              "#f0f921"
             ]
            ],
            "type": "contour"
           }
          ],
          "contourcarpet": [
           {
            "colorbar": {
             "outlinewidth": 0,
             "ticks": ""
            },
            "type": "contourcarpet"
           }
          ],
          "heatmap": [
           {
            "colorbar": {
             "outlinewidth": 0,
             "ticks": ""
            },
            "colorscale": [
             [
              0,
              "#0d0887"
             ],
             [
              0.1111111111111111,
              "#46039f"
             ],
             [
              0.2222222222222222,
              "#7201a8"
             ],
             [
              0.3333333333333333,
              "#9c179e"
             ],
             [
              0.4444444444444444,
              "#bd3786"
             ],
             [
              0.5555555555555556,
              "#d8576b"
             ],
             [
              0.6666666666666666,
              "#ed7953"
             ],
             [
              0.7777777777777778,
              "#fb9f3a"
             ],
             [
              0.8888888888888888,
              "#fdca26"
             ],
             [
              1,
              "#f0f921"
             ]
            ],
            "type": "heatmap"
           }
          ],
          "heatmapgl": [
           {
            "colorbar": {
             "outlinewidth": 0,
             "ticks": ""
            },
            "colorscale": [
             [
              0,
              "#0d0887"
             ],
             [
              0.1111111111111111,
              "#46039f"
             ],
             [
              0.2222222222222222,
              "#7201a8"
             ],
             [
              0.3333333333333333,
              "#9c179e"
             ],
             [
              0.4444444444444444,
              "#bd3786"
             ],
             [
              0.5555555555555556,
              "#d8576b"
             ],
             [
              0.6666666666666666,
              "#ed7953"
             ],
             [
              0.7777777777777778,
              "#fb9f3a"
             ],
             [
              0.8888888888888888,
              "#fdca26"
             ],
             [
              1,
              "#f0f921"
             ]
            ],
            "type": "heatmapgl"
           }
          ],
          "histogram": [
           {
            "marker": {
             "pattern": {
              "fillmode": "overlay",
              "size": 10,
              "solidity": 0.2
             }
            },
            "type": "histogram"
           }
          ],
          "histogram2d": [
           {
            "colorbar": {
             "outlinewidth": 0,
             "ticks": ""
            },
            "colorscale": [
             [
              0,
              "#0d0887"
             ],
             [
              0.1111111111111111,
              "#46039f"
             ],
             [
              0.2222222222222222,
              "#7201a8"
             ],
             [
              0.3333333333333333,
              "#9c179e"
             ],
             [
              0.4444444444444444,
              "#bd3786"
             ],
             [
              0.5555555555555556,
              "#d8576b"
             ],
             [
              0.6666666666666666,
              "#ed7953"
             ],
             [
              0.7777777777777778,
              "#fb9f3a"
             ],
             [
              0.8888888888888888,
              "#fdca26"
             ],
             [
              1,
              "#f0f921"
             ]
            ],
            "type": "histogram2d"
           }
          ],
          "histogram2dcontour": [
           {
            "colorbar": {
             "outlinewidth": 0,
             "ticks": ""
            },
            "colorscale": [
             [
              0,
              "#0d0887"
             ],
             [
              0.1111111111111111,
              "#46039f"
             ],
             [
              0.2222222222222222,
              "#7201a8"
             ],
             [
              0.3333333333333333,
              "#9c179e"
             ],
             [
              0.4444444444444444,
              "#bd3786"
             ],
             [
              0.5555555555555556,
              "#d8576b"
             ],
             [
              0.6666666666666666,
              "#ed7953"
             ],
             [
              0.7777777777777778,
              "#fb9f3a"
             ],
             [
              0.8888888888888888,
              "#fdca26"
             ],
             [
              1,
              "#f0f921"
             ]
            ],
            "type": "histogram2dcontour"
           }
          ],
          "mesh3d": [
           {
            "colorbar": {
             "outlinewidth": 0,
             "ticks": ""
            },
            "type": "mesh3d"
           }
          ],
          "parcoords": [
           {
            "line": {
             "colorbar": {
              "outlinewidth": 0,
              "ticks": ""
             }
            },
            "type": "parcoords"
           }
          ],
          "pie": [
           {
            "automargin": true,
            "type": "pie"
           }
          ],
          "scatter": [
           {
            "fillpattern": {
             "fillmode": "overlay",
             "size": 10,
             "solidity": 0.2
            },
            "type": "scatter"
           }
          ],
          "scatter3d": [
           {
            "line": {
             "colorbar": {
              "outlinewidth": 0,
              "ticks": ""
             }
            },
            "marker": {
             "colorbar": {
              "outlinewidth": 0,
              "ticks": ""
             }
            },
            "type": "scatter3d"
           }
          ],
          "scattercarpet": [
           {
            "marker": {
             "colorbar": {
              "outlinewidth": 0,
              "ticks": ""
             }
            },
            "type": "scattercarpet"
           }
          ],
          "scattergeo": [
           {
            "marker": {
             "colorbar": {
              "outlinewidth": 0,
              "ticks": ""
             }
            },
            "type": "scattergeo"
           }
          ],
          "scattergl": [
           {
            "marker": {
             "colorbar": {
              "outlinewidth": 0,
              "ticks": ""
             }
            },
            "type": "scattergl"
           }
          ],
          "scattermapbox": [
           {
            "marker": {
             "colorbar": {
              "outlinewidth": 0,
              "ticks": ""
             }
            },
            "type": "scattermapbox"
           }
          ],
          "scatterpolar": [
           {
            "marker": {
             "colorbar": {
              "outlinewidth": 0,
              "ticks": ""
             }
            },
            "type": "scatterpolar"
           }
          ],
          "scatterpolargl": [
           {
            "marker": {
             "colorbar": {
              "outlinewidth": 0,
              "ticks": ""
             }
            },
            "type": "scatterpolargl"
           }
          ],
          "scatterternary": [
           {
            "marker": {
             "colorbar": {
              "outlinewidth": 0,
              "ticks": ""
             }
            },
            "type": "scatterternary"
           }
          ],
          "surface": [
           {
            "colorbar": {
             "outlinewidth": 0,
             "ticks": ""
            },
            "colorscale": [
             [
              0,
              "#0d0887"
             ],
             [
              0.1111111111111111,
              "#46039f"
             ],
             [
              0.2222222222222222,
              "#7201a8"
             ],
             [
              0.3333333333333333,
              "#9c179e"
             ],
             [
              0.4444444444444444,
              "#bd3786"
             ],
             [
              0.5555555555555556,
              "#d8576b"
             ],
             [
              0.6666666666666666,
              "#ed7953"
             ],
             [
              0.7777777777777778,
              "#fb9f3a"
             ],
             [
              0.8888888888888888,
              "#fdca26"
             ],
             [
              1,
              "#f0f921"
             ]
            ],
            "type": "surface"
           }
          ],
          "table": [
           {
            "cells": {
             "fill": {
              "color": "#EBF0F8"
             },
             "line": {
              "color": "white"
             }
            },
            "header": {
             "fill": {
              "color": "#C8D4E3"
             },
             "line": {
              "color": "white"
             }
            },
            "type": "table"
           }
          ]
         },
         "layout": {
          "annotationdefaults": {
           "arrowcolor": "#2a3f5f",
           "arrowhead": 0,
           "arrowwidth": 1
          },
          "autotypenumbers": "strict",
          "coloraxis": {
           "colorbar": {
            "outlinewidth": 0,
            "ticks": ""
           }
          },
          "colorscale": {
           "diverging": [
            [
             0,
             "#8e0152"
            ],
            [
             0.1,
             "#c51b7d"
            ],
            [
             0.2,
             "#de77ae"
            ],
            [
             0.3,
             "#f1b6da"
            ],
            [
             0.4,
             "#fde0ef"
            ],
            [
             0.5,
             "#f7f7f7"
            ],
            [
             0.6,
             "#e6f5d0"
            ],
            [
             0.7,
             "#b8e186"
            ],
            [
             0.8,
             "#7fbc41"
            ],
            [
             0.9,
             "#4d9221"
            ],
            [
             1,
             "#276419"
            ]
           ],
           "sequential": [
            [
             0,
             "#0d0887"
            ],
            [
             0.1111111111111111,
             "#46039f"
            ],
            [
             0.2222222222222222,
             "#7201a8"
            ],
            [
             0.3333333333333333,
             "#9c179e"
            ],
            [
             0.4444444444444444,
             "#bd3786"
            ],
            [
             0.5555555555555556,
             "#d8576b"
            ],
            [
             0.6666666666666666,
             "#ed7953"
            ],
            [
             0.7777777777777778,
             "#fb9f3a"
            ],
            [
             0.8888888888888888,
             "#fdca26"
            ],
            [
             1,
             "#f0f921"
            ]
           ],
           "sequentialminus": [
            [
             0,
             "#0d0887"
            ],
            [
             0.1111111111111111,
             "#46039f"
            ],
            [
             0.2222222222222222,
             "#7201a8"
            ],
            [
             0.3333333333333333,
             "#9c179e"
            ],
            [
             0.4444444444444444,
             "#bd3786"
            ],
            [
             0.5555555555555556,
             "#d8576b"
            ],
            [
             0.6666666666666666,
             "#ed7953"
            ],
            [
             0.7777777777777778,
             "#fb9f3a"
            ],
            [
             0.8888888888888888,
             "#fdca26"
            ],
            [
             1,
             "#f0f921"
            ]
           ]
          },
          "colorway": [
           "#636efa",
           "#EF553B",
           "#00cc96",
           "#ab63fa",
           "#FFA15A",
           "#19d3f3",
           "#FF6692",
           "#B6E880",
           "#FF97FF",
           "#FECB52"
          ],
          "font": {
           "color": "#2a3f5f"
          },
          "geo": {
           "bgcolor": "white",
           "lakecolor": "white",
           "landcolor": "#E5ECF6",
           "showlakes": true,
           "showland": true,
           "subunitcolor": "white"
          },
          "hoverlabel": {
           "align": "left"
          },
          "hovermode": "closest",
          "mapbox": {
           "style": "light"
          },
          "paper_bgcolor": "white",
          "plot_bgcolor": "#E5ECF6",
          "polar": {
           "angularaxis": {
            "gridcolor": "white",
            "linecolor": "white",
            "ticks": ""
           },
           "bgcolor": "#E5ECF6",
           "radialaxis": {
            "gridcolor": "white",
            "linecolor": "white",
            "ticks": ""
           }
          },
          "scene": {
           "xaxis": {
            "backgroundcolor": "#E5ECF6",
            "gridcolor": "white",
            "gridwidth": 2,
            "linecolor": "white",
            "showbackground": true,
            "ticks": "",
            "zerolinecolor": "white"
           },
           "yaxis": {
            "backgroundcolor": "#E5ECF6",
            "gridcolor": "white",
            "gridwidth": 2,
            "linecolor": "white",
            "showbackground": true,
            "ticks": "",
            "zerolinecolor": "white"
           },
           "zaxis": {
            "backgroundcolor": "#E5ECF6",
            "gridcolor": "white",
            "gridwidth": 2,
            "linecolor": "white",
            "showbackground": true,
            "ticks": "",
            "zerolinecolor": "white"
           }
          },
          "shapedefaults": {
           "line": {
            "color": "#2a3f5f"
           }
          },
          "ternary": {
           "aaxis": {
            "gridcolor": "white",
            "linecolor": "white",
            "ticks": ""
           },
           "baxis": {
            "gridcolor": "white",
            "linecolor": "white",
            "ticks": ""
           },
           "bgcolor": "#E5ECF6",
           "caxis": {
            "gridcolor": "white",
            "linecolor": "white",
            "ticks": ""
           }
          },
          "title": {
           "x": 0.05
          },
          "xaxis": {
           "automargin": true,
           "gridcolor": "white",
           "linecolor": "white",
           "ticks": "",
           "title": {
            "standoff": 15
           },
           "zerolinecolor": "white",
           "zerolinewidth": 2
          },
          "yaxis": {
           "automargin": true,
           "gridcolor": "white",
           "linecolor": "white",
           "ticks": "",
           "title": {
            "standoff": 15
           },
           "zerolinecolor": "white",
           "zerolinewidth": 2
          }
         }
        },
        "title": {
         "text": "City Map with Hotel Information"
        }
       }
      }
     },
     "metadata": {},
     "output_type": "display_data"
    }
   ],
   "source": [
    "import plotly.express as px\n",
    "\n",
    "# Create a scatter map using Plotly Express\n",
    "fig = px.scatter_geo(\n",
    "    hotel_df,\n",
    "    lat=\"Lat\",\n",
    "    lon=\"Lng\",\n",
    "    text=\"City\",\n",
    "    hover_name=\"City\",\n",
    "    hover_data=[\"Country\", \"Hotel Name\", \"Humidity\"],\n",
    ")\n",
    "\n",
    "# Customize the hover information\n",
    "fig.update_traces(texttemplate='%{text}<br>Country: %{hovertext[0]}<br>Hotel: %{hovertext[1]}<br>Humidity: %{hovertext[2]}')\n",
    "\n",
    "# Update the layout for better readability\n",
    "fig.update_layout(\n",
    "    title=\"City Map with Hotel Information\",\n",
    "    geo=dict(\n",
    "        showland=True,\n",
    "    ),\n",
    ")\n",
    "\n",
    "# Show the map\n",
    "fig.show()\n"
   ]
  },
  {
   "cell_type": "code",
   "execution_count": 19,
   "metadata": {},
   "outputs": [
    {
     "data": {
      "application/vnd.plotly.v1+json": {
       "config": {
        "plotlyServerURL": "https://plot.ly"
       },
       "data": [
        {
         "customdata": [
          [
           "SA",
           "No hotel found",
           35
          ],
          [
           "NO",
           "No hotel found",
           100
          ],
          [
           "AU",
           "No hotel found",
           58
          ],
          [
           "US",
           "No hotel found",
           77
          ],
          [
           "CN",
           "No hotel found",
           48
          ],
          [
           "AR",
           "No hotel found",
           81
          ],
          [
           "US",
           "No hotel found",
           74
          ],
          [
           "AU",
           "No hotel found",
           76
          ],
          [
           "GL",
           "No hotel found",
           98
          ],
          [
           "RE",
           "No hotel found",
           68
          ],
          [
           "BR",
           "No hotel found",
           86
          ],
          [
           "RU",
           "No hotel found",
           90
          ],
          [
           "BR",
           "No hotel found",
           51
          ],
          [
           "RU",
           "No hotel found",
           93
          ],
          [
           "GL",
           "No hotel found",
           74
          ],
          [
           "NZ",
           "No hotel found",
           96
          ],
          [
           "RU",
           "No hotel found",
           96
          ],
          [
           "GL",
           "No hotel found",
           84
          ],
          [
           "RU",
           "No hotel found",
           93
          ],
          [
           "EC",
           "No hotel found",
           82
          ],
          [
           "CK",
           "No hotel found",
           73
          ],
          [
           "MX",
           "No hotel found",
           87
          ],
          [
           "BR",
           "No hotel found",
           14
          ],
          [
           "PF",
           "No hotel found",
           65
          ],
          [
           "RU",
           "No hotel found",
           95
          ],
          [
           "CL",
           "No hotel found",
           61
          ],
          [
           "CA",
           "No hotel found",
           90
          ],
          [
           "MU",
           "No hotel found",
           68
          ],
          [
           "AM",
           "No hotel found",
           55
          ],
          [
           "SN",
           "No hotel found",
           24
          ],
          [
           "US",
           "No hotel found",
           33
          ],
          [
           "DE",
           "No hotel found",
           75
          ],
          [
           "ZA",
           "No hotel found",
           71
          ],
          [
           "GB",
           "No hotel found",
           79
          ],
          [
           "TZ",
           "No hotel found",
           54
          ],
          [
           "RU",
           "No hotel found",
           98
          ],
          [
           "MD",
           "No hotel found",
           30
          ],
          [
           "FO",
           "No hotel found",
           65
          ],
          [
           "ID",
           "No hotel found",
           88
          ],
          [
           "MX",
           "No hotel found",
           71
          ],
          [
           "CA",
           "No hotel found",
           93
          ],
          [
           "BR",
           "No hotel found",
           75
          ],
          [
           "GB",
           "No hotel found",
           76
          ],
          [
           "CL",
           "No hotel found",
           70
          ],
          [
           "US",
           "No hotel found",
           47
          ],
          [
           "US",
           "No hotel found",
           84
          ],
          [
           "SO",
           "No hotel found",
           83
          ],
          [
           "GE",
           "No hotel found",
           95
          ],
          [
           "AU",
           "No hotel found",
           80
          ],
          [
           "AU",
           "No hotel found",
           68
          ],
          [
           "RU",
           "No hotel found",
           75
          ],
          [
           "US",
           "No hotel found",
           83
          ],
          [
           "CD",
           "No hotel found",
           87
          ],
          [
           "IT",
           "No hotel found",
           68
          ],
          [
           "TO",
           "No hotel found",
           100
          ],
          [
           "GF",
           "No hotel found",
           58
          ],
          [
           "RU",
           "No hotel found",
           88
          ],
          [
           "RU",
           "No hotel found",
           85
          ],
          [
           "ZA",
           "No hotel found",
           88
          ],
          [
           "AU",
           "No hotel found",
           92
          ],
          [
           "TL",
           "No hotel found",
           93
          ],
          [
           "IS",
           "No hotel found",
           70
          ],
          [
           "US",
           "No hotel found",
           80
          ],
          [
           "IN",
           "No hotel found",
           52
          ],
          [
           "PF",
           "No hotel found",
           69
          ],
          [
           "ZA",
           "No hotel found",
           80
          ],
          [
           "AR",
           "No hotel found",
           83
          ],
          [
           "BR",
           "No hotel found",
           64
          ],
          [
           "AU",
           "No hotel found",
           88
          ],
          [
           "ZA",
           "No hotel found",
           75
          ],
          [
           "PG",
           "No hotel found",
           97
          ],
          [
           "BO",
           "No hotel found",
           83
          ],
          [
           "CA",
           "No hotel found",
           94
          ],
          [
           "LY",
           "No hotel found",
           27
          ],
          [
           "RU",
           "No hotel found",
           97
          ],
          [
           "RU",
           "No hotel found",
           96
          ],
          [
           "CZ",
           "No hotel found",
           73
          ],
          [
           "BR",
           "No hotel found",
           81
          ],
          [
           "GB",
           "No hotel found",
           78
          ],
          [
           "MU",
           "No hotel found",
           68
          ],
          [
           "RU",
           "No hotel found",
           95
          ],
          [
           "US",
           "No hotel found",
           81
          ],
          [
           "KZ",
           "No hotel found",
           70
          ],
          [
           "AU",
           "No hotel found",
           87
          ],
          [
           "LY",
           "No hotel found",
           73
          ],
          [
           "RU",
           "No hotel found",
           76
          ],
          [
           "AR",
           "No hotel found",
           42
          ],
          [
           "RE",
           "No hotel found",
           76
          ],
          [
           "PT",
           "No hotel found",
           69
          ],
          [
           "RU",
           "No hotel found",
           60
          ],
          [
           "US",
           "No hotel found",
           44
          ],
          [
           "PL",
           "No hotel found",
           69
          ],
          [
           "RU",
           "No hotel found",
           49
          ],
          [
           "MV",
           "No hotel found",
           80
          ],
          [
           "KI",
           "No hotel found",
           77
          ],
          [
           "IN",
           "No hotel found",
           78
          ],
          [
           "CN",
           "No hotel found",
           16
          ],
          [
           "CN",
           "No hotel found",
           59
          ],
          [
           "BR",
           "No hotel found",
           54
          ],
          [
           "LK",
           "No hotel found",
           82
          ],
          [
           "BR",
           "No hotel found",
           88
          ],
          [
           "CN",
           "No hotel found",
           49
          ],
          [
           "AR",
           "No hotel found",
           26
          ],
          [
           "ZM",
           "No hotel found",
           32
          ],
          [
           "NZ",
           "No hotel found",
           76
          ],
          [
           "BR",
           "No hotel found",
           21
          ],
          [
           "ES",
           "No hotel found",
           30
          ],
          [
           "MZ",
           "No hotel found",
           65
          ],
          [
           "CA",
           "No hotel found",
           79
          ],
          [
           "CL",
           "No hotel found",
           72
          ],
          [
           "VE",
           "No hotel found",
           75
          ],
          [
           "CV",
           "No hotel found",
           78
          ],
          [
           "CA",
           "No hotel found",
           95
          ],
          [
           "PG",
           "No hotel found",
           71
          ],
          [
           "CN",
           "No hotel found",
           27
          ],
          [
           "US",
           "No hotel found",
           49
          ],
          [
           "HK",
           "No hotel found",
           77
          ],
          [
           "PF",
           "No hotel found",
           78
          ],
          [
           "BR",
           "No hotel found",
           74
          ],
          [
           "MV",
           "No hotel found",
           69
          ],
          [
           "ZA",
           "No hotel found",
           87
          ],
          [
           "CN",
           "No hotel found",
           77
          ],
          [
           "RU",
           "No hotel found",
           99
          ],
          [
           "RU",
           "No hotel found",
           90
          ],
          [
           "ID",
           "No hotel found",
           96
          ],
          [
           "IN",
           "No hotel found",
           87
          ],
          [
           "UY",
           "No hotel found",
           71
          ],
          [
           "UA",
           "No hotel found",
           62
          ],
          [
           "US",
           "No hotel found",
           86
          ],
          [
           "NI",
           "No hotel found",
           81
          ],
          [
           "PE",
           "No hotel found",
           68
          ],
          [
           "US",
           "No hotel found",
           82
          ],
          [
           "CL",
           "No hotel found",
           62
          ],
          [
           "US",
           "No hotel found",
           89
          ],
          [
           "MN",
           "No hotel found",
           22
          ],
          [
           "ID",
           "No hotel found",
           83
          ],
          [
           "AU",
           "No hotel found",
           92
          ],
          [
           "ZA",
           "No hotel found",
           83
          ],
          [
           "GT",
           "No hotel found",
           86
          ],
          [
           "MY",
           "No hotel found",
           89
          ],
          [
           "CA",
           "No hotel found",
           93
          ],
          [
           "US",
           "No hotel found",
           40
          ],
          [
           "PT",
           "No hotel found",
           89
          ],
          [
           "IN",
           "No hotel found",
           77
          ],
          [
           "US",
           "No hotel found",
           69
          ],
          [
           "RU",
           "No hotel found",
           93
          ],
          [
           "ES",
           "No hotel found",
           73
          ],
          [
           "AU",
           "No hotel found",
           91
          ],
          [
           "NO",
           "No hotel found",
           94
          ],
          [
           "US",
           "No hotel found",
           82
          ],
          [
           "NZ",
           "No hotel found",
           94
          ],
          [
           "ID",
           "No hotel found",
           88
          ],
          [
           "US",
           "No hotel found",
           60
          ],
          [
           "RU",
           "No hotel found",
           75
          ],
          [
           "ID",
           "No hotel found",
           81
          ],
          [
           "CA",
           "No hotel found",
           63
          ],
          [
           "NI",
           "No hotel found",
           74
          ],
          [
           "AU",
           "No hotel found",
           74
          ],
          [
           "RU",
           "No hotel found",
           47
          ],
          [
           "AU",
           "No hotel found",
           88
          ],
          [
           "PG",
           "No hotel found",
           75
          ],
          [
           "CA",
           "No hotel found",
           87
          ],
          [
           "BR",
           "No hotel found",
           13
          ],
          [
           "BR",
           "No hotel found",
           65
          ],
          [
           "PE",
           "No hotel found",
           77
          ],
          [
           "MG",
           "No hotel found",
           62
          ],
          [
           "BR",
           "No hotel found",
           45
          ],
          [
           "NZ",
           "No hotel found",
           77
          ],
          [
           "RU",
           "No hotel found",
           74
          ],
          [
           "RU",
           "No hotel found",
           85
          ],
          [
           "OM",
           "No hotel found",
           40
          ],
          [
           "CA",
           "No hotel found",
           52
          ],
          [
           "ZA",
           "No hotel found",
           60
          ],
          [
           "MX",
           "No hotel found",
           54
          ],
          [
           "US",
           "No hotel found",
           26
          ],
          [
           "NE",
           "No hotel found",
           10
          ],
          [
           "BO",
           "No hotel found",
           30
          ],
          [
           "IS",
           "No hotel found",
           76
          ],
          [
           "CA",
           "No hotel found",
           27
          ],
          [
           "SL",
           "No hotel found",
           74
          ],
          [
           "US",
           "No hotel found",
           100
          ],
          [
           "MN",
           "No hotel found",
           39
          ],
          [
           "RU",
           "No hotel found",
           80
          ],
          [
           "GL",
           "No hotel found",
           95
          ],
          [
           "ID",
           "No hotel found",
           99
          ],
          [
           "BW",
           "No hotel found",
           27
          ],
          [
           "ZA",
           "No hotel found",
           19
          ],
          [
           "ZW",
           "No hotel found",
           25
          ],
          [
           "ZA",
           "No hotel found",
           82
          ],
          [
           "MU",
           "No hotel found",
           65
          ],
          [
           "MX",
           "No hotel found",
           91
          ],
          [
           "PE",
           "No hotel found",
           67
          ],
          [
           "CD",
           "No hotel found",
           70
          ],
          [
           "BR",
           "No hotel found",
           73
          ],
          [
           "RU",
           "No hotel found",
           92
          ],
          [
           "PT",
           "No hotel found",
           61
          ],
          [
           "ES",
           "No hotel found",
           30
          ],
          [
           "IL",
           "No hotel found",
           100
          ],
          [
           "SB",
           "No hotel found",
           82
          ],
          [
           "RO",
           "No hotel found",
           48
          ],
          [
           "VU",
           "No hotel found",
           88
          ],
          [
           "RU",
           "No hotel found",
           96
          ],
          [
           "IS",
           "No hotel found",
           75
          ],
          [
           "US",
           "No hotel found",
           81
          ],
          [
           "RU",
           "No hotel found",
           93
          ],
          [
           "CL",
           "No hotel found",
           79
          ],
          [
           "RU",
           "No hotel found",
           89
          ],
          [
           "PG",
           "No hotel found",
           94
          ],
          [
           "ID",
           "No hotel found",
           88
          ],
          [
           "JP",
           "No hotel found",
           87
          ],
          [
           "CN",
           "No hotel found",
           67
          ],
          [
           "US",
           "No hotel found",
           79
          ],
          [
           "US",
           "No hotel found",
           54
          ],
          [
           "RU",
           "No hotel found",
           98
          ],
          [
           null,
           "No hotel found",
           68
          ],
          [
           "BR",
           "No hotel found",
           61
          ],
          [
           "GB",
           "No hotel found",
           73
          ],
          [
           "BR",
           "No hotel found",
           78
          ],
          [
           "PT",
           "No hotel found",
           60
          ],
          [
           "IN",
           "No hotel found",
           72
          ],
          [
           "UG",
           "No hotel found",
           84
          ],
          [
           "ID",
           "No hotel found",
           96
          ],
          [
           "CA",
           "No hotel found",
           58
          ],
          [
           "RU",
           "No hotel found",
           93
          ],
          [
           "CA",
           "No hotel found",
           74
          ],
          [
           "RU",
           "No hotel found",
           91
          ],
          [
           "ID",
           "No hotel found",
           83
          ],
          [
           "SJ",
           "No hotel found",
           81
          ],
          [
           "US",
           "No hotel found",
           43
          ],
          [
           "VE",
           "No hotel found",
           45
          ],
          [
           "RU",
           "No hotel found",
           91
          ],
          [
           "US",
           "No hotel found",
           31
          ],
          [
           "CA",
           "No hotel found",
           100
          ],
          [
           "GA",
           "No hotel found",
           95
          ],
          [
           "PE",
           "No hotel found",
           62
          ],
          [
           "TO",
           "No hotel found",
           88
          ],
          [
           "KM",
           "No hotel found",
           73
          ],
          [
           "MU",
           "No hotel found",
           65
          ],
          [
           null,
           "No hotel found",
           71
          ],
          [
           "AR",
           "No hotel found",
           25
          ],
          [
           "IN",
           "No hotel found",
           59
          ],
          [
           "CG",
           "No hotel found",
           91
          ],
          [
           "CN",
           "No hotel found",
           20
          ],
          [
           "UA",
           "No hotel found",
           32
          ],
          [
           "AU",
           "No hotel found",
           66
          ],
          [
           "RU",
           "No hotel found",
           100
          ],
          [
           "RU",
           "No hotel found",
           73
          ],
          [
           "ET",
           "No hotel found",
           95
          ],
          [
           "KZ",
           "No hotel found",
           57
          ],
          [
           "BS",
           "No hotel found",
           72
          ],
          [
           "NO",
           "No hotel found",
           61
          ],
          [
           "PH",
           "No hotel found",
           83
          ],
          [
           "MY",
           "No hotel found",
           100
          ],
          [
           "BJ",
           "No hotel found",
           56
          ],
          [
           "CN",
           "No hotel found",
           72
          ],
          [
           "MU",
           "No hotel found",
           73
          ],
          [
           "ZA",
           "No hotel found",
           31
          ],
          [
           "IN",
           "No hotel found",
           97
          ],
          [
           "AR",
           "No hotel found",
           24
          ],
          [
           "ID",
           "No hotel found",
           95
          ],
          [
           "CA",
           "No hotel found",
           93
          ],
          [
           "PT",
           "No hotel found",
           73
          ],
          [
           "CA",
           "No hotel found",
           60
          ],
          [
           "LK",
           "No hotel found",
           89
          ],
          [
           "US",
           "No hotel found",
           71
          ],
          [
           "MX",
           "No hotel found",
           74
          ],
          [
           "AU",
           "No hotel found",
           89
          ],
          [
           "CA",
           "No hotel found",
           90
          ],
          [
           "CN",
           "No hotel found",
           26
          ],
          [
           "US",
           "No hotel found",
           96
          ],
          [
           "RU",
           "No hotel found",
           99
          ],
          [
           "CL",
           "No hotel found",
           72
          ],
          [
           "DO",
           "No hotel found",
           79
          ],
          [
           "US",
           "No hotel found",
           90
          ],
          [
           "US",
           "No hotel found",
           91
          ],
          [
           "TC",
           "No hotel found",
           74
          ],
          [
           "IN",
           "No hotel found",
           90
          ],
          [
           "SA",
           "No hotel found",
           18
          ],
          [
           "RU",
           "No hotel found",
           48
          ],
          [
           "JP",
           "No hotel found",
           75
          ],
          [
           "CN",
           "No hotel found",
           15
          ],
          [
           "NZ",
           "No hotel found",
           92
          ],
          [
           "PW",
           "No hotel found",
           75
          ],
          [
           "RU",
           "No hotel found",
           98
          ],
          [
           "AR",
           "No hotel found",
           53
          ],
          [
           "NZ",
           "No hotel found",
           84
          ],
          [
           "CV",
           "No hotel found",
           74
          ],
          [
           "NG",
           "No hotel found",
           89
          ],
          [
           "US",
           "No hotel found",
           53
          ],
          [
           "CO",
           "No hotel found",
           70
          ],
          [
           "NO",
           "No hotel found",
           94
          ],
          [
           "BS",
           "No hotel found",
           70
          ],
          [
           "PT",
           "No hotel found",
           82
          ],
          [
           "RU",
           "No hotel found",
           55
          ],
          [
           "ET",
           "No hotel found",
           80
          ],
          [
           "GF",
           "No hotel found",
           48
          ],
          [
           "LY",
           "No hotel found",
           37
          ],
          [
           "SO",
           "No hotel found",
           76
          ],
          [
           "CL",
           "No hotel found",
           63
          ],
          [
           "RU",
           "No hotel found",
           96
          ],
          [
           "BR",
           "No hotel found",
           56
          ],
          [
           "MN",
           "No hotel found",
           55
          ],
          [
           "MU",
           "No hotel found",
           68
          ],
          [
           "AU",
           "No hotel found",
           63
          ],
          [
           "JP",
           "No hotel found",
           78
          ],
          [
           "US",
           "No hotel found",
           49
          ],
          [
           "US",
           "No hotel found",
           93
          ],
          [
           "DO",
           "No hotel found",
           79
          ],
          [
           "PG",
           "No hotel found",
           86
          ],
          [
           "SE",
           "No hotel found",
           82
          ],
          [
           "US",
           "No hotel found",
           55
          ],
          [
           "RU",
           "No hotel found",
           100
          ],
          [
           "MX",
           "No hotel found",
           70
          ],
          [
           "AR",
           "No hotel found",
           40
          ],
          [
           "GB",
           "No hotel found",
           72
          ],
          [
           "NC",
           "No hotel found",
           74
          ],
          [
           "BB",
           "No hotel found",
           70
          ],
          [
           "OM",
           "No hotel found",
           59
          ],
          [
           "GB",
           "No hotel found",
           69
          ],
          [
           "MG",
           "No hotel found",
           79
          ],
          [
           "IN",
           "No hotel found",
           89
          ],
          [
           "AO",
           "No hotel found",
           72
          ],
          [
           "FI",
           "No hotel found",
           76
          ],
          [
           "RU",
           "No hotel found",
           86
          ],
          [
           "RU",
           "No hotel found",
           68
          ],
          [
           "BR",
           "No hotel found",
           81
          ],
          [
           "RU",
           "No hotel found",
           78
          ],
          [
           "GL",
           "No hotel found",
           98
          ],
          [
           "PT",
           "No hotel found",
           39
          ],
          [
           "BR",
           "No hotel found",
           91
          ],
          [
           "ML",
           "No hotel found",
           72
          ],
          [
           "CA",
           "No hotel found",
           40
          ],
          [
           "UY",
           "No hotel found",
           66
          ],
          [
           "BR",
           "No hotel found",
           62
          ],
          [
           "US",
           "No hotel found",
           89
          ],
          [
           "RU",
           "No hotel found",
           76
          ],
          [
           "NZ",
           "No hotel found",
           73
          ],
          [
           "AU",
           "No hotel found",
           100
          ],
          [
           "PF",
           "No hotel found",
           83
          ],
          [
           "CA",
           "No hotel found",
           93
          ],
          [
           "MX",
           "No hotel found",
           56
          ],
          [
           "RU",
           "No hotel found",
           52
          ],
          [
           "US",
           "No hotel found",
           64
          ],
          [
           "RU",
           "No hotel found",
           80
          ],
          [
           "CA",
           "No hotel found",
           90
          ],
          [
           "KZ",
           "No hotel found",
           85
          ],
          [
           "GF",
           "No hotel found",
           64
          ],
          [
           "JP",
           "No hotel found",
           78
          ],
          [
           "KE",
           "No hotel found",
           48
          ],
          [
           "NG",
           "No hotel found",
           40
          ],
          [
           "CN",
           "No hotel found",
           64
          ],
          [
           "ZA",
           "No hotel found",
           86
          ],
          [
           "RU",
           "No hotel found",
           52
          ],
          [
           "BR",
           "No hotel found",
           75
          ],
          [
           "ID",
           "No hotel found",
           90
          ],
          [
           "SB",
           "No hotel found",
           85
          ],
          [
           "MZ",
           "No hotel found",
           76
          ],
          [
           "NZ",
           "No hotel found",
           73
          ],
          [
           "JP",
           "No hotel found",
           79
          ],
          [
           "CN",
           "No hotel found",
           19
          ],
          [
           "AZ",
           "No hotel found",
           95
          ],
          [
           "MZ",
           "No hotel found",
           75
          ],
          [
           "UA",
           "No hotel found",
           58
          ],
          [
           "IN",
           "No hotel found",
           55
          ],
          [
           "CA",
           "No hotel found",
           93
          ],
          [
           "RU",
           "No hotel found",
           65
          ],
          [
           "CI",
           "No hotel found",
           77
          ],
          [
           "US",
           "No hotel found",
           61
          ],
          [
           "RU",
           "No hotel found",
           98
          ],
          [
           "US",
           "No hotel found",
           87
          ],
          [
           "GB",
           "No hotel found",
           82
          ],
          [
           "PE",
           "No hotel found",
           79
          ],
          [
           "NZ",
           "No hotel found",
           95
          ],
          [
           "ZW",
           "No hotel found",
           22
          ],
          [
           "RU",
           "No hotel found",
           84
          ],
          [
           "AU",
           "No hotel found",
           73
          ],
          [
           "US",
           "No hotel found",
           100
          ],
          [
           "PH",
           "No hotel found",
           88
          ],
          [
           "CA",
           "No hotel found",
           93
          ],
          [
           "RU",
           "No hotel found",
           98
          ],
          [
           "AU",
           "No hotel found",
           57
          ],
          [
           "AU",
           "No hotel found",
           65
          ],
          [
           "RU",
           "No hotel found",
           87
          ],
          [
           "GA",
           "No hotel found",
           79
          ],
          [
           "MR",
           "No hotel found",
           8
          ],
          [
           "IN",
           "No hotel found",
           89
          ],
          [
           "UZ",
           "No hotel found",
           77
          ],
          [
           "PT",
           "No hotel found",
           48
          ],
          [
           "GL",
           "No hotel found",
           99
          ],
          [
           "SA",
           "No hotel found",
           11
          ],
          [
           "GA",
           "No hotel found",
           79
          ],
          [
           "FR",
           "No hotel found",
           57
          ],
          [
           "IS",
           "No hotel found",
           70
          ],
          [
           "BF",
           "No hotel found",
           15
          ],
          [
           "CA",
           "No hotel found",
           93
          ],
          [
           "RU",
           "No hotel found",
           63
          ],
          [
           "RU",
           "No hotel found",
           97
          ],
          [
           "US",
           "No hotel found",
           62
          ],
          [
           "RU",
           "No hotel found",
           100
          ],
          [
           "AR",
           "No hotel found",
           71
          ],
          [
           "GL",
           "No hotel found",
           80
          ],
          [
           "US",
           "No hotel found",
           72
          ],
          [
           "KR",
           "No hotel found",
           70
          ],
          [
           "US",
           "No hotel found",
           42
          ],
          [
           "RU",
           "No hotel found",
           93
          ],
          [
           "US",
           "No hotel found",
           53
          ],
          [
           "RU",
           "No hotel found",
           99
          ],
          [
           "RU",
           "No hotel found",
           95
          ],
          [
           "SV",
           "No hotel found",
           71
          ],
          [
           "IT",
           "No hotel found",
           71
          ],
          [
           "EC",
           "No hotel found",
           81
          ],
          [
           "PT",
           "No hotel found",
           77
          ],
          [
           "GL",
           "No hotel found",
           97
          ],
          [
           "CD",
           "No hotel found",
           60
          ],
          [
           "PH",
           "No hotel found",
           82
          ],
          [
           "ES",
           "No hotel found",
           78
          ],
          [
           "MV",
           "No hotel found",
           73
          ],
          [
           "MX",
           "No hotel found",
           69
          ],
          [
           "MX",
           "No hotel found",
           88
          ],
          [
           "AU",
           "No hotel found",
           81
          ],
          [
           "NC",
           "No hotel found",
           78
          ],
          [
           "BA",
           "No hotel found",
           68
          ],
          [
           "CG",
           "No hotel found",
           68
          ],
          [
           null,
           "No hotel found",
           27
          ],
          [
           "BR",
           "No hotel found",
           60
          ],
          [
           "FR",
           "No hotel found",
           65
          ],
          [
           "GL",
           "No hotel found",
           89
          ],
          [
           "YT",
           "No hotel found",
           73
          ],
          [
           "KZ",
           "No hotel found",
           46
          ],
          [
           "PG",
           "No hotel found",
           74
          ],
          [
           "IT",
           "No hotel found",
           67
          ],
          [
           "BR",
           "No hotel found",
           68
          ],
          [
           "ID",
           "No hotel found",
           100
          ],
          [
           "BR",
           "No hotel found",
           46
          ],
          [
           "US",
           "No hotel found",
           67
          ],
          [
           "RU",
           "No hotel found",
           84
          ],
          [
           "PK",
           "No hotel found",
           20
          ],
          [
           "AR",
           "No hotel found",
           87
          ],
          [
           "RU",
           "No hotel found",
           86
          ],
          [
           "ID",
           "No hotel found",
           94
          ],
          [
           "ID",
           "No hotel found",
           89
          ],
          [
           "CN",
           "No hotel found",
           31
          ],
          [
           "CN",
           "No hotel found",
           50
          ],
          [
           "RU",
           "No hotel found",
           95
          ],
          [
           "MV",
           "No hotel found",
           76
          ],
          [
           "BR",
           "No hotel found",
           67
          ],
          [
           "PT",
           "No hotel found",
           84
          ],
          [
           "NO",
           "No hotel found",
           68
          ],
          [
           "RU",
           "No hotel found",
           87
          ],
          [
           "NU",
           "No hotel found",
           94
          ],
          [
           "TR",
           "No hotel found",
           80
          ],
          [
           "US",
           "No hotel found",
           89
          ],
          [
           "UY",
           "No hotel found",
           74
          ],
          [
           "MX",
           "No hotel found",
           83
          ],
          [
           "ML",
           "No hotel found",
           13
          ],
          [
           "NG",
           "No hotel found",
           69
          ],
          [
           "MX",
           "No hotel found",
           70
          ],
          [
           "VN",
           "No hotel found",
           70
          ],
          [
           "IN",
           "No hotel found",
           75
          ],
          [
           "GB",
           "No hotel found",
           72
          ],
          [
           "AU",
           "No hotel found",
           92
          ],
          [
           "BO",
           "No hotel found",
           50
          ],
          [
           "PE",
           "No hotel found",
           71
          ],
          [
           "BR",
           "No hotel found",
           34
          ],
          [
           "ZA",
           "No hotel found",
           44
          ],
          [
           "MZ",
           "No hotel found",
           69
          ],
          [
           "AI",
           "No hotel found",
           65
          ],
          [
           "GL",
           "No hotel found",
           82
          ],
          [
           "CN",
           "No hotel found",
           63
          ],
          [
           "RU",
           "No hotel found",
           96
          ],
          [
           "ML",
           "No hotel found",
           10
          ],
          [
           "SB",
           "No hotel found",
           81
          ],
          [
           "PF",
           "No hotel found",
           81
          ],
          [
           "MY",
           "No hotel found",
           89
          ],
          [
           "TW",
           "No hotel found",
           80
          ],
          [
           "ID",
           "No hotel found",
           91
          ],
          [
           "CN",
           "No hotel found",
           20
          ],
          [
           "BR",
           "No hotel found",
           14
          ],
          [
           "UY",
           "No hotel found",
           61
          ],
          [
           "CV",
           "No hotel found",
           74
          ],
          [
           "RU",
           "No hotel found",
           95
          ],
          [
           "SD",
           "No hotel found",
           29
          ],
          [
           "JP",
           "No hotel found",
           82
          ],
          [
           "FR",
           "No hotel found",
           74
          ],
          [
           "RU",
           "No hotel found",
           87
          ],
          [
           "US",
           "No hotel found",
           48
          ],
          [
           "RU",
           "No hotel found",
           84
          ],
          [
           "SE",
           "No hotel found",
           93
          ],
          [
           "US",
           "No hotel found",
           86
          ],
          [
           "RU",
           "No hotel found",
           92
          ],
          [
           "GB",
           "No hotel found",
           71
          ],
          [
           "JP",
           "No hotel found",
           55
          ],
          [
           "SR",
           "No hotel found",
           60
          ],
          [
           "RU",
           "No hotel found",
           99
          ],
          [
           "US",
           "No hotel found",
           55
          ],
          [
           "US",
           "No hotel found",
           49
          ],
          [
           "IQ",
           "No hotel found",
           14
          ],
          [
           "FI",
           "No hotel found",
           90
          ],
          [
           "YE",
           "No hotel found",
           55
          ],
          [
           "KZ",
           "No hotel found",
           51
          ],
          [
           "RU",
           "No hotel found",
           73
          ],
          [
           "MY",
           "No hotel found",
           99
          ],
          [
           "CN",
           "No hotel found",
           84
          ],
          [
           "US",
           "No hotel found",
           65
          ],
          [
           "US",
           "No hotel found",
           90
          ],
          [
           "US",
           "No hotel found",
           93
          ],
          [
           "RO",
           "No hotel found",
           51
          ],
          [
           "PG",
           "No hotel found",
           97
          ],
          [
           "RU",
           "No hotel found",
           90
          ],
          [
           "IN",
           "No hotel found",
           86
          ],
          [
           "JO",
           "No hotel found",
           63
          ],
          [
           "AU",
           "No hotel found",
           77
          ],
          [
           "PL",
           "No hotel found",
           86
          ],
          [
           "SD",
           "No hotel found",
           69
          ],
          [
           "RU",
           "No hotel found",
           68
          ],
          [
           "IN",
           "No hotel found",
           77
          ],
          [
           "MX",
           "No hotel found",
           68
          ],
          [
           "SO",
           "No hotel found",
           81
          ],
          [
           "CL",
           "No hotel found",
           64
          ],
          [
           "PT",
           "No hotel found",
           70
          ],
          [
           "CU",
           "No hotel found",
           71
          ],
          [
           "MW",
           "No hotel found",
           26
          ],
          [
           "CN",
           "No hotel found",
           35
          ],
          [
           "MX",
           "No hotel found",
           67
          ],
          [
           "BR",
           "No hotel found",
           89
          ],
          [
           "JP",
           "No hotel found",
           85
          ],
          [
           "JP",
           "No hotel found",
           55
          ],
          [
           "RU",
           "No hotel found",
           81
          ],
          [
           "NZ",
           "No hotel found",
           91
          ],
          [
           "TH",
           "No hotel found",
           87
          ],
          [
           "CD",
           "No hotel found",
           73
          ],
          [
           "AR",
           "No hotel found",
           49
          ],
          [
           "MN",
           "No hotel found",
           23
          ],
          [
           "CR",
           "No hotel found",
           73
          ],
          [
           "RU",
           "No hotel found",
           81
          ],
          [
           "TR",
           "No hotel found",
           69
          ],
          [
           "MR",
           "No hotel found",
           27
          ],
          [
           "CN",
           "No hotel found",
           35
          ],
          [
           "DK",
           "No hotel found",
           81
          ],
          [
           "BW",
           "No hotel found",
           64
          ],
          [
           "CL",
           "No hotel found",
           67
          ],
          [
           "DE",
           "No hotel found",
           68
          ],
          [
           "NE",
           "No hotel found",
           18
          ],
          [
           "VN",
           "No hotel found",
           83
          ],
          [
           "AU",
           "No hotel found",
           83
          ],
          [
           "ZM",
           "No hotel found",
           14
          ],
          [
           "US",
           "No hotel found",
           93
          ],
          [
           "US",
           "No hotel found",
           74
          ],
          [
           "US",
           "No hotel found",
           95
          ],
          [
           "SS",
           "No hotel found",
           69
          ],
          [
           "IN",
           "No hotel found",
           26
          ],
          [
           "JP",
           "No hotel found",
           84
          ],
          [
           "ID",
           "No hotel found",
           87
          ],
          [
           "ID",
           "No hotel found",
           82
          ],
          [
           "US",
           "No hotel found",
           46
          ],
          [
           "MN",
           "No hotel found",
           40
          ],
          [
           "NO",
           "No hotel found",
           67
          ],
          [
           "RU",
           "No hotel found",
           44
          ],
          [
           "RU",
           "No hotel found",
           89
          ],
          [
           "US",
           "No hotel found",
           100
          ],
          [
           "CN",
           "No hotel found",
           33
          ],
          [
           "ZM",
           "No hotel found",
           22
          ],
          [
           "EC",
           "No hotel found",
           62
          ],
          [
           "BR",
           "No hotel found",
           88
          ],
          [
           "US",
           "No hotel found",
           91
          ],
          [
           "US",
           "No hotel found",
           52
          ],
          [
           "AU",
           "No hotel found",
           78
          ],
          [
           "IN",
           "No hotel found",
           85
          ],
          [
           "VG",
           "No hotel found",
           70
          ],
          [
           "TH",
           "No hotel found",
           93
          ],
          [
           "RU",
           "No hotel found",
           90
          ],
          [
           "NZ",
           "No hotel found",
           83
          ],
          [
           "RU",
           "No hotel found",
           96
          ],
          [
           "RU",
           "No hotel found",
           89
          ],
          [
           "GW",
           "No hotel found",
           61
          ],
          [
           "CL",
           "No hotel found",
           68
          ],
          [
           "NC",
           "No hotel found",
           79
          ]
         ],
         "geo": "geo",
         "hovertemplate": "<b>%{hovertext}</b><br><br>City=%{text}<br>Lat=%{lat}<br>Lng=%{lon}<br>Country=%{customdata[0]}<br>Hotel Name=%{customdata[1]}<br>Humidity=%{customdata[2]}<extra></extra>",
         "hovertext": [
          "faya",
          "farsund",
          "new norfolk",
          "jamestown",
          "lanzhou",
          "ushuaia",
          "albany",
          "carnarvon",
          "sisimiut",
          "saint-pierre",
          "colorado",
          "nikolskoye",
          "trairi",
          "dobryanka",
          "qaanaaq",
          "mataura",
          "khatanga",
          "tasiilaq",
          "tiksi",
          "puerto ayora",
          "avarua",
          "nuevo laredo",
          "guiratinga",
          "rikitea",
          "dukat",
          "constitucion",
          "senneterre",
          "bambous virieux",
          "zangakatun",
          "saint-louis",
          "midwest city",
          "grimmen",
          "cape town",
          "stornoway",
          "naberera",
          "chokurdakh",
          "drochia",
          "klaksvik",
          "labuhan",
          "tomatlan",
          "clyde river",
          "sao joao da barra",
          "margate",
          "ancud",
          "collierville",
          "kapaa",
          "mogadishu",
          "tsalka",
          "dalby",
          "hobart",
          "dikson",
          "hilo",
          "businga",
          "lasa",
          "vaini",
          "cayenne",
          "ust-kulom",
          "udachnyy",
          "east london",
          "busselton",
          "airai",
          "grindavik",
          "barrow",
          "banda",
          "atuona",
          "hermanus",
          "mar del plata",
          "caravelas",
          "port lincoln",
          "bredasdorp",
          "mendi",
          "cobija",
          "deer lake",
          "nalut",
          "saskylakh",
          "dudinka",
          "zamberk",
          "jaguariaiva",
          "aberdeen",
          "mahebourg",
          "kedrovyy",
          "makakilo city",
          "qostanay",
          "esperance",
          "darnah",
          "provideniya",
          "rafaela",
          "saint-philippe",
          "ponta do sol",
          "solnechnyy",
          "saint george",
          "alba",
          "arman",
          "ugoofaaru",
          "butaritari",
          "kavaratti",
          "zhangye",
          "shenjiamen",
          "itarema",
          "trincomalee",
          "castro",
          "heihe",
          "rio gallegos",
          "siavonga",
          "bluff",
          "nova olimpia",
          "palencia",
          "inhambane",
          "iqaluit",
          "lebu",
          "calabozo",
          "sao filipe",
          "torbay",
          "kavieng",
          "yidu",
          "cedar city",
          "victoria",
          "faanui",
          "arraial do cabo",
          "hithadhoo",
          "port alfred",
          "lichuan",
          "talnakh",
          "novorzhev",
          "muncar",
          "jashpurnagar",
          "chuy",
          "kulykivka",
          "half moon bay",
          "bocana de paiwas",
          "el alto",
          "sitka",
          "punta arenas",
          "bay city",
          "baruun-urt",
          "ambon",
          "corowa",
          "port elizabeth",
          "ocos",
          "georgetown",
          "tuktoyaktuk",
          "brenham",
          "peniche",
          "tawang",
          "havelock",
          "novobelokatay",
          "puerto del rosario",
          "mount gambier",
          "rindal",
          "roseburg",
          "kaeo",
          "biak",
          "kahului",
          "lavrentiya",
          "sabang",
          "pangnirtung",
          "corn island",
          "innisfail",
          "almaznyy",
          "geraldton",
          "kokopo",
          "yellowknife",
          "sao miguel do araguaia",
          "belmonte",
          "pisco",
          "ambilobe",
          "aripuana",
          "kaitangata",
          "lesnoy",
          "evensk",
          "sur",
          "la ronge",
          "danielskuil",
          "chunhuhub",
          "avera",
          "ouallam",
          "challapata",
          "olafsvik",
          "neepawa",
          "freetown",
          "nome",
          "hovd",
          "ugra",
          "upernavik",
          "sembakung",
          "shakawe",
          "upington",
          "gwanda",
          "kruisfontein",
          "grand gaube",
          "cacahuatepec",
          "paita",
          "bumba",
          "maragogi",
          "kosa",
          "lagoa",
          "cabra",
          "gat",
          "buala",
          "asau",
          "isangel",
          "pevek",
          "husavik",
          "kodiak",
          "zyryanka",
          "valparaiso",
          "baykit",
          "port moresby",
          "meulaboh",
          "nakamura",
          "simao",
          "laguna",
          "bethel",
          "kodinsk",
          "luderitz",
          "touros",
          "glasgow",
          "ladario",
          "sao teotonio",
          "puri",
          "yumbe",
          "pangkalanbuun",
          "hay river",
          "verkhniye achaluki",
          "terrace bay",
          "ust-koksa",
          "sorong",
          "longyearbyen",
          "san patricio",
          "san cristobal",
          "lensk",
          "carrollton",
          "norman wells",
          "makokou",
          "llata",
          "neiafu",
          "moroni",
          "cap malheureux",
          "walvis bay",
          "rawson",
          "tikaitnagar",
          "sembe",
          "aksu",
          "russkaya polyana",
          "broken hill",
          "cherskiy",
          "beya",
          "goba",
          "ordzhonikidze",
          "high rock",
          "floro",
          "balabac",
          "bintulu",
          "tchaourou",
          "zhongshan",
          "quatre cocos",
          "prieska",
          "pathanamthitta",
          "comodoro rivadavia",
          "sungaipenuh",
          "aklavik",
          "camacha",
          "thompson",
          "hambantota",
          "swanton",
          "san quintin",
          "codrington",
          "chapais",
          "chengde",
          "portland",
          "berdigestyakh",
          "coquimbo",
          "samana",
          "anchorage",
          "fairbanks",
          "cockburn town",
          "tura",
          "sakakah",
          "ola",
          "hasaki",
          "jiuquan",
          "tuatapere",
          "kloulklubed",
          "ust-maya",
          "san juan",
          "whitianga",
          "praia",
          "okitipupa",
          "monmouth",
          "san andres",
          "lyngseidet",
          "dunmore town",
          "galegos",
          "kamen-rybolov",
          "dabat",
          "camopi",
          "jalu",
          "eyl",
          "valdivia",
          "teguldet",
          "aquiraz",
          "ulaangom",
          "souillac",
          "alice springs",
          "koriyama",
          "kingman",
          "college",
          "la romana",
          "daru",
          "boden",
          "carroll",
          "ust-kuyga",
          "bucerias",
          "tandil",
          "horsham",
          "vao",
          "bathsheba",
          "salalah",
          "harwich",
          "sambava",
          "yarada",
          "namibe",
          "kokkola",
          "leningradskiy",
          "vostok",
          "rio grande",
          "chegdomyn",
          "ilulissat",
          "viseu",
          "cidreira",
          "bafoulabe",
          "swan river",
          "rocha",
          "juruti",
          "kailua",
          "verkh-suetka",
          "dunedin",
          "mount isa",
          "mahina",
          "kamloops",
          "santa rosalia",
          "nerchinskiy zavod",
          "torrington",
          "krutikha",
          "bonavista",
          "zaysan",
          "mana",
          "nemuro",
          "mandera",
          "numan",
          "pingliang",
          "saldanha",
          "petropavlovsk-kamchatskiy",
          "vila velha",
          "bengkulu",
          "honiara",
          "pemba",
          "ahipara",
          "shingu",
          "korla",
          "lerik",
          "quelimane",
          "katyuzhanka",
          "narwar",
          "port hardy",
          "sol-iletsk",
          "tabou",
          "saint anthony",
          "srednekolymsk",
          "homer",
          "livingston",
          "lima",
          "christchurch",
          "beitbridge",
          "kortkeros",
          "port hedland",
          "fortuna",
          "dicabisagan",
          "smithers",
          "peleduy",
          "yulara",
          "roebourne",
          "mariinskiy posad",
          "mayumba",
          "adrar",
          "port blair",
          "komsomolskiy",
          "ribeira grande",
          "qasigiannguit",
          "buraydah",
          "port-gentil",
          "saint-francois",
          "vestmannaeyjar",
          "bogande",
          "quesnel",
          "usman",
          "aykhal",
          "carlyle",
          "kayerkan",
          "moron",
          "paamiut",
          "hamilton",
          "seoul",
          "woodward",
          "georgiyevskoye",
          "mayo",
          "kysyl-syr",
          "tashara",
          "acajutla",
          "capoterra",
          "muisne",
          "praia da vitoria",
          "maniitsoq",
          "kalemie",
          "tagusao",
          "mao",
          "mahibadhoo",
          "cabo san lucas",
          "panuco",
          "hervey bay",
          "fayaoue",
          "stolac",
          "gamboma",
          "rundu",
          "carutapera",
          "port-de-bouc",
          "nanortalik",
          "dzaoudzi",
          "aktau",
          "lorengau",
          "pachino",
          "cabedelo",
          "denpasar",
          "ipixuna",
          "broome",
          "tilichiki",
          "lakki marwat",
          "veinticinco de mayo",
          "avdon",
          "katobu",
          "merauke",
          "yangliuqing",
          "tieling",
          "togur",
          "thinadhoo",
          "terra santa",
          "colares",
          "havoysund",
          "ostrovnoy",
          "alofi",
          "samandag",
          "san joaquin",
          "treinta y tres",
          "nazareno",
          "tessalit",
          "yaan",
          "ixtapa",
          "dong hoi",
          "harindanga",
          "pontypool",
          "ulladulla",
          "la paz",
          "hualmay",
          "barroso",
          "vryburg",
          "beira",
          "the valley",
          "narsaq",
          "juegang",
          "verkhniy avzyan",
          "araouane",
          "kirakira",
          "tautira",
          "singkang",
          "taitung",
          "nabire",
          "chifeng",
          "caiaponia",
          "salto",
          "praya",
          "aksarka",
          "abu zabad",
          "kushima",
          "beaune",
          "egvekinot",
          "greenville",
          "ust-ordynskiy",
          "tranas",
          "pleasanton",
          "beringovskiy",
          "newcastleton",
          "hirado",
          "brokopondo",
          "batagay",
          "laurel",
          "statesville",
          "tikrit",
          "iisalmi",
          "lahij",
          "derzhavinsk",
          "kyren",
          "kapit",
          "altay",
          "waseca",
          "nantucket",
          "cadillac",
          "sfantu gheorghe",
          "kundiawa",
          "gornopravdinsk",
          "bhandara",
          "wadi musa",
          "charters towers",
          "ustka",
          "sawakin",
          "severo-kurilsk",
          "rameswaram",
          "guerrero negro",
          "bandarbeyla",
          "antofagasta",
          "vila franca do campo",
          "bauta",
          "nsanje",
          "xuchang",
          "todos santos",
          "bataipora",
          "tateyama",
          "wajima",
          "pokosnoye",
          "waipawa",
          "yaring",
          "isiro",
          "chivilcoy",
          "mandalgovi",
          "nicoya",
          "novocheremshansk",
          "emirdag",
          "nouadhibou",
          "tongliao",
          "ryomgard",
          "khudumelapye",
          "talcahuano",
          "gifhorn",
          "bilma",
          "vung tau",
          "byron bay",
          "kalabo",
          "arcata",
          "lemoore",
          "norfolk",
          "juba",
          "pali",
          "katsuura",
          "bambanglipuro",
          "padang",
          "freeport",
          "bulgan",
          "sorland",
          "saryg-sep",
          "batagay-alyta",
          "lompoc",
          "changli",
          "choma",
          "tena",
          "ilhabela",
          "redmond",
          "wyndham",
          "nhulunbuy",
          "sangamner",
          "road town",
          "ranong",
          "staryy nadym",
          "dargaville",
          "sovetskiy",
          "tatarsk",
          "canchungo",
          "iquique",
          "poum"
         ],
         "lat": [
          18.3851,
          58.0948,
          -42.7826,
          42.097,
          36.0564,
          -54.8,
          42.6001,
          -24.8667,
          66.9395,
          -21.3393,
          -22.8375,
          59.7035,
          -3.2778,
          58.4619,
          77.484,
          -46.1927,
          71.9667,
          65.6145,
          71.6872,
          -0.7393,
          -21.2078,
          27.4763,
          -16.3494,
          -23.1203,
          62.55,
          -35.3333,
          48.3835,
          -20.3428,
          39.8212,
          16.3333,
          35.4495,
          54.1121,
          -33.9258,
          58.2093,
          -4.2,
          70.6333,
          48.035,
          62.2266,
          -6.8844,
          19.9333,
          70.4692,
          -21.6403,
          51.3813,
          -41.8697,
          35.042,
          22.0752,
          2.0371,
          41.5946,
          -27.1833,
          -42.8794,
          73.5069,
          19.7297,
          3.3333,
          46.6166,
          -21.2,
          4.9333,
          61.6864,
          66.4167,
          -33.0153,
          -33.65,
          -8.9266,
          63.8424,
          71.2906,
          25.4833,
          -9.8,
          -34.4187,
          -38.0023,
          -17.7125,
          -34.7333,
          -34.5322,
          -6.1761,
          -11.0267,
          49.1667,
          30.3333,
          71.9167,
          69.4058,
          50.086,
          -24.2511,
          57.1437,
          -20.4081,
          56.1667,
          21.3469,
          53.1667,
          -33.8667,
          32.767,
          64.3833,
          -31.2503,
          -21.3585,
          32.6667,
          50.7214,
          37.1041,
          52.0324,
          59.7,
          5.6667,
          3.0707,
          10.5669,
          38.9342,
          29.9576,
          -2.9248,
          8.5711,
          -24.7911,
          50.2441,
          -51.6226,
          -16.5382,
          -46.6,
          -14.7972,
          42.4167,
          -23.865,
          63.7506,
          -37.6167,
          8.9242,
          14.8961,
          47.6666,
          -2.5744,
          24.1614,
          37.6775,
          22.2855,
          -16.4833,
          -22.9661,
          -0.6,
          -33.5906,
          30.3,
          69.4865,
          57.0294,
          -8.4333,
          22.9,
          -33.6971,
          51.3735,
          37.4636,
          12.7857,
          -4.2714,
          57.0531,
          -53.15,
          43.5945,
          46.6806,
          -3.6954,
          -36.0333,
          -33.918,
          14.5094,
          5.4112,
          69.4541,
          30.1669,
          39.3558,
          27.5833,
          34.8791,
          55.7062,
          28.5004,
          -37.8333,
          63.0565,
          43.2165,
          -35.1,
          -0.9131,
          20.8947,
          65.5833,
          5.8933,
          66.1451,
          12.1694,
          -17.5333,
          48.0448,
          -28.7667,
          -4.352,
          62.456,
          -13.275,
          -15.8631,
          -13.7,
          -13.2,
          -9.1667,
          -46.2817,
          57.6198,
          61.95,
          22.5667,
          55.1001,
          -28.1887,
          19.55,
          33.194,
          14.3188,
          -18.9,
          64.8945,
          50.2289,
          8.484,
          64.5011,
          48.0056,
          54.7777,
          72.7868,
          3.8167,
          -18.3667,
          -28.4478,
          -20.9333,
          -34.0033,
          -20.0064,
          16.8861,
          -5.0892,
          2.1833,
          -9.0122,
          59.9445,
          39.05,
          37.4725,
          31.61,
          -8.145,
          46.4333,
          -19.55,
          69.7008,
          66.0449,
          57.79,
          65.75,
          -33.0393,
          61.67,
          -9.4431,
          4.1363,
          32.9833,
          22.7886,
          38.421,
          41.3712,
          58.6881,
          -26.6481,
          -5.1989,
          55.8652,
          -19.0047,
          37.5128,
          19.8,
          3.4651,
          -2.6833,
          60.8156,
          43.3469,
          48.7834,
          50.2696,
          -0.8833,
          78.2186,
          28.017,
          7.7669,
          60.7253,
          32.9537,
          65.282,
          0.5738,
          -9.4167,
          -18.65,
          -11.7022,
          -19.9842,
          -22.9575,
          -43.3002,
          26.95,
          1.6481,
          41.1231,
          49.417,
          -31.95,
          68.75,
          53.0533,
          7.0167,
          52.4411,
          26.6208,
          61.5996,
          7.9868,
          3.1667,
          8.8865,
          21.3226,
          -20.2078,
          -29.6641,
          9.2667,
          -45.8667,
          -2.0833,
          68.2191,
          33.0833,
          55.7435,
          6.1241,
          41.5887,
          30.4833,
          -38.2667,
          49.7834,
          40.9725,
          45.5234,
          62.0989,
          -29.9533,
          19.2056,
          61.2181,
          64.8378,
          21.4612,
          25.5198,
          29.9697,
          59.5833,
          35.7333,
          39.7432,
          -46.1333,
          7.0419,
          60.4167,
          -31.5375,
          -36.8333,
          14.9215,
          6.5047,
          40.3001,
          12.5847,
          69.5763,
          25.5,
          41.5627,
          44.7481,
          12.9842,
          3.1655,
          29.0331,
          7.9803,
          -39.8142,
          57.3064,
          -3.9014,
          49.9811,
          -20.5167,
          -23.7,
          37.4,
          35.1894,
          64.8569,
          18.4273,
          -9.0763,
          65.8252,
          39.5501,
          70.0167,
          20.75,
          -37.3217,
          51.064,
          -22.6667,
          13.2167,
          17.0151,
          51.9419,
          -14.2667,
          17.65,
          -15.1961,
          63.8385,
          69.3833,
          46.4856,
          -32.035,
          51.1167,
          69.2167,
          40.661,
          -30.1811,
          13.8065,
          52.1058,
          -34.4833,
          -2.1522,
          21.4022,
          53.3,
          -45.8742,
          -20.7333,
          -17.5065,
          50.6665,
          27.3167,
          51.3088,
          41.8007,
          53.9599,
          48.6499,
          47.4667,
          5.6592,
          43.3236,
          3.9366,
          9.4667,
          35.5392,
          -33.0117,
          53.0452,
          -20.3297,
          -3.8004,
          -9.4333,
          -12.974,
          -35.1667,
          33.7333,
          41.7597,
          38.7726,
          -17.8786,
          50.806,
          25.65,
          50.6996,
          51.1631,
          4.423,
          45.0205,
          67.45,
          59.6425,
          55.9029,
          -12.0432,
          -43.5333,
          -22.2167,
          61.8106,
          -20.3167,
          40.5982,
          17.0818,
          54.7804,
          59.6289,
          -25.2406,
          -20.7833,
          56.115,
          -3.432,
          20.5022,
          11.6667,
          40.4272,
          38.5167,
          68.8193,
          26.326,
          -0.7193,
          46.4154,
          63.4427,
          12.9714,
          52.9999,
          52.0466,
          66,
          38.6103,
          69.3497,
          -34.6534,
          61.994,
          39.1834,
          37.5683,
          36.4337,
          58.731,
          38.8876,
          63.8986,
          55.5195,
          13.5928,
          39.1763,
          0.6,
          38.7333,
          65.4167,
          -5.9475,
          9.1924,
          39.8885,
          3.7833,
          22.8909,
          22.05,
          -25.2986,
          -20.65,
          43.0844,
          -1.8764,
          -17.9333,
          -1.195,
          43.4,
          60.1432,
          -12.7887,
          43.65,
          -2.0226,
          36.7186,
          -6.9811,
          -8.65,
          -1.7625,
          42.2506,
          60.4667,
          32.6079,
          -35.4323,
          54.6667,
          -4.9408,
          -8.4667,
          39.1375,
          42.2931,
          58.3631,
          0.5333,
          -2.1042,
          38.7992,
          70.9963,
          68.0531,
          -19.0595,
          36.0842,
          37.9333,
          -33.2333,
          25.3833,
          20.1986,
          7.3833,
          20.7,
          17.4833,
          22.0383,
          51.7011,
          -35.35,
          -16.5,
          -11.0964,
          -21.1869,
          -26.9566,
          -19.8436,
          18.217,
          60.9167,
          32.3174,
          53.5289,
          18.9048,
          -10.4544,
          -17.7333,
          2.1006,
          22.7583,
          -3.3667,
          42.2683,
          -16.9567,
          -31.3833,
          14.9215,
          66.5606,
          12.35,
          31.4583,
          47.0833,
          66.3167,
          35.6127,
          52.805,
          58.0372,
          37.6624,
          63.05,
          55.1796,
          33.3597,
          4.75,
          67.6333,
          39.0993,
          35.7826,
          34.6071,
          63.5592,
          13.1667,
          51.1,
          51.6828,
          2.0167,
          47.8667,
          44.0777,
          41.2835,
          44.2519,
          45.8667,
          -6.0167,
          60.05,
          21.1667,
          30.3222,
          -20.1,
          54.5805,
          19.1059,
          50.6789,
          9.2833,
          27.9769,
          9.4942,
          -23.65,
          37.7167,
          22.9828,
          -16.92,
          34.0167,
          23.45,
          -22.2953,
          34.9833,
          37.4,
          55.5258,
          -41.4122,
          6.8662,
          2.7739,
          -34.8957,
          45.7625,
          10.1483,
          54.3571,
          39.0197,
          20.931,
          43.6125,
          56.3843,
          -23.8833,
          -36.7167,
          52.4833,
          18.6853,
          10.346,
          -28.65,
          -14.97,
          40.8665,
          36.3008,
          42.1668,
          4.8517,
          25.7667,
          35.1333,
          -7.95,
          -0.9492,
          40.6576,
          48.8125,
          67.667,
          51.5,
          67.8006,
          34.6391,
          39.7042,
          -16.8065,
          -0.9833,
          -23.7781,
          47.674,
          37.6985,
          -12.2333,
          19.5667,
          18.4167,
          9.9658,
          65.6118,
          -35.9333,
          61.3614,
          55.219,
          12.0672,
          -20.2208,
          -20.2333
         ],
         "legendgroup": "",
         "lon": [
          42.4509,
          6.8047,
          147.0587,
          -79.2353,
          103.7922,
          -68.3,
          -73.9662,
          113.6333,
          -53.6735,
          55.4781,
          -51.9731,
          30.7861,
          -39.2689,
          56.4165,
          -69.3632,
          168.8643,
          102.5,
          -37.6368,
          128.8694,
          -90.3518,
          -159.775,
          -99.5164,
          -53.7583,
          -134.9692,
          155.55,
          -72.4167,
          -77.2328,
          57.7575,
          45.0406,
          -15,
          -97.3967,
          13.0405,
          18.4232,
          -6.3865,
          36.9333,
          147.9167,
          27.8161,
          -6.589,
          112.2051,
          -105.25,
          -68.5914,
          -41.0511,
          1.3862,
          -73.8203,
          -89.6645,
          -159.319,
          45.3438,
          44.0891,
          151.2667,
          147.3294,
          80.5464,
          -155.09,
          20.8833,
          10.7002,
          -175.2,
          -52.3333,
          53.6902,
          112.4,
          27.9116,
          115.3333,
          125.4092,
          -22.4338,
          -156.7887,
          80.3333,
          -139.0333,
          19.2345,
          -57.5575,
          -39.2481,
          135.8667,
          20.0403,
          143.6513,
          -68.7692,
          -57.4316,
          10.85,
          114.0833,
          86.1778,
          16.4674,
          -49.7058,
          -2.0981,
          57.7,
          91.8167,
          -158.0858,
          63.5833,
          121.9,
          22.6367,
          -173.3,
          -61.4867,
          55.7679,
          -17.1,
          136.6319,
          -113.5841,
          23.1165,
          150.1667,
          73,
          172.7902,
          72.642,
          100.4517,
          122.298,
          -39.9167,
          81.2335,
          -50.0119,
          127.4902,
          -69.2181,
          28.7088,
          168.3333,
          -57.2881,
          -4.5,
          35.3833,
          -68.5145,
          -73.65,
          -67.4293,
          -24.4956,
          -52.7314,
          150.7967,
          115.1328,
          -113.0619,
          114.1577,
          -151.75,
          -42.0278,
          73.0833,
          26.891,
          108.85,
          88.3972,
          29.3338,
          114.3333,
          84.15,
          -53.4616,
          31.6466,
          -122.4286,
          -85.1227,
          -81.2147,
          -135.33,
          -70.9167,
          -83.8889,
          113.2792,
          128.1814,
          146.3833,
          25.5701,
          -92.1933,
          100.3354,
          -133.0374,
          -96.3977,
          -9.3811,
          91.8667,
          -76.9013,
          58.9549,
          -13.8627,
          140.7667,
          9.2124,
          -123.3417,
          173.7833,
          122.8766,
          -156.47,
          -171,
          95.3214,
          -65.7125,
          -83.0418,
          146.0333,
          40.045,
          114.6,
          152.2633,
          -114.3525,
          -50.1628,
          -38.8828,
          -76.2167,
          49.05,
          -60.6333,
          169.8464,
          63.0784,
          159.2333,
          59.5289,
          -105.2842,
          23.5395,
          -88.6833,
          -82.5271,
          2.0866,
          -66.7667,
          -23.7142,
          -99.4664,
          -13.2299,
          -165.4064,
          91.6419,
          34.3267,
          -56.1549,
          117.25,
          21.85,
          21.2561,
          29,
          24.7314,
          57.6608,
          -99.6106,
          -81.1144,
          22.4667,
          -35.2225,
          54.9977,
          -27.9833,
          -4.4421,
          34.7642,
          159.5921,
          26.4,
          169.2667,
          170.3133,
          -17.3389,
          -152.4072,
          150.85,
          -71.6273,
          96.37,
          147.1797,
          96.1285,
          132.9333,
          100.9748,
          -121.4238,
          -73.414,
          99.1844,
          15.1594,
          -35.4608,
          -4.2576,
          -57.6017,
          -8.7071,
          85.85,
          31.2469,
          111.6167,
          -115.7999,
          44.6975,
          -87.1,
          85.6108,
          131.25,
          15.6401,
          -97.5169,
          -72.225,
          114.9278,
          -96.8903,
          -126.8329,
          12.8642,
          -76.7833,
          -173.9833,
          43.2551,
          57.6142,
          14.5053,
          -65.1023,
          81.5833,
          14.5806,
          80.2644,
          31.9201,
          141.4333,
          161.3,
          90.9139,
          39.9833,
          61.7408,
          -78.2833,
          5.0328,
          117.0645,
          113.0333,
          2.5975,
          110.5829,
          57.7625,
          22.7474,
          76.7833,
          -67.5,
          101.3833,
          -135.0107,
          -16.3333,
          -97.8558,
          81.1185,
          -83.8911,
          -115.95,
          141.9667,
          -74.8492,
          117.9361,
          -122.6762,
          126.6992,
          -71.3436,
          -69.3369,
          -149.9003,
          -147.7164,
          -71.1419,
          90.2201,
          40.2064,
          151.2833,
          140.8333,
          98.5174,
          167.6833,
          134.2556,
          134.5333,
          -68.5364,
          175.7,
          -23.5087,
          4.7839,
          -74.1663,
          -81.7006,
          20.2189,
          -76.65,
          -8.572,
          132.0403,
          37.765,
          -52.3158,
          21.5482,
          49.8164,
          -73.2459,
          88.1667,
          -38.3911,
          92.0667,
          57.5167,
          133.8833,
          140.3833,
          -114.053,
          -147.8028,
          -68.9728,
          143.2092,
          21.6886,
          -77.0164,
          135.6,
          -105.3333,
          -59.1332,
          -0.3272,
          167.4833,
          -59.5167,
          54.0924,
          1.2844,
          50.1667,
          83.2667,
          12.1522,
          23.1307,
          178.4167,
          135.8833,
          -52.0986,
          133.0167,
          -51.1,
          -7.9097,
          -50.2056,
          -10.8321,
          -101.2676,
          -54.3333,
          -56.0922,
          -157.7394,
          80.05,
          170.5036,
          139.5,
          -149.489,
          -120.3192,
          -112.2833,
          119.61,
          -73.1212,
          81.2093,
          -53.1147,
          84.8667,
          -53.7767,
          145.575,
          41.867,
          12.0333,
          106.6861,
          17.9442,
          158.6483,
          -40.2925,
          102.2655,
          159.95,
          40.5178,
          173.1667,
          135.9833,
          86.1469,
          48.4128,
          36.8883,
          30.1376,
          77.9,
          -127.4199,
          54.9918,
          -7.3528,
          -93.218,
          153.6833,
          -151.5483,
          -3.5226,
          -77.0282,
          172.6333,
          30,
          51.5806,
          118.5667,
          -124.1573,
          122.4157,
          -127.1743,
          112.7406,
          130.9889,
          117.1333,
          47.718,
          10.6554,
          -10.0711,
          92.75,
          71.7189,
          -28.7,
          -51.1922,
          43.975,
          8.7815,
          3.9054,
          -20.2734,
          -0.1436,
          -122.5029,
          39.7288,
          111.5,
          -89.3726,
          87.7602,
          -58.6198,
          -49.6678,
          -84.5333,
          126.9778,
          -99.3904,
          45.024,
          -76.5119,
          122.7617,
          83.5094,
          -89.8275,
          8.9718,
          -80.0333,
          -27.0667,
          -52.9,
          29.1947,
          117.8141,
          4.2658,
          72.9667,
          -109.9124,
          -98.1667,
          152.8535,
          166.5333,
          17.9575,
          15.8644,
          19.7667,
          -46.02,
          4.9833,
          -45.2371,
          45.2699,
          51.2,
          147.2712,
          15.0907,
          -34.8339,
          115.2167,
          -48.8043,
          -75.833,
          166.1,
          70.9114,
          -60.1727,
          55.7167,
          122.5276,
          140.3333,
          116.9997,
          123.8414,
          82.8265,
          72.9333,
          -56.4869,
          -9.4469,
          24.6622,
          39.5131,
          -169.9187,
          35.9771,
          -121.3011,
          -54.3833,
          -103.4167,
          1.0114,
          8.5667,
          -105.2,
          106.6,
          88.3214,
          -3.0444,
          150.4667,
          -68.15,
          -77.6139,
          -43.9758,
          24.7284,
          34.8389,
          -63.0578,
          -46.05,
          121.1855,
          57.5372,
          -3.5265,
          161.9205,
          -149.15,
          102.7994,
          121.1444,
          135.4833,
          118.9636,
          -51.8103,
          -57.9667,
          -23.5087,
          67.7975,
          29.25,
          131.2333,
          4.75,
          -179.1667,
          -77.3663,
          104.7508,
          14.9782,
          -121.8747,
          179.3167,
          -2.8127,
          129.5531,
          -55.1667,
          134.6333,
          -76.8483,
          -80.8873,
          43.6782,
          27.1907,
          44.5833,
          66.3167,
          102.1408,
          112.9333,
          88.1167,
          -93.5074,
          -70.0995,
          -85.4012,
          25.7833,
          144.9667,
          69.9,
          79.65,
          35.4793,
          146.2667,
          16.8619,
          37.3321,
          156.125,
          79.3,
          -114.0611,
          50.8122,
          -70.4,
          -25.4333,
          -82.5464,
          35.262,
          113.8167,
          -110.2167,
          -53.2711,
          139.8667,
          136.9,
          101.0536,
          175.5153,
          101.3689,
          27.616,
          -60.0167,
          106.2708,
          -85.452,
          50.1666,
          31.15,
          -17.0347,
          122.2653,
          10.503,
          24.75,
          -73.1167,
          10.55,
          12.9164,
          107.0843,
          153.6167,
          22.6814,
          -124.0828,
          -119.7829,
          -71.2495,
          31.5825,
          73.3333,
          140.3,
          110.2833,
          100.3543,
          -73.5832,
          103.5347,
          12.6934,
          95.6,
          130.4114,
          -120.4579,
          119.1506,
          26.9531,
          -77.8167,
          -45.3581,
          -122.1215,
          -77.6125,
          136.7667,
          74.2167,
          -64.6167,
          98.6348,
          72.6842,
          173.8833,
          63.5842,
          75.9828,
          -16.0333,
          -70.1431,
          164.0167
         ],
         "marker": {
          "color": "#636efa",
          "symbol": "circle"
         },
         "mode": "markers+text",
         "name": "",
         "showlegend": false,
         "text": [
          "faya",
          "farsund",
          "new norfolk",
          "jamestown",
          "lanzhou",
          "ushuaia",
          "albany",
          "carnarvon",
          "sisimiut",
          "saint-pierre",
          "colorado",
          "nikolskoye",
          "trairi",
          "dobryanka",
          "qaanaaq",
          "mataura",
          "khatanga",
          "tasiilaq",
          "tiksi",
          "puerto ayora",
          "avarua",
          "nuevo laredo",
          "guiratinga",
          "rikitea",
          "dukat",
          "constitucion",
          "senneterre",
          "bambous virieux",
          "zangakatun",
          "saint-louis",
          "midwest city",
          "grimmen",
          "cape town",
          "stornoway",
          "naberera",
          "chokurdakh",
          "drochia",
          "klaksvik",
          "labuhan",
          "tomatlan",
          "clyde river",
          "sao joao da barra",
          "margate",
          "ancud",
          "collierville",
          "kapaa",
          "mogadishu",
          "tsalka",
          "dalby",
          "hobart",
          "dikson",
          "hilo",
          "businga",
          "lasa",
          "vaini",
          "cayenne",
          "ust-kulom",
          "udachnyy",
          "east london",
          "busselton",
          "airai",
          "grindavik",
          "barrow",
          "banda",
          "atuona",
          "hermanus",
          "mar del plata",
          "caravelas",
          "port lincoln",
          "bredasdorp",
          "mendi",
          "cobija",
          "deer lake",
          "nalut",
          "saskylakh",
          "dudinka",
          "zamberk",
          "jaguariaiva",
          "aberdeen",
          "mahebourg",
          "kedrovyy",
          "makakilo city",
          "qostanay",
          "esperance",
          "darnah",
          "provideniya",
          "rafaela",
          "saint-philippe",
          "ponta do sol",
          "solnechnyy",
          "saint george",
          "alba",
          "arman",
          "ugoofaaru",
          "butaritari",
          "kavaratti",
          "zhangye",
          "shenjiamen",
          "itarema",
          "trincomalee",
          "castro",
          "heihe",
          "rio gallegos",
          "siavonga",
          "bluff",
          "nova olimpia",
          "palencia",
          "inhambane",
          "iqaluit",
          "lebu",
          "calabozo",
          "sao filipe",
          "torbay",
          "kavieng",
          "yidu",
          "cedar city",
          "victoria",
          "faanui",
          "arraial do cabo",
          "hithadhoo",
          "port alfred",
          "lichuan",
          "talnakh",
          "novorzhev",
          "muncar",
          "jashpurnagar",
          "chuy",
          "kulykivka",
          "half moon bay",
          "bocana de paiwas",
          "el alto",
          "sitka",
          "punta arenas",
          "bay city",
          "baruun-urt",
          "ambon",
          "corowa",
          "port elizabeth",
          "ocos",
          "georgetown",
          "tuktoyaktuk",
          "brenham",
          "peniche",
          "tawang",
          "havelock",
          "novobelokatay",
          "puerto del rosario",
          "mount gambier",
          "rindal",
          "roseburg",
          "kaeo",
          "biak",
          "kahului",
          "lavrentiya",
          "sabang",
          "pangnirtung",
          "corn island",
          "innisfail",
          "almaznyy",
          "geraldton",
          "kokopo",
          "yellowknife",
          "sao miguel do araguaia",
          "belmonte",
          "pisco",
          "ambilobe",
          "aripuana",
          "kaitangata",
          "lesnoy",
          "evensk",
          "sur",
          "la ronge",
          "danielskuil",
          "chunhuhub",
          "avera",
          "ouallam",
          "challapata",
          "olafsvik",
          "neepawa",
          "freetown",
          "nome",
          "hovd",
          "ugra",
          "upernavik",
          "sembakung",
          "shakawe",
          "upington",
          "gwanda",
          "kruisfontein",
          "grand gaube",
          "cacahuatepec",
          "paita",
          "bumba",
          "maragogi",
          "kosa",
          "lagoa",
          "cabra",
          "gat",
          "buala",
          "asau",
          "isangel",
          "pevek",
          "husavik",
          "kodiak",
          "zyryanka",
          "valparaiso",
          "baykit",
          "port moresby",
          "meulaboh",
          "nakamura",
          "simao",
          "laguna",
          "bethel",
          "kodinsk",
          "luderitz",
          "touros",
          "glasgow",
          "ladario",
          "sao teotonio",
          "puri",
          "yumbe",
          "pangkalanbuun",
          "hay river",
          "verkhniye achaluki",
          "terrace bay",
          "ust-koksa",
          "sorong",
          "longyearbyen",
          "san patricio",
          "san cristobal",
          "lensk",
          "carrollton",
          "norman wells",
          "makokou",
          "llata",
          "neiafu",
          "moroni",
          "cap malheureux",
          "walvis bay",
          "rawson",
          "tikaitnagar",
          "sembe",
          "aksu",
          "russkaya polyana",
          "broken hill",
          "cherskiy",
          "beya",
          "goba",
          "ordzhonikidze",
          "high rock",
          "floro",
          "balabac",
          "bintulu",
          "tchaourou",
          "zhongshan",
          "quatre cocos",
          "prieska",
          "pathanamthitta",
          "comodoro rivadavia",
          "sungaipenuh",
          "aklavik",
          "camacha",
          "thompson",
          "hambantota",
          "swanton",
          "san quintin",
          "codrington",
          "chapais",
          "chengde",
          "portland",
          "berdigestyakh",
          "coquimbo",
          "samana",
          "anchorage",
          "fairbanks",
          "cockburn town",
          "tura",
          "sakakah",
          "ola",
          "hasaki",
          "jiuquan",
          "tuatapere",
          "kloulklubed",
          "ust-maya",
          "san juan",
          "whitianga",
          "praia",
          "okitipupa",
          "monmouth",
          "san andres",
          "lyngseidet",
          "dunmore town",
          "galegos",
          "kamen-rybolov",
          "dabat",
          "camopi",
          "jalu",
          "eyl",
          "valdivia",
          "teguldet",
          "aquiraz",
          "ulaangom",
          "souillac",
          "alice springs",
          "koriyama",
          "kingman",
          "college",
          "la romana",
          "daru",
          "boden",
          "carroll",
          "ust-kuyga",
          "bucerias",
          "tandil",
          "horsham",
          "vao",
          "bathsheba",
          "salalah",
          "harwich",
          "sambava",
          "yarada",
          "namibe",
          "kokkola",
          "leningradskiy",
          "vostok",
          "rio grande",
          "chegdomyn",
          "ilulissat",
          "viseu",
          "cidreira",
          "bafoulabe",
          "swan river",
          "rocha",
          "juruti",
          "kailua",
          "verkh-suetka",
          "dunedin",
          "mount isa",
          "mahina",
          "kamloops",
          "santa rosalia",
          "nerchinskiy zavod",
          "torrington",
          "krutikha",
          "bonavista",
          "zaysan",
          "mana",
          "nemuro",
          "mandera",
          "numan",
          "pingliang",
          "saldanha",
          "petropavlovsk-kamchatskiy",
          "vila velha",
          "bengkulu",
          "honiara",
          "pemba",
          "ahipara",
          "shingu",
          "korla",
          "lerik",
          "quelimane",
          "katyuzhanka",
          "narwar",
          "port hardy",
          "sol-iletsk",
          "tabou",
          "saint anthony",
          "srednekolymsk",
          "homer",
          "livingston",
          "lima",
          "christchurch",
          "beitbridge",
          "kortkeros",
          "port hedland",
          "fortuna",
          "dicabisagan",
          "smithers",
          "peleduy",
          "yulara",
          "roebourne",
          "mariinskiy posad",
          "mayumba",
          "adrar",
          "port blair",
          "komsomolskiy",
          "ribeira grande",
          "qasigiannguit",
          "buraydah",
          "port-gentil",
          "saint-francois",
          "vestmannaeyjar",
          "bogande",
          "quesnel",
          "usman",
          "aykhal",
          "carlyle",
          "kayerkan",
          "moron",
          "paamiut",
          "hamilton",
          "seoul",
          "woodward",
          "georgiyevskoye",
          "mayo",
          "kysyl-syr",
          "tashara",
          "acajutla",
          "capoterra",
          "muisne",
          "praia da vitoria",
          "maniitsoq",
          "kalemie",
          "tagusao",
          "mao",
          "mahibadhoo",
          "cabo san lucas",
          "panuco",
          "hervey bay",
          "fayaoue",
          "stolac",
          "gamboma",
          "rundu",
          "carutapera",
          "port-de-bouc",
          "nanortalik",
          "dzaoudzi",
          "aktau",
          "lorengau",
          "pachino",
          "cabedelo",
          "denpasar",
          "ipixuna",
          "broome",
          "tilichiki",
          "lakki marwat",
          "veinticinco de mayo",
          "avdon",
          "katobu",
          "merauke",
          "yangliuqing",
          "tieling",
          "togur",
          "thinadhoo",
          "terra santa",
          "colares",
          "havoysund",
          "ostrovnoy",
          "alofi",
          "samandag",
          "san joaquin",
          "treinta y tres",
          "nazareno",
          "tessalit",
          "yaan",
          "ixtapa",
          "dong hoi",
          "harindanga",
          "pontypool",
          "ulladulla",
          "la paz",
          "hualmay",
          "barroso",
          "vryburg",
          "beira",
          "the valley",
          "narsaq",
          "juegang",
          "verkhniy avzyan",
          "araouane",
          "kirakira",
          "tautira",
          "singkang",
          "taitung",
          "nabire",
          "chifeng",
          "caiaponia",
          "salto",
          "praya",
          "aksarka",
          "abu zabad",
          "kushima",
          "beaune",
          "egvekinot",
          "greenville",
          "ust-ordynskiy",
          "tranas",
          "pleasanton",
          "beringovskiy",
          "newcastleton",
          "hirado",
          "brokopondo",
          "batagay",
          "laurel",
          "statesville",
          "tikrit",
          "iisalmi",
          "lahij",
          "derzhavinsk",
          "kyren",
          "kapit",
          "altay",
          "waseca",
          "nantucket",
          "cadillac",
          "sfantu gheorghe",
          "kundiawa",
          "gornopravdinsk",
          "bhandara",
          "wadi musa",
          "charters towers",
          "ustka",
          "sawakin",
          "severo-kurilsk",
          "rameswaram",
          "guerrero negro",
          "bandarbeyla",
          "antofagasta",
          "vila franca do campo",
          "bauta",
          "nsanje",
          "xuchang",
          "todos santos",
          "bataipora",
          "tateyama",
          "wajima",
          "pokosnoye",
          "waipawa",
          "yaring",
          "isiro",
          "chivilcoy",
          "mandalgovi",
          "nicoya",
          "novocheremshansk",
          "emirdag",
          "nouadhibou",
          "tongliao",
          "ryomgard",
          "khudumelapye",
          "talcahuano",
          "gifhorn",
          "bilma",
          "vung tau",
          "byron bay",
          "kalabo",
          "arcata",
          "lemoore",
          "norfolk",
          "juba",
          "pali",
          "katsuura",
          "bambanglipuro",
          "padang",
          "freeport",
          "bulgan",
          "sorland",
          "saryg-sep",
          "batagay-alyta",
          "lompoc",
          "changli",
          "choma",
          "tena",
          "ilhabela",
          "redmond",
          "wyndham",
          "nhulunbuy",
          "sangamner",
          "road town",
          "ranong",
          "staryy nadym",
          "dargaville",
          "sovetskiy",
          "tatarsk",
          "canchungo",
          "iquique",
          "poum"
         ],
         "texttemplate": "%{text}<br>Country: %{hovertext[0]}<br>Hotel: %{hovertext[1]}<br>Humidity: %{hovertext[2]}",
         "type": "scattergeo"
        }
       ],
       "layout": {
        "geo": {
         "center": {},
         "domain": {
          "x": [
           0,
           1
          ],
          "y": [
           0,
           1
          ]
         },
         "showland": true
        },
        "legend": {
         "tracegroupgap": 0
        },
        "margin": {
         "t": 60
        },
        "template": {
         "data": {
          "bar": [
           {
            "error_x": {
             "color": "#2a3f5f"
            },
            "error_y": {
             "color": "#2a3f5f"
            },
            "marker": {
             "line": {
              "color": "#E5ECF6",
              "width": 0.5
             },
             "pattern": {
              "fillmode": "overlay",
              "size": 10,
              "solidity": 0.2
             }
            },
            "type": "bar"
           }
          ],
          "barpolar": [
           {
            "marker": {
             "line": {
              "color": "#E5ECF6",
              "width": 0.5
             },
             "pattern": {
              "fillmode": "overlay",
              "size": 10,
              "solidity": 0.2
             }
            },
            "type": "barpolar"
           }
          ],
          "carpet": [
           {
            "aaxis": {
             "endlinecolor": "#2a3f5f",
             "gridcolor": "white",
             "linecolor": "white",
             "minorgridcolor": "white",
             "startlinecolor": "#2a3f5f"
            },
            "baxis": {
             "endlinecolor": "#2a3f5f",
             "gridcolor": "white",
             "linecolor": "white",
             "minorgridcolor": "white",
             "startlinecolor": "#2a3f5f"
            },
            "type": "carpet"
           }
          ],
          "choropleth": [
           {
            "colorbar": {
             "outlinewidth": 0,
             "ticks": ""
            },
            "type": "choropleth"
           }
          ],
          "contour": [
           {
            "colorbar": {
             "outlinewidth": 0,
             "ticks": ""
            },
            "colorscale": [
             [
              0,
              "#0d0887"
             ],
             [
              0.1111111111111111,
              "#46039f"
             ],
             [
              0.2222222222222222,
              "#7201a8"
             ],
             [
              0.3333333333333333,
              "#9c179e"
             ],
             [
              0.4444444444444444,
              "#bd3786"
             ],
             [
              0.5555555555555556,
              "#d8576b"
             ],
             [
              0.6666666666666666,
              "#ed7953"
             ],
             [
              0.7777777777777778,
              "#fb9f3a"
             ],
             [
              0.8888888888888888,
              "#fdca26"
             ],
             [
              1,
              "#f0f921"
             ]
            ],
            "type": "contour"
           }
          ],
          "contourcarpet": [
           {
            "colorbar": {
             "outlinewidth": 0,
             "ticks": ""
            },
            "type": "contourcarpet"
           }
          ],
          "heatmap": [
           {
            "colorbar": {
             "outlinewidth": 0,
             "ticks": ""
            },
            "colorscale": [
             [
              0,
              "#0d0887"
             ],
             [
              0.1111111111111111,
              "#46039f"
             ],
             [
              0.2222222222222222,
              "#7201a8"
             ],
             [
              0.3333333333333333,
              "#9c179e"
             ],
             [
              0.4444444444444444,
              "#bd3786"
             ],
             [
              0.5555555555555556,
              "#d8576b"
             ],
             [
              0.6666666666666666,
              "#ed7953"
             ],
             [
              0.7777777777777778,
              "#fb9f3a"
             ],
             [
              0.8888888888888888,
              "#fdca26"
             ],
             [
              1,
              "#f0f921"
             ]
            ],
            "type": "heatmap"
           }
          ],
          "heatmapgl": [
           {
            "colorbar": {
             "outlinewidth": 0,
             "ticks": ""
            },
            "colorscale": [
             [
              0,
              "#0d0887"
             ],
             [
              0.1111111111111111,
              "#46039f"
             ],
             [
              0.2222222222222222,
              "#7201a8"
             ],
             [
              0.3333333333333333,
              "#9c179e"
             ],
             [
              0.4444444444444444,
              "#bd3786"
             ],
             [
              0.5555555555555556,
              "#d8576b"
             ],
             [
              0.6666666666666666,
              "#ed7953"
             ],
             [
              0.7777777777777778,
              "#fb9f3a"
             ],
             [
              0.8888888888888888,
              "#fdca26"
             ],
             [
              1,
              "#f0f921"
             ]
            ],
            "type": "heatmapgl"
           }
          ],
          "histogram": [
           {
            "marker": {
             "pattern": {
              "fillmode": "overlay",
              "size": 10,
              "solidity": 0.2
             }
            },
            "type": "histogram"
           }
          ],
          "histogram2d": [
           {
            "colorbar": {
             "outlinewidth": 0,
             "ticks": ""
            },
            "colorscale": [
             [
              0,
              "#0d0887"
             ],
             [
              0.1111111111111111,
              "#46039f"
             ],
             [
              0.2222222222222222,
              "#7201a8"
             ],
             [
              0.3333333333333333,
              "#9c179e"
             ],
             [
              0.4444444444444444,
              "#bd3786"
             ],
             [
              0.5555555555555556,
              "#d8576b"
             ],
             [
              0.6666666666666666,
              "#ed7953"
             ],
             [
              0.7777777777777778,
              "#fb9f3a"
             ],
             [
              0.8888888888888888,
              "#fdca26"
             ],
             [
              1,
              "#f0f921"
             ]
            ],
            "type": "histogram2d"
           }
          ],
          "histogram2dcontour": [
           {
            "colorbar": {
             "outlinewidth": 0,
             "ticks": ""
            },
            "colorscale": [
             [
              0,
              "#0d0887"
             ],
             [
              0.1111111111111111,
              "#46039f"
             ],
             [
              0.2222222222222222,
              "#7201a8"
             ],
             [
              0.3333333333333333,
              "#9c179e"
             ],
             [
              0.4444444444444444,
              "#bd3786"
             ],
             [
              0.5555555555555556,
              "#d8576b"
             ],
             [
              0.6666666666666666,
              "#ed7953"
             ],
             [
              0.7777777777777778,
              "#fb9f3a"
             ],
             [
              0.8888888888888888,
              "#fdca26"
             ],
             [
              1,
              "#f0f921"
             ]
            ],
            "type": "histogram2dcontour"
           }
          ],
          "mesh3d": [
           {
            "colorbar": {
             "outlinewidth": 0,
             "ticks": ""
            },
            "type": "mesh3d"
           }
          ],
          "parcoords": [
           {
            "line": {
             "colorbar": {
              "outlinewidth": 0,
              "ticks": ""
             }
            },
            "type": "parcoords"
           }
          ],
          "pie": [
           {
            "automargin": true,
            "type": "pie"
           }
          ],
          "scatter": [
           {
            "fillpattern": {
             "fillmode": "overlay",
             "size": 10,
             "solidity": 0.2
            },
            "type": "scatter"
           }
          ],
          "scatter3d": [
           {
            "line": {
             "colorbar": {
              "outlinewidth": 0,
              "ticks": ""
             }
            },
            "marker": {
             "colorbar": {
              "outlinewidth": 0,
              "ticks": ""
             }
            },
            "type": "scatter3d"
           }
          ],
          "scattercarpet": [
           {
            "marker": {
             "colorbar": {
              "outlinewidth": 0,
              "ticks": ""
             }
            },
            "type": "scattercarpet"
           }
          ],
          "scattergeo": [
           {
            "marker": {
             "colorbar": {
              "outlinewidth": 0,
              "ticks": ""
             }
            },
            "type": "scattergeo"
           }
          ],
          "scattergl": [
           {
            "marker": {
             "colorbar": {
              "outlinewidth": 0,
              "ticks": ""
             }
            },
            "type": "scattergl"
           }
          ],
          "scattermapbox": [
           {
            "marker": {
             "colorbar": {
              "outlinewidth": 0,
              "ticks": ""
             }
            },
            "type": "scattermapbox"
           }
          ],
          "scatterpolar": [
           {
            "marker": {
             "colorbar": {
              "outlinewidth": 0,
              "ticks": ""
             }
            },
            "type": "scatterpolar"
           }
          ],
          "scatterpolargl": [
           {
            "marker": {
             "colorbar": {
              "outlinewidth": 0,
              "ticks": ""
             }
            },
            "type": "scatterpolargl"
           }
          ],
          "scatterternary": [
           {
            "marker": {
             "colorbar": {
              "outlinewidth": 0,
              "ticks": ""
             }
            },
            "type": "scatterternary"
           }
          ],
          "surface": [
           {
            "colorbar": {
             "outlinewidth": 0,
             "ticks": ""
            },
            "colorscale": [
             [
              0,
              "#0d0887"
             ],
             [
              0.1111111111111111,
              "#46039f"
             ],
             [
              0.2222222222222222,
              "#7201a8"
             ],
             [
              0.3333333333333333,
              "#9c179e"
             ],
             [
              0.4444444444444444,
              "#bd3786"
             ],
             [
              0.5555555555555556,
              "#d8576b"
             ],
             [
              0.6666666666666666,
              "#ed7953"
             ],
             [
              0.7777777777777778,
              "#fb9f3a"
             ],
             [
              0.8888888888888888,
              "#fdca26"
             ],
             [
              1,
              "#f0f921"
             ]
            ],
            "type": "surface"
           }
          ],
          "table": [
           {
            "cells": {
             "fill": {
              "color": "#EBF0F8"
             },
             "line": {
              "color": "white"
             }
            },
            "header": {
             "fill": {
              "color": "#C8D4E3"
             },
             "line": {
              "color": "white"
             }
            },
            "type": "table"
           }
          ]
         },
         "layout": {
          "annotationdefaults": {
           "arrowcolor": "#2a3f5f",
           "arrowhead": 0,
           "arrowwidth": 1
          },
          "autotypenumbers": "strict",
          "coloraxis": {
           "colorbar": {
            "outlinewidth": 0,
            "ticks": ""
           }
          },
          "colorscale": {
           "diverging": [
            [
             0,
             "#8e0152"
            ],
            [
             0.1,
             "#c51b7d"
            ],
            [
             0.2,
             "#de77ae"
            ],
            [
             0.3,
             "#f1b6da"
            ],
            [
             0.4,
             "#fde0ef"
            ],
            [
             0.5,
             "#f7f7f7"
            ],
            [
             0.6,
             "#e6f5d0"
            ],
            [
             0.7,
             "#b8e186"
            ],
            [
             0.8,
             "#7fbc41"
            ],
            [
             0.9,
             "#4d9221"
            ],
            [
             1,
             "#276419"
            ]
           ],
           "sequential": [
            [
             0,
             "#0d0887"
            ],
            [
             0.1111111111111111,
             "#46039f"
            ],
            [
             0.2222222222222222,
             "#7201a8"
            ],
            [
             0.3333333333333333,
             "#9c179e"
            ],
            [
             0.4444444444444444,
             "#bd3786"
            ],
            [
             0.5555555555555556,
             "#d8576b"
            ],
            [
             0.6666666666666666,
             "#ed7953"
            ],
            [
             0.7777777777777778,
             "#fb9f3a"
            ],
            [
             0.8888888888888888,
             "#fdca26"
            ],
            [
             1,
             "#f0f921"
            ]
           ],
           "sequentialminus": [
            [
             0,
             "#0d0887"
            ],
            [
             0.1111111111111111,
             "#46039f"
            ],
            [
             0.2222222222222222,
             "#7201a8"
            ],
            [
             0.3333333333333333,
             "#9c179e"
            ],
            [
             0.4444444444444444,
             "#bd3786"
            ],
            [
             0.5555555555555556,
             "#d8576b"
            ],
            [
             0.6666666666666666,
             "#ed7953"
            ],
            [
             0.7777777777777778,
             "#fb9f3a"
            ],
            [
             0.8888888888888888,
             "#fdca26"
            ],
            [
             1,
             "#f0f921"
            ]
           ]
          },
          "colorway": [
           "#636efa",
           "#EF553B",
           "#00cc96",
           "#ab63fa",
           "#FFA15A",
           "#19d3f3",
           "#FF6692",
           "#B6E880",
           "#FF97FF",
           "#FECB52"
          ],
          "font": {
           "color": "#2a3f5f"
          },
          "geo": {
           "bgcolor": "white",
           "lakecolor": "white",
           "landcolor": "#E5ECF6",
           "showlakes": true,
           "showland": true,
           "subunitcolor": "white"
          },
          "hoverlabel": {
           "align": "left"
          },
          "hovermode": "closest",
          "mapbox": {
           "style": "light"
          },
          "paper_bgcolor": "white",
          "plot_bgcolor": "#E5ECF6",
          "polar": {
           "angularaxis": {
            "gridcolor": "white",
            "linecolor": "white",
            "ticks": ""
           },
           "bgcolor": "#E5ECF6",
           "radialaxis": {
            "gridcolor": "white",
            "linecolor": "white",
            "ticks": ""
           }
          },
          "scene": {
           "xaxis": {
            "backgroundcolor": "#E5ECF6",
            "gridcolor": "white",
            "gridwidth": 2,
            "linecolor": "white",
            "showbackground": true,
            "ticks": "",
            "zerolinecolor": "white"
           },
           "yaxis": {
            "backgroundcolor": "#E5ECF6",
            "gridcolor": "white",
            "gridwidth": 2,
            "linecolor": "white",
            "showbackground": true,
            "ticks": "",
            "zerolinecolor": "white"
           },
           "zaxis": {
            "backgroundcolor": "#E5ECF6",
            "gridcolor": "white",
            "gridwidth": 2,
            "linecolor": "white",
            "showbackground": true,
            "ticks": "",
            "zerolinecolor": "white"
           }
          },
          "shapedefaults": {
           "line": {
            "color": "#2a3f5f"
           }
          },
          "ternary": {
           "aaxis": {
            "gridcolor": "white",
            "linecolor": "white",
            "ticks": ""
           },
           "baxis": {
            "gridcolor": "white",
            "linecolor": "white",
            "ticks": ""
           },
           "bgcolor": "#E5ECF6",
           "caxis": {
            "gridcolor": "white",
            "linecolor": "white",
            "ticks": ""
           }
          },
          "title": {
           "x": 0.05
          },
          "xaxis": {
           "automargin": true,
           "gridcolor": "white",
           "linecolor": "white",
           "ticks": "",
           "title": {
            "standoff": 15
           },
           "zerolinecolor": "white",
           "zerolinewidth": 2
          },
          "yaxis": {
           "automargin": true,
           "gridcolor": "white",
           "linecolor": "white",
           "ticks": "",
           "title": {
            "standoff": 15
           },
           "zerolinecolor": "white",
           "zerolinewidth": 2
          }
         }
        },
        "title": {
         "text": "City Map with Hotel Information"
        }
       }
      }
     },
     "metadata": {},
     "output_type": "display_data"
    }
   ],
   "source": [
    "import plotly.express as px\n",
    "\n",
    "# Create a scatter map using Plotly Express\n",
    "fig = px.scatter_geo(\n",
    "    hotel_df,\n",
    "    lat=\"Lat\",\n",
    "    lon=\"Lng\",\n",
    "    text=\"City\",\n",
    "    hover_name=\"City\",\n",
    "    hover_data=[\"Country\", \"Hotel Name\", \"Humidity\"],\n",
    ")\n",
    "\n",
    "# Customize the hover information\n",
    "fig.update_traces(texttemplate='%{text}<br>Country: %{hovertext[0]}<br>Hotel: %{hovertext[1]}<br>Humidity: %{hovertext[2]}')\n",
    "\n",
    "# Update the layout for better readability\n",
    "fig.update_layout(\n",
    "    title=\"City Map with Hotel Information\",\n",
    "    geo=dict(\n",
    "        showland=True,\n",
    "    ),\n",
    ")\n",
    "\n",
    "# Display the map\n",
    "fig.show()\n",
    "\n"
   ]
  },
  {
   "cell_type": "code",
   "execution_count": null,
   "metadata": {},
   "outputs": [],
   "source": []
  }
 ],
 "metadata": {
  "kernelspec": {
   "display_name": "Python 3 (ipykernel)",
   "language": "python",
   "name": "python3"
  },
  "language_info": {
   "codemirror_mode": {
    "name": "ipython",
    "version": 3
   },
   "file_extension": ".py",
   "mimetype": "text/x-python",
   "name": "python",
   "nbconvert_exporter": "python",
   "pygments_lexer": "ipython3",
   "version": "3.11.4"
  },
  "latex_envs": {
   "LaTeX_envs_menu_present": true,
   "autoclose": false,
   "autocomplete": true,
   "bibliofile": "biblio.bib",
   "cite_by": "apalike",
   "current_citInitial": 1,
   "eqLabelWithNumbers": true,
   "eqNumInitial": 1,
   "hotkeys": {
    "equation": "Ctrl-E",
    "itemize": "Ctrl-I"
   },
   "labels_anchors": false,
   "latex_user_defs": false,
   "report_style_numbering": false,
   "user_envs_cfg": false
  }
 },
 "nbformat": 4,
 "nbformat_minor": 4
}
